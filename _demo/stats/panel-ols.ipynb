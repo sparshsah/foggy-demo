{
 "cells": [
  {
   "cell_type": "code",
   "execution_count": 1,
   "metadata": {},
   "outputs": [],
   "source": [
    "import pandas as pd\n",
    "from numpy.random import default_rng as rng\n",
    "from statsmodels.api import add_constant, OLS\n",
    "from linearmodels.panel import PanelOLS"
   ]
  },
  {
   "cell_type": "markdown",
   "metadata": {},
   "source": [
    "# ground-truth underlying model\n",
    "\n",
    "there are 3 racecars, each of which has a different BHP-to-weight ratio (`slow`/`medium`/`fast`), each of whose drivers get a jolt of adrenaline in the homestretch (`initial`/`middle`/`final` lap), and each of which consumes fuel at a different rate. we want to understand the relationship between these variables and the racecar's lap speed.\n",
    "\n",
    "- 3 entities (\"slow\", \"med\", \"fast\")\n",
    "- 3 timesteps (\"init\", \"mid\", \"fin\")\n",
    "\n",
    "in truth, we know that $E[\\texttt{speed}_{i,t} \\mid \\texttt{is_fast}_i,\\, \\texttt{is_fin}_t,\\, \\texttt{fuel}_{i, t}] = \\texttt{is_fast}_i + \\texttt{is_fin}_t + \\texttt{fuel}_{i, t}$."
   ]
  },
  {
   "cell_type": "markdown",
   "metadata": {},
   "source": [
    "# construct dataset"
   ]
  },
  {
   "cell_type": "code",
   "execution_count": 2,
   "metadata": {},
   "outputs": [],
   "source": [
    "rng = rng(seed=1337)"
   ]
  },
  {
   "cell_type": "code",
   "execution_count": 3,
   "metadata": {},
   "outputs": [
    {
     "output_type": "execute_result",
     "data": {
      "text/plain": [
       "   is_slow  is_med  is_fast  is_init  is_mid  is_fin  fuel     speed\n",
       "0        1       0        0        1       0       0  1.00  1.000383\n",
       "1        1       0        0        0       1       0  0.75  0.754739\n",
       "2        1       0        0        0       0       1  0.50  1.498623"
      ],
      "text/html": "<div>\n<style scoped>\n    .dataframe tbody tr th:only-of-type {\n        vertical-align: middle;\n    }\n\n    .dataframe tbody tr th {\n        vertical-align: top;\n    }\n\n    .dataframe thead th {\n        text-align: right;\n    }\n</style>\n<table border=\"1\" class=\"dataframe\">\n  <thead>\n    <tr style=\"text-align: right;\">\n      <th></th>\n      <th>is_slow</th>\n      <th>is_med</th>\n      <th>is_fast</th>\n      <th>is_init</th>\n      <th>is_mid</th>\n      <th>is_fin</th>\n      <th>fuel</th>\n      <th>speed</th>\n    </tr>\n  </thead>\n  <tbody>\n    <tr>\n      <th>0</th>\n      <td>1</td>\n      <td>0</td>\n      <td>0</td>\n      <td>1</td>\n      <td>0</td>\n      <td>0</td>\n      <td>1.00</td>\n      <td>1.000383</td>\n    </tr>\n    <tr>\n      <th>1</th>\n      <td>1</td>\n      <td>0</td>\n      <td>0</td>\n      <td>0</td>\n      <td>1</td>\n      <td>0</td>\n      <td>0.75</td>\n      <td>0.754739</td>\n    </tr>\n    <tr>\n      <th>2</th>\n      <td>1</td>\n      <td>0</td>\n      <td>0</td>\n      <td>0</td>\n      <td>0</td>\n      <td>1</td>\n      <td>0.50</td>\n      <td>1.498623</td>\n    </tr>\n  </tbody>\n</table>\n</div>"
     },
     "metadata": {},
     "execution_count": 3
    }
   ],
   "source": [
    "slow_x = pd.DataFrame(\n",
    "    {\"is_slow\": {\"init\": 1, \"mid\": 1, \"fin\": 1},\n",
    "     \"is_med\": {\"init\": 0, \"mid\": 0, \"fin\": 0},\n",
    "     \"is_fast\": {\"init\": 0, \"mid\": 0, \"fin\": 0},\n",
    "     \"is_init\": {\"init\": 1, \"mid\": 0, \"fin\": 0},\n",
    "     \"is_mid\": {\"init\": 0, \"mid\": 1, \"fin\": 0},\n",
    "     \"is_fin\": {\"init\": 0, \"mid\": 0, \"fin\": 1},\n",
    "     \"fuel\": {\"init\": 1, \"mid\": 0.75, \"fin\": 0.5},\n",
    "     \"speed\": {\"init\": 0 + 0 + 1 + rng.normal(scale=0.01),\n",
    "               \"mid\": 0 + 0 + 0.75 + rng.normal(scale=0.01),\n",
    "               \"fin\": 0 + 1 + 0.5 + rng.normal(scale=0.01)}\n",
    "    # rename because PanelOLS requires time variable to be numeric\n",
    "    }).rename(index={\"init\": 0, \"mid\": 1, \"fin\": 2})\n",
    "slow_x"
   ]
  },
  {
   "cell_type": "code",
   "execution_count": 4,
   "metadata": {},
   "outputs": [
    {
     "output_type": "execute_result",
     "data": {
      "text/plain": [
       "   is_slow  is_med  is_fast  is_init  is_mid  is_fin  fuel     speed\n",
       "0        0       1        0        1       0       0  1.00  0.986107\n",
       "1        0       1        0        0       1       0  0.66  0.685201\n",
       "2        0       1        0        0       0       1  0.33  1.319936"
      ],
      "text/html": "<div>\n<style scoped>\n    .dataframe tbody tr th:only-of-type {\n        vertical-align: middle;\n    }\n\n    .dataframe tbody tr th {\n        vertical-align: top;\n    }\n\n    .dataframe thead th {\n        text-align: right;\n    }\n</style>\n<table border=\"1\" class=\"dataframe\">\n  <thead>\n    <tr style=\"text-align: right;\">\n      <th></th>\n      <th>is_slow</th>\n      <th>is_med</th>\n      <th>is_fast</th>\n      <th>is_init</th>\n      <th>is_mid</th>\n      <th>is_fin</th>\n      <th>fuel</th>\n      <th>speed</th>\n    </tr>\n  </thead>\n  <tbody>\n    <tr>\n      <th>0</th>\n      <td>0</td>\n      <td>1</td>\n      <td>0</td>\n      <td>1</td>\n      <td>0</td>\n      <td>0</td>\n      <td>1.00</td>\n      <td>0.986107</td>\n    </tr>\n    <tr>\n      <th>1</th>\n      <td>0</td>\n      <td>1</td>\n      <td>0</td>\n      <td>0</td>\n      <td>1</td>\n      <td>0</td>\n      <td>0.66</td>\n      <td>0.685201</td>\n    </tr>\n    <tr>\n      <th>2</th>\n      <td>0</td>\n      <td>1</td>\n      <td>0</td>\n      <td>0</td>\n      <td>0</td>\n      <td>1</td>\n      <td>0.33</td>\n      <td>1.319936</td>\n    </tr>\n  </tbody>\n</table>\n</div>"
     },
     "metadata": {},
     "execution_count": 4
    }
   ],
   "source": [
    "med_x = pd.DataFrame(\n",
    "    {\"is_slow\": {\"init\": 0, \"mid\": 0, \"fin\": 0},\n",
    "     \"is_med\": {\"init\": 1, \"mid\": 1, \"fin\": 1},\n",
    "     \"is_fast\": {\"init\": 0, \"mid\": 0, \"fin\": 0},\n",
    "     \"is_init\": {\"init\": 1, \"mid\": 0, \"fin\": 0},\n",
    "     \"is_mid\": {\"init\": 0, \"mid\": 1, \"fin\": 0},\n",
    "     \"is_fin\": {\"init\": 0, \"mid\": 0, \"fin\": 1},\n",
    "     \"fuel\": {\"init\": 1, \"mid\": 0.66, \"fin\": 0.33},\n",
    "     \"speed\": {\"init\": 0 + 0 + 1 + rng.normal(scale=0.01),\n",
    "               \"mid\": 0 + 0 + 0.66 + rng.normal(scale=0.01),\n",
    "               \"fin\": 0 + 1 + 0.33 + rng.normal(scale=0.01)}\n",
    "    # rename because PanelOLS requires time variable to be numeric\n",
    "    }).rename(index={\"init\": 0, \"mid\": 1, \"fin\": 2})\n",
    "med_x"
   ]
  },
  {
   "cell_type": "code",
   "execution_count": 5,
   "metadata": {},
   "outputs": [
    {
     "output_type": "execute_result",
     "data": {
      "text/plain": [
       "   is_slow  is_med  is_fast  is_init  is_mid  is_fin  fuel     speed\n",
       "0        0       0        1        1       0       0   1.0  2.018568\n",
       "1        0       0        1        0       1       0   0.5  1.474976\n",
       "2        0       0        1        0       0       1   0.0  2.001483"
      ],
      "text/html": "<div>\n<style scoped>\n    .dataframe tbody tr th:only-of-type {\n        vertical-align: middle;\n    }\n\n    .dataframe tbody tr th {\n        vertical-align: top;\n    }\n\n    .dataframe thead th {\n        text-align: right;\n    }\n</style>\n<table border=\"1\" class=\"dataframe\">\n  <thead>\n    <tr style=\"text-align: right;\">\n      <th></th>\n      <th>is_slow</th>\n      <th>is_med</th>\n      <th>is_fast</th>\n      <th>is_init</th>\n      <th>is_mid</th>\n      <th>is_fin</th>\n      <th>fuel</th>\n      <th>speed</th>\n    </tr>\n  </thead>\n  <tbody>\n    <tr>\n      <th>0</th>\n      <td>0</td>\n      <td>0</td>\n      <td>1</td>\n      <td>1</td>\n      <td>0</td>\n      <td>0</td>\n      <td>1.0</td>\n      <td>2.018568</td>\n    </tr>\n    <tr>\n      <th>1</th>\n      <td>0</td>\n      <td>0</td>\n      <td>1</td>\n      <td>0</td>\n      <td>1</td>\n      <td>0</td>\n      <td>0.5</td>\n      <td>1.474976</td>\n    </tr>\n    <tr>\n      <th>2</th>\n      <td>0</td>\n      <td>0</td>\n      <td>1</td>\n      <td>0</td>\n      <td>0</td>\n      <td>1</td>\n      <td>0.0</td>\n      <td>2.001483</td>\n    </tr>\n  </tbody>\n</table>\n</div>"
     },
     "metadata": {},
     "execution_count": 5
    }
   ],
   "source": [
    "fast_x = pd.DataFrame(\n",
    "    {\"is_slow\": {\"init\": 0, \"mid\": 0, \"fin\": 0},\n",
    "     \"is_med\": {\"init\": 0, \"mid\": 0, \"fin\": 0},\n",
    "     \"is_fast\": {\"init\": 1, \"mid\": 1, \"fin\": 1},\n",
    "     \"is_init\": {\"init\": 1, \"mid\": 0, \"fin\": 0},\n",
    "     \"is_mid\": {\"init\": 0, \"mid\": 1, \"fin\": 0},\n",
    "     \"is_fin\": {\"init\": 0, \"mid\": 0, \"fin\": 1},\n",
    "     \"fuel\": {\"init\": 1, \"mid\": 0.5, \"fin\": 0},\n",
    "     \"speed\": {\"init\": 1 + 0 + 1 + rng.normal(scale=0.01),\n",
    "               \"mid\": 1 + 0 + 0.5 + rng.normal(scale=0.01),\n",
    "               \"fin\": 1 + 1 + 0 + rng.normal(scale=0.01)}\n",
    "    # rename because PanelOLS requires time variable to be numeric\n",
    "    }).rename(index={\"init\": 0, \"mid\": 1, \"fin\": 2})\n",
    "fast_x"
   ]
  },
  {
   "cell_type": "code",
   "execution_count": 6,
   "metadata": {},
   "outputs": [
    {
     "output_type": "execute_result",
     "data": {
      "text/plain": [
       "        is_slow  is_med  is_fast  is_init  is_mid  is_fin  fuel     speed\n",
       "slow 0        1       0        0        1       0       0  1.00  1.000383\n",
       "     1        1       0        0        0       1       0  0.75  0.754739\n",
       "     2        1       0        0        0       0       1  0.50  1.498623\n",
       "med  0        0       1        0        1       0       0  1.00  0.986107\n",
       "     1        0       1        0        0       1       0  0.66  0.685201\n",
       "     2        0       1        0        0       0       1  0.33  1.319936\n",
       "fast 0        0       0        1        1       0       0  1.00  2.018568\n",
       "     1        0       0        1        0       1       0  0.50  1.474976\n",
       "     2        0       0        1        0       0       1  0.00  2.001483"
      ],
      "text/html": "<div>\n<style scoped>\n    .dataframe tbody tr th:only-of-type {\n        vertical-align: middle;\n    }\n\n    .dataframe tbody tr th {\n        vertical-align: top;\n    }\n\n    .dataframe thead th {\n        text-align: right;\n    }\n</style>\n<table border=\"1\" class=\"dataframe\">\n  <thead>\n    <tr style=\"text-align: right;\">\n      <th></th>\n      <th></th>\n      <th>is_slow</th>\n      <th>is_med</th>\n      <th>is_fast</th>\n      <th>is_init</th>\n      <th>is_mid</th>\n      <th>is_fin</th>\n      <th>fuel</th>\n      <th>speed</th>\n    </tr>\n  </thead>\n  <tbody>\n    <tr>\n      <th rowspan=\"3\" valign=\"top\">slow</th>\n      <th>0</th>\n      <td>1</td>\n      <td>0</td>\n      <td>0</td>\n      <td>1</td>\n      <td>0</td>\n      <td>0</td>\n      <td>1.00</td>\n      <td>1.000383</td>\n    </tr>\n    <tr>\n      <th>1</th>\n      <td>1</td>\n      <td>0</td>\n      <td>0</td>\n      <td>0</td>\n      <td>1</td>\n      <td>0</td>\n      <td>0.75</td>\n      <td>0.754739</td>\n    </tr>\n    <tr>\n      <th>2</th>\n      <td>1</td>\n      <td>0</td>\n      <td>0</td>\n      <td>0</td>\n      <td>0</td>\n      <td>1</td>\n      <td>0.50</td>\n      <td>1.498623</td>\n    </tr>\n    <tr>\n      <th rowspan=\"3\" valign=\"top\">med</th>\n      <th>0</th>\n      <td>0</td>\n      <td>1</td>\n      <td>0</td>\n      <td>1</td>\n      <td>0</td>\n      <td>0</td>\n      <td>1.00</td>\n      <td>0.986107</td>\n    </tr>\n    <tr>\n      <th>1</th>\n      <td>0</td>\n      <td>1</td>\n      <td>0</td>\n      <td>0</td>\n      <td>1</td>\n      <td>0</td>\n      <td>0.66</td>\n      <td>0.685201</td>\n    </tr>\n    <tr>\n      <th>2</th>\n      <td>0</td>\n      <td>1</td>\n      <td>0</td>\n      <td>0</td>\n      <td>0</td>\n      <td>1</td>\n      <td>0.33</td>\n      <td>1.319936</td>\n    </tr>\n    <tr>\n      <th rowspan=\"3\" valign=\"top\">fast</th>\n      <th>0</th>\n      <td>0</td>\n      <td>0</td>\n      <td>1</td>\n      <td>1</td>\n      <td>0</td>\n      <td>0</td>\n      <td>1.00</td>\n      <td>2.018568</td>\n    </tr>\n    <tr>\n      <th>1</th>\n      <td>0</td>\n      <td>0</td>\n      <td>1</td>\n      <td>0</td>\n      <td>1</td>\n      <td>0</td>\n      <td>0.50</td>\n      <td>1.474976</td>\n    </tr>\n    <tr>\n      <th>2</th>\n      <td>0</td>\n      <td>0</td>\n      <td>1</td>\n      <td>0</td>\n      <td>0</td>\n      <td>1</td>\n      <td>0.00</td>\n      <td>2.001483</td>\n    </tr>\n  </tbody>\n</table>\n</div>"
     },
     "metadata": {},
     "execution_count": 6
    }
   ],
   "source": [
    "x = pd.concat([slow_x, med_x, fast_x], keys=[\"slow\", \"med\", \"fast\"])\n",
    "x"
   ]
  },
  {
   "cell_type": "markdown",
   "metadata": {},
   "source": [
    "# regress"
   ]
  },
  {
   "cell_type": "code",
   "execution_count": 7,
   "metadata": {},
   "outputs": [],
   "source": [
    "# some people call this \"y\"\n",
    "lhs = x[\"speed\"]"
   ]
  },
  {
   "cell_type": "markdown",
   "metadata": {},
   "source": [
    "## \"stacked\" OLS estimator suffers from omitted variable bias..\n",
    "\n",
    "Gives _negative_ `fuel` slope coefficient point estimate and insignificant t-stat! And, to be fair, it doesn't know about 2/3 relevant variables. It simply sees that the cars speed up as fuel runs out, which is actually just picking up on the effect of the drivers' \"adrenaline jolt\" during the final lap."
   ]
  },
  {
   "cell_type": "code",
   "execution_count": 8,
   "metadata": {},
   "outputs": [
    {
     "output_type": "execute_result",
     "data": {
      "text/plain": [
       "<class 'statsmodels.iolib.summary.Summary'>\n",
       "\"\"\"\n",
       "                            OLS Regression Results                            \n",
       "==============================================================================\n",
       "Dep. Variable:                  speed   R-squared:                       0.160\n",
       "Model:                            OLS   Adj. R-squared:                  0.040\n",
       "Method:                 Least Squares   F-statistic:                     1.331\n",
       "Date:                Fri, 29 Jan 2021   Prob (F-statistic):              0.287\n",
       "Time:                        20:31:02   Log-Likelihood:                -5.0872\n",
       "No. Observations:                   9   AIC:                             14.17\n",
       "Df Residuals:                       7   BIC:                             14.57\n",
       "Df Model:                           1                                         \n",
       "Covariance Type:            nonrobust                                         \n",
       "==============================================================================\n",
       "                 coef    std err          t      P>|t|      [0.025      0.975]\n",
       "------------------------------------------------------------------------------\n",
       "const          1.6697      0.355      4.701      0.002       0.830       2.509\n",
       "fuel          -0.5726      0.496     -1.154      0.287      -1.746       0.601\n",
       "==============================================================================\n",
       "Omnibus:                        2.528   Durbin-Watson:                   1.792\n",
       "Prob(Omnibus):                  0.282   Jarque-Bera (JB):                0.714\n",
       "Skew:                           0.687   Prob(JB):                        0.700\n",
       "Kurtosis:                       3.127   Cond. No.                         4.44\n",
       "==============================================================================\n",
       "\n",
       "Notes:\n",
       "[1] Standard Errors assume that the covariance matrix of the errors is correctly specified.\n",
       "\"\"\""
      ],
      "text/html": "<table class=\"simpletable\">\n<caption>OLS Regression Results</caption>\n<tr>\n  <th>Dep. Variable:</th>          <td>speed</td>      <th>  R-squared:         </th> <td>   0.160</td>\n</tr>\n<tr>\n  <th>Model:</th>                   <td>OLS</td>       <th>  Adj. R-squared:    </th> <td>   0.040</td>\n</tr>\n<tr>\n  <th>Method:</th>             <td>Least Squares</td>  <th>  F-statistic:       </th> <td>   1.331</td>\n</tr>\n<tr>\n  <th>Date:</th>             <td>Fri, 29 Jan 2021</td> <th>  Prob (F-statistic):</th>  <td> 0.287</td> \n</tr>\n<tr>\n  <th>Time:</th>                 <td>20:31:02</td>     <th>  Log-Likelihood:    </th> <td> -5.0872</td>\n</tr>\n<tr>\n  <th>No. Observations:</th>      <td>     9</td>      <th>  AIC:               </th> <td>   14.17</td>\n</tr>\n<tr>\n  <th>Df Residuals:</th>          <td>     7</td>      <th>  BIC:               </th> <td>   14.57</td>\n</tr>\n<tr>\n  <th>Df Model:</th>              <td>     1</td>      <th>                     </th>     <td> </td>   \n</tr>\n<tr>\n  <th>Covariance Type:</th>      <td>nonrobust</td>    <th>                     </th>     <td> </td>   \n</tr>\n</table>\n<table class=\"simpletable\">\n<tr>\n    <td></td>       <th>coef</th>     <th>std err</th>      <th>t</th>      <th>P>|t|</th>  <th>[0.025</th>    <th>0.975]</th>  \n</tr>\n<tr>\n  <th>const</th> <td>    1.6697</td> <td>    0.355</td> <td>    4.701</td> <td> 0.002</td> <td>    0.830</td> <td>    2.509</td>\n</tr>\n<tr>\n  <th>fuel</th>  <td>   -0.5726</td> <td>    0.496</td> <td>   -1.154</td> <td> 0.287</td> <td>   -1.746</td> <td>    0.601</td>\n</tr>\n</table>\n<table class=\"simpletable\">\n<tr>\n  <th>Omnibus:</th>       <td> 2.528</td> <th>  Durbin-Watson:     </th> <td>   1.792</td>\n</tr>\n<tr>\n  <th>Prob(Omnibus):</th> <td> 0.282</td> <th>  Jarque-Bera (JB):  </th> <td>   0.714</td>\n</tr>\n<tr>\n  <th>Skew:</th>          <td> 0.687</td> <th>  Prob(JB):          </th> <td>   0.700</td>\n</tr>\n<tr>\n  <th>Kurtosis:</th>      <td> 3.127</td> <th>  Cond. No.          </th> <td>    4.44</td>\n</tr>\n</table><br/><br/>Notes:<br/>[1] Standard Errors assume that the covariance matrix of the errors is correctly specified."
     },
     "metadata": {},
     "execution_count": 8
    }
   ],
   "source": [
    "rhs = add_constant(x[\"fuel\"])\n",
    "\n",
    "OLS(endog=lhs, exog=rhs,\n",
    "    hasconst=True).fit().summary()"
   ]
  },
  {
   "cell_type": "markdown",
   "metadata": {},
   "source": [
    "## .. panel OLS estimator fixes that..\n",
    "\n",
    "Gives accurate `fuel` slope coefficient point estimate with significant t-stat."
   ]
  },
  {
   "cell_type": "code",
   "execution_count": 9,
   "metadata": {},
   "outputs": [
    {
     "output_type": "execute_result",
     "data": {
      "text/plain": [
       "<class 'linearmodels.compat.statsmodels.Summary'>\n",
       "\"\"\"\n",
       "                          PanelOLS Estimation Summary                           \n",
       "================================================================================\n",
       "Dep. Variable:                  speed   R-squared:                        0.9747\n",
       "Estimator:                   PanelOLS   R-squared (Between):              0.6521\n",
       "No. Observations:                   9   R-squared (Within):              -2.0217\n",
       "Date:                Fri, Jan 29 2021   R-squared (Overall):              0.5468\n",
       "Time:                        20:31:03   Log-likelihood                    25.576\n",
       "Cov. Estimator:            Unadjusted                                           \n",
       "                                        F-statistic:                      115.53\n",
       "Entities:                           3   P-value                           0.0017\n",
       "Avg Obs:                       3.0000   Distribution:                     F(1,3)\n",
       "Min Obs:                       3.0000                                           \n",
       "Max Obs:                       3.0000   F-statistic (robust):             115.53\n",
       "                                        P-value                           0.0017\n",
       "Time periods:                       3   Distribution:                     F(1,3)\n",
       "Avg Obs:                       3.0000                                           \n",
       "Min Obs:                       3.0000                                           \n",
       "Max Obs:                       3.0000                                           \n",
       "                                                                                \n",
       "                             Parameter Estimates                              \n",
       "==============================================================================\n",
       "            Parameter  Std. Err.     T-stat    P-value    Lower CI    Upper CI\n",
       "------------------------------------------------------------------------------\n",
       "fuel           1.0333     0.0961     10.749     0.0017      0.7274      1.3393\n",
       "==============================================================================\n",
       "\n",
       "F-test for Poolability: 682.19\n",
       "P-value: 0.0001\n",
       "Distribution: F(4,3)\n",
       "\n",
       "Included effects: Entity, Time\n",
       "\"\"\""
      ],
      "text/html": "<table class=\"simpletable\">\n<caption>PanelOLS Estimation Summary</caption>\n<tr>\n  <th>Dep. Variable:</th>          <td>speed</td>      <th>  R-squared:         </th>   <td>0.9747</td> \n</tr>\n<tr>\n  <th>Estimator:</th>            <td>PanelOLS</td>     <th>  R-squared (Between):</th>  <td>0.6521</td> \n</tr>\n<tr>\n  <th>No. Observations:</th>         <td>9</td>        <th>  R-squared (Within):</th>   <td>-2.0217</td>\n</tr>\n<tr>\n  <th>Date:</th>             <td>Fri, Jan 29 2021</td> <th>  R-squared (Overall):</th>  <td>0.5468</td> \n</tr>\n<tr>\n  <th>Time:</th>                 <td>20:31:03</td>     <th>  Log-likelihood     </th>   <td>25.576</td> \n</tr>\n<tr>\n  <th>Cov. Estimator:</th>      <td>Unadjusted</td>    <th>                     </th>      <td></td>    \n</tr>\n<tr>\n  <th></th>                          <td></td>         <th>  F-statistic:       </th>   <td>115.53</td> \n</tr>\n<tr>\n  <th>Entities:</th>                 <td>3</td>        <th>  P-value            </th>   <td>0.0017</td> \n</tr>\n<tr>\n  <th>Avg Obs:</th>               <td>3.0000</td>      <th>  Distribution:      </th>   <td>F(1,3)</td> \n</tr>\n<tr>\n  <th>Min Obs:</th>               <td>3.0000</td>      <th>                     </th>      <td></td>    \n</tr>\n<tr>\n  <th>Max Obs:</th>               <td>3.0000</td>      <th>  F-statistic (robust):</th> <td>115.53</td> \n</tr>\n<tr>\n  <th></th>                          <td></td>         <th>  P-value            </th>   <td>0.0017</td> \n</tr>\n<tr>\n  <th>Time periods:</th>             <td>3</td>        <th>  Distribution:      </th>   <td>F(1,3)</td> \n</tr>\n<tr>\n  <th>Avg Obs:</th>               <td>3.0000</td>      <th>                     </th>      <td></td>    \n</tr>\n<tr>\n  <th>Min Obs:</th>               <td>3.0000</td>      <th>                     </th>      <td></td>    \n</tr>\n<tr>\n  <th>Max Obs:</th>               <td>3.0000</td>      <th>                     </th>      <td></td>    \n</tr>\n<tr>\n  <th></th>                          <td></td>         <th>                     </th>      <td></td>    \n</tr>\n</table>\n<table class=\"simpletable\">\n<caption>Parameter Estimates</caption>\n<tr>\n    <td></td>   <th>Parameter</th> <th>Std. Err.</th> <th>T-stat</th> <th>P-value</th> <th>Lower CI</th> <th>Upper CI</th>\n</tr>\n<tr>\n  <th>fuel</th>  <td>1.0333</td>    <td>0.0961</td>   <td>10.749</td> <td>0.0017</td>   <td>0.7274</td>   <td>1.3393</td> \n</tr>\n</table><br/><br/>F-test for Poolability: 682.19<br/>P-value: 0.0001<br/>Distribution: F(4,3)<br/><br/>Included effects: Entity, Time"
     },
     "metadata": {},
     "execution_count": 9
    }
   ],
   "source": [
    "rhs = x[\"fuel\"]\n",
    "\n",
    "PanelOLS(dependent=lhs, exog=rhs,\n",
    "         entity_effects=True, time_effects=True).fit().summary"
   ]
  },
  {
   "cell_type": "markdown",
   "metadata": {},
   "source": [
    "## .. and by manually adding structure to the \"stacked\" OLS, we can replicate panel OLS!\n",
    "\n",
    "Note: We're able to replicate panel OLS's t-stats only because we didn't specify a \"sandwich\" SE estimator for the panel OLS. In practice, college classes teach you how to use entity- and time-clustered SE's properly, and then everybody definitely remembers how to use them forever."
   ]
  },
  {
   "cell_type": "code",
   "execution_count": 10,
   "metadata": {},
   "outputs": [
    {
     "output_type": "execute_result",
     "data": {
      "text/plain": [
       "<class 'statsmodels.iolib.summary.Summary'>\n",
       "\"\"\"\n",
       "                            OLS Regression Results                            \n",
       "==============================================================================\n",
       "Dep. Variable:                  speed   R-squared:                       0.999\n",
       "Model:                            OLS   Adj. R-squared:                  0.998\n",
       "Method:                 Least Squares   F-statistic:                     649.6\n",
       "Date:                Fri, 29 Jan 2021   Prob (F-statistic):           9.51e-05\n",
       "Time:                        20:31:03   Log-Likelihood:                 25.576\n",
       "No. Observations:                   9   AIC:                            -39.15\n",
       "Df Residuals:                       3   BIC:                            -37.97\n",
       "Df Model:                           5                                         \n",
       "Covariance Type:            nonrobust                                         \n",
       "==============================================================================\n",
       "                 coef    std err          t      P>|t|      [0.025      0.975]\n",
       "------------------------------------------------------------------------------\n",
       "const         -0.0341      0.108     -0.315      0.774      -0.379       0.311\n",
       "is_med         0.0021      0.022      0.095      0.930      -0.067       0.071\n",
       "is_fast        1.0054      0.031     32.184      0.000       0.906       1.105\n",
       "is_mid         0.0121      0.040      0.300      0.784      -0.116       0.140\n",
       "is_fin         1.0191      0.072     14.087      0.001       0.789       1.249\n",
       "fuel           1.0333      0.096     10.749      0.002       0.727       1.339\n",
       "==============================================================================\n",
       "Omnibus:                        0.052   Durbin-Watson:                   3.311\n",
       "Prob(Omnibus):                  0.975   Jarque-Bera (JB):                0.248\n",
       "Skew:                          -0.123   Prob(JB):                        0.883\n",
       "Kurtosis:                       2.224   Cond. No.                         28.0\n",
       "==============================================================================\n",
       "\n",
       "Notes:\n",
       "[1] Standard Errors assume that the covariance matrix of the errors is correctly specified.\n",
       "\"\"\""
      ],
      "text/html": "<table class=\"simpletable\">\n<caption>OLS Regression Results</caption>\n<tr>\n  <th>Dep. Variable:</th>          <td>speed</td>      <th>  R-squared:         </th> <td>   0.999</td>\n</tr>\n<tr>\n  <th>Model:</th>                   <td>OLS</td>       <th>  Adj. R-squared:    </th> <td>   0.998</td>\n</tr>\n<tr>\n  <th>Method:</th>             <td>Least Squares</td>  <th>  F-statistic:       </th> <td>   649.6</td>\n</tr>\n<tr>\n  <th>Date:</th>             <td>Fri, 29 Jan 2021</td> <th>  Prob (F-statistic):</th> <td>9.51e-05</td>\n</tr>\n<tr>\n  <th>Time:</th>                 <td>20:31:03</td>     <th>  Log-Likelihood:    </th> <td>  25.576</td>\n</tr>\n<tr>\n  <th>No. Observations:</th>      <td>     9</td>      <th>  AIC:               </th> <td>  -39.15</td>\n</tr>\n<tr>\n  <th>Df Residuals:</th>          <td>     3</td>      <th>  BIC:               </th> <td>  -37.97</td>\n</tr>\n<tr>\n  <th>Df Model:</th>              <td>     5</td>      <th>                     </th>     <td> </td>   \n</tr>\n<tr>\n  <th>Covariance Type:</th>      <td>nonrobust</td>    <th>                     </th>     <td> </td>   \n</tr>\n</table>\n<table class=\"simpletable\">\n<tr>\n     <td></td>        <th>coef</th>     <th>std err</th>      <th>t</th>      <th>P>|t|</th>  <th>[0.025</th>    <th>0.975]</th>  \n</tr>\n<tr>\n  <th>const</th>   <td>   -0.0341</td> <td>    0.108</td> <td>   -0.315</td> <td> 0.774</td> <td>   -0.379</td> <td>    0.311</td>\n</tr>\n<tr>\n  <th>is_med</th>  <td>    0.0021</td> <td>    0.022</td> <td>    0.095</td> <td> 0.930</td> <td>   -0.067</td> <td>    0.071</td>\n</tr>\n<tr>\n  <th>is_fast</th> <td>    1.0054</td> <td>    0.031</td> <td>   32.184</td> <td> 0.000</td> <td>    0.906</td> <td>    1.105</td>\n</tr>\n<tr>\n  <th>is_mid</th>  <td>    0.0121</td> <td>    0.040</td> <td>    0.300</td> <td> 0.784</td> <td>   -0.116</td> <td>    0.140</td>\n</tr>\n<tr>\n  <th>is_fin</th>  <td>    1.0191</td> <td>    0.072</td> <td>   14.087</td> <td> 0.001</td> <td>    0.789</td> <td>    1.249</td>\n</tr>\n<tr>\n  <th>fuel</th>    <td>    1.0333</td> <td>    0.096</td> <td>   10.749</td> <td> 0.002</td> <td>    0.727</td> <td>    1.339</td>\n</tr>\n</table>\n<table class=\"simpletable\">\n<tr>\n  <th>Omnibus:</th>       <td> 0.052</td> <th>  Durbin-Watson:     </th> <td>   3.311</td>\n</tr>\n<tr>\n  <th>Prob(Omnibus):</th> <td> 0.975</td> <th>  Jarque-Bera (JB):  </th> <td>   0.248</td>\n</tr>\n<tr>\n  <th>Skew:</th>          <td>-0.123</td> <th>  Prob(JB):          </th> <td>   0.883</td>\n</tr>\n<tr>\n  <th>Kurtosis:</th>      <td> 2.224</td> <th>  Cond. No.          </th> <td>    28.0</td>\n</tr>\n</table><br/><br/>Notes:<br/>[1] Standard Errors assume that the covariance matrix of the errors is correctly specified."
     },
     "metadata": {},
     "execution_count": 10
    }
   ],
   "source": [
    "rhs = add_constant(x.loc[:, :\"fuel\"].drop(labels=[\"is_slow\", \"is_init\"], axis=\"columns\"))\n",
    "\n",
    "OLS(endog=lhs, exog=rhs,\n",
    "    hasconst=True).fit().summary()"
   ]
  }
 ],
 "metadata": {
  "kernelspec": {
   "display_name": "Python 3",
   "language": "python",
   "name": "python3"
  },
  "language_info": {
   "codemirror_mode": {
    "name": "ipython",
    "version": 3
   },
   "file_extension": ".py",
   "mimetype": "text/x-python",
   "name": "python",
   "nbconvert_exporter": "python",
   "pygments_lexer": "ipython3",
   "version": "3.8.5-final"
  }
 },
 "nbformat": 4,
 "nbformat_minor": 4
}