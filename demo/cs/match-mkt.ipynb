{
 "cells": [
  {
   "cell_type": "markdown",
   "metadata": {},
   "source": [
    "# MATCHING MARKETS\n",
    "\n",
    "Some theorems (courtesy of and using definitions from Harvard CS134):\n",
    "\n",
    "* <strong>Thm0 (Existence of a Perfect Matching)</strong> :\n",
    "    * A bipartite network $G$\n",
    "        * (a network whose nodes are separable into two subsets $U$ and $V$\n",
    "        * such that the neighborhood $N(u)$ of any node $u \\in U$\n",
    "        * does not include any other node $u' \\in U$,\n",
    "        * and similarly for $V$)\n",
    "    * with $|U| = |V|$\n",
    "    * has a perfect matching\n",
    "    * iff it does not contain a set of constricted nodes\n",
    "        * (a subset of nodes $U_C \\subseteq U$\n",
    "        * such that the neighborhood $N(U_C) = \\bigcup_{u \\in U_C} N(u)$ of $U_R$\n",
    "        * is smaller than the number of nodes $|U_C|$---\n",
    "        * or similarly for $V$).\n",
    "\n",
    "\n",
    "* <strong>Thm1a (Existence of a Set of Socially-Optimal Market-Clearing Prices)</strong> :\n",
    "    * For any set of buyer valuations (nonnegative real numbers) for each seller,\n",
    "    * there exists a set of market-clearing seller prices (nonnegative real numbers)\n",
    "    * that produces a socially-optimal outcome, i.e.\n",
    "        * the induced perfect matching in the resulting preferred-seller network\n",
    "            * (a bipartite subnetwork of the main network $G$\n",
    "            * such that each buyer is linked to at most one seller --\n",
    "            * either a single seller who maximizes the payoff to that buyer, with ties broken arbitrarily\n",
    "            * or, if no seller can provide a nonnegative payoff, then no seller at all)\n",
    "        * maximizes the sum of payoffs to all buyers and sellers.\n",
    "\n",
    "\n",
    "* <strong>Thm1b (Social Optimality of Any Set of Market-Clearing Prices)</strong> :\n",
    "    * For any set of market-clearing prices,\n",
    "    * any perfect matching in the resulting preferred-seller network\n",
    "    * is socially-optimal."
   ]
  },
  {
   "cell_type": "code",
   "execution_count": 2,
   "metadata": {},
   "outputs": [],
   "source": [
    "# data structures\n",
    "import pandas as pd"
   ]
  },
  {
   "cell_type": "code",
   "execution_count": 20,
   "metadata": {},
   "outputs": [
    {
     "data": {
      "text/plain": [
       "Seller prices:\n",
       "0   NaN\n",
       "1   NaN\n",
       "2   NaN\n",
       "dtype: float64,\n",
       "\n",
       "Buyer valuations:\n",
       "     0    1    2\n",
       "0  0.0  1.0  2.0\n",
       "1  2.0  1.0  0.0\n",
       "2  1.0  2.0  1.0"
      ]
     },
     "execution_count": 20,
     "metadata": {},
     "output_type": "execute_result"
    }
   ],
   "source": [
    "SellerPrices = pd.Series\n",
    "# each row is a buyer,\n",
    "# each column is that buyer's valuation for corresponding seller\n",
    "BuyerVals = pd.DataFrame\n",
    "\n",
    "class BuyerSellerNetwork:\n",
    "    def __init__(self, seller_prices: SellerPrices, buyer_vals: BuyerVals):\n",
    "        self.seller_prices = SellerPrices(seller_prices, dtype=float)\n",
    "        self.buyer_vals = BuyerVals(buyer_vals, dtype=float)\n",
    "        self._validate()\n",
    "    \n",
    "    def _validate(self) -> bool:\n",
    "        # seller prices can be NaN\n",
    "        assert not self.buyer_vals.isnull().any().any(), \\\n",
    "            f\"Buyer valuations\\n{self.buyer_vals}\\ncontain NaN's!\"\n",
    "        # each buyer assigns exactly one valuation to each seller\n",
    "        assert len(buyer_vals.columns) == len(seller_prices.index), \\\n",
    "            f\"There are {len(self.seller_prices.index)} sellers, but \" + \\\n",
    "            f\"{len(self.buyer_vals.columns)} buyer valuations!\"\n",
    "        # the number of buyers is same as number of sellers\n",
    "        assert len(buyer_vals.index) == len(seller_prices.index), \\\n",
    "            f\"There are {len(self.seller_prices.index)} sellers, but \" + \\\n",
    "            f\"{len(self.buyer_vals.index)} buyers!\"\n",
    "        return True\n",
    "    \n",
    "    def set_sellers_price(self, seller: int, price: float) -> bool:\n",
    "        self.seller_prices.loc[seller] = price\n",
    "        return True\n",
    "    \n",
    "    def __repr__(self):\n",
    "        return \\\n",
    "            f\"Seller prices:\\n{self.seller_prices},\\n\\n\" + \\\n",
    "            f\"Buyer valuations:\\n{self.buyer_vals}\"\n",
    "\n",
    "\n",
    "seller_prices = SellerPrices([None, None, None], dtype=float)\n",
    "buyer_vals = BuyerVals([\n",
    "    [0, 1, 2],\n",
    "    [2, 1, 0],\n",
    "    [1, 2, 1]\n",
    "])\n",
    "g = BuyerSellerNetwork(seller_prices=seller_prices, buyer_vals=buyer_vals)\n",
    "g"
   ]
  },
  {
   "cell_type": "code",
   "execution_count": 21,
   "metadata": {},
   "outputs": [
    {
     "ename": "AssertionError",
     "evalue": "Seller prices\n0   NaN\n1   NaN\n2   NaN\ndtype: float64\ncontain NaN's!",
     "output_type": "error",
     "traceback": [
      "\u001b[0;31m---------------------------------------------------------------------------\u001b[0m",
      "\u001b[0;31mAssertionError\u001b[0m                            Traceback (most recent call last)",
      "\u001b[0;32m<ipython-input-21-0c8dccc62966>\u001b[0m in \u001b[0;36m<module>\u001b[0;34m\u001b[0m\n\u001b[1;32m      8\u001b[0m \u001b[0;34m\u001b[0m\u001b[0m\n\u001b[1;32m      9\u001b[0m \u001b[0;34m\u001b[0m\u001b[0m\n\u001b[0;32m---> 10\u001b[0;31m \u001b[0mpg\u001b[0m \u001b[0;34m=\u001b[0m \u001b[0mPricedBuyerSellerNetwork\u001b[0m\u001b[0;34m(\u001b[0m\u001b[0mseller_prices\u001b[0m\u001b[0;34m=\u001b[0m\u001b[0mseller_prices\u001b[0m\u001b[0;34m,\u001b[0m \u001b[0mbuyer_vals\u001b[0m\u001b[0;34m=\u001b[0m\u001b[0mbuyer_vals\u001b[0m\u001b[0;34m)\u001b[0m\u001b[0;34m\u001b[0m\u001b[0;34m\u001b[0m\u001b[0m\n\u001b[0m\u001b[1;32m     11\u001b[0m \u001b[0mpg\u001b[0m\u001b[0;34m\u001b[0m\u001b[0;34m\u001b[0m\u001b[0m\n",
      "\u001b[0;32m<ipython-input-20-56b865f923ba>\u001b[0m in \u001b[0;36m__init__\u001b[0;34m(self, seller_prices, buyer_vals)\u001b[0m\n\u001b[1;32m      8\u001b[0m         \u001b[0mself\u001b[0m\u001b[0;34m.\u001b[0m\u001b[0mseller_prices\u001b[0m \u001b[0;34m=\u001b[0m \u001b[0mSellerPrices\u001b[0m\u001b[0;34m(\u001b[0m\u001b[0mseller_prices\u001b[0m\u001b[0;34m,\u001b[0m \u001b[0mdtype\u001b[0m\u001b[0;34m=\u001b[0m\u001b[0mfloat\u001b[0m\u001b[0;34m)\u001b[0m\u001b[0;34m\u001b[0m\u001b[0;34m\u001b[0m\u001b[0m\n\u001b[1;32m      9\u001b[0m         \u001b[0mself\u001b[0m\u001b[0;34m.\u001b[0m\u001b[0mbuyer_vals\u001b[0m \u001b[0;34m=\u001b[0m \u001b[0mBuyerVals\u001b[0m\u001b[0;34m(\u001b[0m\u001b[0mbuyer_vals\u001b[0m\u001b[0;34m,\u001b[0m \u001b[0mdtype\u001b[0m\u001b[0;34m=\u001b[0m\u001b[0mfloat\u001b[0m\u001b[0;34m)\u001b[0m\u001b[0;34m\u001b[0m\u001b[0;34m\u001b[0m\u001b[0m\n\u001b[0;32m---> 10\u001b[0;31m         \u001b[0mself\u001b[0m\u001b[0;34m.\u001b[0m\u001b[0m_validate\u001b[0m\u001b[0;34m(\u001b[0m\u001b[0;34m)\u001b[0m\u001b[0;34m\u001b[0m\u001b[0;34m\u001b[0m\u001b[0m\n\u001b[0m\u001b[1;32m     11\u001b[0m \u001b[0;34m\u001b[0m\u001b[0m\n\u001b[1;32m     12\u001b[0m     \u001b[0;32mdef\u001b[0m \u001b[0m_validate\u001b[0m\u001b[0;34m(\u001b[0m\u001b[0mself\u001b[0m\u001b[0;34m)\u001b[0m \u001b[0;34m->\u001b[0m \u001b[0mbool\u001b[0m\u001b[0;34m:\u001b[0m\u001b[0;34m\u001b[0m\u001b[0;34m\u001b[0m\u001b[0m\n",
      "\u001b[0;32m<ipython-input-21-0c8dccc62966>\u001b[0m in \u001b[0;36m_validate\u001b[0;34m(self)\u001b[0m\n\u001b[1;32m      2\u001b[0m     \u001b[0;32mdef\u001b[0m \u001b[0m_validate\u001b[0m\u001b[0;34m(\u001b[0m\u001b[0mself\u001b[0m\u001b[0;34m)\u001b[0m \u001b[0;34m->\u001b[0m \u001b[0mbool\u001b[0m\u001b[0;34m:\u001b[0m\u001b[0;34m\u001b[0m\u001b[0;34m\u001b[0m\u001b[0m\n\u001b[1;32m      3\u001b[0m         \u001b[0;31m# seller prices can't be None here\u001b[0m\u001b[0;34m\u001b[0m\u001b[0;34m\u001b[0m\u001b[0;34m\u001b[0m\u001b[0m\n\u001b[0;32m----> 4\u001b[0;31m         \u001b[0;32massert\u001b[0m \u001b[0;32mnot\u001b[0m \u001b[0mself\u001b[0m\u001b[0;34m.\u001b[0m\u001b[0mseller_prices\u001b[0m\u001b[0;34m.\u001b[0m\u001b[0misnull\u001b[0m\u001b[0;34m(\u001b[0m\u001b[0;34m)\u001b[0m\u001b[0;34m.\u001b[0m\u001b[0many\u001b[0m\u001b[0;34m(\u001b[0m\u001b[0;34m)\u001b[0m\u001b[0;34m,\u001b[0m\u001b[0;31m \u001b[0m\u001b[0;31m\\\u001b[0m\u001b[0;34m\u001b[0m\u001b[0;34m\u001b[0m\u001b[0m\n\u001b[0m\u001b[1;32m      5\u001b[0m             \u001b[0;34mf\"Seller prices\\n{self.seller_prices}\\ncontain NaN's!\"\u001b[0m\u001b[0;34m\u001b[0m\u001b[0;34m\u001b[0m\u001b[0m\n\u001b[1;32m      6\u001b[0m         \u001b[0msuper\u001b[0m\u001b[0;34m(\u001b[0m\u001b[0;34m)\u001b[0m\u001b[0;34m.\u001b[0m\u001b[0m_validate\u001b[0m\u001b[0;34m(\u001b[0m\u001b[0;34m)\u001b[0m\u001b[0;34m\u001b[0m\u001b[0;34m\u001b[0m\u001b[0m\n",
      "\u001b[0;31mAssertionError\u001b[0m: Seller prices\n0   NaN\n1   NaN\n2   NaN\ndtype: float64\ncontain NaN's!"
     ]
    }
   ],
   "source": [
    "class PricedBuyerSellerNetwork(BuyerSellerNetwork):\n",
    "    def _validate(self) -> bool:\n",
    "        # seller prices can't be None here\n",
    "        assert not self.seller_prices.isnull().any(), \\\n",
    "            f\"Seller prices\\n{self.seller_prices}\\ncontain NaN's!\"\n",
    "        super()._validate()\n",
    "        return True\n",
    "\n",
    "\n",
    "# this will fail -- we have NaN prices!\n",
    "pg = PricedBuyerSellerNetwork(seller_prices=seller_prices, buyer_vals=buyer_vals)\n",
    "pg"
   ]
  },
  {
   "cell_type": "markdown",
   "metadata": {},
   "source": [
    "# Auction algorithm"
   ]
  },
  {
   "cell_type": "code",
   "execution_count": null,
   "metadata": {},
   "outputs": [],
   "source": []
  }
 ],
 "metadata": {
  "kernelspec": {
   "display_name": "Python 3",
   "language": "python",
   "name": "python3"
  },
  "language_info": {
   "codemirror_mode": {
    "name": "ipython",
    "version": 3
   },
   "file_extension": ".py",
   "mimetype": "text/x-python",
   "name": "python",
   "nbconvert_exporter": "python",
   "pygments_lexer": "ipython3",
   "version": "3.8.5"
  }
 },
 "nbformat": 4,
 "nbformat_minor": 4
}
