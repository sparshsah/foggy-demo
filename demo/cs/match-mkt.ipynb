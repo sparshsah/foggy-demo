{
 "cells": [
  {
   "cell_type": "markdown",
   "metadata": {},
   "source": [
    "# MATCHING MARKETS\n",
    "\n",
    "Some theorems (courtesy of and using definitions from Harvard CS134):\n",
    "\n",
    "* <strong>Thm0 (Existence of a Perfect Matching)</strong> :\n",
    "    * A bipartite network $G$\n",
    "        * (a network whose nodes are separable into two subsets $U$ and $V$\n",
    "        * such that the neighborhood $N(u)$ of any node $u \\in U$\n",
    "        * does not include any other node $u' \\in U$,\n",
    "        * and similarly for $V$)\n",
    "    * with $|U| = |V|$\n",
    "    * has a perfect matching\n",
    "    * iff it does not contain a set of constricted nodes\n",
    "        * (a subset of nodes $U_C \\subseteq U$\n",
    "        * such that the neighborhood $N(U_C) = \\bigcup_{u \\in U_C} N(u)$ of $U_R$\n",
    "        * is smaller than the number of nodes $|U_C|$---\n",
    "        * or similarly for $V$).\n",
    "\n",
    "\n",
    "* <strong>Thm1a (Existence of a Set of Socially-Optimal Market-Clearing Prices)</strong> :\n",
    "    * For any set of buyer valuations (nonnegative real numbers) for each seller,\n",
    "    * there exists a set of market-clearing seller prices (nonnegative real numbers)\n",
    "    * that produces a socially-optimal outcome, i.e.\n",
    "        * the induced perfect matching in the resulting preferred-seller network\n",
    "            * (a bipartite subnetwork of the main network $G$\n",
    "            * such that each buyer is linked to at most one seller --\n",
    "            * either a single seller who maximizes the payoff to that buyer, with ties broken arbitrarily\n",
    "            * or, if no seller can provide a nonnegative payoff, then no seller at all)\n",
    "        * maximizes the sum of payoffs to all buyers and sellers.\n",
    "\n",
    "\n",
    "* <strong>Thm1b (Social Optimality of Any Set of Market-Clearing Prices)</strong> :\n",
    "    * For any set of market-clearing prices,\n",
    "    * any perfect matching in the resulting preferred-seller network\n",
    "    * is socially-optimal."
   ]
  },
  {
   "cell_type": "code",
   "execution_count": null,
   "metadata": {},
   "outputs": [],
   "source": []
  }
 ],
 "metadata": {
  "kernelspec": {
   "display_name": "Python 3",
   "language": "python",
   "name": "python3"
  },
  "language_info": {
   "codemirror_mode": {
    "name": "ipython",
    "version": 3
   },
   "file_extension": ".py",
   "mimetype": "text/x-python",
   "name": "python",
   "nbconvert_exporter": "python",
   "pygments_lexer": "ipython3",
   "version": "3.8.5"
  }
 },
 "nbformat": 4,
 "nbformat_minor": 4
}
