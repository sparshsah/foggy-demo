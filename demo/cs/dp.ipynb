{
 "cells": [
  {
   "cell_type": "markdown",
   "metadata": {},
   "source": [
    "# SAMPLE DYNAMIC PROGRAMS"
   ]
  },
  {
   "cell_type": "code",
   "execution_count": 1,
   "metadata": {},
   "outputs": [],
   "source": [
    "from typing import List\n",
    "# data structures\n",
    "from collections import OrderedDict\n",
    "import pandas as pd\n",
    "# calculations\n",
    "import numpy as np"
   ]
  },
  {
   "cell_type": "markdown",
   "metadata": {},
   "source": [
    "# Bell numbers\n",
    "\n",
    "https://en.wikipedia.org/wiki/Bell_number\n",
    "\n",
    "https://www.geeksforgeeks.org/bell-numbers-number-of-ways-to-partition-a-set/"
   ]
  },
  {
   "cell_type": "markdown",
   "metadata": {},
   "source": [
    "## Recursion with $S[n, k]$"
   ]
  },
  {
   "cell_type": "code",
   "execution_count": 2,
   "metadata": {},
   "outputs": [
    {
     "name": "stdout",
     "output_type": "stream",
     "text": [
      "0        1\n",
      "1        1\n",
      "2        2\n",
      "3        5\n",
      "4       15\n",
      "5       52\n",
      "6      203\n",
      "7      877\n",
      "8     4140\n",
      "9    21147\n",
      "dtype: int64\n"
     ]
    }
   ],
   "source": [
    "# maximum bell number we want to calculate\n",
    "N = 10\n",
    "\n",
    "# stirling numbers of the second kind, S[n, k]\n",
    "# default to 0 for convenience\n",
    "snk = pd.DataFrame(0, index=range(N), columns=range(N))\n",
    "# initialize using definitions\n",
    "snk.loc[0, 1] = 1\n",
    "snk.loc[1, 1] = 1\n",
    "for n in range(2, N):\n",
    "    for k in range(1, N):\n",
    "        # case 0: we partition prev elt's into k-2 subsets. impossible:\n",
    "        # we'll never be able to get the final cardinality to `k` !\n",
    "        pass\n",
    "        # case 1: uniquely determined by choice of partition of prev elt's\n",
    "        # into k-1 subsets, as we then simply add last elt as singleton\n",
    "        ways_to_add_last_elt_as_singleton = snk.loc[n-1, k-1]\n",
    "        # case 2: we already partition the previous elt's into k subsets,\n",
    "        # then choose one of those `k` to add the last elt into\n",
    "        ways_to_add_last_elt_into_existing_subset = snk.loc[n-1, k] * k\n",
    "        if k == n:\n",
    "            assert ways_to_add_last_elt_into_existing_subset == 0, \\\n",
    "                f\"How can {n-1} elt's be partitioned into {k} subsets??!\"\n",
    "        \n",
    "        snk.loc[n, k] = ways_to_add_last_elt_as_singleton + \\\n",
    "            ways_to_add_last_elt_into_existing_subset\n",
    "        del ways_to_add_last_elt_into_existing_subset\n",
    "        del ways_to_add_last_elt_as_singleton\n",
    "        del k\n",
    "    del n\n",
    "del N\n",
    "\n",
    "bn = snk.sum(axis=\"columns\")\n",
    "del snk\n",
    "print(bn)\n",
    "del bn"
   ]
  },
  {
   "cell_type": "markdown",
   "metadata": {},
   "source": [
    "## Bell triangle"
   ]
  },
  {
   "cell_type": "code",
   "execution_count": 3,
   "metadata": {},
   "outputs": [
    {
     "name": "stdout",
     "output_type": "stream",
     "text": [
      "0        1\n",
      "1        1\n",
      "2        2\n",
      "3        5\n",
      "4       15\n",
      "5       52\n",
      "6      203\n",
      "7      877\n",
      "8     4140\n",
      "9    21147\n",
      "Name: 1, dtype: int64\n"
     ]
    }
   ],
   "source": [
    "N = 10\n",
    "\n",
    "bt = pd.DataFrame(index=range(N), columns=range(N), dtype=int)\n",
    "# initialize using definition\n",
    "bt.loc[0, 1] = 1\n",
    "for r in range(1, N):\n",
    "    bt.loc[r, 1] = bt.loc[r-1, r]\n",
    "    for c in range(2, N+1):\n",
    "        bt.loc[r, c] = bt.loc[r-1, c-1] + bt.loc[r, c-1]\n",
    "        del c\n",
    "    del r\n",
    "del N\n",
    "\n",
    "bn = bt.loc[:, 1].astype(int)\n",
    "del bt\n",
    "print(bn)\n",
    "del bn"
   ]
  },
  {
   "cell_type": "markdown",
   "metadata": {},
   "source": [
    "# Subset sum\n",
    "\n",
    "https://en.wikipedia.org/wiki/Subset_sum_problem\n",
    "\n",
    "https://www.geeksforgeeks.org/subset-sum-problem-dp-25/"
   ]
  },
  {
   "cell_type": "markdown",
   "metadata": {},
   "source": [
    "## Solution for all target sums, but \"subsets\" must be allowed to repeat elements"
   ]
  },
  {
   "cell_type": "code",
   "execution_count": 4,
   "metadata": {},
   "outputs": [
    {
     "name": "stdout",
     "output_type": "stream",
     "text": [
      "        0      1      2      3      4      5\n",
      "8   False  False   True   True   True  False\n",
      "9   False  False   True   True  False  False\n",
      "15  False  False  False   True   True   True\n",
      "27  False  False  False  False   True   True\n",
      "30  False  False  False  False   True   True\n"
     ]
    }
   ],
   "source": [
    "SET = {2, 4, 5, 12, 34}\n",
    "N = len(SET)\n",
    "MAX_SUM = sum(SET)\n",
    "\n",
    "# ss[s, k] = whether we can get sum `s` from some `k`-elt subset of SET\n",
    "ss = pd.DataFrame(False, index=range(0, MAX_SUM+1), columns=range(0, N+1))\n",
    "# by definition, we get 0 from summing the empty (0-elt) set\n",
    "ss.loc[0, 0] = True\n",
    "# the only sums we can get from singletons are elt's of SET\n",
    "_ss = pd.Series({s: s in SET for s in ss.index})\n",
    "ss.loc[:, 1] = _ss\n",
    "del _ss\n",
    "# we need the answers for the `k-1`-elt subsets before\n",
    "# we can answer for the `k`-elt subsets\n",
    "for k in range(2, N+1):\n",
    "    # given `k`, the answers for each target sum are independent,\n",
    "    # so we could in theory traverse in any arbitrary order\n",
    "    for s in range(1, MAX_SUM+1):\n",
    "        # in order to get `s` from a k-elt subset, we must simply be able to\n",
    "        # add SOME elt `x` after getting `s-x` from a `k-1`-elt subset...\n",
    "        # NOTICE: THIS ALLOWS the `k-1`-subset to include `x`!\n",
    "        for x in SET:\n",
    "            if (s-x >= 0) and ss.loc[s-x, k-1]:\n",
    "                ss.loc[s, k] = True\n",
    "            del x\n",
    "        del s\n",
    "    del k\n",
    "del MAX_SUM, N\n",
    "\n",
    "assert not ss.loc[1:, 0].any(), \\\n",
    "    f\"How can we get a nonzero sum from the empty set??!\"\n",
    "for x in SET:\n",
    "    assert ss.loc[x, 1], \\\n",
    "        f\"Trivial to get `{x}` from summing the corresponding singleton!\"\n",
    "    del x\n",
    "del SET\n",
    "print(ss.loc[[8, 9, 15, 27, 30], :])\n",
    "del ss"
   ]
  },
  {
   "cell_type": "markdown",
   "metadata": {},
   "source": [
    "## Solution where subset must be a true subset, but single target sum must be fixed ex-ante"
   ]
  },
  {
   "cell_type": "code",
   "execution_count": 5,
   "metadata": {},
   "outputs": [],
   "source": [
    "SET = sorted({2, 4, 5, 12, 34})\n",
    "N = len(SET)\n",
    "# hardcode: some desired sum, and whether it's possible\n",
    "TGT_SUMS = [\n",
    "    (0, True),  # empty set\n",
    "    (1, False),\n",
    "    (2, True),\n",
    "    (3, False),\n",
    "    (8, False),\n",
    "    (9, True),\n",
    "    (10, False),\n",
    "    (11, True),\n",
    "    (12, True),\n",
    "    (13, False),\n",
    "    (14, True),\n",
    "    (17, True),\n",
    "    (18, True),\n",
    "    (19, True),\n",
    "    (33, False),\n",
    "    (34, True),\n",
    "    (35, False),\n",
    "    (100, False)\n",
    "]\n",
    "TGT_SUMS = OrderedDict(TGT_SUMS)\n",
    "TGT_SUMS = pd.Series(TGT_SUMS)\n",
    "\n",
    "for TGT_SUM, is_possible in TGT_SUMS.iteritems():\n",
    "    # ss[n, s] = whether \\exists a subset of SET[:n] s.t. sum = s\n",
    "    ss = pd.DataFrame(False, index=range(N+1), columns=range(TGT_SUM+1))\n",
    "    # empty set sums to zero\n",
    "    ss.loc[0, 0] = True\n",
    "    for n in range(1, N+1):\n",
    "        for s in ss.columns:\n",
    "            # remember, SET[:n] excludes the n'th elt\n",
    "            last_elt = SET[n-1]\n",
    "            # if last elt is too large to possibly be part of this subsol'n\n",
    "            if last_elt > s:\n",
    "                # the curr answer is same as prev answer for this sum\n",
    "                ss.loc[n, s] = ss.loc[n-1, s]\n",
    "            else:\n",
    "                can_get_already = ss.loc[n-1, s]\n",
    "                # if we can get up to `s-last_elt` using the previous elt's,\n",
    "                # we're golden (since we can then just add last_elt)\n",
    "                can_get_using_last_elt = ss.loc[n-1, s-last_elt]\n",
    "                ss.loc[n, s] = can_get_already or can_get_using_last_elt\n",
    "                del can_get_using_last_elt, can_get_already\n",
    "            del s\n",
    "        del n\n",
    "    \n",
    "    assert ss.loc[N, TGT_SUM] == is_possible, \\\n",
    "        f\"{TGT_SUM} {'should' if is_possible else 'shouldnt'} be possible!\"\n",
    "    del ss, is_possible, TGT_SUM\n",
    "\n",
    "del TGT_SUMS, N, SET"
   ]
  },
  {
   "cell_type": "markdown",
   "metadata": {},
   "source": [
    "# Shortest path (AKA Dijkstra's problem)\n",
    "\n",
    "https://en.wikipedia.org/wiki/Shortest_path_problem#Algorithms\n",
    "\n",
    "https://en.wikipedia.org/wiki/Dijkstra%27s_algorithm"
   ]
  },
  {
   "cell_type": "code",
   "execution_count": 6,
   "metadata": {},
   "outputs": [
    {
     "name": "stdout",
     "output_type": "stream",
     "text": [
      "([0, 2, 5, 4], 20.0)\n"
     ]
    }
   ],
   "source": [
    "# from the picture on the wikipedia page\n",
    "NODES = [0, 1, 2, 3, 4, 5]\n",
    "# distances\n",
    "LINKS = {\n",
    "    0: {\n",
    "        1: 7,\n",
    "        2: 9,\n",
    "        5: 14,\n",
    "    },\n",
    "    1: {\n",
    "        2: 10,\n",
    "        3: 15,\n",
    "    },\n",
    "    2: {\n",
    "        3: 11,\n",
    "        5: 2,\n",
    "    },\n",
    "    3: {\n",
    "        4: 6,\n",
    "    },\n",
    "    4: {\n",
    "        5: 9,\n",
    "    },\n",
    "}\n",
    "\n",
    "def lookup_node(n: int=0) -> bool:\n",
    "    return n in NODES\n",
    "\n",
    "def lookup_link(n: int=0, m: int=0) -> float:\n",
    "    # self-loop\n",
    "    if m == n:\n",
    "        return 0\n",
    "    # reorder\n",
    "    n, m = min(n,m), max(n,m)\n",
    "    links_from_n = LINKS.get(n, dict())\n",
    "    distance_to_m = links_from_n.get(m, np.inf)\n",
    "    return distance_to_m\n",
    "\n",
    "\n",
    "def get_shortest_path(src: int=0, dst: int=0) -> (List[int], float):\n",
    "    \"\"\"Path and distance.\"\"\"\n",
    "    # from src to each other node\n",
    "    prev = pd.Series(index=NODES, dtype=int)\n",
    "    prev.loc[src] = src\n",
    "    distances = pd.Series(np.inf, index=NODES)\n",
    "    distances.loc[src] = 0\n",
    "    unvisited = NODES.copy()\n",
    "    # current node of interest\n",
    "    n = src\n",
    "    while n is not None:\n",
    "        # consider unvisited neighbors only\n",
    "        for m in unvisited:\n",
    "            d_n_m = lookup_link(n=n, m=m)\n",
    "            # new candidate path from src thru n to m\n",
    "            d_src_n_m = distances[n] + d_n_m\n",
    "            del d_n_m\n",
    "            # if new candidate distance beats existing\n",
    "            if d_src_n_m < distances[m]:\n",
    "                prev.loc[m] = n\n",
    "                distances[m] = d_src_n_m\n",
    "            del d_src_n_m\n",
    "            del m\n",
    "        unvisited.remove(n)\n",
    "        if n == dst:\n",
    "            n = None\n",
    "        else:\n",
    "            # find shortest-path unvisited node\n",
    "            n = distances[unvisited].idxmin()\n",
    "    del unvisited\n",
    "    \n",
    "    m = dst\n",
    "    path = [m]\n",
    "    while m != src:\n",
    "        m = prev[m]\n",
    "        path.insert(0, m)\n",
    "    distance = distances[dst]\n",
    "    del distances, prev\n",
    "    return path, distance\n",
    "\n",
    "print(get_shortest_path(0,4))\n",
    "del get_shortest_path, lookup_link, lookup_node, LINKS, NODES"
   ]
  }
 ],
 "metadata": {
  "kernelspec": {
   "display_name": "Python 3",
   "language": "python",
   "name": "python3"
  },
  "language_info": {
   "codemirror_mode": {
    "name": "ipython",
    "version": 3
   },
   "file_extension": ".py",
   "mimetype": "text/x-python",
   "name": "python",
   "nbconvert_exporter": "python",
   "pygments_lexer": "ipython3",
   "version": "3.8.5"
  }
 },
 "nbformat": 4,
 "nbformat_minor": 4
}
