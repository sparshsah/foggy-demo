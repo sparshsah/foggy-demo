{
 "cells": [
  {
   "cell_type": "markdown",
   "id": "c1051aa6-9c5a-4a53-8c36-f741b6a22860",
   "metadata": {},
   "source": [
    "# TAIL RISK FUND: OPTIONS (BHANSALI STRATEGY)\n",
    "\n",
    "author: [@sparshsah](https://github.com/sparshsah)\n",
    "\n",
    "ref: https://github.com/sparshsah/foggy-demo/blob/main/demo/finance/tail-risk-fund_options.ipynb"
   ]
  },
  {
   "cell_type": "code",
   "execution_count": 1,
   "id": "14bbf5b2-7543-419b-9b1a-6a78dc4f2c66",
   "metadata": {
    "tags": []
   },
   "outputs": [],
   "source": [
    "from __future__ import annotations\n",
    "\n",
    "import dataclasses\n",
    "import datetime\n",
    "from typing import Final, Literal\n",
    "\n",
    "import matplotlib.pyplot as plt\n",
    "import numpy as np\n",
    "import pandas as pd\n",
    "\n",
    "# https://github.com/sparshsah/foggy-statslib\n",
    "import sys; sys.path.append(\"../../../foggy-statslib/\")\n",
    "import foggy_statslib.core as fsc\n",
    "import foggy_statslib.fin as fsf"
   ]
  },
  {
   "cell_type": "code",
   "execution_count": 7,
   "id": "680cec0e-f897-47d7-bba3-6db6c50f709a",
   "metadata": {
    "tags": []
   },
   "outputs": [],
   "source": [
    "BUDGET_DOL: Final[float] = 100\n",
    "START_DATE: Final[datetime.datetime] = datetime.datetime(2014, 7, 1)\n",
    "ROLL_BUFFER_DAYS: Final[int] = 5  # look to roll this many trading days before expiration\n",
    "IMPL_LAG_DAYS: Final[int] = 3  # trading lag in days\n",
    "PREVAILING_INTEREST_RATE: Final[float] = 0.05\n",
    "\n",
    "\n",
    "@dataclasses.dataclass(kw_only=True, frozen=True)\n",
    "class StrategyConfig:\n",
    "    \"\"\"By default, buy COF puts quarterly at 20% OTM, selling iff value hits 2x initial price.\"\"\"\n",
    "    underlying_ticker: str = \"COF\"\n",
    "    period_freq: Literal[\"M\", \"Q\", \"2Q\", \"Y\"] = \"Q\"\n",
    "    strike_otm_px: float = 0.20\n",
    "    sell_thresh: float = 2.0\n",
    "\n",
    "    @property\n",
    "    def periods(self) -> pd.PeriodIndex:\n",
    "        return pd.period_range(\n",
    "            start=START_DATE,\n",
    "            end=datetime.datetime.now(),\n",
    "            freq=self.period_freq,\n",
    "            name=\"period\",\n",
    "        # first period is burn-in\n",
    "        )[1:]\n",
    "\n",
    "    @property\n",
    "    def timeseries(self) -> pd.DataFrame:\n",
    "        ts = pd.DataFrame(index=self.periods)\n",
    "        ts.loc[:, \"entry_date\"] = ts.index.start_time - ROLL_BUFFER_DAYS * pd.offsets.BDay()\n",
    "        ts.loc[:, \"expiration_date\"] = ts.index.end_time\n",
    "        return ts\n",
    "\n",
    "\n",
    "class MarketDataAccess:\n",
    "    \"\"\"Module for getting data.\"\"\"\n",
    "\n",
    "    @staticmethod\n",
    "    def get_stock_history(ticker: str = \"COF\") -> pd.DataFrame:\n",
    "        p = (\n",
    "            pd.read_csv(\n",
    "                f\"data/yahoo-finance_NYSE-{ticker}_px.csv\",\n",
    "                index_col=\"Date\",\n",
    "                parse_dates=True,\n",
    "            )\n",
    "            .loc[START_DATE:, \"Close\"]\n",
    "            .rename_axis(\"date\").rename(\"unadj_close_price_dol\")\n",
    "            .asfreq(\"D\").ffill()\n",
    "        )\n",
    "        p_b = p.asfreq(\"B\")\n",
    "        r_b = p_b / p_b.shift() - 1\n",
    "        vol_b = _calc_vol(r=r_b)\n",
    "        vol = vol_b.asfreq(\"D\").ffill()\n",
    "        history = pd.concat([p, vol], axis=\"columns\", verify_integrity=True)\n",
    "        return history\n",
    "\n",
    "\n",
    "# HELPERS\n",
    "\n",
    "\n",
    "def _calc_vol(r: pd.Series[float], freq: str = \"B\") -> pd.Series[float]:\n",
    "    \"\"\"Hackily calculate realized vol from returns.\"\"\"\n",
    "    if r.index.freq != \"B\":\n",
    "        raise ValueError(freq)\n",
    "    return (\n",
    "        (\n",
    "            r\n",
    "            # assert that ER_daily is close to zero\n",
    "            .abs()\n",
    "            # hackily remove influence of stock splits\n",
    "            .clip(upper=0.20)\n",
    "            **2\n",
    "        )\n",
    "        # a business quarter\n",
    "        .rolling(window=65, min_periods=1)\n",
    "        .mean()\n",
    "        **0.5\n",
    "        # annualize\n",
    "        * 261**0.5\n",
    "    ).rename(\"vol\")"
   ]
  },
  {
   "cell_type": "code",
   "execution_count": 10,
   "id": "fbb02047-88f4-446d-8cec-d48e7a7439ae",
   "metadata": {
    "tags": []
   },
   "outputs": [],
   "source": [
    "# DATA\n",
    "\n",
    "\n",
    "def _generate_put_histories() -> pd.DataFrame:\n",
    "    \"\"\"Manually Black-Scholes just the data points we need given the strategy we're trying to backtest.\"\"\"\n",
    "    cfg = StrategyConfig()\n",
    "    ts = cfg.timeseries\n",
    "    sh = MarketDataAccess.get_stock_history(ticker=cfg.underlying_ticker)\n",
    "\n",
    "    def _gen_cell(contract_ticker: pd.Period, t: pd.Timestamp) -> float:\n",
    "        period = contract_ticker\n",
    "        entry_date = ts.loc[period, \"entry_date\"]\n",
    "        expiration_date = ts.loc[period, \"expiration_date\"]\n",
    "        if entry_date <= t <= expiration_date:\n",
    "            return fsf.calc_bsf_option_value(\n",
    "                # set at entry\n",
    "                put=True,\n",
    "                K=sh.loc[entry_date, \"unadj_close_price_dol\"] * (1 - cfg.strike_otm_px),\n",
    "                # calculated today\n",
    "                S_t=sh.loc[t, \"unadj_close_price_dol\"],\n",
    "                sigma=sh.loc[t, \"vol\"],  # let's assume a 1.1x vol premium\n",
    "                tau=(expiration_date - t).days / 365,\n",
    "                r=PREVAILING_INTEREST_RATE,\n",
    "            )\n",
    "        else:\n",
    "            return float(\"nan\")\n",
    "\n",
    "    hp = pd.DataFrame(\n",
    "        columns=ts.index,\n",
    "        index=pd.date_range(start=START_DATE, end=sh.last_valid_index(), freq=\"D\", name=\"date\"),\n",
    "        dtype=float,\n",
    "    )\n",
    "    hp = pd.DataFrame(\n",
    "        {\n",
    "            period: {\n",
    "                t: _gen_cell(contract_ticker=period, t=t)\n",
    "                for t in hp.index\n",
    "            }\n",
    "            for period in hp.columns\n",
    "        },\n",
    "        index=hp.index,\n",
    "        columns=hp.columns,\n",
    "    )\n",
    "    return hp\n",
    "PUT_HISTORIES = _generate_put_histories()\n",
    "del _generate_put_histories"
   ]
  },
  {
   "cell_type": "code",
   "execution_count": null,
   "id": "dae1a939-8937-4689-b0e4-ebc6a07c335a",
   "metadata": {
    "tags": []
   },
   "outputs": [],
   "source": [
    "cfg = StrategyConfig()\n",
    "cfg.timeseries.head()a"
   ]
  },
  {
   "cell_type": "code",
   "execution_count": null,
   "id": "b29b5097-dc46-429b-b88d-33dd85b70da9",
   "metadata": {
    "tags": []
   },
   "outputs": [],
   "source": [
    "hs = MarketDataAccess.get_history_for_stock()\n",
    "hs.head()"
   ]
  },
  {
   "cell_type": "code",
   "execution_count": null,
   "id": "aac78adb-2ebc-414c-ba52-5fa1c8726579",
   "metadata": {
    "tags": []
   },
   "outputs": [],
   "source": [
    "x[\"vol\"].plot()"
   ]
  },
  {
   "cell_type": "code",
   "execution_count": null,
   "id": "15b4fcf9-6ad9-4de6-8b35-676c7bdceb67",
   "metadata": {},
   "outputs": [],
   "source": []
  },
  {
   "cell_type": "code",
   "execution_count": null,
   "id": "2c914b94-9435-4444-b7e0-6a561008eafb",
   "metadata": {},
   "outputs": [],
   "source": []
  }
 ],
 "metadata": {
  "kernelspec": {
   "display_name": "Python 3 (ipykernel)",
   "language": "python",
   "name": "python3"
  },
  "language_info": {
   "codemirror_mode": {
    "name": "ipython",
    "version": 3
   },
   "file_extension": ".py",
   "mimetype": "text/x-python",
   "name": "python",
   "nbconvert_exporter": "python",
   "pygments_lexer": "ipython3",
   "version": "3.11.4"
  }
 },
 "nbformat": 4,
 "nbformat_minor": 5
}
