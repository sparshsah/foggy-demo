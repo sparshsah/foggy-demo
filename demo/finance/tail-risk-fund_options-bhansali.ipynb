{
 "cells": [
  {
   "cell_type": "markdown",
   "id": "c1051aa6-9c5a-4a53-8c36-f741b6a22860",
   "metadata": {},
   "source": [
    "# TAIL RISK FUND: OPTIONS (BHANSALI STRATEGY)\n",
    "\n",
    "author: [@sparshsah](https://github.com/sparshsah)\n",
    "\n",
    "ref: https://github.com/sparshsah/foggy-demo/blob/main/demo/finance/tail-risk-fund_options.ipynb"
   ]
  },
  {
   "cell_type": "code",
   "execution_count": 16,
   "id": "14bbf5b2-7543-419b-9b1a-6a78dc4f2c66",
   "metadata": {
    "tags": []
   },
   "outputs": [],
   "source": [
    "from __future__ import annotations\n",
    "\n",
    "import dataclasses\n",
    "import datetime\n",
    "from typing import Final, Literal\n",
    "\n",
    "import matplotlib.pyplot as plt\n",
    "import numpy as np\n",
    "import pandas as pd\n",
    "\n",
    "# https://github.com/sparshsah/foggy-statslib\n",
    "import sys; sys.path.append(\"../../../foggy-statslib/\")\n",
    "import foggy_statslib.core as fsc\n",
    "import foggy_statslib.fin as fsf"
   ]
  },
  {
   "cell_type": "code",
   "execution_count": 26,
   "id": "680cec0e-f897-47d7-bba3-6db6c50f709a",
   "metadata": {
    "tags": []
   },
   "outputs": [],
   "source": [
    "BUDGET_DOL: Final[float] = 100\n",
    "START_DATE: Final[datetime.datetime] = datetime.datetime(2014, 7, 1)\n",
    "IMPL_LAG: Final[int] = 3  # trading lag in days\n",
    "\n",
    "\n",
    "def _calc_\n",
    "\n",
    "@dataclasses.dataclass(kw_only=True, frozen=True)\n",
    "class StrategyConfig:\n",
    "    \"\"\"By default, buy puts quarterly at 20% OTM, selling iff value hits 2x initial price.\"\"\"\n",
    "    period_freq: Literal[\"M\", \"Q\", \"Y\"] = \"Q\"\n",
    "    oom_px: float = 0.20\n",
    "    monetization_thresh: float = 2.0\n",
    "\n",
    "\n",
    "class MarketDataAccess:\n",
    "    \"\"\"Module for getting data.\"\"\"\n",
    "\n",
    "    @staticmethod\n",
    "    def _get_history_for_stock(ticker: str = \"COF\") -> pd.DataFrame:\n",
    "        p = pd.read_csv(\n",
    "            f\"data/yahoo-finance_NYSE-{ticker}_px.csv\",\n",
    "            index_col=\"Date\",\n",
    "            parse_dates=True,\n",
    "        ).loc[START_DATE:, \"Close\"].rename(\"price_close_unadj\")\n",
    "        dtx = pd.date_range(\n",
    "            start=p.index[0],\n",
    "            end=p.index[-1],\n",
    "            freq=\"B\",\n",
    "            name=\"date\",\n",
    "        )\n",
    "        p = p.reindex(index=dtx).ffill()\n",
    "        r = p / p.shift() - 1\n",
    "        \n",
    "        r_magnitude = r.abs().clip(upper=0.20)**2\n",
    "        vol = (\n",
    "            r\n",
    "            # assert that ER_daily is close to zero\n",
    "            .abs()\n",
    "            # hackily remove influence of stock splits\n",
    "            .clip(upper=0.20)\n",
    "            **2\n",
    "        ).rolling(window=65, \n",
    "        return p"
   ]
  },
  {
   "cell_type": "code",
   "execution_count": 28,
   "id": "b29b5097-dc46-429b-b88d-33dd85b70da9",
   "metadata": {
    "tags": []
   },
   "outputs": [
    {
     "data": {
      "text/plain": [
       "date\n",
       "2014-07-01     83.019997\n",
       "2014-07-02     83.599998\n",
       "2014-07-03     84.949997\n",
       "2014-07-04     84.949997\n",
       "2014-07-07     83.570000\n",
       "                 ...    \n",
       "2023-11-27    106.180000\n",
       "2023-11-28    108.580002\n",
       "2023-11-29    110.129997\n",
       "2023-11-30    111.660004\n",
       "2023-12-01    113.930000\n",
       "Freq: B, Name: close_raw, Length: 2459, dtype: float64"
      ]
     },
     "execution_count": 28,
     "metadata": {},
     "output_type": "execute_result"
    }
   ],
   "source": [
    "MarketDataAccess._get_history_for_stock()"
   ]
  },
  {
   "cell_type": "code",
   "execution_count": null,
   "id": "712d0e00-5760-497d-8636-20c298c645e9",
   "metadata": {},
   "outputs": [],
   "source": [
    "START_DATE"
   ]
  }
 ],
 "metadata": {
  "kernelspec": {
   "display_name": "Python 3 (ipykernel)",
   "language": "python",
   "name": "python3"
  },
  "language_info": {
   "codemirror_mode": {
    "name": "ipython",
    "version": 3
   },
   "file_extension": ".py",
   "mimetype": "text/x-python",
   "name": "python",
   "nbconvert_exporter": "python",
   "pygments_lexer": "ipython3",
   "version": "3.11.4"
  }
 },
 "nbformat": 4,
 "nbformat_minor": 5
}
