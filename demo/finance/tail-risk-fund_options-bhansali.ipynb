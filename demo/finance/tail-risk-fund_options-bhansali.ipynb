{
 "cells": [
  {
   "cell_type": "markdown",
   "id": "c1051aa6-9c5a-4a53-8c36-f741b6a22860",
   "metadata": {},
   "source": [
    "# TAIL RISK FUND: OPTIONS (BHANSALI STRATEGY)\n",
    "\n",
    "author: [@sparshsah](https://github.com/sparshsah)\n",
    "\n",
    "ref: https://github.com/sparshsah/foggy-demo/blob/main/demo/finance/tail-risk-fund_options.ipynb"
   ]
  },
  {
   "cell_type": "code",
   "execution_count": 16,
   "id": "14bbf5b2-7543-419b-9b1a-6a78dc4f2c66",
   "metadata": {
    "tags": []
   },
   "outputs": [],
   "source": [
    "from __future__ import annotations\n",
    "\n",
    "import dataclasses\n",
    "import datetime\n",
    "from typing import Final, Literal\n",
    "\n",
    "import matplotlib.pyplot as plt\n",
    "import numpy as np\n",
    "import pandas as pd\n",
    "\n",
    "# https://github.com/sparshsah/foggy-statslib\n",
    "import sys; sys.path.append(\"../../../foggy-statslib/\")\n",
    "import foggy_statslib.core as fsc\n",
    "import foggy_statslib.fin as fsf"
   ]
  },
  {
   "cell_type": "code",
   "execution_count": 92,
   "id": "680cec0e-f897-47d7-bba3-6db6c50f709a",
   "metadata": {
    "tags": []
   },
   "outputs": [],
   "source": [
    "BUDGET_DOL: Final[float] = 100\n",
    "START_DATE: Final[datetime.datetime] = datetime.datetime(2014, 7, 1)\n",
    "ROLL_BUFFER_DAYS: Final[int] = 5  # look to roll this many trading days before expiration\n",
    "IMPL_LAG_DAYS: Final[int] = 3  # trading lag in days\n",
    "\n",
    "\n",
    "@dataclasses.dataclass(kw_only=True, frozen=True)\n",
    "class StrategyConfig:\n",
    "    \"\"\"By default, buy COF puts quarterly at 20% OTM, selling iff value hits 2x initial price.\"\"\"\n",
    "    underlying_ticker: str = \"COF\"\n",
    "    period_freq: Literal[\"M\", \"Q\", \"2Q\", \"Y\"] = \"Q\"\n",
    "    strike_otm_px: float = 0.20\n",
    "    sell_thresh: float = 2.0\n",
    "\n",
    "    @property\n",
    "    def periods(self) -> pd.PeriodIndex:\n",
    "        return pd.period_range(\n",
    "            start=START_DATE,\n",
    "            end=datetime.datetime.now(),\n",
    "            freq=self.period_freq,\n",
    "            name=\"period\",\n",
    "        # first period is burn-in\n",
    "        )[1:]\n",
    "\n",
    "    @property\n",
    "    def timeseries(self) -> pd.DataFrame:\n",
    "        ts = pd.DataFrame(index=self.periods)\n",
    "        ts.loc[:, \"entry_date\"] = ts.index.start_time - ROLL_BUFFER_DAYS * pd.offsets.BDay()\n",
    "        ts.loc[:, \"expiration_date\"] = ts.index.end_time\n",
    "        return ts\n",
    "\n",
    "\n",
    "class MarketDataAccess:\n",
    "    \"\"\"Module for getting data.\"\"\"\n",
    "\n",
    "    @staticmethod\n",
    "    def get_stock_history(ticker: str = \"COF\") -> pd.DataFrame:\n",
    "        p = (\n",
    "            pd.read_csv(\n",
    "                f\"data/yahoo-finance_NYSE-{ticker}_px.csv\",\n",
    "                index_col=\"Date\",\n",
    "                parse_dates=True,\n",
    "            )\n",
    "            .loc[START_DATE:, \"Close\"]\n",
    "            .rename_axis(\"date\").rename(\"unadj_close_price_dol\")\n",
    "            .asfreq(\"D\").ffill()\n",
    "        )\n",
    "        p_b = p.asfreq(\"B\")\n",
    "        r_b = p_b / p_b.shift() - 1\n",
    "        vol_b = _calc_vol(r=r_b)\n",
    "        vol = vol_b.asfreq(\"D\").ffill()\n",
    "        history = pd.concat([p, vol], axis=\"columns\", verify_integrity=True)\n",
    "        return history\n",
    "\n",
    "\n",
    "# HELPERS\n",
    "\n",
    "\n",
    "def _calc_vol(r: pd.Series[float], freq: str = \"B\") -> pd.Series[float]:\n",
    "    \"\"\"Hackily calculate realized vol from returns.\"\"\"\n",
    "    if r.index.freq != \"B\":\n",
    "        raise ValueError(freq)\n",
    "    return (\n",
    "        (\n",
    "            r\n",
    "            # assert that ER_daily is close to zero\n",
    "            .abs()\n",
    "            # hackily remove influence of stock splits\n",
    "            .clip(upper=0.20)\n",
    "            **2\n",
    "        )\n",
    "        # a business quarter\n",
    "        .rolling(window=65)\n",
    "        .mean()\n",
    "        **0.5\n",
    "        # annualize\n",
    "        * 261**0.5\n",
    "    ).rename(\"vol\")"
   ]
  },
  {
   "cell_type": "code",
   "execution_count": null,
   "id": "fbb02047-88f4-446d-8cec-d48e7a7439ae",
   "metadata": {},
   "outputs": [],
   "source": [
    "def _generate_put_histories() -> pd.DataFrame:\n",
    "    \"\"\"Lacking Polygon.io access, manually generate just the data points we need using Black-Scholes.\"\"\"\n",
    "    cfg = StrategyConfig()\n",
    "    ts = cfg.timeseries\n",
    "    sh = MarketDataAccess.get_stock_history(ticker=cfg.underlying_ticker)\n",
    "    ts.loc[:, \"strike_price_dol\"] = ts[\"entry_date\"].map(\n",
    "        hs[\"unadj_close_price_dol\"] *\n",
    "    )\n",
    "\n",
    "    def _gen_cell(period: pd.Period, t: pd.Timestamp) -> float:\n",
    "        entry_date = ts.loc[period, \"entry_date\"]\n",
    "        if t < entry_date:\n",
    "            return np.nan\n",
    "        expiration_date = ts.loc[period, \"expiration_date\"]\n",
    "        if t > expiration_date:\n",
    "            return np.nan\n",
    "        tau = (expiration_date - t).days / 365\n",
    "        strike_price_dol = sh.loc[entry_date, \"unadj_close_price_dol\"] * (1 - cfg.strike_otm_px)\n",
    "\n",
    "    hp = pd.DataFrame(\n",
    "        columns=ts.index,\n",
    "        index=pd.date_range(start=START_DATE, end=datetime.datetime.now(), freq=\"D\"),\n",
    "        dtype=float,\n",
    "    )\n",
    "    for contract_ticker in hp.columns:\n",
    "        for t in hp.index:\n",
    "            hp.loc[t, contract_ticker] = fsf.calc_bsf_option_value(\n",
    "                tau="
   ]
  },
  {
   "cell_type": "code",
   "execution_count": 89,
   "id": "3933544e-8e14-4a88-ad8d-f15a84987a9b",
   "metadata": {
    "tags": []
   },
   "outputs": [
    {
     "data": {
      "text/plain": [
       "\u001b[0;31mSignature:\u001b[0m\n",
       "\u001b[0mfsf\u001b[0m\u001b[0;34m.\u001b[0m\u001b[0mcalc_bsf_option_value\u001b[0m\u001b[0;34m(\u001b[0m\u001b[0;34m\u001b[0m\n",
       "\u001b[0;34m\u001b[0m    \u001b[0mtau\u001b[0m\u001b[0;34m:\u001b[0m \u001b[0;34m'float'\u001b[0m \u001b[0;34m=\u001b[0m \u001b[0;36m1\u001b[0m\u001b[0;34m,\u001b[0m\u001b[0;34m\u001b[0m\n",
       "\u001b[0;34m\u001b[0m    \u001b[0mK\u001b[0m\u001b[0;34m:\u001b[0m \u001b[0;34m'float'\u001b[0m \u001b[0;34m=\u001b[0m \u001b[0;36m100\u001b[0m\u001b[0;34m,\u001b[0m\u001b[0;34m\u001b[0m\n",
       "\u001b[0;34m\u001b[0m    \u001b[0mS_t\u001b[0m\u001b[0;34m:\u001b[0m \u001b[0;34m'float'\u001b[0m \u001b[0;34m=\u001b[0m \u001b[0;36m100\u001b[0m\u001b[0;34m,\u001b[0m\u001b[0;34m\u001b[0m\n",
       "\u001b[0;34m\u001b[0m    \u001b[0msigma\u001b[0m\u001b[0;34m:\u001b[0m \u001b[0;34m'float'\u001b[0m \u001b[0;34m=\u001b[0m \u001b[0;36m0.2\u001b[0m\u001b[0;34m,\u001b[0m\u001b[0;34m\u001b[0m\n",
       "\u001b[0;34m\u001b[0m    \u001b[0mr\u001b[0m\u001b[0;34m:\u001b[0m \u001b[0;34m'float'\u001b[0m \u001b[0;34m=\u001b[0m \u001b[0;36m0\u001b[0m\u001b[0;34m,\u001b[0m\u001b[0;34m\u001b[0m\n",
       "\u001b[0;34m\u001b[0m    \u001b[0mput\u001b[0m\u001b[0;34m:\u001b[0m \u001b[0;34m'bool'\u001b[0m \u001b[0;34m=\u001b[0m \u001b[0;32mTrue\u001b[0m\u001b[0;34m,\u001b[0m\u001b[0;34m\u001b[0m\n",
       "\u001b[0;34m\u001b[0m\u001b[0;34m)\u001b[0m \u001b[0;34m->\u001b[0m \u001b[0;34m'float'\u001b[0m\u001b[0;34m\u001b[0m\u001b[0;34m\u001b[0m\u001b[0m\n",
       "\u001b[0;31mDocstring:\u001b[0m\n",
       "Calculate Black-Scholes formula for option value.\n",
       "Note: Applies to European-style options only!\n",
       "\n",
       "Args:\n",
       "    tau: float, Years to expiration.\n",
       "    K: float, Strike price.\n",
       "    S_t: float, Price of underlying stock today.\n",
       "    sigma: float, Assumed volatility. Logarithmic, to be geeky about it.\n",
       "        Note: Be careful! Black-Scholes is a very good baseline model for how people value options in real life.\n",
       "            But in real life, `sigma` is usually a bit higher than\n",
       "            a true best guess for go-forward volatility (based on e.g. recent realized volatility).\n",
       "                This is the well-documented \"volatility risk premium\".\n",
       "                The usual explanation is the overwhelming pressure of demand for insurance against economic crashes.\n",
       "            And in fact, it's usually a bit higher when the option is\n",
       "            (a) deeply out-of-the-money, and/or (b) far in the future.\n",
       "                These are the well-documented volatility \"smirks\".\n",
       "                This doesn't mean people pay more for an OTM put than an ITM put,\n",
       "                it just means they don't pay as much less as you'd expect.\n",
       "            In practice, we don't know what different market participants are assuming here.\n",
       "            But we can observe the price at which various options are trading.\n",
       "            Based on those observations, we can back out the \"option-implied volatility\".\n",
       "            That is, the value of `sigma` that makes this function spit out the observed prices.\n",
       "    r: float, Risk-free interest rate. Also logarithmic for the geeks out there.\n",
       "    put: bool, Whether this is a put or a call.\n",
       "\u001b[0;31mFile:\u001b[0m      ~/Documents/biz/foggyBASIS/sys/foggy-statslib/foggy_statslib/fin.py\n",
       "\u001b[0;31mType:\u001b[0m      function"
      ]
     },
     "metadata": {},
     "output_type": "display_data"
    }
   ],
   "source": [
    "fsf.calc_bsf_option_value?"
   ]
  },
  {
   "cell_type": "code",
   "execution_count": 87,
   "id": "dae1a939-8937-4689-b0e4-ebc6a07c335a",
   "metadata": {
    "tags": []
   },
   "outputs": [
    {
     "data": {
      "text/html": [
       "<div>\n",
       "<style scoped>\n",
       "    .dataframe tbody tr th:only-of-type {\n",
       "        vertical-align: middle;\n",
       "    }\n",
       "\n",
       "    .dataframe tbody tr th {\n",
       "        vertical-align: top;\n",
       "    }\n",
       "\n",
       "    .dataframe thead th {\n",
       "        text-align: right;\n",
       "    }\n",
       "</style>\n",
       "<table border=\"1\" class=\"dataframe\">\n",
       "  <thead>\n",
       "    <tr style=\"text-align: right;\">\n",
       "      <th></th>\n",
       "      <th>entry_date</th>\n",
       "      <th>expiration_date</th>\n",
       "    </tr>\n",
       "    <tr>\n",
       "      <th>period</th>\n",
       "      <th></th>\n",
       "      <th></th>\n",
       "    </tr>\n",
       "  </thead>\n",
       "  <tbody>\n",
       "    <tr>\n",
       "      <th>2014Q4</th>\n",
       "      <td>2014-09-24</td>\n",
       "      <td>2014-12-31 23:59:59.999999999</td>\n",
       "    </tr>\n",
       "    <tr>\n",
       "      <th>2015Q1</th>\n",
       "      <td>2014-12-25</td>\n",
       "      <td>2015-03-31 23:59:59.999999999</td>\n",
       "    </tr>\n",
       "    <tr>\n",
       "      <th>2015Q2</th>\n",
       "      <td>2015-03-25</td>\n",
       "      <td>2015-06-30 23:59:59.999999999</td>\n",
       "    </tr>\n",
       "    <tr>\n",
       "      <th>2015Q3</th>\n",
       "      <td>2015-06-24</td>\n",
       "      <td>2015-09-30 23:59:59.999999999</td>\n",
       "    </tr>\n",
       "    <tr>\n",
       "      <th>2015Q4</th>\n",
       "      <td>2015-09-24</td>\n",
       "      <td>2015-12-31 23:59:59.999999999</td>\n",
       "    </tr>\n",
       "  </tbody>\n",
       "</table>\n",
       "</div>"
      ],
      "text/plain": [
       "       entry_date               expiration_date\n",
       "period                                         \n",
       "2014Q4 2014-09-24 2014-12-31 23:59:59.999999999\n",
       "2015Q1 2014-12-25 2015-03-31 23:59:59.999999999\n",
       "2015Q2 2015-03-25 2015-06-30 23:59:59.999999999\n",
       "2015Q3 2015-06-24 2015-09-30 23:59:59.999999999\n",
       "2015Q4 2015-09-24 2015-12-31 23:59:59.999999999"
      ]
     },
     "execution_count": 87,
     "metadata": {},
     "output_type": "execute_result"
    }
   ],
   "source": [
    "cfg = StrategyConfig()\n",
    "cfg.timeseries.head()"
   ]
  },
  {
   "cell_type": "code",
   "execution_count": 88,
   "id": "b29b5097-dc46-429b-b88d-33dd85b70da9",
   "metadata": {
    "tags": []
   },
   "outputs": [
    {
     "data": {
      "text/html": [
       "<div>\n",
       "<style scoped>\n",
       "    .dataframe tbody tr th:only-of-type {\n",
       "        vertical-align: middle;\n",
       "    }\n",
       "\n",
       "    .dataframe tbody tr th {\n",
       "        vertical-align: top;\n",
       "    }\n",
       "\n",
       "    .dataframe thead th {\n",
       "        text-align: right;\n",
       "    }\n",
       "</style>\n",
       "<table border=\"1\" class=\"dataframe\">\n",
       "  <thead>\n",
       "    <tr style=\"text-align: right;\">\n",
       "      <th></th>\n",
       "      <th>price_close_unadj</th>\n",
       "      <th>vol</th>\n",
       "    </tr>\n",
       "    <tr>\n",
       "      <th>date</th>\n",
       "      <th></th>\n",
       "      <th></th>\n",
       "    </tr>\n",
       "  </thead>\n",
       "  <tbody>\n",
       "    <tr>\n",
       "      <th>2014-07-01</th>\n",
       "      <td>83.019997</td>\n",
       "      <td>NaN</td>\n",
       "    </tr>\n",
       "    <tr>\n",
       "      <th>2014-07-02</th>\n",
       "      <td>83.599998</td>\n",
       "      <td>NaN</td>\n",
       "    </tr>\n",
       "    <tr>\n",
       "      <th>2014-07-03</th>\n",
       "      <td>84.949997</td>\n",
       "      <td>NaN</td>\n",
       "    </tr>\n",
       "    <tr>\n",
       "      <th>2014-07-04</th>\n",
       "      <td>84.949997</td>\n",
       "      <td>NaN</td>\n",
       "    </tr>\n",
       "    <tr>\n",
       "      <th>2014-07-05</th>\n",
       "      <td>84.949997</td>\n",
       "      <td>NaN</td>\n",
       "    </tr>\n",
       "  </tbody>\n",
       "</table>\n",
       "</div>"
      ],
      "text/plain": [
       "            price_close_unadj  vol\n",
       "date                              \n",
       "2014-07-01          83.019997  NaN\n",
       "2014-07-02          83.599998  NaN\n",
       "2014-07-03          84.949997  NaN\n",
       "2014-07-04          84.949997  NaN\n",
       "2014-07-05          84.949997  NaN"
      ]
     },
     "execution_count": 88,
     "metadata": {},
     "output_type": "execute_result"
    }
   ],
   "source": [
    "hs = MarketDataAccess.get_history_for_stock()\n",
    "hs.head()"
   ]
  },
  {
   "cell_type": "code",
   "execution_count": 46,
   "id": "aac78adb-2ebc-414c-ba52-5fa1c8726579",
   "metadata": {
    "tags": []
   },
   "outputs": [
    {
     "data": {
      "text/plain": [
       "<Axes: xlabel='date'>"
      ]
     },
     "execution_count": 46,
     "metadata": {},
     "output_type": "execute_result"
    },
    {
     "data": {
      "image/png": "[encoded data removed]",
      "text/plain": [
       "<Figure size 640x480 with 1 Axes>"
      ]
     },
     "metadata": {},
     "output_type": "display_data"
    }
   ],
   "source": [
    "x[\"vol\"].plot()"
   ]
  },
  {
   "cell_type": "code",
   "execution_count": null,
   "id": "2c914b94-9435-4444-b7e0-6a561008eafb",
   "metadata": {},
   "outputs": [],
   "source": []
  }
 ],
 "metadata": {
  "kernelspec": {
   "display_name": "Python 3 (ipykernel)",
   "language": "python",
   "name": "python3"
  },
  "language_info": {
   "codemirror_mode": {
    "name": "ipython",
    "version": 3
   },
   "file_extension": ".py",
   "mimetype": "text/x-python",
   "name": "python",
   "nbconvert_exporter": "python",
   "pygments_lexer": "ipython3",
   "version": "3.11.4"
  }
 },
 "nbformat": 4,
 "nbformat_minor": 5
}
