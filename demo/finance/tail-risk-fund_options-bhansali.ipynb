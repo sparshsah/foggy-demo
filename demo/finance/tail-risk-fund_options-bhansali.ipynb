{
 "cells": [
  {
   "cell_type": "markdown",
   "id": "c1051aa6-9c5a-4a53-8c36-f741b6a22860",
   "metadata": {},
   "source": [
    "# TAIL RISK FUND: OPTIONS (BHANSALI STRATEGY)\n",
    "\n",
    "author: [@sparshsah](https://github.com/sparshsah)\n",
    "\n",
    "ref: https://github.com/sparshsah/foggy-demo/blob/main/demo/finance/tail-risk-fund_options.ipynb"
   ]
  },
  {
   "cell_type": "code",
   "execution_count": 1,
   "id": "14bbf5b2-7543-419b-9b1a-6a78dc4f2c66",
   "metadata": {
    "tags": []
   },
   "outputs": [],
   "source": [
    "from __future__ import annotations\n",
    "\n",
    "import matplotlib.pyplot as plt\n",
    "import numpy as np\n",
    "import pandas as pd\n",
    "\n",
    "# https://github.com/sparshsah/foggy-statslib\n",
    "import sys; sys.path.append(\"../../../foggy-statslib/\")\n",
    "import foggy_statslib.core as fsc\n",
    "import foggy_statslib.fin as fsf"
   ]
  },
  {
   "cell_type": "code",
   "execution_count": null,
   "id": "680cec0e-f897-47d7-bba3-6db6c50f709a",
   "metadata": {},
   "outputs": [],
   "source": []
  }
 ],
 "metadata": {
  "kernelspec": {
   "display_name": "Python 3 (ipykernel)",
   "language": "python",
   "name": "python3"
  },
  "language_info": {
   "codemirror_mode": {
    "name": "ipython",
    "version": 3
   },
   "file_extension": ".py",
   "mimetype": "text/x-python",
   "name": "python",
   "nbconvert_exporter": "python",
   "pygments_lexer": "ipython3",
   "version": "3.11.4"
  }
 },
 "nbformat": 4,
 "nbformat_minor": 5
}
