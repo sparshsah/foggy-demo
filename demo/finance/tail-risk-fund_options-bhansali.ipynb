{
 "cells": [
  {
   "cell_type": "markdown",
   "id": "c1051aa6-9c5a-4a53-8c36-f741b6a22860",
   "metadata": {},
   "source": [
    "# TAIL RISK FUND: OPTIONS (BHANSALI STRATEGY)\n",
    "\n",
    "author: [@sparshsah](https://github.com/sparshsah)\n",
    "\n",
    "ref: https://github.com/sparshsah/foggy-demo/blob/main/demo/finance/tail-risk-fund_options.ipynb"
   ]
  },
  {
   "cell_type": "code",
   "execution_count": 1,
   "id": "14bbf5b2-7543-419b-9b1a-6a78dc4f2c66",
   "metadata": {
    "tags": []
   },
   "outputs": [],
   "source": [
    "from __future__ import annotations\n",
    "\n",
    "import dataclasses\n",
    "import datetime\n",
    "from typing import Final, Literal\n",
    "\n",
    "import matplotlib.pyplot as plt\n",
    "import numpy as np\n",
    "import pandas as pd\n",
    "\n",
    "# https://github.com/sparshsah/foggy-statslib\n",
    "import sys; sys.path.append(\"../../../foggy-statslib/\")\n",
    "import foggy_statslib.core as fsc\n",
    "import foggy_statslib.fin as fsf"
   ]
  },
  {
   "cell_type": "code",
   "execution_count": 7,
   "id": "680cec0e-f897-47d7-bba3-6db6c50f709a",
   "metadata": {
    "tags": []
   },
   "outputs": [],
   "source": [
    "BUDGET_DOL: Final[float] = 100\n",
    "START_DATE: Final[datetime.datetime] = datetime.datetime(2014, 7, 1)\n",
    "ROLL_BUFFER_DAYS: Final[int] = 5  # look to roll this many trading days before expiration\n",
    "IMPL_LAG_DAYS: Final[int] = 3  # trading lag in days\n",
    "PREVAILING_INTEREST_RATE: Final[float] = 0.05\n",
    "\n",
    "\n",
    "@dataclasses.dataclass(kw_only=True, frozen=True)\n",
    "class StrategyConfig:\n",
    "    \"\"\"By default, buy COF puts quarterly at 20% OTM, selling iff value hits 2x initial price.\"\"\"\n",
    "    underlying_ticker: str = \"COF\"\n",
    "    period_freq: Literal[\"M\", \"Q\", \"2Q\", \"Y\"] = \"Q\"\n",
    "    strike_otm_px: float = 0.20\n",
    "    sell_thresh: float = 2.0\n",
    "\n",
    "    @property\n",
    "    def periods(self) -> pd.PeriodIndex:\n",
    "        return pd.period_range(\n",
    "            start=START_DATE,\n",
    "            end=datetime.datetime.now(),\n",
    "            freq=self.period_freq,\n",
    "            name=\"period\",\n",
    "        # first period is burn-in\n",
    "        )[1:]\n",
    "\n",
    "    @property\n",
    "    def timeseries(self) -> pd.DataFrame:\n",
    "        ts = pd.DataFrame(index=self.periods)\n",
    "        ts.loc[:, \"entry_date\"] = ts.index.start_time - ROLL_BUFFER_DAYS * pd.offsets.BDay()\n",
    "        ts.loc[:, \"expiration_date\"] = ts.index.end_time\n",
    "        return ts\n",
    "\n",
    "\n",
    "class MarketDataAccess:\n",
    "    \"\"\"Module for getting data.\"\"\"\n",
    "\n",
    "    @staticmethod\n",
    "    def get_stock_history(ticker: str = \"COF\") -> pd.DataFrame:\n",
    "        p = (\n",
    "            pd.read_csv(\n",
    "                f\"data/yahoo-finance_NYSE-{ticker}_px.csv\",\n",
    "                index_col=\"Date\",\n",
    "                parse_dates=True,\n",
    "            )\n",
    "            .loc[START_DATE:, \"Close\"]\n",
    "            .rename_axis(\"date\").rename(\"unadj_close_price_dol\")\n",
    "            .asfreq(\"D\").ffill()\n",
    "        )\n",
    "        p_b = p.asfreq(\"B\")\n",
    "        r_b = p_b / p_b.shift() - 1\n",
    "        vol_b = _calc_vol(r=r_b)\n",
    "        vol = vol_b.asfreq(\"D\").ffill()\n",
    "        history = pd.concat([p, vol], axis=\"columns\", verify_integrity=True)\n",
    "        return history\n",
    "\n",
    "\n",
    "# HELPERS\n",
    "\n",
    "\n",
    "def _calc_vol(r: pd.Series[float], freq: str = \"B\") -> pd.Series[float]:\n",
    "    \"\"\"Hackily calculate realized vol from returns.\"\"\"\n",
    "    if r.index.freq != \"B\":\n",
    "        raise ValueError(freq)\n",
    "    return (\n",
    "        (\n",
    "            r\n",
    "            # assert that ER_daily is close to zero\n",
    "            .abs()\n",
    "            # hackily remove influence of stock splits\n",
    "            .clip(upper=0.20)\n",
    "            **2\n",
    "        )\n",
    "        # a business quarter\n",
    "        .rolling(window=65, min_periods=1)\n",
    "        .mean()\n",
    "        **0.5\n",
    "        # annualize\n",
    "        * 261**0.5\n",
    "    ).rename(\"vol\")"
   ]
  },
  {
   "cell_type": "code",
   "execution_count": 8,
   "id": "fbb02047-88f4-446d-8cec-d48e7a7439ae",
   "metadata": {
    "tags": []
   },
   "outputs": [
    {
     "ename": "KeyError",
     "evalue": "Timestamp('2023-12-02 00:00:00', freq='D')",
     "output_type": "error",
     "traceback": [
      "\u001b[0;31m---------------------------------------------------------------------------\u001b[0m",
      "\u001b[0;31mKeyError\u001b[0m                                  Traceback (most recent call last)",
      "File \u001b[0;32m~/anaconda3/envs/py_venv/lib/python3.11/site-packages/pandas/_libs/index.pyx:548\u001b[0m, in \u001b[0;36mpandas._libs.index.DatetimeEngine.get_loc\u001b[0;34m()\u001b[0m\n",
      "File \u001b[0;32mpandas/_libs/hashtable_class_helper.pxi:2263\u001b[0m, in \u001b[0;36mpandas._libs.hashtable.Int64HashTable.get_item\u001b[0;34m()\u001b[0m\n",
      "File \u001b[0;32mpandas/_libs/hashtable_class_helper.pxi:2273\u001b[0m, in \u001b[0;36mpandas._libs.hashtable.Int64HashTable.get_item\u001b[0;34m()\u001b[0m\n",
      "\u001b[0;31mKeyError\u001b[0m: 1701475200000000000",
      "\nDuring handling of the above exception, another exception occurred:\n",
      "\u001b[0;31mKeyError\u001b[0m                                  Traceback (most recent call last)",
      "File \u001b[0;32m~/anaconda3/envs/py_venv/lib/python3.11/site-packages/pandas/core/indexes/base.py:3802\u001b[0m, in \u001b[0;36mIndex.get_loc\u001b[0;34m(self, key, method, tolerance)\u001b[0m\n\u001b[1;32m   3801\u001b[0m \u001b[38;5;28;01mtry\u001b[39;00m:\n\u001b[0;32m-> 3802\u001b[0m     \u001b[38;5;28;01mreturn\u001b[39;00m \u001b[38;5;28mself\u001b[39m\u001b[38;5;241m.\u001b[39m_engine\u001b[38;5;241m.\u001b[39mget_loc(casted_key)\n\u001b[1;32m   3803\u001b[0m \u001b[38;5;28;01mexcept\u001b[39;00m \u001b[38;5;167;01mKeyError\u001b[39;00m \u001b[38;5;28;01mas\u001b[39;00m err:\n",
      "File \u001b[0;32m~/anaconda3/envs/py_venv/lib/python3.11/site-packages/pandas/_libs/index.pyx:516\u001b[0m, in \u001b[0;36mpandas._libs.index.DatetimeEngine.get_loc\u001b[0;34m()\u001b[0m\n",
      "File \u001b[0;32m~/anaconda3/envs/py_venv/lib/python3.11/site-packages/pandas/_libs/index.pyx:550\u001b[0m, in \u001b[0;36mpandas._libs.index.DatetimeEngine.get_loc\u001b[0;34m()\u001b[0m\n",
      "\u001b[0;31mKeyError\u001b[0m: Timestamp('2023-12-02 00:00:00', freq='D')",
      "\nThe above exception was the direct cause of the following exception:\n",
      "\u001b[0;31mKeyError\u001b[0m                                  Traceback (most recent call last)",
      "File \u001b[0;32m~/anaconda3/envs/py_venv/lib/python3.11/site-packages/pandas/core/indexes/datetimes.py:736\u001b[0m, in \u001b[0;36mDatetimeIndex.get_loc\u001b[0;34m(self, key, method, tolerance)\u001b[0m\n\u001b[1;32m    735\u001b[0m \u001b[38;5;28;01mtry\u001b[39;00m:\n\u001b[0;32m--> 736\u001b[0m     \u001b[38;5;28;01mreturn\u001b[39;00m Index\u001b[38;5;241m.\u001b[39mget_loc(\u001b[38;5;28mself\u001b[39m, key, method, tolerance)\n\u001b[1;32m    737\u001b[0m \u001b[38;5;28;01mexcept\u001b[39;00m \u001b[38;5;167;01mKeyError\u001b[39;00m \u001b[38;5;28;01mas\u001b[39;00m err:\n",
      "File \u001b[0;32m~/anaconda3/envs/py_venv/lib/python3.11/site-packages/pandas/core/indexes/base.py:3804\u001b[0m, in \u001b[0;36mIndex.get_loc\u001b[0;34m(self, key, method, tolerance)\u001b[0m\n\u001b[1;32m   3803\u001b[0m \u001b[38;5;28;01mexcept\u001b[39;00m \u001b[38;5;167;01mKeyError\u001b[39;00m \u001b[38;5;28;01mas\u001b[39;00m err:\n\u001b[0;32m-> 3804\u001b[0m     \u001b[38;5;28;01mraise\u001b[39;00m \u001b[38;5;167;01mKeyError\u001b[39;00m(key) \u001b[38;5;28;01mfrom\u001b[39;00m \u001b[38;5;21;01merr\u001b[39;00m\n\u001b[1;32m   3805\u001b[0m \u001b[38;5;28;01mexcept\u001b[39;00m \u001b[38;5;167;01mTypeError\u001b[39;00m:\n\u001b[1;32m   3806\u001b[0m     \u001b[38;5;66;03m# If we have a listlike key, _check_indexing_error will raise\u001b[39;00m\n\u001b[1;32m   3807\u001b[0m     \u001b[38;5;66;03m#  InvalidIndexError. Otherwise we fall through and re-raise\u001b[39;00m\n\u001b[1;32m   3808\u001b[0m     \u001b[38;5;66;03m#  the TypeError.\u001b[39;00m\n",
      "\u001b[0;31mKeyError\u001b[0m: Timestamp('2023-12-02 00:00:00', freq='D')",
      "\nThe above exception was the direct cause of the following exception:\n",
      "\u001b[0;31mKeyError\u001b[0m                                  Traceback (most recent call last)",
      "Cell \u001b[0;32mIn[8], line 45\u001b[0m\n\u001b[1;32m     33\u001b[0m     hp \u001b[38;5;241m=\u001b[39m pd\u001b[38;5;241m.\u001b[39mDataFrame(\n\u001b[1;32m     34\u001b[0m         {\n\u001b[1;32m     35\u001b[0m             period: {\n\u001b[0;32m   (...)\u001b[0m\n\u001b[1;32m     42\u001b[0m         columns\u001b[38;5;241m=\u001b[39mhp\u001b[38;5;241m.\u001b[39mcolumns,\n\u001b[1;32m     43\u001b[0m     )\n\u001b[1;32m     44\u001b[0m     \u001b[38;5;28;01mreturn\u001b[39;00m hp\n\u001b[0;32m---> 45\u001b[0m PUT_HISTORIES \u001b[38;5;241m=\u001b[39m _generate_put_histories()\n\u001b[1;32m     46\u001b[0m \u001b[38;5;28;01mdel\u001b[39;00m _generate_put_histories\n",
      "Cell \u001b[0;32mIn[8], line 34\u001b[0m, in \u001b[0;36m_generate_put_histories\u001b[0;34m()\u001b[0m\n\u001b[1;32m     26\u001b[0m         \u001b[38;5;28;01mreturn\u001b[39;00m \u001b[38;5;28mfloat\u001b[39m(\u001b[38;5;124m\"\u001b[39m\u001b[38;5;124mnan\u001b[39m\u001b[38;5;124m\"\u001b[39m)\n\u001b[1;32m     28\u001b[0m hp \u001b[38;5;241m=\u001b[39m pd\u001b[38;5;241m.\u001b[39mDataFrame(\n\u001b[1;32m     29\u001b[0m     columns\u001b[38;5;241m=\u001b[39mts\u001b[38;5;241m.\u001b[39mindex,\n\u001b[1;32m     30\u001b[0m     index\u001b[38;5;241m=\u001b[39mpd\u001b[38;5;241m.\u001b[39mdate_range(start\u001b[38;5;241m=\u001b[39mSTART_DATE, end\u001b[38;5;241m=\u001b[39mdatetime\u001b[38;5;241m.\u001b[39mdatetime\u001b[38;5;241m.\u001b[39mnow(), freq\u001b[38;5;241m=\u001b[39m\u001b[38;5;124m\"\u001b[39m\u001b[38;5;124mD\u001b[39m\u001b[38;5;124m\"\u001b[39m, name\u001b[38;5;241m=\u001b[39m\u001b[38;5;124m\"\u001b[39m\u001b[38;5;124mdate\u001b[39m\u001b[38;5;124m\"\u001b[39m),\n\u001b[1;32m     31\u001b[0m     dtype\u001b[38;5;241m=\u001b[39m\u001b[38;5;28mfloat\u001b[39m,\n\u001b[1;32m     32\u001b[0m )\n\u001b[1;32m     33\u001b[0m hp \u001b[38;5;241m=\u001b[39m pd\u001b[38;5;241m.\u001b[39mDataFrame(\n\u001b[0;32m---> 34\u001b[0m     {\n\u001b[1;32m     35\u001b[0m         period: {\n\u001b[1;32m     36\u001b[0m             t: _gen_cell(contract_ticker\u001b[38;5;241m=\u001b[39mperiod, t\u001b[38;5;241m=\u001b[39mt)\n\u001b[1;32m     37\u001b[0m             \u001b[38;5;28;01mfor\u001b[39;00m t \u001b[38;5;129;01min\u001b[39;00m hp\u001b[38;5;241m.\u001b[39mindex\n\u001b[1;32m     38\u001b[0m         }\n\u001b[1;32m     39\u001b[0m         \u001b[38;5;28;01mfor\u001b[39;00m period \u001b[38;5;129;01min\u001b[39;00m hp\u001b[38;5;241m.\u001b[39mcolumns\n\u001b[1;32m     40\u001b[0m     },\n\u001b[1;32m     41\u001b[0m     index\u001b[38;5;241m=\u001b[39mhp\u001b[38;5;241m.\u001b[39mindex,\n\u001b[1;32m     42\u001b[0m     columns\u001b[38;5;241m=\u001b[39mhp\u001b[38;5;241m.\u001b[39mcolumns,\n\u001b[1;32m     43\u001b[0m )\n\u001b[1;32m     44\u001b[0m \u001b[38;5;28;01mreturn\u001b[39;00m hp\n",
      "Cell \u001b[0;32mIn[8], line 35\u001b[0m, in \u001b[0;36m<dictcomp>\u001b[0;34m(.0)\u001b[0m\n\u001b[1;32m     26\u001b[0m         \u001b[38;5;28;01mreturn\u001b[39;00m \u001b[38;5;28mfloat\u001b[39m(\u001b[38;5;124m\"\u001b[39m\u001b[38;5;124mnan\u001b[39m\u001b[38;5;124m\"\u001b[39m)\n\u001b[1;32m     28\u001b[0m hp \u001b[38;5;241m=\u001b[39m pd\u001b[38;5;241m.\u001b[39mDataFrame(\n\u001b[1;32m     29\u001b[0m     columns\u001b[38;5;241m=\u001b[39mts\u001b[38;5;241m.\u001b[39mindex,\n\u001b[1;32m     30\u001b[0m     index\u001b[38;5;241m=\u001b[39mpd\u001b[38;5;241m.\u001b[39mdate_range(start\u001b[38;5;241m=\u001b[39mSTART_DATE, end\u001b[38;5;241m=\u001b[39mdatetime\u001b[38;5;241m.\u001b[39mdatetime\u001b[38;5;241m.\u001b[39mnow(), freq\u001b[38;5;241m=\u001b[39m\u001b[38;5;124m\"\u001b[39m\u001b[38;5;124mD\u001b[39m\u001b[38;5;124m\"\u001b[39m, name\u001b[38;5;241m=\u001b[39m\u001b[38;5;124m\"\u001b[39m\u001b[38;5;124mdate\u001b[39m\u001b[38;5;124m\"\u001b[39m),\n\u001b[1;32m     31\u001b[0m     dtype\u001b[38;5;241m=\u001b[39m\u001b[38;5;28mfloat\u001b[39m,\n\u001b[1;32m     32\u001b[0m )\n\u001b[1;32m     33\u001b[0m hp \u001b[38;5;241m=\u001b[39m pd\u001b[38;5;241m.\u001b[39mDataFrame(\n\u001b[1;32m     34\u001b[0m     {\n\u001b[0;32m---> 35\u001b[0m         period: {\n\u001b[1;32m     36\u001b[0m             t: _gen_cell(contract_ticker\u001b[38;5;241m=\u001b[39mperiod, t\u001b[38;5;241m=\u001b[39mt)\n\u001b[1;32m     37\u001b[0m             \u001b[38;5;28;01mfor\u001b[39;00m t \u001b[38;5;129;01min\u001b[39;00m hp\u001b[38;5;241m.\u001b[39mindex\n\u001b[1;32m     38\u001b[0m         }\n\u001b[1;32m     39\u001b[0m         \u001b[38;5;28;01mfor\u001b[39;00m period \u001b[38;5;129;01min\u001b[39;00m hp\u001b[38;5;241m.\u001b[39mcolumns\n\u001b[1;32m     40\u001b[0m     },\n\u001b[1;32m     41\u001b[0m     index\u001b[38;5;241m=\u001b[39mhp\u001b[38;5;241m.\u001b[39mindex,\n\u001b[1;32m     42\u001b[0m     columns\u001b[38;5;241m=\u001b[39mhp\u001b[38;5;241m.\u001b[39mcolumns,\n\u001b[1;32m     43\u001b[0m )\n\u001b[1;32m     44\u001b[0m \u001b[38;5;28;01mreturn\u001b[39;00m hp\n",
      "Cell \u001b[0;32mIn[8], line 36\u001b[0m, in \u001b[0;36m<dictcomp>\u001b[0;34m(.0)\u001b[0m\n\u001b[1;32m     26\u001b[0m         \u001b[38;5;28;01mreturn\u001b[39;00m \u001b[38;5;28mfloat\u001b[39m(\u001b[38;5;124m\"\u001b[39m\u001b[38;5;124mnan\u001b[39m\u001b[38;5;124m\"\u001b[39m)\n\u001b[1;32m     28\u001b[0m hp \u001b[38;5;241m=\u001b[39m pd\u001b[38;5;241m.\u001b[39mDataFrame(\n\u001b[1;32m     29\u001b[0m     columns\u001b[38;5;241m=\u001b[39mts\u001b[38;5;241m.\u001b[39mindex,\n\u001b[1;32m     30\u001b[0m     index\u001b[38;5;241m=\u001b[39mpd\u001b[38;5;241m.\u001b[39mdate_range(start\u001b[38;5;241m=\u001b[39mSTART_DATE, end\u001b[38;5;241m=\u001b[39mdatetime\u001b[38;5;241m.\u001b[39mdatetime\u001b[38;5;241m.\u001b[39mnow(), freq\u001b[38;5;241m=\u001b[39m\u001b[38;5;124m\"\u001b[39m\u001b[38;5;124mD\u001b[39m\u001b[38;5;124m\"\u001b[39m, name\u001b[38;5;241m=\u001b[39m\u001b[38;5;124m\"\u001b[39m\u001b[38;5;124mdate\u001b[39m\u001b[38;5;124m\"\u001b[39m),\n\u001b[1;32m     31\u001b[0m     dtype\u001b[38;5;241m=\u001b[39m\u001b[38;5;28mfloat\u001b[39m,\n\u001b[1;32m     32\u001b[0m )\n\u001b[1;32m     33\u001b[0m hp \u001b[38;5;241m=\u001b[39m pd\u001b[38;5;241m.\u001b[39mDataFrame(\n\u001b[1;32m     34\u001b[0m     {\n\u001b[1;32m     35\u001b[0m         period: {\n\u001b[0;32m---> 36\u001b[0m             t: _gen_cell(contract_ticker\u001b[38;5;241m=\u001b[39mperiod, t\u001b[38;5;241m=\u001b[39mt)\n\u001b[1;32m     37\u001b[0m             \u001b[38;5;28;01mfor\u001b[39;00m t \u001b[38;5;129;01min\u001b[39;00m hp\u001b[38;5;241m.\u001b[39mindex\n\u001b[1;32m     38\u001b[0m         }\n\u001b[1;32m     39\u001b[0m         \u001b[38;5;28;01mfor\u001b[39;00m period \u001b[38;5;129;01min\u001b[39;00m hp\u001b[38;5;241m.\u001b[39mcolumns\n\u001b[1;32m     40\u001b[0m     },\n\u001b[1;32m     41\u001b[0m     index\u001b[38;5;241m=\u001b[39mhp\u001b[38;5;241m.\u001b[39mindex,\n\u001b[1;32m     42\u001b[0m     columns\u001b[38;5;241m=\u001b[39mhp\u001b[38;5;241m.\u001b[39mcolumns,\n\u001b[1;32m     43\u001b[0m )\n\u001b[1;32m     44\u001b[0m \u001b[38;5;28;01mreturn\u001b[39;00m hp\n",
      "Cell \u001b[0;32mIn[8], line 20\u001b[0m, in \u001b[0;36m_generate_put_histories.<locals>._gen_cell\u001b[0;34m(contract_ticker, t)\u001b[0m\n\u001b[1;32m     13\u001b[0m expiration_date \u001b[38;5;241m=\u001b[39m ts\u001b[38;5;241m.\u001b[39mloc[period, \u001b[38;5;124m\"\u001b[39m\u001b[38;5;124mexpiration_date\u001b[39m\u001b[38;5;124m\"\u001b[39m]\n\u001b[1;32m     14\u001b[0m \u001b[38;5;28;01mif\u001b[39;00m entry_date \u001b[38;5;241m<\u001b[39m\u001b[38;5;241m=\u001b[39m t \u001b[38;5;241m<\u001b[39m\u001b[38;5;241m=\u001b[39m expiration_date:\n\u001b[1;32m     15\u001b[0m     \u001b[38;5;28;01mreturn\u001b[39;00m fsf\u001b[38;5;241m.\u001b[39mcalc_bsf_option_value(\n\u001b[1;32m     16\u001b[0m         \u001b[38;5;66;03m# set at entry\u001b[39;00m\n\u001b[1;32m     17\u001b[0m         put\u001b[38;5;241m=\u001b[39m\u001b[38;5;28;01mTrue\u001b[39;00m,\n\u001b[1;32m     18\u001b[0m         K\u001b[38;5;241m=\u001b[39msh\u001b[38;5;241m.\u001b[39mloc[entry_date, \u001b[38;5;124m\"\u001b[39m\u001b[38;5;124munadj_close_price_dol\u001b[39m\u001b[38;5;124m\"\u001b[39m] \u001b[38;5;241m*\u001b[39m (\u001b[38;5;241m1\u001b[39m \u001b[38;5;241m-\u001b[39m cfg\u001b[38;5;241m.\u001b[39mstrike_otm_px),\n\u001b[1;32m     19\u001b[0m         \u001b[38;5;66;03m# calculated today\u001b[39;00m\n\u001b[0;32m---> 20\u001b[0m         S_t\u001b[38;5;241m=\u001b[39msh\u001b[38;5;241m.\u001b[39mloc[t, \u001b[38;5;124m\"\u001b[39m\u001b[38;5;124munadj_close_price_dol\u001b[39m\u001b[38;5;124m\"\u001b[39m],\n\u001b[1;32m     21\u001b[0m         sigma\u001b[38;5;241m=\u001b[39msh\u001b[38;5;241m.\u001b[39mloc[t, \u001b[38;5;124m\"\u001b[39m\u001b[38;5;124mvol\u001b[39m\u001b[38;5;124m\"\u001b[39m],  \u001b[38;5;66;03m# let's assume a 1.1x vol premium\u001b[39;00m\n\u001b[1;32m     22\u001b[0m         tau\u001b[38;5;241m=\u001b[39m(expiration_date \u001b[38;5;241m-\u001b[39m t)\u001b[38;5;241m.\u001b[39mdays \u001b[38;5;241m/\u001b[39m \u001b[38;5;241m365\u001b[39m,\n\u001b[1;32m     23\u001b[0m         r\u001b[38;5;241m=\u001b[39mPREVAILING_INTEREST_RATE,\n\u001b[1;32m     24\u001b[0m     )\n\u001b[1;32m     25\u001b[0m \u001b[38;5;28;01melse\u001b[39;00m:\n\u001b[1;32m     26\u001b[0m     \u001b[38;5;28;01mreturn\u001b[39;00m \u001b[38;5;28mfloat\u001b[39m(\u001b[38;5;124m\"\u001b[39m\u001b[38;5;124mnan\u001b[39m\u001b[38;5;124m\"\u001b[39m)\n",
      "File \u001b[0;32m~/anaconda3/envs/py_venv/lib/python3.11/site-packages/pandas/core/indexing.py:1066\u001b[0m, in \u001b[0;36m_LocationIndexer.__getitem__\u001b[0;34m(self, key)\u001b[0m\n\u001b[1;32m   1064\u001b[0m     key \u001b[38;5;241m=\u001b[39m \u001b[38;5;28mtuple\u001b[39m(com\u001b[38;5;241m.\u001b[39mapply_if_callable(x, \u001b[38;5;28mself\u001b[39m\u001b[38;5;241m.\u001b[39mobj) \u001b[38;5;28;01mfor\u001b[39;00m x \u001b[38;5;129;01min\u001b[39;00m key)\n\u001b[1;32m   1065\u001b[0m     \u001b[38;5;28;01mif\u001b[39;00m \u001b[38;5;28mself\u001b[39m\u001b[38;5;241m.\u001b[39m_is_scalar_access(key):\n\u001b[0;32m-> 1066\u001b[0m         \u001b[38;5;28;01mreturn\u001b[39;00m \u001b[38;5;28mself\u001b[39m\u001b[38;5;241m.\u001b[39mobj\u001b[38;5;241m.\u001b[39m_get_value(\u001b[38;5;241m*\u001b[39mkey, takeable\u001b[38;5;241m=\u001b[39m\u001b[38;5;28mself\u001b[39m\u001b[38;5;241m.\u001b[39m_takeable)\n\u001b[1;32m   1067\u001b[0m     \u001b[38;5;28;01mreturn\u001b[39;00m \u001b[38;5;28mself\u001b[39m\u001b[38;5;241m.\u001b[39m_getitem_tuple(key)\n\u001b[1;32m   1068\u001b[0m \u001b[38;5;28;01melse\u001b[39;00m:\n\u001b[1;32m   1069\u001b[0m     \u001b[38;5;66;03m# we by definition only have the 0th axis\u001b[39;00m\n",
      "File \u001b[0;32m~/anaconda3/envs/py_venv/lib/python3.11/site-packages/pandas/core/frame.py:3924\u001b[0m, in \u001b[0;36mDataFrame._get_value\u001b[0;34m(self, index, col, takeable)\u001b[0m\n\u001b[1;32m   3918\u001b[0m engine \u001b[38;5;241m=\u001b[39m \u001b[38;5;28mself\u001b[39m\u001b[38;5;241m.\u001b[39mindex\u001b[38;5;241m.\u001b[39m_engine\n\u001b[1;32m   3920\u001b[0m \u001b[38;5;28;01mif\u001b[39;00m \u001b[38;5;129;01mnot\u001b[39;00m \u001b[38;5;28misinstance\u001b[39m(\u001b[38;5;28mself\u001b[39m\u001b[38;5;241m.\u001b[39mindex, MultiIndex):\n\u001b[1;32m   3921\u001b[0m     \u001b[38;5;66;03m# CategoricalIndex: Trying to use the engine fastpath may give incorrect\u001b[39;00m\n\u001b[1;32m   3922\u001b[0m     \u001b[38;5;66;03m#  results if our categories are integers that dont match our codes\u001b[39;00m\n\u001b[1;32m   3923\u001b[0m     \u001b[38;5;66;03m# IntervalIndex: IntervalTree has no get_loc\u001b[39;00m\n\u001b[0;32m-> 3924\u001b[0m     row \u001b[38;5;241m=\u001b[39m \u001b[38;5;28mself\u001b[39m\u001b[38;5;241m.\u001b[39mindex\u001b[38;5;241m.\u001b[39mget_loc(index)\n\u001b[1;32m   3925\u001b[0m     \u001b[38;5;28;01mreturn\u001b[39;00m series\u001b[38;5;241m.\u001b[39m_values[row]\n\u001b[1;32m   3927\u001b[0m \u001b[38;5;66;03m# For MultiIndex going through engine effectively restricts us to\u001b[39;00m\n\u001b[1;32m   3928\u001b[0m \u001b[38;5;66;03m#  same-length tuples; see test_get_set_value_no_partial_indexing\u001b[39;00m\n",
      "File \u001b[0;32m~/anaconda3/envs/py_venv/lib/python3.11/site-packages/pandas/core/indexes/datetimes.py:738\u001b[0m, in \u001b[0;36mDatetimeIndex.get_loc\u001b[0;34m(self, key, method, tolerance)\u001b[0m\n\u001b[1;32m    736\u001b[0m     \u001b[38;5;28;01mreturn\u001b[39;00m Index\u001b[38;5;241m.\u001b[39mget_loc(\u001b[38;5;28mself\u001b[39m, key, method, tolerance)\n\u001b[1;32m    737\u001b[0m \u001b[38;5;28;01mexcept\u001b[39;00m \u001b[38;5;167;01mKeyError\u001b[39;00m \u001b[38;5;28;01mas\u001b[39;00m err:\n\u001b[0;32m--> 738\u001b[0m     \u001b[38;5;28;01mraise\u001b[39;00m \u001b[38;5;167;01mKeyError\u001b[39;00m(orig_key) \u001b[38;5;28;01mfrom\u001b[39;00m \u001b[38;5;21;01merr\u001b[39;00m\n",
      "\u001b[0;31mKeyError\u001b[0m: Timestamp('2023-12-02 00:00:00', freq='D')"
     ]
    }
   ],
   "source": [
    "# DATA\n",
    "\n",
    "\n",
    "def _generate_put_histories() -> pd.DataFrame:\n",
    "    \"\"\"Manually Black-Scholes just the data points we need given the strategy we're trying to backtest.\"\"\"\n",
    "    cfg = StrategyConfig()\n",
    "    ts = cfg.timeseries\n",
    "    sh = MarketDataAccess.get_stock_history(ticker=cfg.underlying_ticker)\n",
    "\n",
    "    def _gen_cell(contract_ticker: pd.Period, t: pd.Timestamp) -> float:\n",
    "        period = contract_ticker\n",
    "        entry_date = ts.loc[period, \"entry_date\"]\n",
    "        expiration_date = ts.loc[period, \"expiration_date\"]\n",
    "        if entry_date <= t <= expiration_date:\n",
    "            return fsf.calc_bsf_option_value(\n",
    "                # set at entry\n",
    "                put=True,\n",
    "                K=sh.loc[entry_date, \"unadj_close_price_dol\"] * (1 - cfg.strike_otm_px),\n",
    "                # calculated today\n",
    "                S_t=sh.loc[t, \"unadj_close_price_dol\"],\n",
    "                sigma=sh.loc[t, \"vol\"],  # let's assume a 1.1x vol premium\n",
    "                tau=(expiration_date - t).days / 365,\n",
    "                r=PREVAILING_INTEREST_RATE,\n",
    "            )\n",
    "        else:\n",
    "            return float(\"nan\")\n",
    "\n",
    "    hp = pd.DataFrame(\n",
    "        columns=ts.index,\n",
    "        index=pd.date_range(start=START_DATE, end=datetime.datetime.now(), freq=\"D\", name=\"date\"),\n",
    "        dtype=float,\n",
    "    )\n",
    "    hp = pd.DataFrame(\n",
    "        {\n",
    "            period: {\n",
    "                t: _gen_cell(contract_ticker=period, t=t)\n",
    "                for t in hp.index\n",
    "            }\n",
    "            for period in hp.columns\n",
    "        },\n",
    "        index=hp.index,\n",
    "        columns=hp.columns,\n",
    "    )\n",
    "    return hp\n",
    "PUT_HISTORIES = _generate_put_histories()\n",
    "del _generate_put_histories"
   ]
  },
  {
   "cell_type": "code",
   "execution_count": null,
   "id": "dae1a939-8937-4689-b0e4-ebc6a07c335a",
   "metadata": {
    "tags": []
   },
   "outputs": [],
   "source": [
    "cfg = StrategyConfig()\n",
    "cfg.timeseries.head()a"
   ]
  },
  {
   "cell_type": "code",
   "execution_count": null,
   "id": "b29b5097-dc46-429b-b88d-33dd85b70da9",
   "metadata": {
    "tags": []
   },
   "outputs": [],
   "source": [
    "hs = MarketDataAccess.get_history_for_stock()\n",
    "hs.head()"
   ]
  },
  {
   "cell_type": "code",
   "execution_count": null,
   "id": "aac78adb-2ebc-414c-ba52-5fa1c8726579",
   "metadata": {
    "tags": []
   },
   "outputs": [],
   "source": [
    "x[\"vol\"].plot()"
   ]
  },
  {
   "cell_type": "code",
   "execution_count": null,
   "id": "15b4fcf9-6ad9-4de6-8b35-676c7bdceb67",
   "metadata": {},
   "outputs": [],
   "source": []
  },
  {
   "cell_type": "code",
   "execution_count": null,
   "id": "2c914b94-9435-4444-b7e0-6a561008eafb",
   "metadata": {},
   "outputs": [],
   "source": []
  }
 ],
 "metadata": {
  "kernelspec": {
   "display_name": "Python 3 (ipykernel)",
   "language": "python",
   "name": "python3"
  },
  "language_info": {
   "codemirror_mode": {
    "name": "ipython",
    "version": 3
   },
   "file_extension": ".py",
   "mimetype": "text/x-python",
   "name": "python",
   "nbconvert_exporter": "python",
   "pygments_lexer": "ipython3",
   "version": "3.11.4"
  }
 },
 "nbformat": 4,
 "nbformat_minor": 5
}
