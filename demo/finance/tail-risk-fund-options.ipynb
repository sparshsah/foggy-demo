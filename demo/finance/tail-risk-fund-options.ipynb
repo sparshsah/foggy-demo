{
 "cells": [
  {
   "cell_type": "markdown",
   "id": "a9c301a3-aaca-4fbb-956a-7224e0ccf556",
   "metadata": {},
   "source": [
    "# TAIL-RISK FUND: OPTIONS\n",
    "\n",
    "author: [@sparshsah](https://github.com/sparshsah)\n",
    "\n",
    "ref: https://github.com/sparshsah/foggy-demo/blob/main/demo/finance/tail-risk-fund.md"
   ]
  },
  {
   "cell_type": "code",
   "execution_count": 29,
   "id": "bead727f-aea5-4918-b511-21724b5ff655",
   "metadata": {
    "tags": []
   },
   "outputs": [],
   "source": [
    "import pandas as pd\n",
    "\n",
    "# https://github.com/sparshsah/foggy-statslib\n",
    "import sys; sys.path.append(\"../../../foggy-statslib/\")\n",
    "import foggy_statslib.core as fsc\n",
    "import foggy_statslib.fin as fsf"
   ]
  },
  {
   "cell_type": "markdown",
   "id": "d27e2b3a-9f4f-49d5-b0d4-555950ef8eb0",
   "metadata": {},
   "source": [
    "## Setting\n",
    "\n",
    "You hold one share of S, which is currently trading at 100USD.\n",
    "(S is SPX, but I don't want the fact that SPX is not tradable and also actually at 3000USD to distract you.)\n",
    "\n",
    "You believe that it is equally likely to:\n",
    "1. Fall 20pct over the next 6 months (accompanied by a doubling in ivols), Then stay flat to EOY\n",
    "2. Stay flat over the next 6 months, Then fall 20pct by EOY\n",
    "3. Stay flat through EOY\n",
    "\n",
    "Prevailing option-implied vols are around 16pct,\n",
    "and for simplicity neglect (a) volatility smirks, (b) the risk-free rate, and (c) tcosts.\n",
    "\n",
    "Crucially: Unlike most single-name equity options which are American-style, the SPX-like index options we consider are European-style."
   ]
  },
  {
   "cell_type": "code",
   "execution_count": 32,
   "id": "ec11aec2-29f3-4e00-b485-8534d227856e",
   "metadata": {
    "tags": []
   },
   "outputs": [],
   "source": [
    "sigma: Final[float] = 0.16\n",
    "r: Final[float] = 0"
   ]
  },
  {
   "cell_type": "markdown",
   "id": "6f469caa-5b53-4c26-a4c9-2f7479f369a5",
   "metadata": {},
   "source": [
    "## Question\n",
    "\n",
    "Should you\n",
    "* A: Purchase a 2-quarter put (rolling into another one if the crash fails to materialize by expiry)?\n",
    "* B: Purchase a 4-quarter put?\n",
    "* C: Purchase \"half\" of each?\n",
    "\n",
    "Assuming you fix your strike at 90USD.\n",
    "Assume also that you finance your puts with borrowing (not selling shares)."
   ]
  },
  {
   "cell_type": "code",
   "execution_count": 48,
   "id": "ca69fa96-6515-4023-969f-fe4167f514c0",
   "metadata": {
    "tags": []
   },
   "outputs": [
    {
     "name": "stdout",
     "output_type": "stream",
     "text": [
      "Premium for each Put: A = $1.02, B = $2.32.\n"
     ]
    }
   ],
   "source": [
    "init_value_of_one_put_a = fsf.calc_bsf_option_value(\n",
    "    tau=2/4,\n",
    "    K=90,\n",
    "    S_t=100,\n",
    "    sigma=sigma,\n",
    "    r=r,\n",
    "    put=True,\n",
    ")\n",
    "init_value_of_one_put_b = fsf.calc_bsf_option_value(\n",
    "    tau=4/4,\n",
    "    K=90,\n",
    "    S_t=100,\n",
    "    sigma=sigma,\n",
    "    r=r,\n",
    "    put=True,\n",
    ")\n",
    "print(f\"Premium for each Put: A = ${init_value_of_one_put_a:.2f}, B = ${init_value_of_one_put_b:.2f}.\")"
   ]
  },
  {
   "cell_type": "code",
   "execution_count": 51,
   "id": "fe8a5a7a-ed0f-48a6-97cc-06f2ac2bfc83",
   "metadata": {
    "tags": []
   },
   "outputs": [],
   "source": [
    "# dollar return under each scenario of different strategies, by quarter\n",
    "\n",
    "# SCENARIO 1: S falls -20% over the next 6 months, then stays flat to EOY\n",
    "r1 = pd.DataFrame(\n",
    "    {\n",
    "        # the shares\n",
    "        \"principal\": {\n",
    "            0: 0,\n",
    "            1: 0,\n",
    "            2: -20,\n",
    "            3: 0,\n",
    "            4: 0,\n",
    "        },\n",
    "        # the hedges\n",
    "        # a: a 2-quarter put\n",
    "        \"a\": {\n",
    "            # you gained a put, but owe what you borrowed to buy it, so there's no net pnl\n",
    "            0: init_value_of_one_put_a - init_value_of_one_put_a,\n",
    "            1: (\n",
    "                # your put is now less valuable, as a quarter has passed with no market movements\n",
    "                fsf.calc_bsf_option_value(\n",
    "                    tau=1/4,\n",
    "                    K=90,\n",
    "                    S_t=100,\n",
    "                    sigma=sigma,\n",
    "                    r=r,\n",
    "                    put=True,\n",
    "                )\n",
    "                - init_value_of_one_put_a\n",
    "            ),\n",
    "            # you would exercise, earning $10\n",
    "            2: +10,\n",
    "            3: 0,\n",
    "            4: 0,\n",
    "        },\n",
    "        # b: a 4-quarter put\n",
    "        \"b\": {\n",
    "            # you gained a put, but owe what you borrowed to buy it, so there's no net pnl\n",
    "            0: init_value_of_one_put_b - init_value_of_one_put_b,\n",
    "            1: (\n",
    "                # your put is now less valuable, as a quarter has passed with no market movements\n",
    "                fsf.calc_bsf_option_value(\n",
    "                    tau=3/4,\n",
    "                    K=90,\n",
    "                    S_t=100,\n",
    "                    sigma=sigma,\n",
    "                    r=r,\n",
    "                    put=True,\n",
    "                )\n",
    "                # we must diff vs what it was worth a quarter ago\n",
    "                - init_value_of_one_put_b\n",
    "            ),\n",
    "            2: (\n",
    "                # your put is now more valuable! thanks to the price crash and associated vol spike.\n",
    "                fsf.calc_bsf_option_value(\n",
    "                    tau=2/4,\n",
    "                    K=90,\n",
    "                    S_t=80,  # down from 100\n",
    "                    sigma=2*sigma,  # doubled\n",
    "                    r=r,\n",
    "                    put=True,\n",
    "                )\n",
    "                # we must diff vs what it was worth a quarter ago\n",
    "                - fsf.calc_bsf_option_value(\n",
    "                    tau=3/4,\n",
    "                    K=90,\n",
    "                    S_t=100,\n",
    "                    sigma=sigma,\n",
    "                    r=r,\n",
    "                    put=True,\n",
    "                )\n",
    "            ),\n",
    "            # now there's no more activity, as you sold your put once you observed the crash\n",
    "            3: 0,\n",
    "            4: 0,\n",
    "        },\n",
    "    }\n",
    ")\n",
    "r1.loc[:, \"c\"] = 0.50*r1[\"a\"] + 0.50*r1[\"b\"]"
   ]
  },
  {
   "cell_type": "code",
   "execution_count": 52,
   "id": "bd89d4b7-8a1f-48e4-9ae0-7a76fa2c096c",
   "metadata": {
    "tags": []
   },
   "outputs": [
    {
     "data": {
      "text/html": [
       "<div>\n",
       "<style scoped>\n",
       "    .dataframe tbody tr th:only-of-type {\n",
       "        vertical-align: middle;\n",
       "    }\n",
       "\n",
       "    .dataframe tbody tr th {\n",
       "        vertical-align: top;\n",
       "    }\n",
       "\n",
       "    .dataframe thead th {\n",
       "        text-align: right;\n",
       "    }\n",
       "</style>\n",
       "<table border=\"1\" class=\"dataframe\">\n",
       "  <thead>\n",
       "    <tr style=\"text-align: right;\">\n",
       "      <th></th>\n",
       "      <th>principal</th>\n",
       "      <th>a</th>\n",
       "      <th>b</th>\n",
       "      <th>c</th>\n",
       "    </tr>\n",
       "  </thead>\n",
       "  <tbody>\n",
       "    <tr>\n",
       "      <th>0</th>\n",
       "      <td>0</td>\n",
       "      <td>0.00000</td>\n",
       "      <td>0.000000</td>\n",
       "      <td>0.000000</td>\n",
       "    </tr>\n",
       "    <tr>\n",
       "      <th>1</th>\n",
       "      <td>0</td>\n",
       "      <td>-0.68351</td>\n",
       "      <td>-0.629979</td>\n",
       "      <td>-0.656744</td>\n",
       "    </tr>\n",
       "    <tr>\n",
       "      <th>2</th>\n",
       "      <td>-20</td>\n",
       "      <td>10.00000</td>\n",
       "      <td>11.974178</td>\n",
       "      <td>10.987089</td>\n",
       "    </tr>\n",
       "    <tr>\n",
       "      <th>3</th>\n",
       "      <td>0</td>\n",
       "      <td>0.00000</td>\n",
       "      <td>0.000000</td>\n",
       "      <td>0.000000</td>\n",
       "    </tr>\n",
       "    <tr>\n",
       "      <th>4</th>\n",
       "      <td>0</td>\n",
       "      <td>0.00000</td>\n",
       "      <td>0.000000</td>\n",
       "      <td>0.000000</td>\n",
       "    </tr>\n",
       "  </tbody>\n",
       "</table>\n",
       "</div>"
      ],
      "text/plain": [
       "   principal         a          b          c\n",
       "0          0   0.00000   0.000000   0.000000\n",
       "1          0  -0.68351  -0.629979  -0.656744\n",
       "2        -20  10.00000  11.974178  10.987089\n",
       "3          0   0.00000   0.000000   0.000000\n",
       "4          0   0.00000   0.000000   0.000000"
      ]
     },
     "execution_count": 52,
     "metadata": {},
     "output_type": "execute_result"
    }
   ],
   "source": [
    "r1"
   ]
  },
  {
   "cell_type": "code",
   "execution_count": null,
   "id": "5767d38d-034f-43c4-95bb-246341d3090b",
   "metadata": {},
   "outputs": [],
   "source": []
  }
 ],
 "metadata": {
  "kernelspec": {
   "display_name": "Python 3 (ipykernel)",
   "language": "python",
   "name": "python3"
  },
  "language_info": {
   "codemirror_mode": {
    "name": "ipython",
    "version": 3
   },
   "file_extension": ".py",
   "mimetype": "text/x-python",
   "name": "python",
   "nbconvert_exporter": "python",
   "pygments_lexer": "ipython3",
   "version": "3.11.4"
  }
 },
 "nbformat": 4,
 "nbformat_minor": 5
}
