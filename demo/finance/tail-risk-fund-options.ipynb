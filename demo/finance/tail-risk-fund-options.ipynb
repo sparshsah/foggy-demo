{
 "cells": [
  {
   "cell_type": "markdown",
   "id": "a9c301a3-aaca-4fbb-956a-7224e0ccf556",
   "metadata": {},
   "source": [
    "# TAIL-RISK FUND: OPTIONS\n",
    "\n",
    "author: [@sparshsah](https://github.com/sparshsah)\n",
    "\n",
    "ref: https://github.com/sparshsah/foggy-demo/blob/main/demo/finance/tail-risk-fund.md"
   ]
  },
  {
   "cell_type": "code",
   "execution_count": 17,
   "id": "bead727f-aea5-4918-b511-21724b5ff655",
   "metadata": {
    "tags": []
   },
   "outputs": [],
   "source": [
    "# https://github.com/sparshsah/foggy-statslib\n",
    "import sys; sys.path.append(\"../../../foggy-statslib/\")\n",
    "import foggy_statslib.core as fsc\n",
    "import foggy_statslib.fin as fsf"
   ]
  },
  {
   "cell_type": "markdown",
   "id": "d27e2b3a-9f4f-49d5-b0d4-555950ef8eb0",
   "metadata": {},
   "source": [
    "## Setting\n",
    "\n",
    "You hold 2 shares of S, which is currently trading at 100USD.\n",
    "(S is SPX, but I don't want the fact that SPX is not tradable and also actually at 3000USD to distract you.)\n",
    "\n",
    "You believe that it is equally likely to:\n",
    "* Fall 20pct over the next 6 months, Then stay flat to EOY\n",
    "* Stay flat over the next 6 months, Then fall 20pct by EOY\n",
    "* Stay flat through EOY\n",
    "\n",
    "Prevailing option-implied vols are around 16pct."
   ]
  },
  {
   "cell_type": "code",
   "execution_count": 19,
   "id": "ec11aec2-29f3-4e00-b485-8534d227856e",
   "metadata": {
    "tags": []
   },
   "outputs": [],
   "source": [
    "s_t = 100\n",
    "x = 0.20\n",
    "sigma = 0.16"
   ]
  },
  {
   "cell_type": "markdown",
   "id": "6f469caa-5b53-4c26-a4c9-2f7479f369a5",
   "metadata": {},
   "source": [
    "## Question\n",
    "\n",
    "Should you\n",
    "* Purchase four 6-month puts?\n",
    "* Purchase four 1-year puts?\n",
    "* Purchase two of each?"
   ]
  },
  {
   "cell_type": "code",
   "execution_count": null,
   "id": "fe8a5a7a-ed0f-48a6-97cc-06f2ac2bfc83",
   "metadata": {},
   "outputs": [],
   "source": []
  },
  {
   "cell_type": "code",
   "execution_count": null,
   "id": "42986aa2-5a44-4656-9977-f2b7a463bb24",
   "metadata": {},
   "outputs": [],
   "source": [
    "fsf.calc_bsf_option_value("
   ]
  }
 ],
 "metadata": {
  "kernelspec": {
   "display_name": "Python 3 (ipykernel)",
   "language": "python",
   "name": "python3"
  },
  "language_info": {
   "codemirror_mode": {
    "name": "ipython",
    "version": 3
   },
   "file_extension": ".py",
   "mimetype": "text/x-python",
   "name": "python",
   "nbconvert_exporter": "python",
   "pygments_lexer": "ipython3",
   "version": "3.11.4"
  }
 },
 "nbformat": 4,
 "nbformat_minor": 5
}
