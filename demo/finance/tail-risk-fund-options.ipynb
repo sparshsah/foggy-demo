{
 "cells": [
  {
   "cell_type": "code",
   "execution_count": 2,
   "id": "bead727f-aea5-4918-b511-21724b5ff655",
   "metadata": {
    "tags": []
   },
   "outputs": [],
   "source": [
    "import numpy as np\n",
    "import scipy.stats as stats"
   ]
  },
  {
   "cell_type": "code",
   "execution_count": 3,
   "id": "eb21b3e9-c1ca-4da4-8281-92cf5395b2f6",
   "metadata": {
    "tags": []
   },
   "outputs": [],
   "source": [
    "def calc_bsf_option_value(\n",
    "    tau: float = 1,\n",
    "    K: float = 100,\n",
    "    S_t: float = 100,\n",
    "    sigma: float = 0.20,\n",
    "    r: float = 0,\n",
    "    put: bool = True,\n",
    ") -> float:\n",
    "    \"\"\"\n",
    "    Calculate Black-Scholes formula for option value.\n",
    "\n",
    "    Args:\n",
    "        tau: float, Years to expiration.\n",
    "        K: float, Strike price.\n",
    "        S_t: float, Price of underlying stock today.\n",
    "        sigma: float, Assumed volatility. Logarithmic, to be geeky about it.\n",
    "            Note: Be careful! Black-Scholes is a very good baseline model for how people value options in real life.\n",
    "                But in real life, `sigma` is usually a bit higher than\n",
    "                a true best guess for go-forward volatility (based on e.g. recent realized volatility).\n",
    "                    This is the well-documented \"volatility risk premium\".\n",
    "                    The usual explanation is the overwhelming pressure of demand for insurance against economic crashes.\n",
    "                And in fact, it's usually a bit higher when the option is\n",
    "                (a) deeply out-of-the-money, and/or (b) far in the future.\n",
    "                    These are the well-documented volatility \"smirks\".\n",
    "                    This doesn't mean people pay more for an OTM put than an ITM put,\n",
    "                    it just means they don't pay as much less as you'd expect.\n",
    "                In practice, we don't know what different market participants are assuming here.\n",
    "                But we can observe the price at which various options are trading.\n",
    "                Based on those observations, we can back out the \"option-implied volatility\".\n",
    "                That is, the value of `sigma` that makes this function spit out the observed prices.\n",
    "        r: float, Risk-free interest rate. Also logarithmic for the geeks out there.\n",
    "        put: bool, Whether this is a put or a call.\n",
    "    \"\"\"\n",
    "    d0 = np.log(S/K) + (r + sigma**2/2)*tau\n",
    "    d1 = d0 / (sigma * tau**0.5)\n",
    "    d2 = d1 - sigma * T**0.5\n",
    "    v = K*np.exp(-r*T)*N(-d2) - S*N(-d1)\n",
    "    if put:\n",
    "        v = -stats.norm.cdf(-d1)*S + stats.norm.cdf(-d2)*K*np.exp(-r*tau)\n",
    "    else:\n",
    "        v =  stats.norm.cdf( d1)*S - stats.norm.cdf( d2)*K*np.exp(-r*tau)\n",
    "    return v"
   ]
  },
  {
   "cell_type": "code",
   "execution_count": null,
   "id": "09034528-da41-4b48-8438-5c9728430dbb",
   "metadata": {},
   "outputs": [],
   "source": []
  }
 ],
 "metadata": {
  "kernelspec": {
   "display_name": "Python 3 (ipykernel)",
   "language": "python",
   "name": "python3"
  },
  "language_info": {
   "codemirror_mode": {
    "name": "ipython",
    "version": 3
   },
   "file_extension": ".py",
   "mimetype": "text/x-python",
   "name": "python",
   "nbconvert_exporter": "python",
   "pygments_lexer": "ipython3",
   "version": "3.11.4"
  }
 },
 "nbformat": 4,
 "nbformat_minor": 5
}
