{
 "cells": [
  {
   "cell_type": "markdown",
   "id": "a9c301a3-aaca-4fbb-956a-7224e0ccf556",
   "metadata": {},
   "source": [
    "# TAIL-RISK FUND: OPTIONS\n",
    "\n",
    "author: [@sparshsah](https://github.com/sparshsah)\n",
    "\n",
    "ref: https://github.com/sparshsah/foggy-demo/blob/main/demo/finance/tail-risk-fund.md"
   ]
  },
  {
   "cell_type": "code",
   "execution_count": 29,
   "id": "bead727f-aea5-4918-b511-21724b5ff655",
   "metadata": {
    "tags": []
   },
   "outputs": [],
   "source": [
    "import pandas as pd\n",
    "\n",
    "# https://github.com/sparshsah/foggy-statslib\n",
    "import sys; sys.path.append(\"../../../foggy-statslib/\")\n",
    "import foggy_statslib.core as fsc\n",
    "import foggy_statslib.fin as fsf"
   ]
  },
  {
   "cell_type": "markdown",
   "id": "d27e2b3a-9f4f-49d5-b0d4-555950ef8eb0",
   "metadata": {},
   "source": [
    "## Setting\n",
    "\n",
    "You hold 2 shares of S, which is currently trading at 100USD.\n",
    "(S is SPX, but I don't want the fact that SPX is not tradable and also actually at 3000USD to distract you.)\n",
    "\n",
    "You believe that it is equally likely to:\n",
    "1. Fall 20pct over the next 6 months, Then stay flat to EOY\n",
    "2. Stay flat over the next 6 months, Then fall 20pct by EOY\n",
    "3. Stay flat through EOY\n",
    "\n",
    "Prevailing option-implied vols are around 16pct,\n",
    "and for simplicity neglect (a) volatility smirks and (b) the risk-free rate."
   ]
  },
  {
   "cell_type": "code",
   "execution_count": 32,
   "id": "ec11aec2-29f3-4e00-b485-8534d227856e",
   "metadata": {
    "tags": []
   },
   "outputs": [],
   "source": [
    "sigma: Final[float] = 0.16\n",
    "r: Final[float] = 0"
   ]
  },
  {
   "cell_type": "markdown",
   "id": "6f469caa-5b53-4c26-a4c9-2f7479f369a5",
   "metadata": {},
   "source": [
    "## Question\n",
    "\n",
    "Should you\n",
    "* A: Purchase two 2-quarter puts?\n",
    "* B: Purchase two 4-quarter puts?\n",
    "* C: Purchase one of each?\n",
    "\n",
    "Assuming you fix your strike at 90USD."
   ]
  },
  {
   "cell_type": "code",
   "execution_count": 40,
   "id": "ca69fa96-6515-4023-969f-fe4167f514c0",
   "metadata": {
    "tags": []
   },
   "outputs": [
    {
     "name": "stdout",
     "output_type": "stream",
     "text": [
      "Initial cost of each Put: A = $1.02, B = $2.32.\n"
     ]
    }
   ],
   "source": [
    "init_cost_of_one_put_a = fsf.calc_bsf_option_value(\n",
    "    tau=2/4,\n",
    "    K=90,\n",
    "    S_t=100,\n",
    "    sigma=sigma,\n",
    "    r=r,\n",
    "    put=True,\n",
    ")\n",
    "init_cost_of_one_put_b = fsf.calc_bsf_option_value(\n",
    "    tau=4/4,\n",
    "    K=90,\n",
    "    S_t=100,\n",
    "    sigma=sigma,\n",
    "    r=r,\n",
    "    put=True,\n",
    ")\n",
    "print(f\"Initial cost of each Put: A = ${init_cost_of_one_put_a:.2f}, B = ${init_cost_of_one_put_b:.2f}.\")"
   ]
  },
  {
   "cell_type": "code",
   "execution_count": 33,
   "id": "fe8a5a7a-ed0f-48a6-97cc-06f2ac2bfc83",
   "metadata": {
    "tags": []
   },
   "outputs": [
    {
     "ename": "SyntaxError",
     "evalue": "incomplete input (2576137096.py, line 20)",
     "output_type": "error",
     "traceback": [
      "\u001b[0;36m  Cell \u001b[0;32mIn[33], line 20\u001b[0;36m\u001b[0m\n\u001b[0;31m    \u001b[0m\n\u001b[0m    ^\u001b[0m\n\u001b[0;31mSyntaxError\u001b[0m\u001b[0;31m:\u001b[0m incomplete input\n"
     ]
    }
   ],
   "source": [
    "# dollar value under each scenario of different strategies, by quarter\n",
    "\n",
    "# SCENARIO 1: S falls -20% over the next 6 months, then stays flat to EOY\n",
    "r1 = pd.DataFrame(\n",
    "    {\n",
    "        # the shares\n",
    "        \"principal\": {\n",
    "            0: 0,\n",
    "            1: 0,\n",
    "            2: -20,\n",
    "            3: 0,\n",
    "            4: 0,\n",
    "        },\n",
    "        # the hedges\n",
    "        # a: two 2-quarter puts\n",
    "        \"a\": {\n",
    "            0: ,\n",
    "            "
   ]
  },
  {
   "cell_type": "code",
   "execution_count": null,
   "id": "42986aa2-5a44-4656-9977-f2b7a463bb24",
   "metadata": {},
   "outputs": [],
   "source": [
    "fsf.calc_bsf_option_value("
   ]
  }
 ],
 "metadata": {
  "kernelspec": {
   "display_name": "Python 3 (ipykernel)",
   "language": "python",
   "name": "python3"
  },
  "language_info": {
   "codemirror_mode": {
    "name": "ipython",
    "version": 3
   },
   "file_extension": ".py",
   "mimetype": "text/x-python",
   "name": "python",
   "nbconvert_exporter": "python",
   "pygments_lexer": "ipython3",
   "version": "3.11.4"
  }
 },
 "nbformat": 4,
 "nbformat_minor": 5
}
