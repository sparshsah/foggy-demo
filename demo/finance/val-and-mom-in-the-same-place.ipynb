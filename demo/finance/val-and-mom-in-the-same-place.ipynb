{
 "cells": [
  {
   "cell_type": "markdown",
   "metadata": {},
   "source": [
    "# VAL AND MOM IN THE SAME PLACE (Work-in-Progress)\n",
    "\n",
    "[@sparshsah](https://github.com/sparshsah)"
   ]
  },
  {
   "cell_type": "markdown",
   "metadata": {},
   "source": [
    "## setup\n",
    "\n",
    "// [commit when I decided to start over](https://github.com/sparshsah/foggy-demo/blob/2aa977b/demo/finance/val-and-mom-in-the-same-place.ipynb)"
   ]
  },
  {
   "cell_type": "code",
   "execution_count": null,
   "metadata": {},
   "outputs": [],
   "source": [
    "import matplotlib.pyplot as plt\n",
    "import numpy as np\n",
    "import pandas as pd\n",
    "\n",
    "from foggy_statslib import core as fc"
   ]
  },
  {
   "cell_type": "code",
   "execution_count": 190,
   "metadata": {},
   "outputs": [],
   "source": [
    "def _get_px_bridge(p0: float = 1, p1: float = 1, t0: int = 0, span: int=10) -> pd.Series:\n",
    "    domain = range(t0, t0+span)\n",
    "    if p0 == p1:\n",
    "        bridge = pd.Series(p0, index=domain)\n",
    "    elif p0 < p1:\n",
    "        bridge = pd.Series(np.exp(domain))\n",
    "        # standardize: tare and scale\n",
    "        bridge = bridge - bridge.min()\n",
    "        bridge = bridge / (bridge.max() - bridge.min())\n",
    "        # customize: scale and tare\n",
    "        bridge = bridge * (p1 - p0)\n",
    "        bridge = bridge + p0\n",
    "    else:  # flip\n",
    "        bridge = _get_px_bridge(p1, p0, t0=t0, span=span)\n",
    "        bridge = bridge.iloc[::-1]\n",
    "        bridge.index = domain\n",
    "    return bridge"
   ]
  },
  {
   "cell_type": "code",
   "execution_count": 172,
   "metadata": {},
   "outputs": [
    {
     "data": {
      "text/plain": [
       "<AxesSubplot:>"
      ]
     },
     "execution_count": 172,
     "metadata": {},
     "output_type": "execute_result"
    },
    {
     "data": {
      "image/png": "[encoded data removed]",
      "text/plain": [
       "<Figure size 432x288 with 1 Axes>"
      ]
     },
     "metadata": {},
     "output_type": "display_data"
    }
   ],
   "source": [
    "pd.Series(np.exp(np.linspace(0,1))).plot()"
   ]
  },
  {
   "cell_type": "markdown",
   "metadata": {},
   "source": [
    "## Empirical Background: Value and Momentum Everywhere\n",
    "\n",
    "[\"Value and Momentum Everywhere\" (Asness-Moskowitz-Pedersen 2013)](https://www.aqr.com/Insights/Research/Journal-Article/Value-and-Momentum-Everywhere) was a seminal contribution to liquid-alternative relative-value factor investing, in both single-name and macro securities.\n",
    "\n",
    "The following cross-sectional pricing anomalies (based on backward-looking observed returns) tend to stand up across geographies (e.g. emerging vs G10 vs currencies), asset classes (e.g. commodities vs government bonds), and time:\n",
    "* Sign of spread return over `[0, -1 month]` reverses\n",
    "* Sign of spread return over `[-2 months, -12 months]` continues\n",
    "* Sign of spread return over `[-2 years, -5 years]` reverses\n",
    "\n",
    "(Cliff himself often chides asset allocators for being \"momentum investors at a value horizon\", i.e. pulling money from underperforming managers and plowing it into outperforming managers based on trailing 3-year returns.)\n",
    "\n",
    "Separately, the following directional (timeseries) pricing anomalies:\n",
    "* Sign of own return over `[0, -1 week]` reverses\n",
    "* Sign of own return over `[-2 weeks, -52 weeks]` continues\n",
    "* Sign of own return over `[-2 years, -5 years]` reverses"
   ]
  },
  {
   "cell_type": "markdown",
   "metadata": {},
   "source": [
    "## How is This Possible?\n",
    "\n",
    "It initially blew my mind that these effects could coexist. Short-term returns reverse, but medium-term returns continue... isn't the medium term made up of just a bunch of short terms?? But here's an example:"
   ]
  },
  {
   "cell_type": "code",
   "execution_count": 170,
   "metadata": {},
   "outputs": [],
   "source": [
    "# TODO(sparshsah): I might have to just do it (ugh) as an AR process... :("
   ]
  },
  {
   "cell_type": "markdown",
   "metadata": {},
   "source": [
    "## Theoretical Question: What's the Story?\n",
    "\n",
    "I propose a behavioral story that is (a) self-consistent and (b) at least first-order consistent with stylized facts about market microstructure that could give rise to this effect."
   ]
  },
  {
   "cell_type": "code",
   "execution_count": null,
   "metadata": {},
   "outputs": [],
   "source": []
  }
 ],
 "metadata": {
  "kernelspec": {
   "display_name": "Python 3",
   "language": "python",
   "name": "python3"
  },
  "language_info": {
   "codemirror_mode": {
    "name": "ipython",
    "version": 3
   },
   "file_extension": ".py",
   "mimetype": "text/x-python",
   "name": "python",
   "nbconvert_exporter": "python",
   "pygments_lexer": "ipython3",
   "version": "3.8.5"
  }
 },
 "nbformat": 4,
 "nbformat_minor": 4
}
