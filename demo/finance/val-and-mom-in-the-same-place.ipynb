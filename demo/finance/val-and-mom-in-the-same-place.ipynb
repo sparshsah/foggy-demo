{
 "cells": [
  {
   "cell_type": "markdown",
   "metadata": {},
   "source": [
    "# VAL AND MOM IN THE SAME PLACE (Work-in-Progress)\n",
    "\n",
    "[@sparshsah](https://github.com/sparshsah)"
   ]
  },
  {
   "cell_type": "markdown",
   "metadata": {},
   "source": [
    "## setup"
   ]
  },
  {
   "cell_type": "code",
   "execution_count": null,
   "metadata": {},
   "outputs": [],
   "source": [
    "from typing import Final\n",
    "\n",
    "import matplotlib.pyplot as plt\n",
    "import numpy as np\n",
    "import pandas as pd\n",
    "\n",
    "from foggy_statslib import core as fc"
   ]
  },
  {
   "cell_type": "code",
   "execution_count": null,
   "metadata": {},
   "outputs": [],
   "source": [
    "def _get_wave(\n",
    "    a: float = 1,\n",
    "    period: float = 4,\n",
    "    sz: int = 256,\n",
    ") -> pd.Series:\n",
    "    b = 2 * np.pi / period\n",
    "    domain = pd.Series(range(sz))\n",
    "    wave = a * pd.Series(np.sin(b * domain))\n",
    "    return wave\n",
    "\n",
    "\n",
    "def _make_std_tsmom_sig(\n",
    "    x: pd.Series,\n",
    "    front_end: int = 0,\n",
    "    back_end: int = 65,\n",
    ") -> pd.Series:\n",
    "    wdw = back_end - front_end\n",
    "    sig = x.rolling(window=wdw).sum()\n",
    "    # catch up\n",
    "    sig = sig.shift(front_end)\n",
    "    # standardize\n",
    "    sig = sig / wdw**0.5\n",
    "    return sig\n",
    "\n",
    "\n",
    "def _get_one_corr(r: pd.Series, hzn: int = 1) -> float:\n",
    "    \"\"\"TSMOM evaluation e.g. Today's return vs Last month's return.\"\"\"\n",
    "    r_cum_lagged = r.rolling(window=hzn).sum().shift()\n",
    "    return r.corr(r_cum_lagged)\n",
    "\n",
    "\n",
    "def _get_all_corrs(r: pd.Series) -> pd.Series:\n",
    "    corrs = pd.Series(\n",
    "        {\n",
    "            hzn:\n",
    "            _get_one_corr(r=r, hzn=hzn)\n",
    "            for hzn in range(1, 200)\n",
    "        }\n",
    "    ).rename_axis(index=\"hzn\")\n",
    "    return corrs"
   ]
  },
  {
   "cell_type": "markdown",
   "metadata": {},
   "source": [
    "## Empirical Background: Value and Momentum Everywhere\n",
    "\n",
    "[\"Value and Momentum Everywhere\" (Asness-Moskowitz-Pedersen 2013)](https://www.aqr.com/Insights/Research/Journal-Article/Value-and-Momentum-Everywhere) was a seminal contribution to liquid-alternative relative-value factor investing, in both single-name and macro securities.\n",
    "\n",
    "The following cross-sectional pricing anomalies (based on backward-looking observed returns) tend to stand up across geographies (e.g. emerging vs G10 vs currencies), asset classes (e.g. commodities vs government bonds), and time:\n",
    "* Sign of spread return over `[0, -1 month]` reverses\n",
    "* Sign of spread return over `[-2 months, -12 months]` continues\n",
    "* Sign of spread return over `[-2 years, -5 years]` reverses\n",
    "\n",
    "(Cliff himself often chides asset allocators for being \"momentum investors at a value horizon\", i.e. pulling money from underperforming managers and plowing it into outperforming managers based on trailing 3-year returns.)\n",
    "\n",
    "Separately, the following directional (timeseries) pricing anomalies:\n",
    "* Sign of own return over `[0, -1 week]` reverses\n",
    "* Sign of own return over `[-2 weeks, -52 weeks]` continues\n",
    "* Sign of own return over `[-2 years, -5 years]` reverses"
   ]
  },
  {
   "cell_type": "markdown",
   "metadata": {},
   "source": [
    "## How is This Possible?\n",
    "\n",
    "It initially blew my mind that these effects could coexist. Short-term returns reverse, but medium-term returns continue... isn't the medium term made up of just a bunch of short terms?? But here's an example:\n",
    "\n",
    "`// TODO(sparshsah): I might have to just do it (ugh) as an AR process... :(`"
   ]
  },
  {
   "cell_type": "code",
   "execution_count": 140,
   "metadata": {},
   "outputs": [
    {
     "data": {
      "text/plain": [
       "0.16170130634343932"
      ]
     },
     "execution_count": 140,
     "metadata": {},
     "output_type": "execute_result"
    }
   ],
   "source": [
    "np.random.seed(42)\n",
    "r = pd.Series(\n",
    "    np.random.normal(\n",
    "        scale=0.01,\n",
    "        size=T,\n",
    "    )\n",
    ")\n",
    "# this should have 16% vol\n",
    "r.std() * 261**0.5"
   ]
  },
  {
   "cell_type": "code",
   "execution_count": 142,
   "metadata": {},
   "outputs": [],
   "source": [
    "dose_of_val = -r.rolling(21  - 0 ).sum().shift(0 ).shift()  / (21  - 0 )**0.5\n",
    "dose_of_mom =  r.rolling(261 - 21).sum().shift(21).shift()  / (261 - 21)**0.5"
   ]
  },
  {
   "cell_type": "code",
   "execution_count": 143,
   "metadata": {},
   "outputs": [
    {
     "data": {
      "text/plain": [
       "(0.16348454891083058, 0.16166577651086284)"
      ]
     },
     "execution_count": 143,
     "metadata": {},
     "output_type": "execute_result"
    }
   ],
   "source": [
    "dose_of_val.std()*261**0.5, dose_of_mom.std()*261**0.5"
   ]
  },
  {
   "cell_type": "code",
   "execution_count": 144,
   "metadata": {},
   "outputs": [
    {
     "data": {
      "text/plain": [
       "0.008385607691348787"
      ]
     },
     "execution_count": 144,
     "metadata": {},
     "output_type": "execute_result"
    }
   ],
   "source": [
    "dose_of_val.corr(dose_of_mom)"
   ]
  },
  {
   "cell_type": "code",
   "execution_count": 158,
   "metadata": {},
   "outputs": [
    {
     "data": {
      "text/plain": [
       "0.16327831120450118"
      ]
     },
     "execution_count": 158,
     "metadata": {},
     "output_type": "execute_result"
    }
   ],
   "source": [
    "x = (dose_of_val + dose_of_mom) / 2**0.5\n",
    "x.std() * 261**0.5"
   ]
  },
  {
   "cell_type": "code",
   "execution_count": 159,
   "metadata": {},
   "outputs": [
    {
     "data": {
      "text/plain": [
       "0.7140459991600808"
      ]
     },
     "execution_count": 159,
     "metadata": {},
     "output_type": "execute_result"
    }
   ],
   "source": [
    "x.corr(dose_of_val)"
   ]
  },
  {
   "cell_type": "code",
   "execution_count": 160,
   "metadata": {},
   "outputs": [
    {
     "data": {
      "text/plain": [
       "0.706061880931298"
      ]
     },
     "execution_count": 160,
     "metadata": {},
     "output_type": "execute_result"
    }
   ],
   "source": [
    "x.corr(dose_of_mom)"
   ]
  },
  {
   "cell_type": "code",
   "execution_count": 165,
   "metadata": {},
   "outputs": [
    {
     "data": {
      "text/plain": [
       "-0.7140459991600819"
      ]
     },
     "execution_count": 165,
     "metadata": {},
     "output_type": "execute_result"
    }
   ],
   "source": [
    "# with r\n",
    "x.corr(\n",
    "    r.rolling(21).sum().shift()\n",
    ")"
   ]
  },
  {
   "cell_type": "code",
   "execution_count": 164,
   "metadata": {},
   "outputs": [
    {
     "data": {
      "text/plain": [
       "0.47284131561403275"
      ]
     },
     "execution_count": 164,
     "metadata": {},
     "output_type": "execute_result"
    }
   ],
   "source": [
    "x.corr(\n",
    "    r.rolling(261).sum().shift()\n",
    ")"
   ]
  },
  {
   "cell_type": "code",
   "execution_count": 166,
   "metadata": {},
   "outputs": [
    {
     "data": {
      "text/plain": [
       "0.7060618809312974"
      ]
     },
     "execution_count": 166,
     "metadata": {},
     "output_type": "execute_result"
    }
   ],
   "source": [
    "x.corr(\n",
    "    r.rolling(261 - 21).sum().shift(21).shift()\n",
    ")"
   ]
  },
  {
   "cell_type": "code",
   "execution_count": 168,
   "metadata": {},
   "outputs": [
    {
     "data": {
      "text/plain": [
       "0.7259139766628293"
      ]
     },
     "execution_count": 168,
     "metadata": {},
     "output_type": "execute_result"
    }
   ],
   "source": [
    "# with itself\n",
    "x.corr(\n",
    "    x.rolling(21).sum().shift()\n",
    ")"
   ]
  },
  {
   "cell_type": "code",
   "execution_count": 167,
   "metadata": {},
   "outputs": [
    {
     "data": {
      "text/plain": [
       "0.2272290989244234"
      ]
     },
     "execution_count": 167,
     "metadata": {},
     "output_type": "execute_result"
    }
   ],
   "source": [
    "x.corr(\n",
    "    x.rolling(261).sum().shift()\n",
    ")"
   ]
  },
  {
   "cell_type": "code",
   "execution_count": 169,
   "metadata": {},
   "outputs": [
    {
     "data": {
      "text/plain": [
       "0.12193145569903413"
      ]
     },
     "execution_count": 169,
     "metadata": {},
     "output_type": "execute_result"
    }
   ],
   "source": [
    "x.corr(\n",
    "    x.rolling(261 - 21).sum().shift(21).shift()\n",
    ")"
   ]
  },
  {
   "cell_type": "markdown",
   "metadata": {},
   "source": [
    "## Theoretical Question: What's the Story?\n",
    "\n",
    "I propose a behavioral story that is (a) self-consistent and (b) at least first-order consistent with stylized facts about market microstructure that could give rise to this effect."
   ]
  },
  {
   "cell_type": "code",
   "execution_count": null,
   "metadata": {},
   "outputs": [],
   "source": []
  }
 ],
 "metadata": {
  "kernelspec": {
   "display_name": "Python 3",
   "language": "python",
   "name": "python3"
  },
  "language_info": {
   "codemirror_mode": {
    "name": "ipython",
    "version": 3
   },
   "file_extension": ".py",
   "mimetype": "text/x-python",
   "name": "python",
   "nbconvert_exporter": "python",
   "pygments_lexer": "ipython3",
   "version": "3.8.5"
  }
 },
 "nbformat": 4,
 "nbformat_minor": 4
}
