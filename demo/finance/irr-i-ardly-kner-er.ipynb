{
 "cells": [
  {
   "cell_type": "markdown",
   "id": "29884f00-2705-405f-a135-dc90493862e4",
   "metadata": {},
   "source": [
    "# IRR? I 'Ardly Kner 'Er!\n",
    "\n",
    "[@sparshsah](https://github.com/sparshsah)"
   ]
  },
  {
   "cell_type": "markdown",
   "id": "be727e50-ef1e-48c4-bd2c-fed5bee67968",
   "metadata": {},
   "source": [
    "## Quants are quants, and IRR's are IRR's, and ne'er the twain shall meet\n",
    "\n",
    "You are a quant running a global small-cap single-name stock-selection strategy. As a quant, you run an optimizer. Let's ignore risk and focus on expected returns. (By \"ignore risk\", I mean pretend that every passive asset has equal risk, whether you want to define that as volatility, or value-at-risk, or expected shortfall, or whatever.)\n",
    "\n",
    "You rebalance once every two weeks. (Exactly two weeks happens to be the schedule of a certain unnamed hedge-fund manager in Greenwich, but the idea is that if you rebalanced every day you'd incur so much tcost as to swamp your gross returns. Unless you're Bernie Madoff. Or Medallion.)\n",
    "\n",
    "### The setup\n",
    "\n",
    "You have two assets, such that (measured over the next two weeks, but quoted in annualized terms, and using log returns because they're more convenient to reason formally about):\n",
    "* Asset A has 20% ex-ante IRR,\n",
    "* Asset B has 20% ex-ante IRR,\n",
    "* and cash earns 5% guaranteed.\n",
    "\n",
    "More specifically, assuming that both A and B are selling for \\$1/share right now (see Appendix to confirm that both these IRR's are, indeed, exactly 20%):\n",
    "* If you buy 1 share of Asset A, you expect to sell it for about \\$1.0077 (see Appendix for exact price) at the end of the second week; whereas,\n",
    "* If you buy 1 share of Asset B, you expect to collect a dividend of 50.00c at the end of the first week, then sell the ex-dividend share for about 50.58c (see Appendix for exact price) at the end of the second week.\n",
    "\n",
    "### The result\n",
    "\n",
    "Of course, to run an optimizer, you have to summarize the assets somehow. So, you choose to tell the optimize their IRR's -- And since they're identical, the optimizer gets to choose at random. Suppose you start with \\$1 and face the same opportunity set fortnight after fortnight for a year.\n",
    "\n",
    "* If your optimizer kept randomly choosing Asset A, you'd end the year with \\$1.20.\n",
    "* If your optimizer kept randomly choosing Asset B, you'd end the year with... just \\$1.16!\n",
    "\n",
    "So a quant can't use IRR's (20% and 20% in this case) to optimize -- She really must use CAGR's (20% and 16% in this case)."
   ]
  },
  {
   "cell_type": "markdown",
   "id": "bd64cf5e-5b7b-4da8-8459-b858dcbe4679",
   "metadata": {},
   "source": [
    "## Anything you can do I can do better\n",
    "\n",
    "The standard quibble with CAGR's is that (a) you have to specify some terminal timestep, and (b) you have to specify a cash rate. Both these inputs can seem arbitrary or, at the very least, hard to pin down. IRR's require no such inputs. This is true. And in the case above, because the timescales were so small, it feels (to me) hard to tell why the two are so at-odds with each other. So there's some tension: I'm asking you to use this inelegant thing, that I can't really even satisfactorily explain why it gives such different results.\n",
    "\n",
    "### No you can't\n",
    "\n",
    "In fact, I've heard people argue that, at longer (private-equity-like) time scales, taking into account WAL (weighted-average life) sets you straight. (Never mind that they can never actually articulate _how_, formally, I'm meant to \"take into account WAL\" -- Do I divide by it? Add it? Take it to the zoo?) But how about this scenario, with two bonds, each with face value \\$1, an eye-popping IRR of 50\\%, and WAL 10Y:\n",
    "* Bond A pays 50c annual interest at the end of each of the next ten years, and repays its \\$1 of principal along with the last interest payment at the end of the tenth year,\n",
    "* Bond B pays a one-time \\$1.47 interest payment at the end of the first year, then nothing until it repays its principal at the end of the tenth year.\n",
    "\n",
    "The goal here isn't to be realistic, it's to gain some intuition.\n",
    "* With Bond A, if you do nothing with the cash inflows (or, if you prefer, assume the risk-free rate is zero), you end with \\$6 of wealth.\n",
    "* With Bond B, under the same assumption, you end with... \\$2.47.\n",
    "\n",
    "### Yes I can\n",
    "\n",
    "Of course, with Bond B you get an extra 97c at the end of the first year, and you can \"do something useful with it\". Indeed you might even prefer Bond B for this reason\\*. My point isn't that Bond B is a bad investment...\n",
    "\n",
    "### No you can't, no you _can't_!\n",
    "\n",
    "... My point is that you can't tell a (mean-variance) optimizer \"Both bonds have IRR 50\\%, but Bond B gets a bigger lumpsum early-on so you can do something useful with that, whereas Bond A keeps earning interest for the full ten years\". When you're trying to optimize over the global universe of 1,000's of stocks, you need to decide how frequently you will rebalance, and tell the optimizer your predicted CAGR's over that period. And the \"cash rate\" is whatever JPMorganChase will pay on the dividends you collect along the way. So in practical applications, neither the timeframe nor the cash rate are arbitrary.\n",
    "\n",
    "\\* _Me personally I'd suggest that you could still take Bond A, collect your 50c of interest, and sell the remaining 9-year bond to raise an extra 100c of cash... In fact, because shorter-term bonds tend to carry lower annualized yields than longer-term bonds, you could probably raise even a bit more than face value when you sell your bond, say 102c. That is, if other 9-year bonds carry 48\\% prevailing yields, then rational buyers will be happy to pay a premium for your 9-year bond which carries a 50\\% yield. But I'm also sympathetic to the fact that, as hard as it is to predict future cashflows, it's even harder to predict how the animal spirits will price those cashflows._"
   ]
  },
  {
   "cell_type": "markdown",
   "id": "62c9d578-f4e6-4fb1-b317-81cd1d4a9940",
   "metadata": {},
   "source": [
    "## Appendix: Calculations"
   ]
  },
  {
   "cell_type": "code",
   "execution_count": 31,
   "id": "6f04ce04-5203-4446-b1f0-028fc76717e4",
   "metadata": {},
   "outputs": [],
   "source": [
    "from typing import Final\n",
    "\n",
    "import math\n",
    "\n",
    "import numpy as np\n",
    "\n",
    "# annualized, logarithmic\n",
    "IRR: Final[float] = 0.20\n",
    "CASH: Final[float] = 0.05\n",
    "PERIODS_PER_YEAR: Final[int] = 52\n",
    "\n",
    "\n",
    "def get_npv(cfs: list[float]) -> float:\n",
    "    return sum(\n",
    "        cf * math.exp(-IRR* t/PERIODS_PER_YEAR)\n",
    "        for (t, cf) in enumerate(cfs)\n",
    "    )\n",
    "\n",
    "\n",
    "def confirm_irr(cfs: list[float]) -> None:\n",
    "    npv = get_npv(cfs=cfs)\n",
    "    if not np.isclose(npv, 0):\n",
    "        raise ValueError(npv)\n",
    "    cfs_fmt = \", \".join(f\"${cf:.4f}\" for cf in cfs)\n",
    "    print(f\"[ {cfs_fmt} ] has {IRR:.2%} annualized logarithmic IRR.\")"
   ]
  },
  {
   "cell_type": "markdown",
   "id": "dbc3cdc7-cff1-49b4-8fe2-9feed2cf389a",
   "metadata": {},
   "source": [
    "### Asset A"
   ]
  },
  {
   "cell_type": "markdown",
   "id": "4be89ac5-2335-4ecd-9de3-8e4fda12931a",
   "metadata": {},
   "source": [
    "Confirm it has 20% IRR:"
   ]
  },
  {
   "cell_type": "code",
   "execution_count": 27,
   "id": "d7ad5b02-0c4a-484e-8f9c-906454bbb50a",
   "metadata": {},
   "outputs": [
    {
     "name": "stdout",
     "output_type": "stream",
     "text": [
      "[ $-1.0000, $0.0000, $1.0077 ] has 20.00% annualized logarithmic IRR.\n"
     ]
    }
   ],
   "source": [
    "cfs_a = [\n",
    "    -1,\n",
    "    0,\n",
    "    math.exp(IRR * 2/PERIODS_PER_YEAR),\n",
    "]\n",
    "\n",
    "confirm_irr(cfs=cfs_a)"
   ]
  },
  {
   "cell_type": "markdown",
   "id": "7c306e8e-27a8-4526-af2f-dabe0f54c8fe",
   "metadata": {},
   "source": [
    "Value at next rebalance:"
   ]
  },
  {
   "cell_type": "code",
   "execution_count": 60,
   "id": "53a8d2e2-f5e2-45a0-8c40-5e6bf6e72ae8",
   "metadata": {},
   "outputs": [
    {
     "data": {
      "text/plain": [
       "'$1.0077'"
      ]
     },
     "execution_count": 60,
     "metadata": {},
     "output_type": "execute_result"
    }
   ],
   "source": [
    "value_a_terminal = cfs_a[2]\n",
    "\n",
    "f\"${value_a_terminal:.4f}\""
   ]
  },
  {
   "cell_type": "markdown",
   "id": "348da4c5-5b7a-4360-b90a-be4cfc33c46b",
   "metadata": {},
   "source": [
    "Implied CAGR:"
   ]
  },
  {
   "cell_type": "code",
   "execution_count": 39,
   "id": "4f2e9c7c-5093-47a3-8aa5-f8090d56ce20",
   "metadata": {},
   "outputs": [
    {
     "data": {
      "text/plain": [
       "'20.00%'"
      ]
     },
     "execution_count": 39,
     "metadata": {},
     "output_type": "execute_result"
    }
   ],
   "source": [
    "cagr_a = math.log(value_a_terminal) * PERIODS_PER_YEAR/2\n",
    "\n",
    "f\"{cagr_a:.2%}\""
   ]
  },
  {
   "cell_type": "markdown",
   "id": "94f55c4a-ba85-40d0-8303-ca2ba69d83a3",
   "metadata": {},
   "source": [
    "### Asset B"
   ]
  },
  {
   "cell_type": "markdown",
   "id": "79e1a592-08f0-496b-869a-c8ab67b40d22",
   "metadata": {},
   "source": [
    "Confirm it has 20% IRR:"
   ]
  },
  {
   "cell_type": "code",
   "execution_count": 56,
   "id": "c1986235-e1eb-41dd-926e-7db9beaee37e",
   "metadata": {},
   "outputs": [
    {
     "name": "stdout",
     "output_type": "stream",
     "text": [
      "[ $-1.0000, $0.5000, $0.5058 ] has 20.00% annualized logarithmic IRR.\n"
     ]
    }
   ],
   "source": [
    "_dividend_b = 0.50\n",
    "\n",
    "cfs_b = [\n",
    "    -1,\n",
    "    _dividend_b,\n",
    "    # solve for the necessary PX_LAST\n",
    "    (\n",
    "        (\n",
    "            1 - _dividend_b * math.exp(-IRR * 1/PERIODS_PER_YEAR)\n",
    "        ) / (\n",
    "            math.exp(-IRR * 2/PERIODS_PER_YEAR)\n",
    "        )\n",
    "    ),\n",
    "]\n",
    "\n",
    "confirm_irr(cfs=cfs_b)"
   ]
  },
  {
   "cell_type": "markdown",
   "id": "9b88ae67-0692-45d7-acce-f8d4bf8202c5",
   "metadata": {},
   "source": [
    "Solve for value at next rebalance, assuming dividend earns cash rate:"
   ]
  },
  {
   "cell_type": "code",
   "execution_count": 59,
   "id": "19533336-52a6-4124-a0fc-bd2966cd6227",
   "metadata": {},
   "outputs": [
    {
     "data": {
      "text/plain": [
       "'$1.0063'"
      ]
     },
     "execution_count": 59,
     "metadata": {},
     "output_type": "execute_result"
    }
   ],
   "source": [
    "value_b_terminal = (\n",
    "    cfs_b[1] * math.exp(CASH * 1/PERIODS_PER_YEAR)\n",
    "    +\n",
    "    cfs_b[2]\n",
    ")\n",
    "\n",
    "f\"${value_b_terminal:.4f}\""
   ]
  },
  {
   "cell_type": "markdown",
   "id": "6e892440-6975-44c3-a155-eef6fff26bec",
   "metadata": {},
   "source": [
    "Implied CAGR:"
   ]
  },
  {
   "cell_type": "code",
   "execution_count": 58,
   "id": "0f2ef9c2-4bfd-49a8-9373-84d34a46d2f6",
   "metadata": {},
   "outputs": [
    {
     "data": {
      "text/plain": [
       "'16.27%'"
      ]
     },
     "execution_count": 58,
     "metadata": {},
     "output_type": "execute_result"
    }
   ],
   "source": [
    "cagr_b = math.log(value_b_terminal) * PERIODS_PER_YEAR/2\n",
    "\n",
    "f\"{cagr_b:.2%}\""
   ]
  }
 ],
 "metadata": {
  "kernelspec": {
   "display_name": "Python 3 (ipykernel)",
   "language": "python",
   "name": "python3"
  },
  "language_info": {
   "codemirror_mode": {
    "name": "ipython",
    "version": 3
   },
   "file_extension": ".py",
   "mimetype": "text/x-python",
   "name": "python",
   "nbconvert_exporter": "python",
   "pygments_lexer": "ipython3",
   "version": "3.10.11"
  }
 },
 "nbformat": 4,
 "nbformat_minor": 5
}
