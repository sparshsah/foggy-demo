{
 "cells": [
  {
   "cell_type": "markdown",
   "metadata": {},
   "source": [
    "# PERFORMANCE OF HEDGED CREDIT\n",
    "\n",
    "AUTHOR: [@sparshsah](https://github.com/sparshsah)"
   ]
  },
  {
   "cell_type": "code",
   "execution_count": 174,
   "metadata": {},
   "outputs": [],
   "source": [
    "# utils: ignore\n",
    "\n",
    "from typing import Optional\n",
    "import pandas as pd\n",
    "import numpy as np\n",
    "\n",
    "DEFAULT_R_KIND: str = \"geom\"\n",
    "SHORT_HORIZON: int = 3\n",
    "DEFAULT_WINDOW_KIND: str = \"ewm\"\n",
    "EST_HORIZON: int = 42\n",
    "DEFAULT_AVG_KIND: str = \"mean\"\n",
    "# observe info at `t`, trade on it the course of `t+1`, earn at `t+2`\n",
    "IMPL_LAG: int = 2\n",
    "DEFAULT_VOL: float = 0.10\n",
    "DAYCOUNTS = {\"BD\": 1, \"BW\": 5, \"BM\": 21, \"BQ\": 65, \"BY\": 261}\n",
    "\n",
    "\n",
    "def get_r(px: pd.Series, kind: str=DEFAULT_R_KIND) -> pd.Series:\n",
    "    r = {\n",
    "        \"arith\": px.diff(),\n",
    "        \"log\": np.log(px/px.shift()),\n",
    "        \"geom\": px/px.shift()-1\n",
    "    }\n",
    "    r = r[kind]\n",
    "    return r\n",
    "\n",
    "\n",
    "def _get_window(\n",
    "        ser: pd.Series,\n",
    "        kind: str=DEFAULT_WINDOW_KIND,\n",
    "        horizon: int=EST_HORIZON,\n",
    "        min_periods: Optional[int]=None\n",
    "    ) -> pd.core.window.Window:\n",
    "    min_periods = int(horizon/2) if min_periods is None else min_periods\n",
    "    window = {\n",
    "        \"full\": ser,\n",
    "        \"expanding\": ser.expanding(min_periods=min_periods),\n",
    "        \"ewm\": ser.ewm(com=horizon, min_periods=min_periods),\n",
    "        \"rolling\": ser.rolling(window=horizon, min_periods=min_periods)\n",
    "    }\n",
    "    window = window[kind]\n",
    "    return window\n",
    "\n",
    "\n",
    "def _get_est_avg(\n",
    "        y: pd.Series,\n",
    "        window_kind: str=DEFAULT_WINDOW_KIND,\n",
    "        horizon: int=EST_HORIZON,\n",
    "        avg_kind: str=DEFAULT_AVG_KIND\n",
    "    ) -> pd.Series:\n",
    "    window = _get_window(y, kind=window_kind, horizon=horizon)\n",
    "    est_avg = {\n",
    "        \"mean\": window.mean(),\n",
    "        # \"median\": window.median()\n",
    "    }\n",
    "    est_avg = est_avg[avg_kind]\n",
    "    return est_avg\n",
    "\n",
    "\n",
    "def get_est_er(\n",
    "        r: pd.Series,\n",
    "        kind: str=DEFAULT_WINDOW_KIND,\n",
    "        annualizer: int=DAYCOUNTS[\"BY\"]\n",
    "    ) -> pd.Series:\n",
    "    est_avg = _get_est_avg(y=r, window_kind=kind)\n",
    "    est_er = est_avg * annualizer\n",
    "    return est_er\n",
    "\n",
    "\n",
    "def _get_est_cov(\n",
    "        y: pd.Series, x: pd.Series,\n",
    "        short_horizon: int=SHORT_HORIZON,\n",
    "        demean: bool=False,\n",
    "        kind: str=DEFAULT_WINDOW_KIND,\n",
    "        horizon: int=EST_HORIZON\n",
    "    ) -> pd.Series:\n",
    "    \"\"\"Simple GARCH estimate of covariance.\n",
    "    \n",
    "    The estimate at time `t` incorporates information up to and including `t`.\n",
    "    \n",
    "    sources\n",
    "    -------\n",
    "    https://github.com/sparshsah/foggy-demo/blob/main/demo/stats/bias-variance-risk.ipynb.pdf\n",
    "    https://faculty.fuqua.duke.edu/~charvey/Research/Published_Papers/P135_The_impact_of.pdf\n",
    "    \"\"\"\n",
    "    y_deviations = y\n",
    "    x_deviations = x\n",
    "    if demean:\n",
    "        y_deviations = y_deviations - _get_window(y_deviations, kind=kind, horizon=horizon).mean()\n",
    "        x_deviations = x_deviations - _get_window(x_deviations, kind=kind, horizon=horizon).mean()\n",
    "    # adjust for CLT! std of n-sum inverse-scales w/ n**0.5\n",
    "    y_deviations = y_deviations.rolling(window=short_horizon).sum() / short_horizon**0.5\n",
    "    x_deviations = x_deviations.rolling(window=short_horizon).sum() / short_horizon**0.5\n",
    "    co_deviations = y_deviations * x_deviations\n",
    "    est_cov = _get_window(co_deviations, kind=kind, horizon=horizon).mean()\n",
    "    return est_cov\n",
    "\n",
    "def _get_est_std(y: pd.Series, kind: str=DEFAULT_WINDOW_KIND) -> pd.Series:\n",
    "    est_var = _get_est_cov(y=y, x=y, kind=kind)\n",
    "    est_std = est_var **0.5\n",
    "    return est_std\n",
    "\n",
    "def _get_est_corr(y: pd.Series, x: pd.Series) -> pd.Series:\n",
    "    est_cov = _get_est_cov(y=y, x=x)\n",
    "    est_y_std = _get_est_std(y=y)\n",
    "    est_x_std = _get_est_std(y=x)\n",
    "    est_corr = est_cov / (est_y_std * est_x_std)\n",
    "    return est_corr\n",
    "\n",
    "\n",
    "def get_est_vol(\n",
    "        r: pd.Series,\n",
    "        kind: str=DEFAULT_WINDOW_KIND,\n",
    "        annualizer: int=DAYCOUNTS[\"BY\"]\n",
    "    ) -> pd.Series:\n",
    "    est_std = _get_est_std(y=r, kind=kind)\n",
    "    est_vol = est_std * annualizer**0.5\n",
    "    return est_vol\n",
    "\n",
    "\n",
    "def get_est_beta(of: pd.Series, on: pd.Series) -> pd.Series:\n",
    "    est_corr = _get_est_corr(y=of, x=on)\n",
    "    est_of_std = _get_est_std(y=of)\n",
    "    est_on_std = _get_est_std(y=on)\n",
    "    est_beta = est_corr * (est_of_std / est_on_std)\n",
    "    return est_beta\n",
    "\n",
    "\n",
    "def get_est_sharpe(r: pd.Series, kind: str=DEFAULT_WINDOW_KIND):\n",
    "    est_er = get_est_er(r=r, kind=kind)\n",
    "    est_vol = get_est_vol(r=r, kind=kind)\n",
    "    est_sharpe = est_er / est_vol\n",
    "    return est_sharpe\n",
    "\n",
    "\n",
    "def get_vol_targeted(r: pd.Series, tgt_vol: float=DEFAULT_VOL) -> pd.Series:\n",
    "    \"\"\"(Implementably) modulate volatility.\n",
    "    \n",
    "    Input should be excess-of-interest-rate returns.\n",
    "    \"\"\"\n",
    "    est_vol = get_est_vol(r=r)\n",
    "    # at the end of each session, we check the data,\n",
    "    # then trade up or down to hit this much leverage...\n",
    "    est_required_leverage = tgt_vol / est_vol\n",
    "    # ... thence, over the next session, we earn this much return\n",
    "    # (based on yesterday's estimate of required leverage)\n",
    "    leverage_at_t = est_required_leverage.shift(IMPL_LAG)\n",
    "    levered_r_at_t = leverage_at_t * r\n",
    "    return levered_r_at_t\n",
    "\n",
    "\n",
    "def get_hedged(base: pd.Series, out: pd.Series) -> pd.Series:\n",
    "    \"\"\"(Implementably) short out `base`'s exposure to `out`.\"\"\"\n",
    "    # at the end of each day, we submit an order to short this much `out`\n",
    "    est_beta = get_est_beta(of=base, on=out)\n",
    "    # this is weight as $ notional / $ NAV\n",
    "    hedge_pos_at_t = est_beta.shift(IMPL_LAG)\n",
    "    hedge_r_at_t = hedge_pos_at_t * out\n",
    "    hedged_base_r_at_t = base - hedge_r_at_t\n",
    "    return hedged_base_r_at_t"
   ]
  },
  {
   "cell_type": "code",
   "execution_count": 192,
   "metadata": {},
   "outputs": [],
   "source": [
    "tbill_yield = pd.read_csv(\"data/fred-3m-tbill-secondary-yield.csv\", index_col=0, parse_dates=True).sort_index().squeeze()\n",
    "tbill_yield = tbill_yield.apply(lambda y: None if y == \".\" else y)\n",
    "tbill_yield = tbill_yield.astype(float)\n",
    "tbill_yield = tbill_yield.ffill(limit=3)\n",
    "tbill_yield = tbill_yield / 100\n",
    "# this really isn't very realistic but good enough for me\n",
    "tbill_r = tbill_yield / DAYCOUNTS[\"BY\"]"
   ]
  },
  {
   "cell_type": "code",
   "execution_count": 133,
   "metadata": {},
   "outputs": [
    {
     "data": {
      "text/plain": [
       "Date\n",
       "1993-01-29     25.547970\n",
       "1993-02-01     25.729687\n",
       "1993-02-02     25.784206\n",
       "1993-02-03     26.056763\n",
       "1993-02-04     26.165787\n",
       "                 ...    \n",
       "2022-04-28    427.809998\n",
       "2022-04-29    412.000000\n",
       "2022-05-02    414.480011\n",
       "2022-05-03    416.380005\n",
       "2022-05-04    429.059998\n",
       "Name: Adj Close, Length: 7370, dtype: float64"
      ]
     },
     "execution_count": 133,
     "metadata": {},
     "output_type": "execute_result"
    }
   ],
   "source": [
    "spy_px = pd.read_csv(\"data/yahoo-finance-spy-px.csv\", index_col=0, parse_dates=True).sort_index()[\"Adj Close\"].squeeze()\n",
    "spy_px"
   ]
  },
  {
   "cell_type": "code",
   "execution_count": 134,
   "metadata": {},
   "outputs": [],
   "source": [
    "spy_r = get_r(px=spy_px)"
   ]
  },
  {
   "cell_type": "code",
   "execution_count": 193,
   "metadata": {},
   "outputs": [],
   "source": [
    "spy_xr = spy_r - tbill_r"
   ]
  },
  {
   "cell_type": "code",
   "execution_count": 164,
   "metadata": {},
   "outputs": [
    {
     "data": {
      "text/plain": [
       "0.6626168614597042"
      ]
     },
     "execution_count": 164,
     "metadata": {},
     "output_type": "execute_result"
    }
   ],
   "source": [
    "get_est_sharpe(spy_r, kind=\"full\")"
   ]
  },
  {
   "cell_type": "code",
   "execution_count": 194,
   "metadata": {},
   "outputs": [
    {
     "data": {
      "text/plain": [
       "0.5301797440266071"
      ]
     },
     "execution_count": 194,
     "metadata": {},
     "output_type": "execute_result"
    }
   ],
   "source": [
    "get_est_sharpe(spy_xr, kind=\"full\")"
   ]
  },
  {
   "cell_type": "code",
   "execution_count": 195,
   "metadata": {},
   "outputs": [
    {
     "data": {
      "text/plain": [
       "0.5795290053309202"
      ]
     },
     "execution_count": 195,
     "metadata": {},
     "output_type": "execute_result"
    }
   ],
   "source": [
    "spy_xr_tgt = get_vol_targeted(r=spy_xr)\n",
    "get_est_sharpe(spy_xr_tgt, kind=\"full\")"
   ]
  },
  {
   "cell_type": "code",
   "execution_count": 196,
   "metadata": {},
   "outputs": [
    {
     "data": {
      "text/plain": [
       "0.4983536733586936"
      ]
     },
     "execution_count": 196,
     "metadata": {},
     "output_type": "execute_result"
    }
   ],
   "source": [
    "get_est_sharpe(spy_xr.loc[:\"2017\"], kind=\"full\")"
   ]
  },
  {
   "cell_type": "code",
   "execution_count": 197,
   "metadata": {},
   "outputs": [
    {
     "data": {
      "text/plain": [
       "0.5803236363659845"
      ]
     },
     "execution_count": 197,
     "metadata": {},
     "output_type": "execute_result"
    }
   ],
   "source": [
    "get_est_sharpe(spy_xr_tgt.loc[:\"2017\"], kind=\"full\")"
   ]
  },
  {
   "cell_type": "code",
   "execution_count": null,
   "metadata": {},
   "outputs": [],
   "source": []
  },
  {
   "cell_type": "code",
   "execution_count": 198,
   "metadata": {},
   "outputs": [
    {
     "data": {
      "text/plain": [
       "0.8282735763495201"
      ]
     },
     "execution_count": 198,
     "metadata": {},
     "output_type": "execute_result"
    }
   ],
   "source": [
    "get_est_sharpe(spy_xr.loc[\"2017\":], kind=\"full\")"
   ]
  },
  {
   "cell_type": "code",
   "execution_count": 199,
   "metadata": {},
   "outputs": [
    {
     "data": {
      "text/plain": [
       "0.9476564152761007"
      ]
     },
     "execution_count": 199,
     "metadata": {},
     "output_type": "execute_result"
    }
   ],
   "source": [
    "get_est_sharpe(spy_xr_tgt.loc[\"2017\":], kind=\"full\")"
   ]
  },
  {
   "cell_type": "code",
   "execution_count": null,
   "metadata": {},
   "outputs": [],
   "source": []
  },
  {
   "cell_type": "code",
   "execution_count": 100,
   "metadata": {},
   "outputs": [
    {
     "data": {
      "text/plain": [
       "Date\n",
       "2007-12-31    100.000\n",
       "2008-01-01    100.000\n",
       "2008-01-02    100.480\n",
       "2008-01-03    100.561\n",
       "2008-01-04    100.805\n",
       "Name: Index Level, dtype: float64"
      ]
     },
     "execution_count": 100,
     "metadata": {},
     "output_type": "execute_result"
    }
   ],
   "source": [
    "mbs_px = pd.read_csv(\"data/invesco-us-mbs-index-px.csv\", index_col=0, parse_dates=True).sort_index().squeeze()\n",
    "mbs_px.head()"
   ]
  },
  {
   "cell_type": "code",
   "execution_count": 101,
   "metadata": {},
   "outputs": [],
   "source": [
    "mbs_r = get_r(px=mbs_px)"
   ]
  },
  {
   "cell_type": "code",
   "execution_count": 200,
   "metadata": {},
   "outputs": [],
   "source": [
    "mbs_xr = mbs_r - tbill_r"
   ]
  },
  {
   "cell_type": "code",
   "execution_count": 201,
   "metadata": {},
   "outputs": [],
   "source": [
    "mbs_xr_tgt = get_vol_targeted(mbs_xr)"
   ]
  },
  {
   "cell_type": "code",
   "execution_count": 203,
   "metadata": {},
   "outputs": [
    {
     "data": {
      "text/plain": [
       "0.10640708490397557"
      ]
     },
     "execution_count": 203,
     "metadata": {},
     "output_type": "execute_result"
    }
   ],
   "source": [
    "mbs_xr_tgt.std()*261**0.5"
   ]
  },
  {
   "cell_type": "code",
   "execution_count": 213,
   "metadata": {},
   "outputs": [
    {
     "data": {
      "text/plain": [
       "0.6656975538202119"
      ]
     },
     "execution_count": 213,
     "metadata": {},
     "output_type": "execute_result"
    }
   ],
   "source": [
    "get_est_sharpe(mbs_xr * (mbs_xr_tgt/mbs_xr_tgt).loc[:] ,kind=\"full\")"
   ]
  },
  {
   "cell_type": "code",
   "execution_count": 212,
   "metadata": {},
   "outputs": [
    {
     "data": {
      "text/plain": [
       "0.6374847751260584"
      ]
     },
     "execution_count": 212,
     "metadata": {},
     "output_type": "execute_result"
    }
   ],
   "source": [
    "get_est_sharpe(mbs_xr_tgt.loc[:], kind=\"full\")"
   ]
  },
  {
   "cell_type": "code",
   "execution_count": null,
   "metadata": {},
   "outputs": [],
   "source": []
  },
  {
   "cell_type": "code",
   "execution_count": null,
   "metadata": {},
   "outputs": [],
   "source": []
  },
  {
   "cell_type": "code",
   "execution_count": 214,
   "metadata": {},
   "outputs": [
    {
     "data": {
      "text/plain": [
       "-0.14988497770780984"
      ]
     },
     "execution_count": 214,
     "metadata": {},
     "output_type": "execute_result"
    }
   ],
   "source": [
    "mbs_xr.corr(spy_xr)"
   ]
  },
  {
   "cell_type": "code",
   "execution_count": 219,
   "metadata": {},
   "outputs": [
    {
     "data": {
      "text/plain": [
       "-0.09048105221877635"
      ]
     },
     "execution_count": 219,
     "metadata": {},
     "output_type": "execute_result"
    }
   ],
   "source": [
    "mbs_xr.loc[\"2015\":].corr(spy_xr)"
   ]
  },
  {
   "cell_type": "code",
   "execution_count": 215,
   "metadata": {},
   "outputs": [
    {
     "data": {
      "text/plain": [
       "-0.2060071884230736"
      ]
     },
     "execution_count": 215,
     "metadata": {},
     "output_type": "execute_result"
    }
   ],
   "source": [
    "mbs_xr_tgt.corr(spy_xr_tgt)"
   ]
  },
  {
   "cell_type": "code",
   "execution_count": 220,
   "metadata": {},
   "outputs": [
    {
     "data": {
      "text/plain": [
       "<AxesSubplot:xlabel='Date'>"
      ]
     },
     "execution_count": 220,
     "metadata": {},
     "output_type": "execute_result"
    },
    {
     "data": {
      "image/png": "[encoded data removed]",
      "text/plain": [
       "<Figure size 432x288 with 1 Axes>"
      ]
     },
     "metadata": {
      "needs_background": "light"
     },
     "output_type": "display_data"
    }
   ],
   "source": [
    "spy_px.loc[\"2008\":].plot()"
   ]
  },
  {
   "cell_type": "code",
   "execution_count": 222,
   "metadata": {},
   "outputs": [
    {
     "data": {
      "text/plain": [
       "<AxesSubplot:xlabel='Date'>"
      ]
     },
     "execution_count": 222,
     "metadata": {},
     "output_type": "execute_result"
    },
    {
     "data": {
      "image/png": "[encoded data removed]",
      "text/plain": [
       "<Figure size 432x288 with 1 Axes>"
      ]
     },
     "metadata": {
      "needs_background": "light"
     },
     "output_type": "display_data"
    }
   ],
   "source": [
    "mbs_px.loc[\"2008\":].plot()"
   ]
  }
 ],
 "metadata": {
  "kernelspec": {
   "display_name": "Python 3",
   "language": "python",
   "name": "python3"
  },
  "language_info": {
   "codemirror_mode": {
    "name": "ipython",
    "version": 3
   },
   "file_extension": ".py",
   "mimetype": "text/x-python",
   "name": "python",
   "nbconvert_exporter": "python",
   "pygments_lexer": "ipython3",
   "version": "3.8.5"
  }
 },
 "nbformat": 4,
 "nbformat_minor": 4
}
