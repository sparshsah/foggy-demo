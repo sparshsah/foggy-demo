{
 "cells": [
  {
   "cell_type": "markdown",
   "metadata": {},
   "source": [
    "# PERFORMANCE OF HEDGED CREDIT\n",
    "\n",
    "AUTHOR: [@sparshsah](https://github.com/sparshsah)"
   ]
  },
  {
   "cell_type": "code",
   "execution_count": 90,
   "metadata": {},
   "outputs": [],
   "source": [
    "# utils: ignore\n",
    "\n",
    "from typing import Union, Optional\n",
    "from collections import OrderedDict\n",
    "import pandas as pd\n",
    "import numpy as np\n",
    "import matplotlib.pyplot as plt\n",
    "\n",
    "DEFAULT_R_KIND: str = \"log\"\n",
    "SHORT_HORIZON: int = 3\n",
    "DEFAULT_WINDOW_KIND: str = \"full\"\n",
    "EST_HORIZON: int = 42\n",
    "DEFAULT_AVG_KIND: str = \"mean\"\n",
    "# observe info at `t`, trade on it the course of `t+1`, earn at `t+2`\n",
    "IMPL_LAG: int = 2\n",
    "# approx duration of a 2Y t-bond\n",
    "DEFAULT_BOND_DUR: float = 1.93\n",
    "DEFAULT_VOL: float = 0.10\n",
    "DAYCOUNTS = {\"Bd\": 1, \"BW\": 5, \"Bm\": 21, \"BQ\": 65, \"BY\": 261}\n",
    "\n",
    "FloatT = Union[float, pd.Series, pd.DataFrame]\n",
    "\n",
    "\n",
    "def get_r_from_px(px: pd.Series, kind: str=DEFAULT_R_KIND) -> pd.Series:\n",
    "    r = {\n",
    "        \"arith\": px.diff(),\n",
    "        \"log\": np.log(px/px.shift()),\n",
    "        \"geom\": px/px.shift()-1\n",
    "    }\n",
    "    r = r[kind]\n",
    "    return r\n",
    "\n",
    "def get_r_from_yield(\n",
    "        yld: pd.Series,\n",
    "        dur: float=DEFAULT_BOND_DUR,\n",
    "        annualizer=DAYCOUNTS[\"BY\"]\n",
    "    ) -> pd.Series:\n",
    "    \"\"\"Approximation for a constant-duration bond, assuming log yields.\"\"\"\n",
    "    one_day_carry_exposed_return = yld.shift() / annualizer\n",
    "    # remember: duration is in years, so we must use annualized yields\n",
    "    delta_yld = yld - yld.shift()\n",
    "    duration_exposed_return = -dur * (delta_yld)\n",
    "    r = one_day_carry_exposed_return + duration_exposed_return\n",
    "    return r\n",
    "\n",
    "\n",
    "def get_xr(r: pd.Series, tbill_r: pd.Series) -> pd.Series:\n",
    "    r = r - tbill_r.reindex(index=r.index).rename(r.name)\n",
    "    return r\n",
    "\n",
    "\n",
    "def get_cum_r(r: pd.Series, kind: str=DEFAULT_R_KIND) -> pd.Series:\n",
    "    px = {\n",
    "        \"arith\": r.cumsum(),\n",
    "        \"log\": r.cumsum(),\n",
    "        \"geom\": (1+r).cumprod() - 1\n",
    "    }\n",
    "    px = px[kind]\n",
    "    return px\n",
    "    \n",
    "\n",
    "\n",
    "def _get_window(\n",
    "        ser: pd.Series,\n",
    "        kind: str=DEFAULT_WINDOW_KIND,\n",
    "        horizon: int=EST_HORIZON,\n",
    "        min_periods: Optional[int]=None\n",
    "    ) -> pd.core.window.Window:\n",
    "    min_periods = int(horizon/2) if min_periods is None else min_periods\n",
    "    window = {\n",
    "        \"full\": ser,\n",
    "        \"expanding\": ser.expanding(min_periods=min_periods),\n",
    "        \"ewm\": ser.ewm(com=horizon, min_periods=min_periods),\n",
    "        \"rolling\": ser.rolling(window=horizon, min_periods=min_periods)\n",
    "    }\n",
    "    window = window[kind]\n",
    "    return window\n",
    "\n",
    "\n",
    "def _get_est_avg(\n",
    "        y: pd.Series,\n",
    "        window_kind: str=DEFAULT_WINDOW_KIND,\n",
    "        horizon: int=EST_HORIZON,\n",
    "        avg_kind: str=DEFAULT_AVG_KIND\n",
    "    ) -> pd.Series:\n",
    "    window = _get_window(y, kind=window_kind, horizon=horizon)\n",
    "    est_avg = {\n",
    "        \"mean\": window.mean(),\n",
    "        # \"median\": window.median()\n",
    "    }\n",
    "    est_avg = est_avg[avg_kind]\n",
    "    return est_avg\n",
    "\n",
    "\n",
    "def get_est_er(\n",
    "        r: pd.Series,\n",
    "        kind: str=DEFAULT_WINDOW_KIND,\n",
    "        annualizer: int=DAYCOUNTS[\"BY\"]\n",
    "    ) -> pd.Series:\n",
    "    est_avg = _get_est_avg(y=r, window_kind=kind)\n",
    "    est_er = est_avg * annualizer\n",
    "    return est_er\n",
    "\n",
    "\n",
    "def _get_est_cov(\n",
    "        y: pd.Series, x: pd.Series,\n",
    "        short_horizon: int=SHORT_HORIZON,\n",
    "        demean: bool=False,\n",
    "        kind: str=DEFAULT_WINDOW_KIND,\n",
    "        horizon: int=EST_HORIZON\n",
    "    ) -> pd.Series:\n",
    "    \"\"\"Simple GARCH estimate of covariance.\n",
    "    \n",
    "    The estimate at time `t` incorporates information up to and including `t`.\n",
    "    \n",
    "    sources\n",
    "    -------\n",
    "    https://github.com/sparshsah/foggy-demo/blob/main/demo/stats/bias-variance-risk.ipynb.pdf\n",
    "    https://faculty.fuqua.duke.edu/~charvey/Research/Published_Papers/P135_The_impact_of.pdf\n",
    "    \"\"\"\n",
    "    y_deviations = y\n",
    "    x_deviations = x\n",
    "    if demean:\n",
    "        y_deviations = y_deviations - _get_window(y_deviations, kind=kind, horizon=horizon).mean()\n",
    "        x_deviations = x_deviations - _get_window(x_deviations, kind=kind, horizon=horizon).mean()\n",
    "    # adjust for CLT! std of n-sum inverse-scales w/ n**0.5\n",
    "    y_deviations = y_deviations.rolling(window=short_horizon).sum() / short_horizon**0.5\n",
    "    x_deviations = x_deviations.rolling(window=short_horizon).sum() / short_horizon**0.5\n",
    "    co_deviations = y_deviations * x_deviations\n",
    "    est_cov = _get_window(co_deviations, kind=kind, horizon=horizon).mean()\n",
    "    return est_cov\n",
    "\n",
    "def _get_est_std(y: pd.Series, kind: str=DEFAULT_WINDOW_KIND) -> pd.Series:\n",
    "    est_var = _get_est_cov(y=y, x=y, kind=kind)\n",
    "    est_std = est_var **0.5\n",
    "    return est_std\n",
    "\n",
    "def _get_est_corr(y: pd.Series, x: pd.Series) -> pd.Series:\n",
    "    est_cov = _get_est_cov(y=y, x=x)\n",
    "    est_y_std = _get_est_std(y=y)\n",
    "    est_x_std = _get_est_std(y=x)\n",
    "    est_corr = est_cov / (est_y_std * est_x_std)\n",
    "    return est_corr\n",
    "\n",
    "\n",
    "def get_est_vol(\n",
    "        r: pd.Series,\n",
    "        kind: str=DEFAULT_WINDOW_KIND,\n",
    "        annualizer: int=DAYCOUNTS[\"BY\"]\n",
    "    ) -> pd.Series:\n",
    "    est_std = _get_est_std(y=r, kind=kind)\n",
    "    est_vol = est_std * annualizer**0.5\n",
    "    return est_vol\n",
    "\n",
    "\n",
    "def get_est_sharpe(r: pd.Series, kind: str=DEFAULT_WINDOW_KIND):\n",
    "    est_er = get_est_er(r=r, kind=kind)\n",
    "    est_vol = get_est_vol(r=r, kind=kind)\n",
    "    est_sharpe = est_er / est_vol\n",
    "    return est_sharpe\n",
    "\n",
    "\n",
    "def get_est_beta(of: pd.Series, on: pd.Series) -> pd.Series:\n",
    "    est_corr = _get_est_corr(y=of, x=on)\n",
    "    est_of_std = _get_est_std(y=of)\n",
    "    est_on_std = _get_est_std(y=on)\n",
    "    est_beta = est_corr * (est_of_std / est_on_std)\n",
    "    return est_beta\n",
    "\n",
    "\n",
    "def _get_est_perf_stats(r: pd.Series) -> pd.Series:\n",
    "    perf_stats = [\n",
    "        (\"Sharpe\", get_est_sharpe(r=r)),\n",
    "        (\"ER\", get_est_er(r=r)),\n",
    "        (\"Vol\", get_est_vol(r=r))\n",
    "    ]\n",
    "    perf_stats = OrderedDict(perf_stats)\n",
    "    perf_stats = pd.Series(perf_stats)\n",
    "    return perf_stats\n",
    "\n",
    "\n",
    "def _chart(r: pd.Series) -> pd.Series:\n",
    "    cum_r = get_cum_r(r=r)\n",
    "    cum_r.plot(title=r.name)\n",
    "    plt.show()\n",
    "    est_perf_stats = _get_est_perf_stats(r=r)\n",
    "    print(est_perf_stats)\n",
    "    return est_perf_stats\n",
    "\n",
    "\n",
    "\n",
    "def get_vol_targeted(r: pd.Series, tgt_vol: float=DEFAULT_VOL) -> pd.Series:\n",
    "    \"\"\"(Implementably) modulate volatility.\n",
    "    \n",
    "    Input should be excess-of-interest-rate returns.\n",
    "    \"\"\"\n",
    "    est_vol = get_est_vol(r=r, kind=\"ewm\")\n",
    "    # at the end of each session, we check the data,\n",
    "    # then trade up or down to hit this much leverage...\n",
    "    est_required_leverage = tgt_vol / est_vol\n",
    "    # ... thence, over the next session, we earn this much return\n",
    "    # (based on yesterday's estimate of required leverage)\n",
    "    leverage_at_t = est_required_leverage.shift(IMPL_LAG)\n",
    "    levered_r_at_t = leverage_at_t * r\n",
    "    return levered_r_at_t\n",
    "\n",
    "\n",
    "def get_hedged(base: pd.Series, out: pd.Series) -> pd.Series:\n",
    "    \"\"\"(Implementably) short out `base`'s exposure to `out`.\"\"\"\n",
    "    # at the end of each day, we submit an order to short this much `out`\n",
    "    est_beta = get_est_beta(of=base, on=out)\n",
    "    # this is weight as $ notional / $ NAV\n",
    "    hedge_pos_at_t = est_beta.shift(IMPL_LAG)\n",
    "    hedge_r_at_t = hedge_pos_at_t * out\n",
    "    hedged_base_r_at_t = base - hedge_r_at_t\n",
    "    return hedged_base_r_at_t"
   ]
  },
  {
   "cell_type": "code",
   "execution_count": 91,
   "metadata": {},
   "outputs": [],
   "source": [
    "def get_bond_r_from_yld(fname: str, name: str, dur: float=DEFAULT_BOND_DUR, xr: bool=False) -> pd.Series:\n",
    "    yld = pd.read_csv(fname, index_col=0, parse_dates=True).sort_index().squeeze()\n",
    "    yld = yld.apply(lambda y: None if y == \".\" else y)\n",
    "    yld = yld.ffill(limit=3)\n",
    "    yld = yld.astype(float)\n",
    "    yld = yld / 100  # comes as pctg\n",
    "    yld = yld.rename(name)\n",
    "    r = get_r_from_yield(yld=yld, dur=dur)\n",
    "    if xr:\n",
    "        r = get_xr(r=r, tbill_r=TBILL_R)\n",
    "    return r"
   ]
  },
  {
   "cell_type": "code",
   "execution_count": 94,
   "metadata": {},
   "outputs": [
    {
     "data": {
      "image/png": "[encoded data removed]",
      "text/plain": [
       "<Figure size 432x288 with 1 Axes>"
      ]
     },
     "metadata": {
      "needs_background": "light"
     },
     "output_type": "display_data"
    },
    {
     "name": "stdout",
     "output_type": "stream",
     "text": [
      "Sharpe    6.217156\n",
      "ER        0.041920\n",
      "Vol       0.006743\n",
      "dtype: float64\n"
     ]
    },
    {
     "data": {
      "text/plain": [
       "Sharpe    6.217156\n",
       "ER        0.041920\n",
       "Vol       0.006743\n",
       "dtype: float64"
      ]
     },
     "execution_count": 94,
     "metadata": {},
     "output_type": "execute_result"
    }
   ],
   "source": [
    "TBILL_R = get_bond_r_from_yld(fname=\"data/fred-3m-tbill-secondary-yield.csv\", name=\"tbill3m\", dur=0.25)\n",
    "_chart(TBILL_R)"
   ]
  },
  {
   "cell_type": "code",
   "execution_count": 95,
   "metadata": {},
   "outputs": [
    {
     "data": {
      "image/png": "[encoded data removed]",
      "text/plain": [
       "<Figure size 432x288 with 1 Axes>"
      ]
     },
     "metadata": {
      "needs_background": "light"
     },
     "output_type": "display_data"
    },
    {
     "name": "stdout",
     "output_type": "stream",
     "text": [
      "Sharpe   -0.275923\n",
      "ER       -0.002992\n",
      "Vol       0.010842\n",
      "dtype: float64\n"
     ]
    },
    {
     "data": {
      "text/plain": [
       "Sharpe   -0.275923\n",
       "ER       -0.002992\n",
       "Vol       0.010842\n",
       "dtype: float64"
      ]
     },
     "execution_count": 95,
     "metadata": {},
     "output_type": "execute_result"
    }
   ],
   "source": [
    "TY_R = get_bond_r_from_yld(fname=\"data/fred-2y-treasury-mkt-yield.csv\", name=\"tnote2Y\", dur=2, xr=True)\n",
    "_chart(TY_R)"
   ]
  }
 ],
 "metadata": {
  "kernelspec": {
   "display_name": "Python 3",
   "language": "python",
   "name": "python3"
  },
  "language_info": {
   "codemirror_mode": {
    "name": "ipython",
    "version": 3
   },
   "file_extension": ".py",
   "mimetype": "text/x-python",
   "name": "python",
   "nbconvert_exporter": "python",
   "pygments_lexer": "ipython3",
   "version": "3.8.5"
  }
 },
 "nbformat": 4,
 "nbformat_minor": 4
}
