{
 "cells": [
  {
   "cell_type": "markdown",
   "metadata": {},
   "source": [
    "author: [@sparshsah](https://github.com/sparshsah)\n",
    "\n",
    "DISCLAIMER: I am not necessarily an expert in EITHER finance or investing in general OR any of the products I mention below. I am NOT a financial advisor, and this analysis is NOT financial advice NOR to be interpreted as such. As always, past investment performance CANNOT guarantee future results. I am simply presenting some data and doing some calculations on it. I CANNOT promise that my calculations are correct OR useful. Opinions, if and where present, are (a) my own and (b) NOT to be interpreted as financial advice. This is NOT a solicitation or offer to EITHER trade or take a position in any security, derivative, fund, or other asset, OR enter into any contract or other agreement. Before making any personal financial or investment decisions, consult with a qualified professional financial advisor about how to build a well-diversified and risk-managed portfolio that is best for you.\n",
    "\n",
    "DISCLOSURES: Between 2018 and 2022, I was with AQR and worked on, among other things, styles research, including research that flowed into QSPNX, one of the products I mention below. I hold VMNFX in my personal portfolio. However, this analysis is not sponsored, commissioned, or vetted by any investment manager (including SSGA, AQR, or Vanguard); I have not and will not get paid for anything I say below; and I have no commercial interests in its publication, circulation, or results.\n",
    "\n",
    "DATA SOURCES: SPY, QSPNX, QMNNX, and VMNFX live adjusted close price history is from Yahoo Finance."
   ]
  },
  {
   "cell_type": "markdown",
   "metadata": {},
   "source": [
    "# Setting\n",
    "\n",
    "Styles are systematic, intuitive, and well-documented sources of expected returns uncorrelated with stock-, bond-, or commodity-market returns (often implemented using leverage, shorting, and/or derivatives). I will compare the live net-of-fee net-of-tcost performance of three styles-driven mutual funds available to individual investors in the US as of 2022-06-09.\n",
    "\n",
    "\n",
    "## QSPNX, \"AQR Style Premia Alternative Fund\": AQR's Market-Neutral Stock-Selection-and-Global-Macro Styles Mutual Fund (N share class)\n",
    "* [Offering documents](https://funds.aqr.com/funds/alternatives/aqr-style-premia-alternative-fund/qspnx)\n",
    "* Profiles: [Morningstar](https://www.morningstar.com/funds/xnas/qspnx/quote), [Fidelity](https://fundresearch.fidelity.com/mutual-funds/view-all/00203H412)\n",
    "### Fast facts:\n",
    "* Manager: AQR\n",
    "* Manager inception date: 1998 (24 years ago)\n",
    "* Fund Category: Core liquid-alternative\n",
    "* Fund target volatility: 10\\%\n",
    "* Fund inception date: 2013-10-30 (9 years ago)\n",
    "* Fund AUM: \\$943M\n",
    "### Strategy:\n",
    "* Four styles (Value, Momentum, Carry, and Defensive including Quality \\& BAB) across five asset classes (Single-name stocks \\& industries, Stock indices, Yield curve, Currencies, and Commodities).\n",
    "\n",
    "## QMNNX, \"AQR Equity Market Neutral Fund\": AQR's Market-Neutral Stock-Selection-only Styles+Alpha Mutual Fund (N share class)\n",
    "* [Offering documents](https://funds.aqr.com/funds/alternatives/aqr-equity-market-neutral-fund/qmnnx)\n",
    "* Profiles: [Morningstar](https://www.morningstar.com/funds/xnas/qmnnx/quote)\n",
    "### Fast facts:\n",
    "* Manager: AQR\n",
    "* Manager inception date: 1998 (24 years ago)\n",
    "* Fund category: Liquid alternative\n",
    "* Fund target volatility: 6\\%\n",
    "* Fund inception date: 2014-10-07\n",
    "* Fund AUM: \\$146M\n",
    "### Strategy:\n",
    "* Four styles (Value, Momentum, Carry, and Defensive including Quality \\& BAB) in a single asset class (Single-name stocks \\& industries).\n",
    "* AQR Global Stock Selection team's market-neutral systematic alpha signals in single-name stocks \\& industries.\n",
    "\n",
    "## VMNFX, \"Vanguard Market Neutral Fund\": Vanguard's Market-Neutral Stock-Selection Mutual Fund (individual-investor share class)\n",
    "- Offering documents for [advisors](https://advisors.vanguard.com/investments/products/vmnfx/vanguard-market-neutral-fund-investor-shares) and [investors](https://investor.vanguard.com/mutual-funds/profile/VMNFX)\n",
    "- Profiles: [Morningstar](https://www.morningstar.com/funds/xnas/vmnfx/quote), [Fidelity](https://fundresearch.fidelity.com/mutual-funds/view-all/92205G104), [Two Sigma](https://www.venn.twosigma.com/vennsights/article/blog-post-alpha)\n",
    "- Inception date: 1998-11-11\n",
    "* Fund AUM: \\$630M\n",
    "VMNFX  is a liquid-alternative solution that invests in their Quantitative Equity Group's market-, industry-, and size-neutral systematic stock-selection signals (including but not limited to styles such as Value, Momentum, and Quality) in US large-, mid-, and small-cap single-name stocks. The fund appears to target around 7\\% annualized volatility."
   ]
  },
  {
   "cell_type": "code",
   "execution_count": 2,
   "metadata": {},
   "outputs": [],
   "source": [
    "from importlib import reload\n",
    "import sys\n",
    "# https://github.com/sparshsah/foggy-lib/tree/main/util\n",
    "sys.path.insert(0, \"../../../foggy-lib/util\")\n",
    "del sys"
   ]
  },
  {
   "cell_type": "code",
   "execution_count": 7,
   "metadata": {},
   "outputs": [],
   "source": [
    "import pandas as pd\n",
    "import numpy as np\n",
    "import foggy_pylib.core as fc\n",
    "import foggy_pylib.fin as ff"
   ]
  },
  {
   "cell_type": "code",
   "execution_count": 39,
   "metadata": {},
   "outputs": [
    {
     "data": {
      "text/plain": [
       "<module 'foggy_pylib.fin' from '/Users/sparshsah/Documents/biz/foggyBASIS/sys/foggy-lib/util/foggy_pylib/fin.py'>"
      ]
     },
     "execution_count": 39,
     "metadata": {},
     "output_type": "execute_result"
    }
   ],
   "source": [
    "reload(fc)\n",
    "reload(ff)"
   ]
  },
  {
   "cell_type": "code",
   "execution_count": 47,
   "metadata": {},
   "outputs": [],
   "source": [
    "KIND = \"geom\"\n",
    "TICKERS = [\"SPY\", \"QSPNX\", \"QMNNX\", \"VMNFX\"]\n",
    "\n",
    "def _get_pnl(ticker=\"qspnx\"):\n",
    "    px = pd.read_csv(f\"data/yahoo-finance_{ticker}_px.csv\", index_col=0, parse_dates=True)[\"Adj Close\"]\n",
    "    pnl = ff._get_r_from_px(px=px, kind=KIND)\n",
    "    return pnl\n",
    "\n",
    "def get_pnl():\n",
    "    pnl = {ticker: _get_pnl(ticker=ticker) for ticker in TICKERS}\n",
    "    pnl = pd.DataFrame(pnl, columns=TICKERS)\n",
    "    # ignore the stuff prior to the first active fund\n",
    "    start_date = min(_pnl.first_valid_index() for ticker, _pnl in pnl.iteritems() if ticker != \"spy\")\n",
    "    pnl = pnl.loc[start_date:, :]\n",
    "    return pnl"
   ]
  },
  {
   "cell_type": "code",
   "execution_count": 48,
   "metadata": {},
   "outputs": [
    {
     "data": {
      "text/html": [
       "<div>\n",
       "<style scoped>\n",
       "    .dataframe tbody tr th:only-of-type {\n",
       "        vertical-align: middle;\n",
       "    }\n",
       "\n",
       "    .dataframe tbody tr th {\n",
       "        vertical-align: top;\n",
       "    }\n",
       "\n",
       "    .dataframe thead th {\n",
       "        text-align: right;\n",
       "    }\n",
       "</style>\n",
       "<table border=\"1\" class=\"dataframe\">\n",
       "  <thead>\n",
       "    <tr style=\"text-align: right;\">\n",
       "      <th></th>\n",
       "      <th>SPY</th>\n",
       "      <th>QSPNX</th>\n",
       "      <th>QMNNX</th>\n",
       "      <th>VMNFX</th>\n",
       "    </tr>\n",
       "    <tr>\n",
       "      <th>Date</th>\n",
       "      <th></th>\n",
       "      <th></th>\n",
       "      <th></th>\n",
       "      <th></th>\n",
       "    </tr>\n",
       "  </thead>\n",
       "  <tbody>\n",
       "    <tr>\n",
       "      <th>1993-02-01</th>\n",
       "      <td>0.007113</td>\n",
       "      <td>NaN</td>\n",
       "      <td>NaN</td>\n",
       "      <td>NaN</td>\n",
       "    </tr>\n",
       "    <tr>\n",
       "      <th>1993-02-02</th>\n",
       "      <td>0.002119</td>\n",
       "      <td>NaN</td>\n",
       "      <td>NaN</td>\n",
       "      <td>NaN</td>\n",
       "    </tr>\n",
       "    <tr>\n",
       "      <th>1993-02-03</th>\n",
       "      <td>0.010570</td>\n",
       "      <td>NaN</td>\n",
       "      <td>NaN</td>\n",
       "      <td>NaN</td>\n",
       "    </tr>\n",
       "    <tr>\n",
       "      <th>1993-02-04</th>\n",
       "      <td>0.004185</td>\n",
       "      <td>NaN</td>\n",
       "      <td>NaN</td>\n",
       "      <td>NaN</td>\n",
       "    </tr>\n",
       "    <tr>\n",
       "      <th>1993-02-05</th>\n",
       "      <td>-0.000695</td>\n",
       "      <td>NaN</td>\n",
       "      <td>NaN</td>\n",
       "      <td>NaN</td>\n",
       "    </tr>\n",
       "    <tr>\n",
       "      <th>...</th>\n",
       "      <td>...</td>\n",
       "      <td>...</td>\n",
       "      <td>...</td>\n",
       "      <td>...</td>\n",
       "    </tr>\n",
       "    <tr>\n",
       "      <th>2022-06-02</th>\n",
       "      <td>0.019043</td>\n",
       "      <td>-0.019916</td>\n",
       "      <td>-0.011841</td>\n",
       "      <td>-0.001645</td>\n",
       "    </tr>\n",
       "    <tr>\n",
       "      <th>2022-06-03</th>\n",
       "      <td>-0.016412</td>\n",
       "      <td>0.016043</td>\n",
       "      <td>0.005447</td>\n",
       "      <td>0.003295</td>\n",
       "    </tr>\n",
       "    <tr>\n",
       "      <th>2022-06-06</th>\n",
       "      <td>0.003045</td>\n",
       "      <td>-0.002105</td>\n",
       "      <td>0.000000</td>\n",
       "      <td>0.004105</td>\n",
       "    </tr>\n",
       "    <tr>\n",
       "      <th>2022-06-07</th>\n",
       "      <td>0.009592</td>\n",
       "      <td>-0.008439</td>\n",
       "      <td>0.003250</td>\n",
       "      <td>0.003271</td>\n",
       "    </tr>\n",
       "    <tr>\n",
       "      <th>2022-06-08</th>\n",
       "      <td>-0.010872</td>\n",
       "      <td>-0.012766</td>\n",
       "      <td>-0.011879</td>\n",
       "      <td>-0.004890</td>\n",
       "    </tr>\n",
       "  </tbody>\n",
       "</table>\n",
       "<p>7393 rows × 4 columns</p>\n",
       "</div>"
      ],
      "text/plain": [
       "                 SPY     QSPNX     QMNNX     VMNFX\n",
       "Date                                              \n",
       "1993-02-01  0.007113       NaN       NaN       NaN\n",
       "1993-02-02  0.002119       NaN       NaN       NaN\n",
       "1993-02-03  0.010570       NaN       NaN       NaN\n",
       "1993-02-04  0.004185       NaN       NaN       NaN\n",
       "1993-02-05 -0.000695       NaN       NaN       NaN\n",
       "...              ...       ...       ...       ...\n",
       "2022-06-02  0.019043 -0.019916 -0.011841 -0.001645\n",
       "2022-06-03 -0.016412  0.016043  0.005447  0.003295\n",
       "2022-06-06  0.003045 -0.002105  0.000000  0.004105\n",
       "2022-06-07  0.009592 -0.008439  0.003250  0.003271\n",
       "2022-06-08 -0.010872 -0.012766 -0.011879 -0.004890\n",
       "\n",
       "[7393 rows x 4 columns]"
      ]
     },
     "execution_count": 48,
     "metadata": {},
     "output_type": "execute_result"
    }
   ],
   "source": [
    "pnl = get_pnl()\n",
    "pnl"
   ]
  },
  {
   "cell_type": "code",
   "execution_count": null,
   "metadata": {},
   "outputs": [],
   "source": []
  },
  {
   "cell_type": "code",
   "execution_count": 41,
   "metadata": {},
   "outputs": [
    {
     "data": {
      "text/plain": [
       "0.5480855740753365"
      ]
     },
     "execution_count": 41,
     "metadata": {},
     "output_type": "execute_result"
    }
   ],
   "source": [
    "t = fc.maybe_date(ow_lags=-5*261)\n",
    "ff._get_est_corr_of_r(pnl.loc[t:, \"vmnfx\"], pnl.loc[t:, \"qmnnx\"], de_avg_kind=None)"
   ]
  },
  {
   "cell_type": "code",
   "execution_count": 38,
   "metadata": {},
   "outputs": [
    {
     "data": {
      "text/plain": [
       "datetime.datetime(2022, 6, 9, 15, 15, 22, 771434)"
      ]
     },
     "execution_count": 38,
     "metadata": {},
     "output_type": "execute_result"
    }
   ],
   "source": [
    "fc.dt.datetime.now()"
   ]
  },
  {
   "cell_type": "code",
   "execution_count": 45,
   "metadata": {},
   "outputs": [
    {
     "data": {
      "text/plain": [
       "<AxesSubplot:xlabel='Date'>"
      ]
     },
     "execution_count": 45,
     "metadata": {},
     "output_type": "execute_result"
    },
    {
     "data": {
      "image/png": "[encoded data removed]",
      "text/plain": [
       "<Figure size 432x288 with 1 Axes>"
      ]
     },
     "metadata": {},
     "output_type": "display_data"
    }
   ],
   "source": [
    "pnl.cumsum().plot()"
   ]
  },
  {
   "cell_type": "code",
   "execution_count": 42,
   "metadata": {},
   "outputs": [
    {
     "data": {
      "text/plain": [
       "<AxesSubplot:xlabel='Date'>"
      ]
     },
     "execution_count": 42,
     "metadata": {},
     "output_type": "execute_result"
    },
    {
     "data": {
      "image/png": "[encoded data removed]",
      "text/plain": [
       "<Figure size 432x288 with 1 Axes>"
      ]
     },
     "metadata": {},
     "output_type": "display_data"
    }
   ],
   "source": [
    "pnl.loc[t:, :].cumsum().plot()"
   ]
  },
  {
   "cell_type": "code",
   "execution_count": 44,
   "metadata": {},
   "outputs": [
    {
     "data": {
      "text/html": [
       "<div>\n",
       "<style scoped>\n",
       "    .dataframe tbody tr th:only-of-type {\n",
       "        vertical-align: middle;\n",
       "    }\n",
       "\n",
       "    .dataframe tbody tr th {\n",
       "        vertical-align: top;\n",
       "    }\n",
       "\n",
       "    .dataframe thead th {\n",
       "        text-align: right;\n",
       "    }\n",
       "</style>\n",
       "<table border=\"1\" class=\"dataframe\">\n",
       "  <thead>\n",
       "    <tr style=\"text-align: right;\">\n",
       "      <th></th>\n",
       "      <th>spy</th>\n",
       "      <th>qspnx</th>\n",
       "      <th>qmnnx</th>\n",
       "      <th>vmnfx</th>\n",
       "    </tr>\n",
       "  </thead>\n",
       "  <tbody>\n",
       "    <tr>\n",
       "      <th>Sharpe</th>\n",
       "      <td>0.99</td>\n",
       "      <td>1.52</td>\n",
       "      <td>1.22</td>\n",
       "      <td>1.56</td>\n",
       "    </tr>\n",
       "    <tr>\n",
       "      <th>t-stat</th>\n",
       "      <td>1.36</td>\n",
       "      <td>2.08</td>\n",
       "      <td>1.67</td>\n",
       "      <td>2.13</td>\n",
       "    </tr>\n",
       "    <tr>\n",
       "      <th>ER</th>\n",
       "      <td>0.1668</td>\n",
       "      <td>0.2521</td>\n",
       "      <td>0.1643</td>\n",
       "      <td>0.129</td>\n",
       "    </tr>\n",
       "    <tr>\n",
       "      <th>Vol</th>\n",
       "      <td>0.168</td>\n",
       "      <td>0.1655</td>\n",
       "      <td>0.1346</td>\n",
       "      <td>0.0829</td>\n",
       "    </tr>\n",
       "    <tr>\n",
       "      <th>Frac valid timesteps</th>\n",
       "      <td>1</td>\n",
       "      <td>1</td>\n",
       "      <td>1</td>\n",
       "      <td>1</td>\n",
       "    </tr>\n",
       "    <tr>\n",
       "      <th>Total valid timesteps</th>\n",
       "      <td>489</td>\n",
       "      <td>489</td>\n",
       "      <td>489</td>\n",
       "      <td>489</td>\n",
       "    </tr>\n",
       "    <tr>\n",
       "      <th>Total timesteps</th>\n",
       "      <td>489</td>\n",
       "      <td>489</td>\n",
       "      <td>489</td>\n",
       "      <td>489</td>\n",
       "    </tr>\n",
       "    <tr>\n",
       "      <th>First timestep</th>\n",
       "      <td>2020-07-01 00:00:00</td>\n",
       "      <td>2020-07-01 00:00:00</td>\n",
       "      <td>2020-07-01 00:00:00</td>\n",
       "      <td>2020-07-01 00:00:00</td>\n",
       "    </tr>\n",
       "    <tr>\n",
       "      <th>First valid timestep</th>\n",
       "      <td>2020-07-01 00:00:00</td>\n",
       "      <td>2020-07-01 00:00:00</td>\n",
       "      <td>2020-07-01 00:00:00</td>\n",
       "      <td>2020-07-01 00:00:00</td>\n",
       "    </tr>\n",
       "    <tr>\n",
       "      <th>Last valid timestep</th>\n",
       "      <td>2022-06-08 00:00:00</td>\n",
       "      <td>2022-06-08 00:00:00</td>\n",
       "      <td>2022-06-08 00:00:00</td>\n",
       "      <td>2022-06-08 00:00:00</td>\n",
       "    </tr>\n",
       "    <tr>\n",
       "      <th>Last timestep</th>\n",
       "      <td>2022-06-08 00:00:00</td>\n",
       "      <td>2022-06-08 00:00:00</td>\n",
       "      <td>2022-06-08 00:00:00</td>\n",
       "      <td>2022-06-08 00:00:00</td>\n",
       "    </tr>\n",
       "  </tbody>\n",
       "</table>\n",
       "</div>"
      ],
      "text/plain": [
       "                                       spy                qspnx  \\\n",
       "Sharpe                                0.99                 1.52   \n",
       "t-stat                                1.36                 2.08   \n",
       "ER                                  0.1668               0.2521   \n",
       "Vol                                  0.168               0.1655   \n",
       "Frac valid timesteps                     1                    1   \n",
       "Total valid timesteps                  489                  489   \n",
       "Total timesteps                        489                  489   \n",
       "First timestep         2020-07-01 00:00:00  2020-07-01 00:00:00   \n",
       "First valid timestep   2020-07-01 00:00:00  2020-07-01 00:00:00   \n",
       "Last valid timestep    2022-06-08 00:00:00  2022-06-08 00:00:00   \n",
       "Last timestep          2022-06-08 00:00:00  2022-06-08 00:00:00   \n",
       "\n",
       "                                     qmnnx                vmnfx  \n",
       "Sharpe                                1.22                 1.56  \n",
       "t-stat                                1.67                 2.13  \n",
       "ER                                  0.1643                0.129  \n",
       "Vol                                 0.1346               0.0829  \n",
       "Frac valid timesteps                     1                    1  \n",
       "Total valid timesteps                  489                  489  \n",
       "Total timesteps                        489                  489  \n",
       "First timestep         2020-07-01 00:00:00  2020-07-01 00:00:00  \n",
       "First valid timestep   2020-07-01 00:00:00  2020-07-01 00:00:00  \n",
       "Last valid timestep    2022-06-08 00:00:00  2022-06-08 00:00:00  \n",
       "Last timestep          2022-06-08 00:00:00  2022-06-08 00:00:00  "
      ]
     },
     "execution_count": 44,
     "metadata": {},
     "output_type": "execute_result"
    }
   ],
   "source": [
    "ff.get_est_perf_stats_of_r(r=pnl.loc[\"2020Q3\":, :])"
   ]
  }
 ],
 "metadata": {
  "kernelspec": {
   "display_name": "Python 3",
   "language": "python",
   "name": "python3"
  },
  "language_info": {
   "codemirror_mode": {
    "name": "ipython",
    "version": 3
   },
   "file_extension": ".py",
   "mimetype": "text/x-python",
   "name": "python",
   "nbconvert_exporter": "python",
   "pygments_lexer": "ipython3",
   "version": "3.8.5"
  }
 },
 "nbformat": 4,
 "nbformat_minor": 4
}
