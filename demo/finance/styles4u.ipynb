{
 "cells": [
  {
   "cell_type": "markdown",
   "metadata": {},
   "source": [
    "author: [@sparshsah](https://github.com/sparshsah)\n",
    "\n",
    "DISCLAIMER: Read this document at your own risk! Not only could it be a total waste of time, it might make you a straight-up dumber, more-biased, and just generally worse investor. I am not necessarily an expert in EITHER finance or investing in general OR any products mentioned below. I am NOT a financial advisor, and this analysis is NOT professional financial advice NOR to be interpreted as such. Unless someone has a fiduciary legal obligation to you, you should NEVER trust him or her to put your best interest before their own. As always, past investment performance CANNOT guarantee future results, ESPECIALLY when faced with limited history or short horizons. You could lose part or ALL of your initial principal. To the extent that I present data and/or calculations, I CANNOT promise that they are correct OR useful. Opinions, if and where present, are (a) my own and (b) NOT to be interpreted as professional financial advice. This is NOT a recommendation, solicitation, or offer EITHER to take a position in or trade any security, derivative, fund shares, or other asset, OR to enter into any contract, agreement, or other financial relationship. Before making any personal financial or investment decisions, consult with a qualified professional financial advisor about how to build a disciplined portfolio that is best for you.\n",
    "\n",
    "DISCLOSURES: Between 2018 and 2022, I was with AQR and worked on, among other things, styles research, including research that flowed into QSPNX, one of the products I mention below. I hold VMNFX in my personal portfolio. This analysis is not sponsored, commissioned, or vetted by any financial advisor or investment manager; I have not and will not get paid to say or imply anything below; and I have no commercial interests in its publication, circulation, or effects.\n",
    "\n",
    "DATA SOURCES: SPY, QSPNX, QMNNX, and VMNFX live adjusted close price history is from Yahoo Finance."
   ]
  },
  {
   "cell_type": "markdown",
   "metadata": {},
   "source": [
    "# Setting\n",
    "\n",
    "Styles are systematic, intuitive, and well-documented sources of expected returns uncorrelated with stock-, bond-, or commodity-market returns (often implemented using leverage, shorting, and/or derivatives).\n",
    "\n",
    "For some background about the current state of the union for styles (particularly Value), have a listen to Morningstar's Long View [podcast](https://www.youtube.com/watch?v=hSFsE82zwDg) with Cliff Asness from 2022 May.\n",
    "\n",
    "I will compare the live net-of-fee net-of-tcost performance of three styles-driven mutual funds available to individual investors in the US as of 2022-06-09.\n",
    "\n",
    "\n",
    "## QSPNX, \"AQR Style Premia Alternative Fund\": AQR's Market-Neutral Stock-Selection-and-Global-Macro Styles Mutual Fund (N share class)\n",
    "* [Offering documents](https://funds.aqr.com/funds/alternatives/aqr-style-premia-alternative-fund/qspnx)\n",
    "* Profiles: [Morningstar](https://www.morningstar.com/funds/xnas/qspnx/quote), [Fidelity](https://fundresearch.fidelity.com/mutual-funds/view-all/00203H412)\n",
    "### Fast facts:\n",
    "* Manager: AQR\n",
    "* Manager inception date: 1998 (24 years ago)\n",
    "* Fund Category: Core liquid-alternative\n",
    "* Fund target volatility: 10\\%\n",
    "* Fund inception date (for earliest share class): 2013-10-30 (9 years ago)\n",
    "* Fund AUM (across all share classes): \\$943M\n",
    "### Strategy:\n",
    "* Four styles (Value, Momentum, Carry, and Defensive including Quality \\& BAB) across five asset classes (Single-name stocks \\& industries, Stock indices, Yield curve, Currencies, and Commodities).\n",
    "\n",
    "## QMNNX, \"AQR Equity Market Neutral Fund\": AQR's Market-Neutral Stock-Selection-only Styles+Alpha Mutual Fund (N share class)\n",
    "* [Offering documents](https://funds.aqr.com/funds/alternatives/aqr-equity-market-neutral-fund/qmnnx)\n",
    "* Profiles: [Morningstar](https://www.morningstar.com/funds/xnas/qmnnx/quote), [Fidelity](https://fundresearch.fidelity.com/mutual-funds/view-all/00191K781)\n",
    "### Fast facts:\n",
    "* Manager: AQR\n",
    "* Manager inception date: 1998 (24 years ago)\n",
    "* Fund category: Liquid alternative -- Market-neutral stock selection\n",
    "* Fund target volatility: 6\\%\n",
    "* Fund inception date (for earliest share class): 2014-10-07\n",
    "* Fund AUM (across all share classes): \\$146M\n",
    "### Strategy:\n",
    "* Four styles (Value, Momentum, Carry, and Defensive including Quality \\& BAB) in a single asset class (Single-name stocks \\& industries).\n",
    "* AQR Global Stock Selection team's market-neutral systematic alpha signals in single-name stocks \\& industries.\n",
    "\n",
    "## VMNFX, \"Vanguard Market Neutral Fund\": Vanguard's Market-Neutral Stock-Selection Mutual Fund (individual-investor share class)\n",
    "* Offering documents for [advisors](https://advisors.vanguard.com/investments/products/vmnfx/vanguard-market-neutral-fund-investor-shares) and [investors](https://investor.vanguard.com/mutual-funds/profile/VMNFX)\n",
    "* Profiles: [Morningstar](https://www.morningstar.com/funds/xnas/vmnfx/quote), [Fidelity](https://fundresearch.fidelity.com/mutual-funds/view-all/92205G104), [Two Sigma](https://www.venn.twosigma.com/vennsights/article/blog-post-alpha)\n",
    "### Fast facts:\n",
    "* Manager: Vanguard\n",
    "* Manager inception date: 1975 (47 years ago)\n",
    "* Fund category: Liquid alternative -- Market-neutral stock selection\n",
    "* Fund target volatility (inferred from data): 7\\%\n",
    "* Fund Inception date (for earliest share class): 1998-11-11 (24 years ago)\n",
    "* Fund AUM (across all share classes): \\$630M\n",
    "### Strategy:\n",
    "* Market- AND industry- AND size-neutral styles (such as Value, Momentum, and Quality) in a single asset class (US large-, mid-, and small-cap single-name stocks).\n",
    "* Vanguard Quantitative Equity Group's market- AND industry- AND size-neutral systematic alpha signals in US large-, mid-, and small-cap single-name stocks."
   ]
  },
  {
   "cell_type": "code",
   "execution_count": 52,
   "metadata": {},
   "outputs": [],
   "source": [
    "import sys\n",
    "# https://github.com/sparshsah/foggy-lib/tree/main/util\n",
    "sys.path.insert(0, \"../../../foggy-lib/util\")\n",
    "del sys\n",
    "\n",
    "import pandas as pd\n",
    "import numpy as np\n",
    "# https://github.com/sparshsah/foggy-lib/tree/main/util/foggy_pylib\n",
    "import foggy_pylib.core as fc\n",
    "import foggy_pylib.fin as ff"
   ]
  },
  {
   "cell_type": "code",
   "execution_count": 80,
   "metadata": {},
   "outputs": [
    {
     "data": {
      "text/plain": [
       "True"
      ]
     },
     "execution_count": 80,
     "metadata": {},
     "output_type": "execute_result"
    }
   ],
   "source": [
    "from importlib import reload\n",
    "reload(fc)\n",
    "reload(ff)\n",
    "True"
   ]
  },
  {
   "cell_type": "code",
   "execution_count": 67,
   "metadata": {},
   "outputs": [
    {
     "data": {
      "text/html": [
       "<div>\n",
       "<style scoped>\n",
       "    .dataframe tbody tr th:only-of-type {\n",
       "        vertical-align: middle;\n",
       "    }\n",
       "\n",
       "    .dataframe tbody tr th {\n",
       "        vertical-align: top;\n",
       "    }\n",
       "\n",
       "    .dataframe thead th {\n",
       "        text-align: right;\n",
       "    }\n",
       "</style>\n",
       "<table border=\"1\" class=\"dataframe\">\n",
       "  <thead>\n",
       "    <tr style=\"text-align: right;\">\n",
       "      <th></th>\n",
       "      <th>SPY</th>\n",
       "      <th>QSPNX</th>\n",
       "      <th>QMNNX</th>\n",
       "      <th>VMNFX</th>\n",
       "    </tr>\n",
       "    <tr>\n",
       "      <th>Date</th>\n",
       "      <th></th>\n",
       "      <th></th>\n",
       "      <th></th>\n",
       "      <th></th>\n",
       "    </tr>\n",
       "  </thead>\n",
       "  <tbody>\n",
       "    <tr>\n",
       "      <th>2014-10-10</th>\n",
       "      <td>-0.011414</td>\n",
       "      <td>0.003839</td>\n",
       "      <td>0.003021</td>\n",
       "      <td>-0.000874</td>\n",
       "    </tr>\n",
       "    <tr>\n",
       "      <th>2014-10-13</th>\n",
       "      <td>-0.016427</td>\n",
       "      <td>-0.002868</td>\n",
       "      <td>-0.001004</td>\n",
       "      <td>-0.006124</td>\n",
       "    </tr>\n",
       "    <tr>\n",
       "      <th>2014-10-14</th>\n",
       "      <td>0.001547</td>\n",
       "      <td>-0.007670</td>\n",
       "      <td>-0.005025</td>\n",
       "      <td>-0.000880</td>\n",
       "    </tr>\n",
       "    <tr>\n",
       "      <th>2014-10-15</th>\n",
       "      <td>-0.006766</td>\n",
       "      <td>0.009662</td>\n",
       "      <td>-0.006061</td>\n",
       "      <td>-0.005286</td>\n",
       "    </tr>\n",
       "    <tr>\n",
       "      <th>2014-10-16</th>\n",
       "      <td>-0.000858</td>\n",
       "      <td>-0.021053</td>\n",
       "      <td>-0.008130</td>\n",
       "      <td>-0.002657</td>\n",
       "    </tr>\n",
       "    <tr>\n",
       "      <th>...</th>\n",
       "      <td>...</td>\n",
       "      <td>...</td>\n",
       "      <td>...</td>\n",
       "      <td>...</td>\n",
       "    </tr>\n",
       "    <tr>\n",
       "      <th>2022-06-02</th>\n",
       "      <td>0.019043</td>\n",
       "      <td>-0.019916</td>\n",
       "      <td>-0.011841</td>\n",
       "      <td>-0.001645</td>\n",
       "    </tr>\n",
       "    <tr>\n",
       "      <th>2022-06-03</th>\n",
       "      <td>-0.016412</td>\n",
       "      <td>0.016043</td>\n",
       "      <td>0.005447</td>\n",
       "      <td>0.003295</td>\n",
       "    </tr>\n",
       "    <tr>\n",
       "      <th>2022-06-06</th>\n",
       "      <td>0.003045</td>\n",
       "      <td>-0.002105</td>\n",
       "      <td>0.000000</td>\n",
       "      <td>0.004105</td>\n",
       "    </tr>\n",
       "    <tr>\n",
       "      <th>2022-06-07</th>\n",
       "      <td>0.009592</td>\n",
       "      <td>-0.008439</td>\n",
       "      <td>0.003250</td>\n",
       "      <td>0.003271</td>\n",
       "    </tr>\n",
       "    <tr>\n",
       "      <th>2022-06-08</th>\n",
       "      <td>-0.010872</td>\n",
       "      <td>-0.012766</td>\n",
       "      <td>-0.011879</td>\n",
       "      <td>-0.004890</td>\n",
       "    </tr>\n",
       "  </tbody>\n",
       "</table>\n",
       "<p>1929 rows × 4 columns</p>\n",
       "</div>"
      ],
      "text/plain": [
       "                 SPY     QSPNX     QMNNX     VMNFX\n",
       "Date                                              \n",
       "2014-10-10 -0.011414  0.003839  0.003021 -0.000874\n",
       "2014-10-13 -0.016427 -0.002868 -0.001004 -0.006124\n",
       "2014-10-14  0.001547 -0.007670 -0.005025 -0.000880\n",
       "2014-10-15 -0.006766  0.009662 -0.006061 -0.005286\n",
       "2014-10-16 -0.000858 -0.021053 -0.008130 -0.002657\n",
       "...              ...       ...       ...       ...\n",
       "2022-06-02  0.019043 -0.019916 -0.011841 -0.001645\n",
       "2022-06-03 -0.016412  0.016043  0.005447  0.003295\n",
       "2022-06-06  0.003045 -0.002105  0.000000  0.004105\n",
       "2022-06-07  0.009592 -0.008439  0.003250  0.003271\n",
       "2022-06-08 -0.010872 -0.012766 -0.011879 -0.004890\n",
       "\n",
       "[1929 rows x 4 columns]"
      ]
     },
     "execution_count": 67,
     "metadata": {},
     "output_type": "execute_result"
    }
   ],
   "source": [
    "KIND = \"geom\"\n",
    "TICKERS = [\"SPY\", \"QSPNX\", \"QMNNX\", \"VMNFX\"]\n",
    "\n",
    "def _get_pnl(ticker=\"qspnx\"):\n",
    "    px = pd.read_csv(f\"data/yahoo-finance_{ticker}_px.csv\", index_col=0, parse_dates=True)[\"Adj Close\"]\n",
    "    pnl = ff._get_r_from_px(px=px, kind=KIND)\n",
    "    return pnl\n",
    "\n",
    "def get_pnl():\n",
    "    pnl = {ticker: _get_pnl(ticker=ticker) for ticker in TICKERS}\n",
    "    pnl = pd.DataFrame(pnl, columns=TICKERS)\n",
    "    # ignore the stuff prior to the last-to-show-up active fund or after the first-to-drop-out active fund\n",
    "    start_date = max(_pnl.first_valid_index() for ticker, _pnl in pnl.iteritems() if ticker != \"spy\")\n",
    "    end_date = min(_pnl.last_valid_index() for ticker, _pnl in pnl.iteritems() if ticker != \"spy\")\n",
    "    pnl = pnl.loc[start_date:end_date, :]\n",
    "    return pnl\n",
    "\n",
    "pnl = get_pnl()\n",
    "pnl"
   ]
  },
  {
   "cell_type": "code",
   "execution_count": null,
   "metadata": {},
   "outputs": [],
   "source": []
  },
  {
   "cell_type": "code",
   "execution_count": null,
   "metadata": {},
   "outputs": [],
   "source": []
  },
  {
   "cell_type": "code",
   "execution_count": 68,
   "metadata": {},
   "outputs": [
    {
     "data": {
      "text/plain": [
       "<AxesSubplot:xlabel='Date'>"
      ]
     },
     "execution_count": 68,
     "metadata": {},
     "output_type": "execute_result"
    },
    {
     "data": {
      "image/png": "[encoded data removed]",
      "text/plain": [
       "<Figure size 432x288 with 1 Axes>"
      ]
     },
     "metadata": {},
     "output_type": "display_data"
    }
   ],
   "source": [
    "pnl.cumsum().plot()"
   ]
  },
  {
   "cell_type": "code",
   "execution_count": 69,
   "metadata": {},
   "outputs": [
    {
     "data": {
      "text/html": [
       "<div>\n",
       "<style scoped>\n",
       "    .dataframe tbody tr th:only-of-type {\n",
       "        vertical-align: middle;\n",
       "    }\n",
       "\n",
       "    .dataframe tbody tr th {\n",
       "        vertical-align: top;\n",
       "    }\n",
       "\n",
       "    .dataframe thead th {\n",
       "        text-align: right;\n",
       "    }\n",
       "</style>\n",
       "<table border=\"1\" class=\"dataframe\">\n",
       "  <thead>\n",
       "    <tr style=\"text-align: right;\">\n",
       "      <th></th>\n",
       "      <th>SPY</th>\n",
       "      <th>QSPNX</th>\n",
       "      <th>QMNNX</th>\n",
       "      <th>VMNFX</th>\n",
       "    </tr>\n",
       "  </thead>\n",
       "  <tbody>\n",
       "    <tr>\n",
       "      <th>Sharpe</th>\n",
       "      <td>0.81</td>\n",
       "      <td>0.39</td>\n",
       "      <td>0.43</td>\n",
       "      <td>0.31</td>\n",
       "    </tr>\n",
       "    <tr>\n",
       "      <th>t-stat</th>\n",
       "      <td>2.21</td>\n",
       "      <td>1.07</td>\n",
       "      <td>1.17</td>\n",
       "      <td>0.85</td>\n",
       "    </tr>\n",
       "    <tr>\n",
       "      <th>ER</th>\n",
       "      <td>0.1382</td>\n",
       "      <td>0.0439</td>\n",
       "      <td>0.0386</td>\n",
       "      <td>0.0192</td>\n",
       "    </tr>\n",
       "    <tr>\n",
       "      <th>Vol</th>\n",
       "      <td>0.1698</td>\n",
       "      <td>0.1114</td>\n",
       "      <td>0.09</td>\n",
       "      <td>0.0614</td>\n",
       "    </tr>\n",
       "    <tr>\n",
       "      <th>Frac valid timesteps</th>\n",
       "      <td>1</td>\n",
       "      <td>1</td>\n",
       "      <td>1</td>\n",
       "      <td>1</td>\n",
       "    </tr>\n",
       "    <tr>\n",
       "      <th>Total valid timesteps</th>\n",
       "      <td>1929</td>\n",
       "      <td>1929</td>\n",
       "      <td>1929</td>\n",
       "      <td>1929</td>\n",
       "    </tr>\n",
       "    <tr>\n",
       "      <th>Total timesteps</th>\n",
       "      <td>1929</td>\n",
       "      <td>1929</td>\n",
       "      <td>1929</td>\n",
       "      <td>1929</td>\n",
       "    </tr>\n",
       "    <tr>\n",
       "      <th>First timestep</th>\n",
       "      <td>2014-10-10 00:00:00</td>\n",
       "      <td>2014-10-10 00:00:00</td>\n",
       "      <td>2014-10-10 00:00:00</td>\n",
       "      <td>2014-10-10 00:00:00</td>\n",
       "    </tr>\n",
       "    <tr>\n",
       "      <th>First valid timestep</th>\n",
       "      <td>2014-10-10 00:00:00</td>\n",
       "      <td>2014-10-10 00:00:00</td>\n",
       "      <td>2014-10-10 00:00:00</td>\n",
       "      <td>2014-10-10 00:00:00</td>\n",
       "    </tr>\n",
       "    <tr>\n",
       "      <th>Last valid timestep</th>\n",
       "      <td>2022-06-08 00:00:00</td>\n",
       "      <td>2022-06-08 00:00:00</td>\n",
       "      <td>2022-06-08 00:00:00</td>\n",
       "      <td>2022-06-08 00:00:00</td>\n",
       "    </tr>\n",
       "    <tr>\n",
       "      <th>Last timestep</th>\n",
       "      <td>2022-06-08 00:00:00</td>\n",
       "      <td>2022-06-08 00:00:00</td>\n",
       "      <td>2022-06-08 00:00:00</td>\n",
       "      <td>2022-06-08 00:00:00</td>\n",
       "    </tr>\n",
       "  </tbody>\n",
       "</table>\n",
       "</div>"
      ],
      "text/plain": [
       "                                       SPY                QSPNX  \\\n",
       "Sharpe                                0.81                 0.39   \n",
       "t-stat                                2.21                 1.07   \n",
       "ER                                  0.1382               0.0439   \n",
       "Vol                                 0.1698               0.1114   \n",
       "Frac valid timesteps                     1                    1   \n",
       "Total valid timesteps                 1929                 1929   \n",
       "Total timesteps                       1929                 1929   \n",
       "First timestep         2014-10-10 00:00:00  2014-10-10 00:00:00   \n",
       "First valid timestep   2014-10-10 00:00:00  2014-10-10 00:00:00   \n",
       "Last valid timestep    2022-06-08 00:00:00  2022-06-08 00:00:00   \n",
       "Last timestep          2022-06-08 00:00:00  2022-06-08 00:00:00   \n",
       "\n",
       "                                     QMNNX                VMNFX  \n",
       "Sharpe                                0.43                 0.31  \n",
       "t-stat                                1.17                 0.85  \n",
       "ER                                  0.0386               0.0192  \n",
       "Vol                                   0.09               0.0614  \n",
       "Frac valid timesteps                     1                    1  \n",
       "Total valid timesteps                 1929                 1929  \n",
       "Total timesteps                       1929                 1929  \n",
       "First timestep         2014-10-10 00:00:00  2014-10-10 00:00:00  \n",
       "First valid timestep   2014-10-10 00:00:00  2014-10-10 00:00:00  \n",
       "Last valid timestep    2022-06-08 00:00:00  2022-06-08 00:00:00  \n",
       "Last timestep          2022-06-08 00:00:00  2022-06-08 00:00:00  "
      ]
     },
     "execution_count": 69,
     "metadata": {},
     "output_type": "execute_result"
    }
   ],
   "source": [
    "ff.get_est_perf_stats_of_r(r=pnl)"
   ]
  },
  {
   "cell_type": "code",
   "execution_count": 86,
   "metadata": {},
   "outputs": [
    {
     "data": {
      "text/plain": [
       "0.4552988579120729"
      ]
     },
     "execution_count": 86,
     "metadata": {},
     "output_type": "execute_result"
    }
   ],
   "source": [
    "ff._get_est_corr_of_r(pnl.loc[:, \"VMNFX\"], pnl.loc[:, \"QSPNX\"], de_avg_kind=None)"
   ]
  },
  {
   "cell_type": "code",
   "execution_count": 70,
   "metadata": {},
   "outputs": [
    {
     "data": {
      "text/plain": [
       "0.5460052402521918"
      ]
     },
     "execution_count": 70,
     "metadata": {},
     "output_type": "execute_result"
    }
   ],
   "source": [
    "ff._get_est_corr_of_r(pnl.loc[:, \"VMNFX\"], pnl.loc[:, \"QMNNX\"], de_avg_kind=None)"
   ]
  },
  {
   "cell_type": "code",
   "execution_count": null,
   "metadata": {},
   "outputs": [],
   "source": []
  },
  {
   "cell_type": "code",
   "execution_count": 71,
   "metadata": {},
   "outputs": [
    {
     "data": {
      "text/plain": [
       "<AxesSubplot:xlabel='Date'>"
      ]
     },
     "execution_count": 71,
     "metadata": {},
     "output_type": "execute_result"
    },
    {
     "data": {
      "image/png": "[encoded data removed]",
      "text/plain": [
       "<Figure size 432x288 with 1 Axes>"
      ]
     },
     "metadata": {},
     "output_type": "display_data"
    }
   ],
   "source": [
    "t = fc.maybe_date(ow_lags=-5*261)\n",
    "pnl.loc[t:, :].cumsum().plot()"
   ]
  },
  {
   "cell_type": "code",
   "execution_count": 72,
   "metadata": {},
   "outputs": [
    {
     "data": {
      "text/html": [
       "<div>\n",
       "<style scoped>\n",
       "    .dataframe tbody tr th:only-of-type {\n",
       "        vertical-align: middle;\n",
       "    }\n",
       "\n",
       "    .dataframe tbody tr th {\n",
       "        vertical-align: top;\n",
       "    }\n",
       "\n",
       "    .dataframe thead th {\n",
       "        text-align: right;\n",
       "    }\n",
       "</style>\n",
       "<table border=\"1\" class=\"dataframe\">\n",
       "  <thead>\n",
       "    <tr style=\"text-align: right;\">\n",
       "      <th></th>\n",
       "      <th>SPY</th>\n",
       "      <th>QSPNX</th>\n",
       "      <th>QMNNX</th>\n",
       "      <th>VMNFX</th>\n",
       "    </tr>\n",
       "  </thead>\n",
       "  <tbody>\n",
       "    <tr>\n",
       "      <th>Sharpe</th>\n",
       "      <td>0.8</td>\n",
       "      <td>0.26</td>\n",
       "      <td>-0.03</td>\n",
       "      <td>0.31</td>\n",
       "    </tr>\n",
       "    <tr>\n",
       "      <th>t-stat</th>\n",
       "      <td>1.75</td>\n",
       "      <td>0.58</td>\n",
       "      <td>-0.06</td>\n",
       "      <td>0.68</td>\n",
       "    </tr>\n",
       "    <tr>\n",
       "      <th>ER</th>\n",
       "      <td>0.1479</td>\n",
       "      <td>0.0327</td>\n",
       "      <td>-0.0026</td>\n",
       "      <td>0.0206</td>\n",
       "    </tr>\n",
       "    <tr>\n",
       "      <th>Vol</th>\n",
       "      <td>0.1854</td>\n",
       "      <td>0.1238</td>\n",
       "      <td>0.1007</td>\n",
       "      <td>0.0666</td>\n",
       "    </tr>\n",
       "    <tr>\n",
       "      <th>Frac valid timesteps</th>\n",
       "      <td>1</td>\n",
       "      <td>1</td>\n",
       "      <td>1</td>\n",
       "      <td>1</td>\n",
       "    </tr>\n",
       "    <tr>\n",
       "      <th>Total valid timesteps</th>\n",
       "      <td>1258</td>\n",
       "      <td>1258</td>\n",
       "      <td>1258</td>\n",
       "      <td>1258</td>\n",
       "    </tr>\n",
       "    <tr>\n",
       "      <th>Total timesteps</th>\n",
       "      <td>1258</td>\n",
       "      <td>1258</td>\n",
       "      <td>1258</td>\n",
       "      <td>1258</td>\n",
       "    </tr>\n",
       "    <tr>\n",
       "      <th>First timestep</th>\n",
       "      <td>2017-06-12 00:00:00</td>\n",
       "      <td>2017-06-12 00:00:00</td>\n",
       "      <td>2017-06-12 00:00:00</td>\n",
       "      <td>2017-06-12 00:00:00</td>\n",
       "    </tr>\n",
       "    <tr>\n",
       "      <th>First valid timestep</th>\n",
       "      <td>2017-06-12 00:00:00</td>\n",
       "      <td>2017-06-12 00:00:00</td>\n",
       "      <td>2017-06-12 00:00:00</td>\n",
       "      <td>2017-06-12 00:00:00</td>\n",
       "    </tr>\n",
       "    <tr>\n",
       "      <th>Last valid timestep</th>\n",
       "      <td>2022-06-08 00:00:00</td>\n",
       "      <td>2022-06-08 00:00:00</td>\n",
       "      <td>2022-06-08 00:00:00</td>\n",
       "      <td>2022-06-08 00:00:00</td>\n",
       "    </tr>\n",
       "    <tr>\n",
       "      <th>Last timestep</th>\n",
       "      <td>2022-06-08 00:00:00</td>\n",
       "      <td>2022-06-08 00:00:00</td>\n",
       "      <td>2022-06-08 00:00:00</td>\n",
       "      <td>2022-06-08 00:00:00</td>\n",
       "    </tr>\n",
       "  </tbody>\n",
       "</table>\n",
       "</div>"
      ],
      "text/plain": [
       "                                       SPY                QSPNX  \\\n",
       "Sharpe                                 0.8                 0.26   \n",
       "t-stat                                1.75                 0.58   \n",
       "ER                                  0.1479               0.0327   \n",
       "Vol                                 0.1854               0.1238   \n",
       "Frac valid timesteps                     1                    1   \n",
       "Total valid timesteps                 1258                 1258   \n",
       "Total timesteps                       1258                 1258   \n",
       "First timestep         2017-06-12 00:00:00  2017-06-12 00:00:00   \n",
       "First valid timestep   2017-06-12 00:00:00  2017-06-12 00:00:00   \n",
       "Last valid timestep    2022-06-08 00:00:00  2022-06-08 00:00:00   \n",
       "Last timestep          2022-06-08 00:00:00  2022-06-08 00:00:00   \n",
       "\n",
       "                                     QMNNX                VMNFX  \n",
       "Sharpe                               -0.03                 0.31  \n",
       "t-stat                               -0.06                 0.68  \n",
       "ER                                 -0.0026               0.0206  \n",
       "Vol                                 0.1007               0.0666  \n",
       "Frac valid timesteps                     1                    1  \n",
       "Total valid timesteps                 1258                 1258  \n",
       "Total timesteps                       1258                 1258  \n",
       "First timestep         2017-06-12 00:00:00  2017-06-12 00:00:00  \n",
       "First valid timestep   2017-06-12 00:00:00  2017-06-12 00:00:00  \n",
       "Last valid timestep    2022-06-08 00:00:00  2022-06-08 00:00:00  \n",
       "Last timestep          2022-06-08 00:00:00  2022-06-08 00:00:00  "
      ]
     },
     "execution_count": 72,
     "metadata": {},
     "output_type": "execute_result"
    }
   ],
   "source": [
    "ff.get_est_perf_stats_of_r(r=pnl.loc[t:, :])"
   ]
  },
  {
   "cell_type": "code",
   "execution_count": 85,
   "metadata": {},
   "outputs": [
    {
     "data": {
      "text/plain": [
       "0.4642552615436626"
      ]
     },
     "execution_count": 85,
     "metadata": {},
     "output_type": "execute_result"
    }
   ],
   "source": [
    "ff._get_est_corr_of_r(pnl.loc[t:, \"VMNFX\"], pnl.loc[t:, \"QSPNX\"], de_avg_kind=None)"
   ]
  },
  {
   "cell_type": "code",
   "execution_count": 73,
   "metadata": {},
   "outputs": [
    {
     "data": {
      "text/plain": [
       "0.5482290467521923"
      ]
     },
     "execution_count": 73,
     "metadata": {},
     "output_type": "execute_result"
    }
   ],
   "source": [
    "ff._get_est_corr_of_r(pnl.loc[t:, \"VMNFX\"], pnl.loc[t:, \"QMNNX\"], de_avg_kind=None)"
   ]
  },
  {
   "cell_type": "code",
   "execution_count": null,
   "metadata": {},
   "outputs": [],
   "source": []
  },
  {
   "cell_type": "code",
   "execution_count": 74,
   "metadata": {},
   "outputs": [
    {
     "data": {
      "text/html": [
       "<div>\n",
       "<style scoped>\n",
       "    .dataframe tbody tr th:only-of-type {\n",
       "        vertical-align: middle;\n",
       "    }\n",
       "\n",
       "    .dataframe tbody tr th {\n",
       "        vertical-align: top;\n",
       "    }\n",
       "\n",
       "    .dataframe thead th {\n",
       "        text-align: right;\n",
       "    }\n",
       "</style>\n",
       "<table border=\"1\" class=\"dataframe\">\n",
       "  <thead>\n",
       "    <tr style=\"text-align: right;\">\n",
       "      <th></th>\n",
       "      <th>SPY</th>\n",
       "      <th>QSPNX</th>\n",
       "      <th>QMNNX</th>\n",
       "      <th>VMNFX</th>\n",
       "    </tr>\n",
       "  </thead>\n",
       "  <tbody>\n",
       "    <tr>\n",
       "      <th>Sharpe</th>\n",
       "      <td>1.08</td>\n",
       "      <td>1.59</td>\n",
       "      <td>1.27</td>\n",
       "      <td>1.59</td>\n",
       "    </tr>\n",
       "    <tr>\n",
       "      <th>t-stat</th>\n",
       "      <td>1.48</td>\n",
       "      <td>2.18</td>\n",
       "      <td>1.74</td>\n",
       "      <td>2.18</td>\n",
       "    </tr>\n",
       "    <tr>\n",
       "      <th>ER</th>\n",
       "      <td>0.1817</td>\n",
       "      <td>0.2641</td>\n",
       "      <td>0.1713</td>\n",
       "      <td>0.132</td>\n",
       "    </tr>\n",
       "    <tr>\n",
       "      <th>Vol</th>\n",
       "      <td>0.1677</td>\n",
       "      <td>0.166</td>\n",
       "      <td>0.1348</td>\n",
       "      <td>0.0828</td>\n",
       "    </tr>\n",
       "    <tr>\n",
       "      <th>Frac valid timesteps</th>\n",
       "      <td>1</td>\n",
       "      <td>1</td>\n",
       "      <td>1</td>\n",
       "      <td>1</td>\n",
       "    </tr>\n",
       "    <tr>\n",
       "      <th>Total valid timesteps</th>\n",
       "      <td>489</td>\n",
       "      <td>489</td>\n",
       "      <td>489</td>\n",
       "      <td>489</td>\n",
       "    </tr>\n",
       "    <tr>\n",
       "      <th>Total timesteps</th>\n",
       "      <td>489</td>\n",
       "      <td>489</td>\n",
       "      <td>489</td>\n",
       "      <td>489</td>\n",
       "    </tr>\n",
       "    <tr>\n",
       "      <th>First timestep</th>\n",
       "      <td>2020-07-01 00:00:00</td>\n",
       "      <td>2020-07-01 00:00:00</td>\n",
       "      <td>2020-07-01 00:00:00</td>\n",
       "      <td>2020-07-01 00:00:00</td>\n",
       "    </tr>\n",
       "    <tr>\n",
       "      <th>First valid timestep</th>\n",
       "      <td>2020-07-01 00:00:00</td>\n",
       "      <td>2020-07-01 00:00:00</td>\n",
       "      <td>2020-07-01 00:00:00</td>\n",
       "      <td>2020-07-01 00:00:00</td>\n",
       "    </tr>\n",
       "    <tr>\n",
       "      <th>Last valid timestep</th>\n",
       "      <td>2022-06-08 00:00:00</td>\n",
       "      <td>2022-06-08 00:00:00</td>\n",
       "      <td>2022-06-08 00:00:00</td>\n",
       "      <td>2022-06-08 00:00:00</td>\n",
       "    </tr>\n",
       "    <tr>\n",
       "      <th>Last timestep</th>\n",
       "      <td>2022-06-08 00:00:00</td>\n",
       "      <td>2022-06-08 00:00:00</td>\n",
       "      <td>2022-06-08 00:00:00</td>\n",
       "      <td>2022-06-08 00:00:00</td>\n",
       "    </tr>\n",
       "  </tbody>\n",
       "</table>\n",
       "</div>"
      ],
      "text/plain": [
       "                                       SPY                QSPNX  \\\n",
       "Sharpe                                1.08                 1.59   \n",
       "t-stat                                1.48                 2.18   \n",
       "ER                                  0.1817               0.2641   \n",
       "Vol                                 0.1677                0.166   \n",
       "Frac valid timesteps                     1                    1   \n",
       "Total valid timesteps                  489                  489   \n",
       "Total timesteps                        489                  489   \n",
       "First timestep         2020-07-01 00:00:00  2020-07-01 00:00:00   \n",
       "First valid timestep   2020-07-01 00:00:00  2020-07-01 00:00:00   \n",
       "Last valid timestep    2022-06-08 00:00:00  2022-06-08 00:00:00   \n",
       "Last timestep          2022-06-08 00:00:00  2022-06-08 00:00:00   \n",
       "\n",
       "                                     QMNNX                VMNFX  \n",
       "Sharpe                                1.27                 1.59  \n",
       "t-stat                                1.74                 2.18  \n",
       "ER                                  0.1713                0.132  \n",
       "Vol                                 0.1348               0.0828  \n",
       "Frac valid timesteps                     1                    1  \n",
       "Total valid timesteps                  489                  489  \n",
       "Total timesteps                        489                  489  \n",
       "First timestep         2020-07-01 00:00:00  2020-07-01 00:00:00  \n",
       "First valid timestep   2020-07-01 00:00:00  2020-07-01 00:00:00  \n",
       "Last valid timestep    2022-06-08 00:00:00  2022-06-08 00:00:00  \n",
       "Last timestep          2022-06-08 00:00:00  2022-06-08 00:00:00  "
      ]
     },
     "execution_count": 74,
     "metadata": {},
     "output_type": "execute_result"
    }
   ],
   "source": [
    "ff.get_est_perf_stats_of_r(r=pnl.loc[\"2020Q3\":, :])"
   ]
  },
  {
   "cell_type": "code",
   "execution_count": 84,
   "metadata": {},
   "outputs": [
    {
     "data": {
      "text/plain": [
       "0.5926246612151443"
      ]
     },
     "execution_count": 84,
     "metadata": {},
     "output_type": "execute_result"
    }
   ],
   "source": [
    "ff._get_est_corr_of_r(pnl.loc[\"2020Q3\":, \"VMNFX\"], pnl.loc[\"2020Q3\":, \"QSPNX\"], de_avg_kind=None)"
   ]
  },
  {
   "cell_type": "code",
   "execution_count": 83,
   "metadata": {},
   "outputs": [
    {
     "data": {
      "text/plain": [
       "0.6512976491062343"
      ]
     },
     "execution_count": 83,
     "metadata": {},
     "output_type": "execute_result"
    }
   ],
   "source": [
    "ff._get_est_corr_of_r(pnl.loc[\"2020Q3\":, \"VMNFX\"], pnl.loc[\"2020Q3\":, \"QMNNX\"], de_avg_kind=None)"
   ]
  }
 ],
 "metadata": {
  "kernelspec": {
   "display_name": "Python 3",
   "language": "python",
   "name": "python3"
  },
  "language_info": {
   "codemirror_mode": {
    "name": "ipython",
    "version": 3
   },
   "file_extension": ".py",
   "mimetype": "text/x-python",
   "name": "python",
   "nbconvert_exporter": "python",
   "pygments_lexer": "ipython3",
   "version": "3.8.5"
  }
 },
 "nbformat": 4,
 "nbformat_minor": 4
}
