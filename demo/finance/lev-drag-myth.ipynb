{
 "cells": [
  {
   "cell_type": "markdown",
   "metadata": {},
   "source": [
    "# RMS-AM-GM-HM circle\n",
    "\n",
    "# http://www.ddnum.com/articles/leveragedETFs.php\n",
    "\n",
    "## https://archive.ph/ilzYP\n",
    "\n",
    "## https://web.archive.org/web/20220611052732/http://www.ddnum.com/articles/leveragedETFs.php\n",
    "\n",
    "mu over s2 is just risk propto sharpe!"
   ]
  },
  {
   "cell_type": "code",
   "execution_count": null,
   "metadata": {},
   "outputs": [],
   "source": []
  }
 ],
 "metadata": {
  "kernelspec": {
   "display_name": "Python 3",
   "language": "python",
   "name": "python3"
  },
  "language_info": {
   "codemirror_mode": {
    "name": "ipython",
    "version": 3
   },
   "file_extension": ".py",
   "mimetype": "text/x-python",
   "name": "python",
   "nbconvert_exporter": "python",
   "pygments_lexer": "ipython3",
   "version": "3.8.5"
  }
 },
 "nbformat": 4,
 "nbformat_minor": 4
}
