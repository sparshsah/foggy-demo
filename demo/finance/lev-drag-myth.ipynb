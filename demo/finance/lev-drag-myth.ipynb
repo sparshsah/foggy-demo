{
 "cells": [
  {
   "cell_type": "markdown",
   "metadata": {},
   "source": [
    "THE MYTH OF LEVERAGE DRAG\n",
    "\n",
    "author: [@sparshsah](https://github.com/sparshsah)\n",
    "\n",
    "Inspired by\n",
    "* Tony Cooper of Double-Digit Numerics's [writeup](http://www.ddnum.com/articles/leveragedETFs.php) on the issue,\n",
    "* Newport Quant's [writeup](https://newportquant.com/volatility-drag-and-leveraged-etfs/) on the same,\n",
    "* The [QM-AM-GM-HM circle](https://en.m.wikipedia.org/wiki/File:QM_AM_GM_HM_inequality_visual_proof.svg)."
   ]
  },
  {
   "cell_type": "markdown",
   "metadata": {},
   "source": [
    "# Opening act: The blind stupidity of dollar-cost averaging\n",
    "\n",
    "Edit: Tony Cooper of Double-Digit Numerics also [wrote this up](http://www.ddnum.com/articles/dollarcostaveraging.php) before me... The man gets around.\n",
    "\n",
    "There's a blindly stupid notion popular among CFA's that you should \"dollar-cost average\". That is, if you're sitting on a lump sum of $\\$400$ to invest in SPY, you should invest $\\$100$ today, an additional $\\$100$ in three months, the next $\\$100$ three months after that, and finally the remaining $\\$100$ another three months after that. (I just made up the total dollar amount and purchase interval as an example, they don't have to be $\\$400$ or three months.)\n",
    "\n",
    "By the end of the year you will be fully invested, but by construction you will have tended to buy more shares at lower prices and fewer shares at higher prices: When the price was high, you got a small number of shares per dollar; When the price was low, you got a big number of shares per dollar. The argument is that this is easier to implement than some \"tactical\" buying scheme wherein you'd lie in wait and buy right after large price drops.\n",
    "\n",
    "## This is stupid in theory\n",
    "\n",
    "The argument sounds great except that _the point of investing in stocks is that they tend to go up over time_. Every minute you're sitting on your cash is another minute it's not making a positive expected return in the stock market. In order for dollar-cost averaging to be profitable (versus just investing the lump sum all at once as soon as possible), the Sharpe of the stock market has to be very low: You need high volatility so that the opportunity to catch potential downswings isn't overwhelmed by the tendency for the price to drift away from you upward over time. But---lucky for investors---the Sharpe of the stock market is actually pretty decent.\n",
    "\n",
    "## This would also have been stupid in practice\n",
    "\n",
    "In fact, Vanguard studied exactly this in their 2012 paper [\"Dollar-Cost Averaging Just Means Taking Risk Later\"](https://static.twentyoverten.com/5980d16bbfb1c93238ad9c24/rJpQmY8o7/Dollar-Cost-Averaging-Just-Means-Taking-Risk-Later-Vanguard.pdf), concluding based on historical live data for 60+40 portfolios from\n",
    "* The US spanning 1926-2011\n",
    "* The UK spanning 1976-2011\n",
    "* Australia spanning 1984-2011\n",
    "\n",
    "That an individual investing his lump sum all at once as soon as possible would have outperformed his dollar-cost-averaging peer\n",
    "* Two-thirds of the time overall\n",
    "* By $2\\%$ every decade on average."
   ]
  },
  {
   "cell_type": "markdown",
   "metadata": {},
   "source": [
    "# Headliner: Tony Cooper\n",
    "\n",
    "Another blindly stupid notion popular among CFA's is that levering a passive-long buy-and-hold type of investment (most often, a levered stock-index ETF) will eventually bankrupt you thanks to the chupacabra that is \"volatility drag\".\n",
    "\n",
    "## Ok, this one isn't _that_ stupid\n",
    "\n",
    "The basis for the argument is sound, and a bit like the gambler's ruin theorem: Investors generally can't (or don't) sweep their NAV, so instead of earning arithmetically-compounded returns, we earn geometrically-compounded returns.\n",
    "\n",
    "So let's consider an investor with $\\$100$, and suppose that stocks crater $-50\\%$ today (so his NAV drops to $\\$50$) then skyrocket $+50\\%$ tomorrow.\n",
    "* If he swept his NAV, he would have added $\\$50$ back to his investment after the first day (representing a loss to him of $\\$50$), bringing it back up to $\\$100$, then the next day his NAV would have risen to $\\$150$, and he would have taken the extra $\\$50$ out (representing a gain to him of $\\$50$). His net return here would be zero.\n",
    "* If he didn't sweep his NAV, that $\\$50$ from the first day would have turned into... $\\$75$ on the second day. His net return here was, sadly, $-25\\%$.\n",
    "\n",
    "Even worse, imagine he was 2x levered. A $-50\\%$ day followed by a $+50\\%$ day wouldn't have left him flat or even down $-25\\%$... it would have driven him bankrupt on day one.\n",
    "\n",
    "## But it is still stupid\n",
    "\n",
    "The proponents of this argument, however, by-and-large jump to the untrue (and frankly silly---who cares whether you take volatility because of leverage or because the underlying investment is inherently volatile?) conclusion that _any_ greater-than-1x amount of leverage will eventually drive you bankrupt with probability one.\n",
    "\n",
    "In his [writeup](http://www.ddnum.com/articles/leveragedETFs.php), Tony Cooper points out that again the dynamics here depend critically on the Sharpe of the investment. I will illustrate that below.\n",
    "\n",
    "## A beautiful symmetry\n",
    "\n",
    "By the way, Tony finds in his paper that the total-geometric-return-maximizing amount of leverage to take is\n",
    "$$ w = \\frac{\\mu}{\\sigma^2} ,$$\n",
    "which means taking risk\n",
    "$$ w\\sigma = \\frac{\\mu}{\\sigma} ,$$\n",
    "i.e... take risk _equal_ to Sharpe! For example, the SPX has Sharpe about $0.60$, so the optimal amount of risk to take is $60\\%$ vol; Its passive vol is about $20\\%$, so the optimal leverage is $3$x.\n",
    "\n",
    "This is a different setting than that of the Markowitzian tenet \"take risk on principal components proportional to their Sharpe\"---there, he actually assumed that returns accrue arithmetically, and was simply speaking to a single-period diversification problem---but it's a very pleasing symmetry. It turns out, that taking risk proportional to Sharpe helps you not only diversify your portfolio, but also strike the right balance between levering up returns and getting dragged by volatility."
   ]
  },
  {
   "cell_type": "code",
   "execution_count": 1,
   "metadata": {},
   "outputs": [],
   "source": [
    "from importlib import reload\n",
    "import pandas as pd\n",
    "import numpy as np\n",
    "import scipy.stats as sps\n",
    "# https://github.com/sparshsah/foggy-statslib/blob/main/foggy_statslib/core.py\n",
    "import foggy_statslib.core as fsc\n",
    "# https://github.com/sparshsah/foggy-statslib/blob/main/foggy_statslib/fin.py\n",
    "import foggy_statslib.fin as fsf"
   ]
  },
  {
   "cell_type": "code",
   "execution_count": null,
   "metadata": {},
   "outputs": [],
   "source": []
  }
 ],
 "metadata": {
  "kernelspec": {
   "display_name": "Python 3",
   "language": "python",
   "name": "python3"
  },
  "language_info": {
   "codemirror_mode": {
    "name": "ipython",
    "version": 3
   },
   "file_extension": ".py",
   "mimetype": "text/x-python",
   "name": "python",
   "nbconvert_exporter": "python",
   "pygments_lexer": "ipython3",
   "version": "3.8.5"
  }
 },
 "nbformat": 4,
 "nbformat_minor": 4
}
