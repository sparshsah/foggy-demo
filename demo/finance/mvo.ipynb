{
 "cells": [
  {
   "cell_type": "markdown",
   "metadata": {},
   "source": [
    "# MVO\n",
    "\n",
    "AUTHOR: [@SPARSHSAH](https://github.com/sparshsah)\n",
    "\n",
    "I can't go back to college and literally teach you about the Von-Neumann-Morgenstern axioms and optimization and all that here, but for those familiar with MVO here are two interesting tips/refreshers to remember."
   ]
  },
  {
   "cell_type": "markdown",
   "metadata": {},
   "source": [
    "## TS\n",
    "\n",
    "When passive returns are low, clients' first instinct is often to lever to hit ER targets. This is the opposite of what long-term investors should do. You should decide your long-term aggregate risk appetite, then budget it down so that you spend more of it during good times, and less of it during bad times."
   ]
  },
  {
   "cell_type": "markdown",
   "metadata": {},
   "source": [
    "## XS\n",
    "\n",
    "Here's a brainteaser: You have two assets, A with ER +10% and B with ER -4%. The two are moderately anticorrelated at -0.50 (so RSquared is 25%).\n",
    "\n",
    "What is the MVO portfolio? Obviously, long A with a small short allocation to B.\n",
    "\n",
    "But that is wrong. The optimal portfolio is long both A and B. Despite its negative ER, B is so diversifying to A that adding it in reduces volatility enough to allow you lever up the resulting portfolio more than sufficiently to surpass A's ER  at the same level of risk."
   ]
  }
 ],
 "metadata": {
  "kernelspec": {
   "display_name": "Python 3",
   "language": "python",
   "name": "python3"
  },
  "language_info": {
   "codemirror_mode": {
    "name": "ipython",
    "version": 3
   },
   "file_extension": ".py",
   "mimetype": "text/x-python",
   "name": "python",
   "nbconvert_exporter": "python",
   "pygments_lexer": "ipython3",
   "version": "3.8.5"
  }
 },
 "nbformat": 4,
 "nbformat_minor": 4
}
