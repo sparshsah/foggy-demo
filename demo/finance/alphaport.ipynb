{
 "cells": [
  {
   "cell_type": "markdown",
   "metadata": {},
   "source": [
    "# ADVANTAGES OF PORTABLE-ALPHA STRUCTURES"
   ]
  },
  {
   "cell_type": "markdown",
   "metadata": {},
   "source": [
    "## `import`s"
   ]
  },
  {
   "cell_type": "code",
   "execution_count": 17,
   "metadata": {},
   "outputs": [],
   "source": [
    "from __future__ import annotations\n",
    "\n",
    "from typing import Final\n",
    "\n",
    "import matplotlib.pyplot as plt\n",
    "import numpy as np\n",
    "import pandas as pd\n",
    "import seaborn as sns; sns.set()\n",
    "\n",
    "import foggy_statslib.core as fc"
   ]
  },
  {
   "cell_type": "markdown",
   "metadata": {},
   "source": [
    "## What is portable alpha?"
   ]
  },
  {
   "cell_type": "markdown",
   "metadata": {},
   "source": [
    "Say our universe consists of three stocks, A, B, and C, with A twice as large and half as volatile as B or C. Don't worry about the math setup in this part, the details are not important."
   ]
  },
  {
   "cell_type": "code",
   "execution_count": 26,
   "metadata": {},
   "outputs": [],
   "source": [
    "MKT_CAP: Final[pd.Series] = pd.Series({\"A\": 1_000, \"B\": 500, \"C\": 500})\n",
    "BMK: Final[pd.Series] = MKT_CAP / MKT_CAP.sum()\n",
    "VOL: Final[pd.Series] = pd.Series({\"A\": 0.10, \"B\": 0.20, \"C\": 0.20})\n",
    "CORR: Finall[pd.DataFrame] = pd.DataFrame(\n",
    "    {\n",
    "        \"A\": {\"A\": 1, \"B\": 0.50, \"C\": 0.50},\n",
    "        \"B\": {\"A\": 0.50, \"B\": 1, \"C\": 0.90},\n",
    "        \"C\": {\"A\": 0.50, \"B\": 0.90, \"C\": 1},\n",
    "    }\n",
    ")\n",
    "COV: Final[pd.DataFrame] = (\n",
    "    pd.DataFrame(np.diag(VOL), index=VOL.index, columns=VOL.index)\n",
    "    @ CORR\n",
    "    @ pd.DataFrame(np.diag(VOL), index=VOL.index, columns=VOL.index)\n",
    ")\n",
    "\n",
    "def _get_pflio_cov(w_a: pd.Series, w_b: pd.Series = BMK) -> float:\n",
    "    return w_a @ COV @ w_b\n",
    "\n",
    "def _get_pflio_vol(w: pd.Series = BMK) -> float:\n",
    "    return _get_pflio_cov(w, w)**0.5\n",
    "\n",
    "def _get_pflio_corr(w_a: pd.Series, w_b: pd.Series = BMK) -> float:\n",
    "    cov = _get_pflio_cov(w_a=w_a, w_b=w_b)\n",
    "    vol_a = _get_pflio_vol(w=w_a)\n",
    "    vol_b = _get_pflio_vol(w=w_b)\n",
    "    return cov / (vol_a * vol_b)"
   ]
  },
  {
   "cell_type": "markdown",
   "metadata": {},
   "source": [
    "Think of two funds investing in this market:\n",
    "* An index-tracking mutual fund, and\n",
    "* A traditional long-only stock-picking hedge fund (I already cringe at this name... how can you be long-only and also hedged... the whole point of a hedge fund used to be uncorrelated absolute returns...).\n",
    "\n",
    "They might have holdings something like this:"
   ]
  },
  {
   "cell_type": "code",
   "execution_count": 12,
   "metadata": {},
   "outputs": [
    {
     "data": {
      "image/png": "[encoded data removed]",
      "text/plain": [
       "<Figure size 720x360 with 2 Axes>"
      ]
     },
     "metadata": {},
     "output_type": "display_data"
    }
   ],
   "source": [
    "holdings = pd.DataFrame(\n",
    "    {\n",
    "        \"benchmark\": {\"A\": 0.50, \"B\": 0.25, \"C\": 0.25},\n",
    "        \"stockpicker\": {\"A\": 0.40, \"B\": 0, \"C\": 0.60},\n",
    "    }\n",
    ")\n",
    "\n",
    "_, ax = plt.subplots(ncols=2, sharex=True, sharey=True)\n",
    "for (i, (f, h)) in enumerate(holdings.items()):\n",
    "    fc.plot(\n",
    "        h,\n",
    "        kind=\"bar\",\n",
    "        color=sns.color_palette(),\n",
    "        ypct=True,\n",
    "        ylabel=\"% of NAV\",\n",
    "        title=f,\n",
    "        ax=ax[i],\n",
    "        figsize=(10, 5),\n",
    "    )\n",
    "plt.suptitle(\"Holdings\")\n",
    "plt.show()"
   ]
  },
  {
   "cell_type": "markdown",
   "metadata": {},
   "source": [
    "Now, let's decompose the stockpicker's holdings into two \"parts\":\n",
    "* A beta part, and\n",
    "* An alpha part."
   ]
  },
  {
   "cell_type": "code",
   "execution_count": null,
   "metadata": {},
   "outputs": [],
   "source": []
  }
 ],
 "metadata": {
  "kernelspec": {
   "display_name": "Python 3",
   "language": "python",
   "name": "python3"
  },
  "language_info": {
   "codemirror_mode": {
    "name": "ipython",
    "version": 3
   },
   "file_extension": ".py",
   "mimetype": "text/x-python",
   "name": "python",
   "nbconvert_exporter": "python",
   "pygments_lexer": "ipython3",
   "version": "3.8.5"
  }
 },
 "nbformat": 4,
 "nbformat_minor": 4
}
