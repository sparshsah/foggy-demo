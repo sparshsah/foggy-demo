{
 "cells": [
  {
   "cell_type": "markdown",
   "metadata": {},
   "source": [
    "# ADVANTAGES OF PORTABLE-ALPHA STRUCTURES"
   ]
  },
  {
   "cell_type": "markdown",
   "metadata": {},
   "source": [
    "## `import`s"
   ]
  },
  {
   "cell_type": "code",
   "execution_count": 17,
   "metadata": {},
   "outputs": [],
   "source": [
    "from __future__ import annotations\n",
    "\n",
    "from typing import Final\n",
    "\n",
    "import matplotlib.pyplot as plt\n",
    "import numpy as np\n",
    "import pandas as pd\n",
    "import seaborn as sns; sns.set()\n",
    "\n",
    "import foggy_statslib.core as fc"
   ]
  },
  {
   "cell_type": "markdown",
   "metadata": {},
   "source": [
    "## What is portable alpha?"
   ]
  },
  {
   "cell_type": "markdown",
   "metadata": {},
   "source": [
    "Say our universe consists of three stocks, A, B, and C, with A twice as large and half as volatile as B or C. Don't worry about the math setup in this part, the details are not important. But I've copy-pasted a bunch of utility functions that are more fleshed-out [here](https://github.com/sparshsah/foggy-statslib/blob/main/foggy_statslib/fin.py) so that interested readers can play with the numbers."
   ]
  },
  {
   "cell_type": "code",
   "execution_count": 44,
   "metadata": {},
   "outputs": [],
   "source": [
    "MKT_CAP: Final[pd.Series] = pd.Series({\"A\": 1_000, \"B\": 500, \"C\": 500})\n",
    "BMK: Final[pd.Series] = MKT_CAP / MKT_CAP.sum()\n",
    "VOL: Final[pd.Series] = pd.Series({\"A\": 0.10, \"B\": 0.20, \"C\": 0.20})\n",
    "CORR: Finall[pd.DataFrame] = pd.DataFrame(\n",
    "    {\n",
    "        \"A\": {\"A\": 1, \"B\": 0.50, \"C\": 0.50},\n",
    "        \"B\": {\"A\": 0.50, \"B\": 1, \"C\": 0.90},\n",
    "        \"C\": {\"A\": 0.50, \"B\": 0.90, \"C\": 1},\n",
    "    }\n",
    ")\n",
    "COV: Final[pd.DataFrame] = (\n",
    "    pd.DataFrame(np.diag(VOL), index=VOL.index, columns=VOL.index)\n",
    "    @ CORR\n",
    "    @ pd.DataFrame(np.diag(VOL), index=VOL.index, columns=VOL.index)\n",
    ")\n",
    "\n",
    "def _get_pflio_cov(w_a: pd.Series, w_b: pd.Series = BMK) -> float:\n",
    "    return w_a @ COV @ w_b\n",
    "\n",
    "def _get_pflio_vol(w: pd.Series = BMK) -> float:\n",
    "    return _get_pflio_cov(w, w)**0.5\n",
    "\n",
    "def _get_pflio_corr(w_a: pd.Series, w_b: pd.Series = BMK) -> float:\n",
    "    cov = _get_pflio_cov(w_a=w_a, w_b=w_b)\n",
    "    vol_a = _get_pflio_vol(w=w_a)\n",
    "    vol_b = _get_pflio_vol(w=w_b)\n",
    "    return cov / (vol_a * vol_b)\n",
    "\n",
    "def _get_pflio_beta(w_of: pd.Series, w_on: pd.Series = BMK) -> float:\n",
    "    corr = _get_pflio_corr(w_of, w_on)\n",
    "    vol_of = _get_pflio_vol(w_of)\n",
    "    vol_on = _get_pflio_vol(w_on)\n",
    "    return corr * (vol_of / vol_on)\n",
    "\n",
    "def _get_beta_part(w_of: pd.Series, w_on: pd.Series = BMK) -> float:\n",
    "    beta = _get_pflio_beta(w_of=w_of, w_on=w_on)\n",
    "    return beta * w_on\n",
    "\n",
    "def _get_alpha_part(w_of: pd.Series, w_on: pd.Series = BMK) -> float:\n",
    "    hedge = _get_beta_part(w_of=w_of, w_on=w_on)\n",
    "    return w_of - hedge\n",
    "\n",
    "def _decompose(w_of: pd.Series, w_on: pd.Series = BMK) -> float:\n",
    "    d = pd.DataFrame(\n",
    "        {\n",
    "            \"beta_part\": _get_beta_part(w_of=w_of, w_on=w_on),\n",
    "            \"alpha_part\": _get_alpha_part(w_of=w_of, w_on=w_on),\n",
    "        }\n",
    "    )\n",
    "    d.loc[:, \"sum\"] = d.sum(axis=\"columns\")\n",
    "    return d"
   ]
  },
  {
   "cell_type": "markdown",
   "metadata": {},
   "source": [
    "Think of two funds investing in this market:\n",
    "* An index-tracking mutual fund, and\n",
    "* A traditional long-only stock-picking hedge fund (I already cringe at this name... how can you be long-only and also hedged... the whole point of a hedge fund used to be uncorrelated absolute returns...).\n",
    "\n",
    "They might have holdings something like this:"
   ]
  },
  {
   "cell_type": "code",
   "execution_count": 72,
   "metadata": {},
   "outputs": [
    {
     "data": {
      "image/png": "[encoded data removed]",
      "text/plain": [
       "<Figure size 576x288 with 2 Axes>"
      ]
     },
     "metadata": {},
     "output_type": "display_data"
    }
   ],
   "source": [
    "ww = pd.DataFrame(\n",
    "    {\n",
    "        \"benchmark\": BMK,\n",
    "        \"stockpicker\": {\"A\": 0.40, \"B\": 0, \"C\": 0.60},\n",
    "    }\n",
    ")\n",
    "\n",
    "_, ax = plt.subplots(ncols=2, sharex=True, sharey=True)\n",
    "for (i, (f, w)) in enumerate(ww.items()):\n",
    "    fc.plot(\n",
    "        w,\n",
    "        kind=\"bar\",\n",
    "        color=sns.color_palette(),\n",
    "        ypct=True,\n",
    "        ylabel=\"% of NAV\",\n",
    "        title=f,\n",
    "        ax=ax[i],\n",
    "        figsize=(8, 4),\n",
    "    )\n",
    "plt.suptitle(\"Holdings\")\n",
    "plt.show()"
   ]
  },
  {
   "cell_type": "markdown",
   "metadata": {},
   "source": [
    "Now, let's decompose the stockpicker's holdings into two \"parts\":\n",
    "* A long-only beta part, and\n",
    "* An market-neutral long-short alpha part.\n",
    "\n",
    "The two parts will sum together to exactly replicate the stockpicker's holdings."
   ]
  },
  {
   "cell_type": "code",
   "execution_count": 74,
   "metadata": {},
   "outputs": [
    {
     "data": {
      "image/png": "[encoded data removed]",
      "text/plain": [
       "<Figure size 864x288 with 3 Axes>"
      ]
     },
     "metadata": {},
     "output_type": "display_data"
    }
   ],
   "source": [
    "d = _decompose(ww[\"stockpicker\"])\n",
    "fig, ax = plt.subplots(ncols=3, sharex=True, sharey=True)\n",
    "for (i, (f, w)) in enumerate(d.items()):\n",
    "    fc.plot(\n",
    "        w,\n",
    "        kind=\"bar\",\n",
    "        color=sns.color_palette(),\n",
    "        ypct=True,\n",
    "        # idk the why the middle plot's label gets hidden...\n",
    "        ylabel={\n",
    "            \"beta_part\": \"% of NAV\",\n",
    "            \"alpha_part\": \"+\",\n",
    "            \"sum\": \"||\",\n",
    "        }[f],\n",
    "        title=f,\n",
    "        ax=ax[i],\n",
    "        figsize=(4*len(ax), 4),\n",
    "    )\n",
    "plt.suptitle(\"Holdings\")\n",
    "fig.tight_layout()\n",
    "plt.show()"
   ]
  },
  {
   "cell_type": "code",
   "execution_count": 81,
   "metadata": {},
   "outputs": [
    {
     "data": {
      "image/png": "[encoded data removed]",
      "text/plain": [
       "<Figure size 576x288 with 1 Axes>"
      ]
     },
     "metadata": {},
     "output_type": "display_data"
    },
    {
     "data": {
      "text/plain": [
       "<AxesSubplot:title={'center':'Portfolio volatility'}, ylabel='Annualized ex-ante volatility'>"
      ]
     },
     "execution_count": 81,
     "metadata": {},
     "output_type": "execute_result"
    }
   ],
   "source": [
    "fc.plot(\n",
    "    pd.Series(\n",
    "        {\n",
    "            f: _get_pflio_vol(w)\n",
    "            for (f, w) in d.items()\n",
    "        }\n",
    "    ),\n",
    "    kind=\"bar\",\n",
    "    ypct=True,\n",
    "    ylabel=\"Annualized ex-ante volatility\",\n",
    "    title=\"Portfolio volatility\",\n",
    "    figsize=(8, 4),\n",
    ")"
   ]
  },
  {
   "cell_type": "markdown",
   "metadata": {},
   "source": [
    "Portable alpha is the idea that you should actually explicitly invest in two separate funds (even if managed by the same manager) according to the decomposition. Furthermore, the beta part should be a simple long-only investment into the index-tracking mutual fund."
   ]
  },
  {
   "cell_type": "markdown",
   "metadata": {},
   "source": [
    "## Why portable alpha?"
   ]
  },
  {
   "cell_type": "markdown",
   "metadata": {},
   "source": [
    "### Fees\n",
    "\n",
    "Look at the portfolio volatilities. The \"beta part\" has annualized ex-ante vol of about 14%, whereas the alpha part has annualized ex-ante vol (AKA \"tracking error\") of only 3%. Together, the two have vol just over 14% (power of diversification!).\n",
    "\n",
    "So most of the stockpicker's risk is just the beta part, which you could easily get by putting your money into a buy-and-hold passive index-tracking mutual fund or ETF! Why pay 2+20 for this?\n",
    "\n",
    "Instead, get the beta part basically for free from some large institutional index-tracking mutual fund, and go back to your alpha manager and say \"you're running just 3% of active risk for me, I'm fine paying you 20% performance fee but no way in hell I'm going to let you eat 2% management fee every year\"."
   ]
  },
  {
   "cell_type": "code",
   "execution_count": null,
   "metadata": {},
   "outputs": [],
   "source": []
  }
 ],
 "metadata": {
  "kernelspec": {
   "display_name": "Python 3",
   "language": "python",
   "name": "python3"
  },
  "language_info": {
   "codemirror_mode": {
    "name": "ipython",
    "version": 3
   },
   "file_extension": ".py",
   "mimetype": "text/x-python",
   "name": "python",
   "nbconvert_exporter": "python",
   "pygments_lexer": "ipython3",
   "version": "3.8.5"
  }
 },
 "nbformat": 4,
 "nbformat_minor": 4
}
