{
 "cells": [
  {
   "cell_type": "markdown",
   "metadata": {},
   "source": [
    "# Notes on duration-hedging"
   ]
  },
  {
   "cell_type": "markdown",
   "metadata": {},
   "source": [
    "## Remember why we hedge!\n",
    "\n",
    "Clients are already getting exposure to equity and yield-level risk in their risk-parity or 60/40 allocations. When there's a big rate hike and they're down a ton there, they don't need you to add to the list of their alpha managers who are also down."
   ]
  },
  {
   "cell_type": "markdown",
   "metadata": {},
   "source": [
    "## Fighting the duration premium\n",
    "\n",
    "With that said, just like a market-neutral manager who hedges out beta risk doesn't get the benefit of the stock-market rollercoaster usually going up, as a fixed-income manager hedging out duration risk you aren't going to get the benefit of buy-and-hold-govies being a long-term positive-ER strategy. But if you want to be a credit manager, not a lowly fixed-income manager, you're going to need to do it. So your brilliant corporate-bond fund which was heretofore loading up on duration risk, is going to have a _lower_ ER than before, but what's left is going to be true alpha, pure and wholesome.\n",
    "\n",
    "The actual futures data is too expensive for me to buy, but I have two ways of estimating the cost of this upstream swim:\n",
    "* I just visually looked at daily US10Y secondary-market yields from FRED 1960-2022, and the average looks like 4% per annum.\n",
    "* I know from experience that US10Y is about duration-7, and each unit of duration is about one unit of annualized volatility, and the long-term Sharpe of a single-tenor single-government bond investment (on-the-run, i.e. rebalanced to constant maturity each quarter) is like 0.35-0.45. (I know this because a balanced diversified stock-and-bond portfolio has Sharpe like 0.60-0.65, and stocks are bonds are long-term somewhat negatively-correlated.) Which means that I can estimate the annual return from US10Y as like (0.40 or 0.45) * 7%, which is about 3%.\n",
    "\n",
    "Let's take the higher of the two estimates. That's 4% per year, at duration 7. Now you take off the funding cost -- Since you're short, you get to earn that, whether explicitly if you short the cash bond or implicitly if you open a futures position. I'm using US 3m TBill, and in FRED 1934-2022 it looks like the average might be 1%? So that leaves a 3% fight.\n",
    "\n",
    "Now say you're a fixed-income manager running a book at duration 3 (measured properly -- I don't care if your bonds are all duration 1.5, if you're 2x-levered, your book has duration 3). To duration-match, you want to short about 3/7 = 40% of NAV. That means you're losing about 3% * 40% = 1.2pp on NAV of returns per year."
   ]
  },
  {
   "cell_type": "code",
   "execution_count": null,
   "metadata": {},
   "outputs": [],
   "source": [
    "# need less dur in 10Y bc convexity"
   ]
  },
  {
   "cell_type": "markdown",
   "metadata": {},
   "source": [
    "## Making some back\n",
    "\n",
    "It's not all bad news! Say you're making 10% per year at 10% vol, being 0.30-correlated to Bloomberg-Barclays Global Agg. (The \"corrvol\" here is 0.30 * 10%, which is 3%, which is consistent with our duration-3 example from above.) Now you remove that yield exposure, which was driving $R^2 = 0.30^2 \\approx 10\\%$ of your portfolio variance. You're left with $90\\%$ of your variance, which is $0.90 * (10\\%)^2$, which is volatility of $\\sqrt{0.90 * (10\\%)^2} = 9.5\\%$. So now you can lever up a bit! Instead of being 2x-levered, you can go to 2.1x and still run at 10% vol. So you were making 10% per year, you lost 1.2pp to the hedge, leaving 8.8%, but then you can lever that up to 9.24%! So there is a little redemption."
   ]
  },
  {
   "cell_type": "markdown",
   "metadata": {},
   "source": [
    "## Trading costs\n",
    "\n",
    "People make this out to be a bigger deal than it is. If you're a small firm you'll get ripped off by brokers on fees but your trade will be small so you won't have actual market impact. If you're a big firm you'll have impact but you'll get a quantity discount on the fees. Either way you won't pay more than 5bp per notional dollar trading US10Y futures on a bad day. (When I say \"bad day\", I mean like 80th-percentile-bad, not \"hey feel free to sit on your hands til the roll window's about to close\". Try to hit early in the window so that (a) you don't get caught off-guard but (b) you have the option to delay the roll a bit if there's a transitory liquidity crunch. If memory serves, some trades were getting filled at 20bps of market impact in late Feb 2020.)\n",
    "\n",
    "So let's say you're a medium-size firm running a \\\\$1B book with duration 3. You want about  $\\$1B \\cdot 3 / 7 \\approx \\$450M$ of US10Y notional exposure. Daily traded volume here is like $\\$100B$ per tenor (like $\\$500B$ across the curve), and you can go up to 5% of DTV safely. So you could literally hit the street with your entire quarterly roll volume on the first day of the window and you'd be less than 10bps of DTV. At 5bp MI on notional, that's \\\\$225k, which is 2bp on NAV. You'll pay this four times a year. So even in my worst-case scenario, you're paying 10bp per year on trading.\n",
    "\n",
    "But wait! That 5bp number was for usual trades. Roll volume is huge and it's easy to find a match since the entire financial world is trying to close their speculative positions before they have to either make or take delivery. So take that 5bp number down to sub-1bp. Again, trading cost is really not the thing to focus on here -- The real cost is fighting the duration risk premium."
   ]
  },
  {
   "cell_type": "code",
   "execution_count": null,
   "metadata": {},
   "outputs": [],
   "source": []
  }
 ],
 "metadata": {
  "kernelspec": {
   "display_name": "Python 3",
   "language": "python",
   "name": "python3"
  },
  "language_info": {
   "codemirror_mode": {
    "name": "ipython",
    "version": 3
   },
   "file_extension": ".py",
   "mimetype": "text/x-python",
   "name": "python",
   "nbconvert_exporter": "python",
   "pygments_lexer": "ipython3",
   "version": "3.8.5"
  }
 },
 "nbformat": 4,
 "nbformat_minor": 4
}
