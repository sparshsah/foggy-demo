{
 "cells": [
  {
   "cell_type": "markdown",
   "metadata": {},
   "source": [
    "# Notes on duration-hedging"
   ]
  },
  {
   "cell_type": "markdown",
   "metadata": {},
   "source": [
    "## Trading costs\n",
    "\n",
    "People make this out to be a bigger deal than it is. If you're a small firm you'll get ripped off by brokers on fees but your trade will be small so you won't have actual market impact. If you're a big firm you'll have impact but you'll get a quantity discount on the fees. Either way you'll pay like 5bp per notional dollar trading US10Y futures.\n",
    "\n",
    "So let's say you're a medium-size firm running a \\\\$1B book with duration 2. You want about"
   ]
  },
  {
   "cell_type": "code",
   "execution_count": null,
   "metadata": {},
   "outputs": [],
   "source": [
    "# need less dur in 10Y bc convexity"
   ]
  }
 ],
 "metadata": {
  "kernelspec": {
   "display_name": "Python 3",
   "language": "python",
   "name": "python3"
  },
  "language_info": {
   "codemirror_mode": {
    "name": "ipython",
    "version": 3
   },
   "file_extension": ".py",
   "mimetype": "text/x-python",
   "name": "python",
   "nbconvert_exporter": "python",
   "pygments_lexer": "ipython3",
   "version": "3.8.5"
  }
 },
 "nbformat": 4,
 "nbformat_minor": 4
}
