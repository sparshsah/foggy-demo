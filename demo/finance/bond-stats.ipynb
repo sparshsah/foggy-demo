{
 "cells": [
  {
   "cell_type": "markdown",
   "id": "5b14aec0-ee7a-4222-8308-ffa25ef62f68",
   "metadata": {},
   "source": [
    "AUTHOR: [@sparshsah](github.com/sparshsah)\n",
    "\n",
    "# BOND STATS"
   ]
  },
  {
   "cell_type": "markdown",
   "id": "d4b199de-2407-46ee-a2fa-e3527d9f2d65",
   "metadata": {},
   "source": [
    "I propose the following approximation: `irr` $\\approx$ `coupon - loss - premium / wal`, where\n",
    "* `irr` is internal rate of return (annualized);\n",
    "* `coupon` is coupon fraction (annualized);\n",
    "* `loss` is (gross-of-recoveries) loss rate (annualized);\n",
    "* `premium` is the premium (if positive) or discount (if negative) paid, in percentage points; and\n",
    "* `wal` is weighted-average life.\n",
    "\n",
    "For simplicity, I neglect recoveries, which makes net-of-recoveries loss rate the same as `loss`. WLOG, I assume initial principal is \\$1 and payments are made at the end of each year (this is WLOG because instead of an Earth year, you can make the unit of time anything you want, and call that your year).\n",
    "\n",
    "I'd like to know how good this approximation is under various\n",
    "* Amortization schedules\n",
    "* Coupons\n",
    "* Loss rates\n",
    "* Premia\n",
    "* Terms."
   ]
  },
  {
   "cell_type": "code",
   "execution_count": 1,
   "id": "8384d597-97ba-4a4c-9467-e8a580cd893e",
   "metadata": {},
   "outputs": [],
   "source": [
    "from typing import Final\n",
    "\n",
    "import numpy as np\n",
    "import pandas as pd"
   ]
  },
  {
   "cell_type": "code",
   "execution_count": 2,
   "id": "872b7324-9957-4f32-b656-794b5fb2abf8",
   "metadata": {},
   "outputs": [],
   "source": [
    "PRIN: Final[float] = 1.00"
   ]
  },
  {
   "cell_type": "code",
   "execution_count": 80,
   "id": "e1579794-b7dd-4d8b-bab5-9d0259fc7572",
   "metadata": {},
   "outputs": [],
   "source": [
    "def _get_pmts(\n",
    "    amort: bool = False,\n",
    "    term: int = 1,\n",
    "    loss_rate: float = 0.00,\n",
    "    coupon_frac: float = 0.00,\n",
    "    prin: float = PRIN,\n",
    "    px: float = 1.00,\n",
    ") -> pd.DataFrame:\n",
    "    \"\"\"DF(index=timesteps, columns=[\"prin\", \"chargeoff\", \"coupon\"]).\"\"\"\n",
    "    pmts = pd.DataFrame(\n",
    "        index=range(0, term+1),\n",
    "        columns=[\"prin\", \"chargeoff\", \"coupon\"],\n",
    "    )\n",
    "    # special row\n",
    "    pmts.loc[0, :] = pd.Series({\"prin\": -px*prin, \"chargeoff\": 0, \"coupon\": 0})\n",
    "    bal = prin\n",
    "    for t in range(1, term+1):\n",
    "        pmts.loc[t, \"coupon\"] = bal * coupon_frac\n",
    "        pmts.loc[t, \"chargeoff\"] = bal * loss_rate\n",
    "        bal -= pmts.loc[t, \"chargeoff\"]\n",
    "        ####\n",
    "        if amort:\n",
    "            # beginning-of-period remaining term -- fencepost principle\n",
    "            rterm = term - t + 1\n",
    "            pmts.loc[t, \"prin\"] = bal / rterm\n",
    "        else:\n",
    "            pmts.loc[t, \"prin\"] = 0 if t < term else bal\n",
    "        bal -= pmts.loc[t, \"prin\"]       \n",
    "    assert np.isclose(bal, 0), f\"Balance should be zero, is {bal}!\"\n",
    "    # augment column\n",
    "    pmts.loc[:, \"net\"] = pmts.sum(axis=\"columns\")\n",
    "    return pmts"
   ]
  },
  {
   "cell_type": "code",
   "execution_count": 81,
   "id": "6f1bd2be-c65b-444d-ba2a-1f29c7bbfb63",
   "metadata": {},
   "outputs": [
    {
     "data": {
      "text/html": [
       "<div>\n",
       "<style scoped>\n",
       "    .dataframe tbody tr th:only-of-type {\n",
       "        vertical-align: middle;\n",
       "    }\n",
       "\n",
       "    .dataframe tbody tr th {\n",
       "        vertical-align: top;\n",
       "    }\n",
       "\n",
       "    .dataframe thead th {\n",
       "        text-align: right;\n",
       "    }\n",
       "</style>\n",
       "<table border=\"1\" class=\"dataframe\">\n",
       "  <thead>\n",
       "    <tr style=\"text-align: right;\">\n",
       "      <th></th>\n",
       "      <th>prin</th>\n",
       "      <th>chargeoff</th>\n",
       "      <th>coupon</th>\n",
       "      <th>net</th>\n",
       "    </tr>\n",
       "  </thead>\n",
       "  <tbody>\n",
       "    <tr>\n",
       "      <th>0</th>\n",
       "      <td>-1.0</td>\n",
       "      <td>0.0</td>\n",
       "      <td>0.0</td>\n",
       "      <td>-1.000000</td>\n",
       "    </tr>\n",
       "    <tr>\n",
       "      <th>1</th>\n",
       "      <td>0</td>\n",
       "      <td>0.1</td>\n",
       "      <td>0.2</td>\n",
       "      <td>0.300000</td>\n",
       "    </tr>\n",
       "    <tr>\n",
       "      <th>2</th>\n",
       "      <td>0</td>\n",
       "      <td>0.09</td>\n",
       "      <td>0.18</td>\n",
       "      <td>0.270000</td>\n",
       "    </tr>\n",
       "    <tr>\n",
       "      <th>3</th>\n",
       "      <td>0</td>\n",
       "      <td>0.081</td>\n",
       "      <td>0.162</td>\n",
       "      <td>0.243000</td>\n",
       "    </tr>\n",
       "    <tr>\n",
       "      <th>4</th>\n",
       "      <td>0</td>\n",
       "      <td>0.0729</td>\n",
       "      <td>0.1458</td>\n",
       "      <td>0.218700</td>\n",
       "    </tr>\n",
       "    <tr>\n",
       "      <th>5</th>\n",
       "      <td>0</td>\n",
       "      <td>0.06561</td>\n",
       "      <td>0.13122</td>\n",
       "      <td>0.196830</td>\n",
       "    </tr>\n",
       "    <tr>\n",
       "      <th>6</th>\n",
       "      <td>0.531441</td>\n",
       "      <td>0.059049</td>\n",
       "      <td>0.118098</td>\n",
       "      <td>0.708588</td>\n",
       "    </tr>\n",
       "  </tbody>\n",
       "</table>\n",
       "</div>"
      ],
      "text/plain": [
       "       prin chargeoff    coupon       net\n",
       "0      -1.0       0.0       0.0 -1.000000\n",
       "1         0       0.1       0.2  0.300000\n",
       "2         0      0.09      0.18  0.270000\n",
       "3         0     0.081     0.162  0.243000\n",
       "4         0    0.0729    0.1458  0.218700\n",
       "5         0   0.06561   0.13122  0.196830\n",
       "6  0.531441  0.059049  0.118098  0.708588"
      ]
     },
     "execution_count": 81,
     "metadata": {},
     "output_type": "execute_result"
    }
   ],
   "source": [
    "_get_pmts(\n",
    "    amort=False,\n",
    "    term=6,\n",
    "    loss_rate=0.10,\n",
    "    coupon_frac=0.20,\n",
    ")"
   ]
  }
 ],
 "metadata": {
  "kernelspec": {
   "display_name": "Python 3 (ipykernel)",
   "language": "python",
   "name": "python3"
  },
  "language_info": {
   "codemirror_mode": {
    "name": "ipython",
    "version": 3
   },
   "file_extension": ".py",
   "mimetype": "text/x-python",
   "name": "python",
   "nbconvert_exporter": "python",
   "pygments_lexer": "ipython3",
   "version": "3.10.11"
  }
 },
 "nbformat": 4,
 "nbformat_minor": 5
}
