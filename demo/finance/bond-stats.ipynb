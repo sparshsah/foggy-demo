{
 "cells": [
  {
   "cell_type": "markdown",
   "id": "5b14aec0-ee7a-4222-8308-ffa25ef62f68",
   "metadata": {},
   "source": [
    "AUTHOR: [@sparshsah](github.com/sparshsah)\n",
    "\n",
    "# BOND STATS"
   ]
  },
  {
   "cell_type": "markdown",
   "id": "d4b199de-2407-46ee-a2fa-e3527d9f2d65",
   "metadata": {},
   "source": [
    "I propose the following approximation: `irr` $\\approx$ `coupon - loss - premium / wal`, where\n",
    "* `irr` is internal rate of return (annualized);\n",
    "* `coupon` is coupon fraction (annualized);\n",
    "* `loss` is (gross-of-recoveries) loss rate (annualized);\n",
    "* `premium` is the premium (if positive) or discount (if negative) paid, in percentage points; and\n",
    "* `wal` is weighted-average life.\n",
    "\n",
    "For simplicity, I neglect recoveries, which makes net-of-recoveries loss rate the same as `loss`. WLOG, I assume initial principal is \\$1 and payments are made at the end of each year (this is WLOG because instead of an Earth year, you can make the unit of time anything you want, and call that your year).\n",
    "\n",
    "I'd like to know how good this approximation is under various\n",
    "* Amortization schedules\n",
    "* Coupons\n",
    "* Loss rates\n",
    "* Premia\n",
    "* Terms."
   ]
  },
  {
   "cell_type": "code",
   "execution_count": 1,
   "id": "8384d597-97ba-4a4c-9467-e8a580cd893e",
   "metadata": {},
   "outputs": [],
   "source": [
    "from typing import Final\n",
    "\n",
    "import numpy as np\n",
    "import pandas as pd"
   ]
  },
  {
   "cell_type": "code",
   "execution_count": 2,
   "id": "872b7324-9957-4f32-b656-794b5fb2abf8",
   "metadata": {},
   "outputs": [],
   "source": [
    "PRIN: Final[float] = 1.00"
   ]
  },
  {
   "cell_type": "code",
   "execution_count": 40,
   "id": "4f644d36-e757-42dd-834f-baa71e053e32",
   "metadata": {},
   "outputs": [],
   "source": [
    "def _get_baseline_prin_pmts(\n",
    "    term: int = 1,\n",
    "    amort: bool = False,\n",
    ") -> pd.Series:\n",
    "    \"\"\"Stream of repayments, assuming no defaults.\n",
    "    Zero-indexed, where t=0 represents outlay.\n",
    "    \"\"\"\n",
    "    if amort:\n",
    "        pmt = PRIN / term\n",
    "        pmts = pd.Series(\n",
    "            [-1]\n",
    "            + [pmt] * term\n",
    "        )   \n",
    "    else:\n",
    "        pmts = pd.Series(\n",
    "            [-1]\n",
    "            + [0] * (term-1)\n",
    "            + [PRIN]\n",
    "        ) \n",
    "    # validate that we get exactly repaid\n",
    "    assert np.isclose(pmts.sum(),0), pmts\n",
    "    return pmts\n",
    "\n",
    "def _get_preloss_eop_bal(\n",
    "    baseline_prin_pmts: pd.Series,\n",
    ") -> pd.Series:\n",
    "    cum_prin_pmts = pd.concat(\n",
    "        [\n",
    "            pd.Series([0]),\n",
    "            baseline_prin_pmts.loc[1:].cumsum(),\n",
    "        ],\n",
    "        verify_integrity=True,\n",
    "    )\n",
    "    bal = PRIN - cum_prin_pmts\n",
    "    assert np.isclose(bal.iloc[-1],0), bal\n",
    "    return bal\n",
    "\n",
    "def _get_chargeoffs(\n",
    "    preloss_eop_bal: pd.Series,\n",
    "    loss_rate: float = 0.00,\n",
    ") -> pd.Series:\n",
    "    return preloss_eop_bal * loss_rate\n",
    "\n",
    "def __get_postloss_eop_bal(\n",
    "    preloss_eop_bal: pd.Series,\n",
    "    chargeoffs: pd.Series,\n",
    ") -> pd.Series:\n",
    "    postloss_eop_bal = preloss_eop_bal - chargeoffs.cumsum()\n",
    "    assert np.isclose(postloss_eop_bal.iloc[-1], 0), postloss_eop_bal\n",
    "    return postloss_eop_bal\n",
    "\n",
    "def _get_postloss_eop_bal(\n",
    "    preloss_eop_bal: pd.Series,\n",
    "    loss_rate: float = 0,\n",
    ") -> pd.Series:\n",
    "    chargeoffs = _get_chargeoffs(\n",
    "        preloss_eop_bal=preloss_eop_bal,\n",
    "        loss_rate=loss_rate,\n",
    "    )\n",
    "    postloss_eop_bal = __get_postloss_eop_bal(\n",
    "        preloss_eop_bal=preloss_eop_bal,\n",
    "        chargeoffs=chargeoffs,\n",
    "    )\n",
    "    assert np.isclose(postloss_eop_bal.iloc[-1], 0), postloss_eop_bal\n",
    "    return postloss_eop_bal\n",
    "\n",
    "def _get_cpn_pmts(\n",
    "    bop_bal: pd.Series,\n",
    "    cpn_frac: float = 0.00,\n",
    ") -> None:\n",
    "    # coupon paid on beginning-of-period balance, which at t=0 should be null\n",
    "    assert np.isnan(bop_bal.loc[0]), bop_bal\n",
    "    pmts = bop_bal * cpn_frac\n",
    "    # fill in the null\n",
    "    pmts.loc[0] = 0\n",
    "    return pmts"
   ]
  },
  {
   "cell_type": "code",
   "execution_count": 41,
   "id": "21d362c2-ef63-4445-95ea-1a22a49a3519",
   "metadata": {},
   "outputs": [
    {
     "data": {
      "text/plain": [
       "0   -1.0\n",
       "1    0.0\n",
       "2    0.0\n",
       "3    0.0\n",
       "4    0.0\n",
       "5    1.0\n",
       "dtype: float64"
      ]
     },
     "execution_count": 41,
     "metadata": {},
     "output_type": "execute_result"
    }
   ],
   "source": [
    "baseline_prin_pmts = _get_baseline_prin_pmts(\n",
    "    5,\n",
    "    0,\n",
    ")\n",
    "baseline_prin_pmts"
   ]
  },
  {
   "cell_type": "code",
   "execution_count": 42,
   "id": "de83bd06-a68a-4bd1-bd81-8529b263408d",
   "metadata": {},
   "outputs": [
    {
     "data": {
      "text/plain": [
       "0    1.0\n",
       "1    1.0\n",
       "2    1.0\n",
       "3    1.0\n",
       "4    1.0\n",
       "5    0.0\n",
       "dtype: float64"
      ]
     },
     "execution_count": 42,
     "metadata": {},
     "output_type": "execute_result"
    }
   ],
   "source": [
    "preloss_eop_bal = _get_preloss_eop_bal(\n",
    "    baseline_prin_pmts=baseline_prin_pmts,\n",
    ")\n",
    "preloss_eop_bal"
   ]
  },
  {
   "cell_type": "code",
   "execution_count": 43,
   "id": "aacdfd4a-4171-4cc7-b71b-1c8e2eb2103b",
   "metadata": {},
   "outputs": [
    {
     "data": {
      "text/plain": [
       "0    0.1\n",
       "1    0.1\n",
       "2    0.1\n",
       "3    0.1\n",
       "4    0.1\n",
       "5    0.0\n",
       "dtype: float64"
      ]
     },
     "execution_count": 43,
     "metadata": {},
     "output_type": "execute_result"
    }
   ],
   "source": [
    "chargeoffs = _get_chargeoffs(\n",
    "    preloss_eop_bal=preloss_eop_bal,\n",
    "    loss_rate=0.10,\n",
    ")\n",
    "chargeoffs"
   ]
  },
  {
   "cell_type": "code",
   "execution_count": 45,
   "id": "b1ce0ebf-7c6a-4023-8516-56b2b46d96ef",
   "metadata": {},
   "outputs": [
    {
     "data": {
      "text/plain": [
       "0    1.0\n",
       "1    1.0\n",
       "2    1.0\n",
       "3    1.0\n",
       "4    1.0\n",
       "5    0.0\n",
       "dtype: float64"
      ]
     },
     "execution_count": 45,
     "metadata": {},
     "output_type": "execute_result"
    }
   ],
   "source": [
    "preloss_eop_bal"
   ]
  },
  {
   "cell_type": "code",
   "execution_count": 46,
   "id": "d1784562-2f03-4971-bec9-e50a46d2b112",
   "metadata": {},
   "outputs": [
    {
     "data": {
      "text/plain": [
       "0    0.1\n",
       "1    0.2\n",
       "2    0.3\n",
       "3    0.4\n",
       "4    0.5\n",
       "5    0.5\n",
       "dtype: float64"
      ]
     },
     "execution_count": 46,
     "metadata": {},
     "output_type": "execute_result"
    }
   ],
   "source": [
    "chargeoffs.cumsum()"
   ]
  },
  {
   "cell_type": "code",
   "execution_count": 44,
   "id": "badd24cc-2e2a-4893-8c69-e386acb236d1",
   "metadata": {},
   "outputs": [
    {
     "ename": "AssertionError",
     "evalue": "0    0.9\n1    0.8\n2    0.7\n3    0.6\n4    0.5\n5   -0.5\ndtype: float64",
     "output_type": "error",
     "traceback": [
      "\u001b[0;31m---------------------------------------------------------------------------\u001b[0m",
      "\u001b[0;31mAssertionError\u001b[0m                            Traceback (most recent call last)",
      "Cell \u001b[0;32mIn[44], line 1\u001b[0m\n\u001b[0;32m----> 1\u001b[0m postloss_eop_bal \u001b[38;5;241m=\u001b[39m \u001b[43m__get_postloss_eop_bal\u001b[49m\u001b[43m(\u001b[49m\n\u001b[1;32m      2\u001b[0m \u001b[43m    \u001b[49m\u001b[43mpreloss_eop_bal\u001b[49m\u001b[38;5;241;43m=\u001b[39;49m\u001b[43mpreloss_eop_bal\u001b[49m\u001b[43m,\u001b[49m\n\u001b[1;32m      3\u001b[0m \u001b[43m    \u001b[49m\u001b[43mchargeoffs\u001b[49m\u001b[38;5;241;43m=\u001b[39;49m\u001b[43mchargeoffs\u001b[49m\u001b[43m,\u001b[49m\n\u001b[1;32m      4\u001b[0m \u001b[43m)\u001b[49m\n\u001b[1;32m      5\u001b[0m postloss_eop_bal\n",
      "Cell \u001b[0;32mIn[40], line 49\u001b[0m, in \u001b[0;36m__get_postloss_eop_bal\u001b[0;34m(preloss_eop_bal, chargeoffs)\u001b[0m\n\u001b[1;32m     44\u001b[0m \u001b[38;5;28;01mdef\u001b[39;00m \u001b[38;5;21m__get_postloss_eop_bal\u001b[39m(\n\u001b[1;32m     45\u001b[0m     preloss_eop_bal: pd\u001b[38;5;241m.\u001b[39mSeries,\n\u001b[1;32m     46\u001b[0m     chargeoffs: pd\u001b[38;5;241m.\u001b[39mSeries,\n\u001b[1;32m     47\u001b[0m ) \u001b[38;5;241m-\u001b[39m\u001b[38;5;241m>\u001b[39m pd\u001b[38;5;241m.\u001b[39mSeries:\n\u001b[1;32m     48\u001b[0m     postloss_eop_bal \u001b[38;5;241m=\u001b[39m preloss_eop_bal \u001b[38;5;241m-\u001b[39m chargeoffs\u001b[38;5;241m.\u001b[39mcumsum()\n\u001b[0;32m---> 49\u001b[0m     \u001b[38;5;28;01massert\u001b[39;00m np\u001b[38;5;241m.\u001b[39misclose(postloss_eop_bal\u001b[38;5;241m.\u001b[39miloc[\u001b[38;5;241m-\u001b[39m\u001b[38;5;241m1\u001b[39m], \u001b[38;5;241m0\u001b[39m), postloss_eop_bal\n\u001b[1;32m     50\u001b[0m     \u001b[38;5;28;01mreturn\u001b[39;00m postloss_eop_bal\n",
      "\u001b[0;31mAssertionError\u001b[0m: 0    0.9\n1    0.8\n2    0.7\n3    0.6\n4    0.5\n5   -0.5\ndtype: float64"
     ]
    }
   ],
   "source": [
    "postloss_eop_bal = __get_postloss_eop_bal(\n",
    "    preloss_eop_bal=preloss_eop_bal,\n",
    "    chargeoffs=chargeoffs,\n",
    ")\n",
    "postloss_eop_bal"
   ]
  },
  {
   "cell_type": "code",
   "execution_count": 38,
   "id": "4290c1b2-3331-4d60-9d73-240d0b3c59dd",
   "metadata": {},
   "outputs": [
    {
     "data": {
      "text/plain": [
       "0    0.9\n",
       "1    0.9\n",
       "2    0.9\n",
       "3    0.9\n",
       "4    0.9\n",
       "5    0.0\n",
       "dtype: float64"
      ]
     },
     "execution_count": 38,
     "metadata": {},
     "output_type": "execute_result"
    }
   ],
   "source": [
    "postloss_eop_bal = _get_postloss_eop_bal(\n",
    "    preloss_eop_bal=preloss_eop_bal,\n",
    "    loss_rate=0.10,\n",
    ")\n",
    "postloss_eop_bal"
   ]
  },
  {
   "cell_type": "code",
   "execution_count": 39,
   "id": "3eb67f60-dcfe-4455-ad13-5ab9097d57e9",
   "metadata": {},
   "outputs": [
    {
     "data": {
      "text/plain": [
       "0    0.00\n",
       "1    0.09\n",
       "2    0.09\n",
       "3    0.09\n",
       "4    0.09\n",
       "5    0.09\n",
       "dtype: float64"
      ]
     },
     "execution_count": 39,
     "metadata": {},
     "output_type": "execute_result"
    }
   ],
   "source": [
    "cpn_pmts = _get_cpn_pmts(\n",
    "    bop_bal=postloss_eop_bal.shift(),\n",
    "    cpn_frac=0.10,\n",
    ")\n",
    "cpn_pmts"
   ]
  },
  {
   "cell_type": "code",
   "execution_count": null,
   "id": "dca28568-90d3-4385-9346-2f5fe4eab127",
   "metadata": {},
   "outputs": [],
   "source": []
  }
 ],
 "metadata": {
  "kernelspec": {
   "display_name": "Python 3 (ipykernel)",
   "language": "python",
   "name": "python3"
  },
  "language_info": {
   "codemirror_mode": {
    "name": "ipython",
    "version": 3
   },
   "file_extension": ".py",
   "mimetype": "text/x-python",
   "name": "python",
   "nbconvert_exporter": "python",
   "pygments_lexer": "ipython3",
   "version": "3.10.11"
  }
 },
 "nbformat": 4,
 "nbformat_minor": 5
}
