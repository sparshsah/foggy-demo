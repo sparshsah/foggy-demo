{
 "cells": [
  {
   "cell_type": "markdown",
   "metadata": {},
   "source": [
    "# BRAT"
   ]
  },
  {
   "cell_type": "markdown",
   "metadata": {},
   "source": [
    "## Givens\n",
    "\n",
    "* (G0) A single sector of $N \\geq 2$ securities whose returns are governed by an invertible ex-ante covariance matrix $\\Sigma$\n",
    "* (G1) A \"representative basket\" $B$ (this is an $N$-vector of weights on each asset, e.g. it could be GDP by country if we're looking at equity indices)\n",
    "* (G2) A vector $\\beta$ of each asset's loading (beta) on the basket\n",
    "* (G3) Full panel $X$ of most recent year's daily returns for each asset (and _no other information_) at time $t$"
   ]
  },
  {
   "cell_type": "markdown",
   "metadata": {},
   "source": [
    "## Assume\n",
    "\n",
    "* (A0) There exists a unique Sharpe-maximizing (at 10% ex-ante vol) _unconstrained_ view $U$ (we suppress the notation $U|X$ but this view, like all others in our world, is implicitly conditioned on $X$ and no other information)\n",
    "    * You don't have to, but I imagine something like a timeseries momentum strategy (vector of weights on each asset at time $t$) as described in [Moskowitz-Ooi-Pedersen 2012](https://www.aqr.com/Insights/Research/Journal-Article/Time-Series-Momentum)\n",
    "* (A1) There exists a unique Sharpe-maximizing (at 10% ex-ante vol) _basket-neutral_ view $V$ (again we suppress the notation $V|X$)\n",
    "    * Basket-neutral meaning that $\\beta'V = 0$. This is equivalent to saying that the ex-ante covariance (and hence ex-ante correlation) of the returns of portfolio $B$ and portfolio $V$ is zero. We will denote this as $B \\perp V$.\n",
    "    * I imagine something like a relative-value momentum strategy as described in [Jegadeesh-Titman 1993](https://www.jstor.org/stable/2328882)"
   ]
  },
  {
   "cell_type": "markdown",
   "metadata": {},
   "source": [
    "## Construction\n",
    "\n",
    "* (C0) For convenience, decompose $U = a + bB + vV + R$, where $(b, v, r)$ are scalar coefficients. We already know that $B \\perp V$, but we here have also that $R \\perp B$ and $R \\perp V$. To do this:\n",
    "    * Regress portfolio $U$ on portfolios $B$ and $V$ using GLS with covariance matrix $\\Sigma$. $a$, $b$, and $v$ will be pulled from the regression, while $R$ will be the residuals vector, \"whatever is left over\" needed to complete the portfolio. Because we have at least two assets, this decomposition is possible, although in the two-asset case $R$ will be empty. The residual portfolio will be uncorrelated with either regressor portfolio (w.r.t. the covariance matrix $\\Sigma$, e.g. $R'\\Sigma V = 0$)."
   ]
  },
  {
   "cell_type": "markdown",
   "metadata": {},
   "source": [
    "## Lemmas\n",
    "\n"
   ]
  }
 ],
 "metadata": {
  "kernelspec": {
   "display_name": "Python 3",
   "language": "python",
   "name": "python3"
  },
  "language_info": {
   "codemirror_mode": {
    "name": "ipython",
    "version": 3
   },
   "file_extension": ".py",
   "mimetype": "text/x-python",
   "name": "python",
   "nbconvert_exporter": "python",
   "pygments_lexer": "ipython3",
   "version": "3.8.5"
  }
 },
 "nbformat": 4,
 "nbformat_minor": 4
}
