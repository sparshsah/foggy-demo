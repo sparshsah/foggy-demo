{
 "cells": [
  {
   "cell_type": "markdown",
   "metadata": {},
   "source": [
    "# BRAT\n",
    "\n",
    "You'll need to have some background in quant factors, and even then you'll probably need me to walk you through this, but I think this is a very cute little result. Especially combined with my [result on MVO hedging](https://github.com/sparshsah/foggy-demo/blob/main/demo/finance/mvo-hedge.pdf)!"
   ]
  },
  {
   "cell_type": "markdown",
   "metadata": {},
   "source": [
    "## Givens\n",
    "\n",
    "* (G0) A single sector of $N \\geq 2$ securities whose returns are governed by an invertible ex-ante covariance matrix $\\Sigma$\n",
    "* (G1) A \"representative basket\" $B$ (this is an $N$-vector of weights on each asset, e.g. it could be GDP by country if we're looking at equity indices)\n",
    "* (G2) A vector $\\beta$ of each asset's loading (beta) on the basket\n",
    "* (G3) Full panel $X$ of most recent year's daily returns for each asset (and _no other information_) at time $t$"
   ]
  },
  {
   "cell_type": "markdown",
   "metadata": {},
   "source": [
    "## Assume\n",
    "\n",
    "* (A0) There exists a unique Sharpe-maximizing (at 10% ex-ante vol) _unconstrained_ view $U$ (we suppress the notation $U|X$ but this view, like all others in our world, is implicitly conditioned on $X$ and no other information)\n",
    "    * You don't have to, but I imagine something like a timeseries momentum strategy (vector of weights on each asset at time $t$) as described in [Moskowitz-Ooi-Pedersen 2012](https://www.aqr.com/Insights/Research/Journal-Article/Time-Series-Momentum)\n",
    "* (A1) There exists a unique Sharpe-maximizing (at 10% ex-ante vol) _basket-neutral_ view $V$ (again we suppress the notation $V|X$)\n",
    "    * Basket-neutral meaning that $\\beta'V = 0$. This is equivalent to saying that the ex-ante covariance (and hence ex-ante correlation) of the returns of portfolio $B$ and portfolio $V$ is zero. We will denote this as $B \\perp V$.\n",
    "    * I imagine something like a relative-value momentum strategy as described in [Jegadeesh-Titman 1993](https://www.jstor.org/stable/2328882)"
   ]
  },
  {
   "cell_type": "markdown",
   "metadata": {},
   "source": [
    "## Construction\n",
    "\n",
    "* (C0) For convenience, decompose $U = a + bB + vV + R$, where $(b, v, r)$ are scalar coefficients. We already know that $B \\perp V$, but we here have also that $R \\perp B$ and $R \\perp V$. To do this:\n",
    "    * Regress portfolio $U$ on portfolios $B$ and $V$ using GLS with covariance matrix $\\Sigma$. $a$, $b$, and $v$ will be pulled from the regression, while $R$ will be the residuals vector, \"whatever is left over\" needed to complete the portfolio. The residual portfolio will be uncorrelated with either regressor portfolio (w.r.t. the covariance matrix $\\Sigma$, e.g. $R'\\Sigma V = 0$)."
   ]
  },
  {
   "cell_type": "markdown",
   "metadata": {},
   "source": [
    "## Lemmas\n",
    "\n",
    "\n",
    "* (L0) $R$ has zero portfolio ER, i.e. $R'\\mu = 0$. Pf: By contradiction.\n",
    "    * Suppose to the contrary that $R'\\mu > 0$ (WLOG -- if $R'\\mu < 0$, then replace $R$ with $-R$). We know that $R' \\Sigma B = 0$, and beta is linear, so that any linear combination of $R$ and $V$ will remain basket-neutral. But we also know that $R' \\Sigma V = 0$, so that any ER from $R$ is \"orthogonal\", i.e. $R$ has portfolio alpha over $V$. Therefore, for small $\\varepsilon$, the portfolio $\\varepsilon R + V$ is basket-neutral yet has higher Sharpe than $V$, contradicting (A1). QED.\n",
    "\n",
    "\n",
    "* (L1) $R$ has zero volatility, i.e. $R' \\Sigma R = 0$. Pf: By contradiction.\n",
    "    * Suppose to the contrary that $R$ has positive volatility. Then, by (C0) ($R$ is orthogonal to both $B$ and $V$, in particular it is not a hedge against either), $R$ contributes positive risk to $U$. But, by (L0), $R$ contributes no ER to $U$. So, the portfolio $U-R$ has lower volatility but the same ER as $U$, contradicting (A0). QED."
   ]
  },
  {
   "cell_type": "markdown",
   "metadata": {},
   "source": [
    "## Result\n",
    "\n",
    "* (R) $R$ is the zero vector, AKA the empty portfolio. Pf: By (L1) and (G0) we have QED."
   ]
  },
  {
   "cell_type": "markdown",
   "metadata": {},
   "source": [
    "## Plain English\n",
    "\n",
    "This is a very cute result on one hand because it says that, combined with my MVO-hedge result above, I can tell you how to turn $U$ into $V$ in one step.\n",
    "\n",
    "But more practically useful is the opposite direction: In principle, it is OK to split your money between a macro manager (who takes large or small positive or negative views on $B$) and a market-neutral stockpicker (who bets on spreads and tries to construct $V$) -- There is no nonlinearity! They can be totally ignorant of each other and still come up with the optimal combined portfolio when taken together.\n",
    "\n",
    "But there are two big benefits of a combined approach:\n",
    "* First of all, the fact that you know $B$, `sign(b)`, and $V$ doesn't mean you know `abs(b)` or $v$. The latter will require an understanding of (a) Ex-ante Sharpes across the two strategies, and (b) Your personal risk budget.\n",
    "* Second of all, more mundane, is tax efficiencies. To see why separating alpha from beta usually results in more favorable taxable gains, see my [writeup on alphaports](https://github.com/sparshsah/foggy-demo/blob/main/demo/finance/alphaport.ipynb). But the best of all (just from a tax standpoint) would be to run an SMA alphaport structure with the same manager, and allow cross-trading. This gives maximum flexibility."
   ]
  }
 ],
 "metadata": {
  "kernelspec": {
   "display_name": "Python 3",
   "language": "python",
   "name": "python3"
  },
  "language_info": {
   "codemirror_mode": {
    "name": "ipython",
    "version": 3
   },
   "file_extension": ".py",
   "mimetype": "text/x-python",
   "name": "python",
   "nbconvert_exporter": "python",
   "pygments_lexer": "ipython3",
   "version": "3.8.5"
  }
 },
 "nbformat": 4,
 "nbformat_minor": 4
}
