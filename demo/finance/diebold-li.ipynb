{
 "cells": [
  {
   "cell_type": "markdown",
   "id": "bbeb0970-f0c1-419f-8718-4275057c6d41",
   "metadata": {},
   "source": [
    "DIEBOLD-LI 2006, \"Forecasting the Term Structure of Government Bond Yields\", i.e. the Yield Curve\n",
    "\n",
    "Author: [@sparshsah](https://github.com/sparshsah)"
   ]
  },
  {
   "cell_type": "code",
   "execution_count": 155,
   "id": "3370a3b5-ee8f-49a5-9817-0c40495bc400",
   "metadata": {
    "tags": []
   },
   "outputs": [],
   "source": [
    "from typing import Final, Sequence\n",
    "\n",
    "import pandas as pd\n",
    "import statsmodels.regression.linear_model as sm_lm\n",
    "import statsmodels.tsa.ar_model as sm_ar\n",
    "\n",
    "# https://github.com/sparshsah/foggy-statslib/blob/main/foggy_statslib/core.py\n",
    "import foggy_statslib.core as fsc"
   ]
  },
  {
   "cell_type": "markdown",
   "id": "9ff4a10a-92e5-44f9-95e8-7c128ba509fc",
   "metadata": {
    "tags": []
   },
   "source": [
    "# DATA"
   ]
  },
  {
   "cell_type": "code",
   "execution_count": 110,
   "id": "188f3246-e5f4-4370-985e-0db3b5487efc",
   "metadata": {
    "tags": []
   },
   "outputs": [
    {
     "data": {
      "text/html": [
       "<div>\n",
       "<style scoped>\n",
       "    .dataframe tbody tr th:only-of-type {\n",
       "        vertical-align: middle;\n",
       "    }\n",
       "\n",
       "    .dataframe tbody tr th {\n",
       "        vertical-align: top;\n",
       "    }\n",
       "\n",
       "    .dataframe thead th {\n",
       "        text-align: right;\n",
       "    }\n",
       "</style>\n",
       "<table border=\"1\" class=\"dataframe\">\n",
       "  <thead>\n",
       "    <tr style=\"text-align: right;\">\n",
       "      <th>tau</th>\n",
       "      <th>0</th>\n",
       "      <th>1</th>\n",
       "      <th>2</th>\n",
       "      <th>3</th>\n",
       "      <th>4</th>\n",
       "      <th>6</th>\n",
       "      <th>12</th>\n",
       "      <th>24</th>\n",
       "      <th>36</th>\n",
       "      <th>60</th>\n",
       "      <th>84</th>\n",
       "      <th>120</th>\n",
       "      <th>240</th>\n",
       "      <th>360</th>\n",
       "    </tr>\n",
       "  </thead>\n",
       "  <tbody>\n",
       "    <tr>\n",
       "      <th>count</th>\n",
       "      <td>8008.0</td>\n",
       "      <td>5108.000000</td>\n",
       "      <td>803.000000</td>\n",
       "      <td>8004.000000</td>\n",
       "      <td>0.0</td>\n",
       "      <td>8007.000000</td>\n",
       "      <td>8007.000000</td>\n",
       "      <td>8007.000000</td>\n",
       "      <td>8007.000000</td>\n",
       "      <td>8007.000000</td>\n",
       "      <td>8007.000000</td>\n",
       "      <td>8007.000000</td>\n",
       "      <td>7068.000000</td>\n",
       "      <td>7013.000000</td>\n",
       "    </tr>\n",
       "    <tr>\n",
       "      <th>mean</th>\n",
       "      <td>0.0</td>\n",
       "      <td>0.011893</td>\n",
       "      <td>0.009332</td>\n",
       "      <td>0.026178</td>\n",
       "      <td>NaN</td>\n",
       "      <td>0.027428</td>\n",
       "      <td>0.028642</td>\n",
       "      <td>0.031560</td>\n",
       "      <td>0.033691</td>\n",
       "      <td>0.037591</td>\n",
       "      <td>0.040643</td>\n",
       "      <td>0.043008</td>\n",
       "      <td>0.043998</td>\n",
       "      <td>0.048258</td>\n",
       "    </tr>\n",
       "    <tr>\n",
       "      <th>std</th>\n",
       "      <td>0.0</td>\n",
       "      <td>0.014544</td>\n",
       "      <td>0.010175</td>\n",
       "      <td>0.023005</td>\n",
       "      <td>NaN</td>\n",
       "      <td>0.023387</td>\n",
       "      <td>0.023428</td>\n",
       "      <td>0.023723</td>\n",
       "      <td>0.023281</td>\n",
       "      <td>0.022239</td>\n",
       "      <td>0.021388</td>\n",
       "      <td>0.020370</td>\n",
       "      <td>0.017212</td>\n",
       "      <td>0.019750</td>\n",
       "    </tr>\n",
       "    <tr>\n",
       "      <th>min</th>\n",
       "      <td>0.0</td>\n",
       "      <td>0.000000</td>\n",
       "      <td>0.000000</td>\n",
       "      <td>0.000000</td>\n",
       "      <td>NaN</td>\n",
       "      <td>0.000200</td>\n",
       "      <td>0.000400</td>\n",
       "      <td>0.000900</td>\n",
       "      <td>0.001000</td>\n",
       "      <td>0.001900</td>\n",
       "      <td>0.003600</td>\n",
       "      <td>0.005200</td>\n",
       "      <td>0.008700</td>\n",
       "      <td>0.009900</td>\n",
       "    </tr>\n",
       "    <tr>\n",
       "      <th>25%</th>\n",
       "      <td>0.0</td>\n",
       "      <td>0.000600</td>\n",
       "      <td>0.000600</td>\n",
       "      <td>0.001600</td>\n",
       "      <td>NaN</td>\n",
       "      <td>0.002600</td>\n",
       "      <td>0.004300</td>\n",
       "      <td>0.008100</td>\n",
       "      <td>0.011500</td>\n",
       "      <td>0.017100</td>\n",
       "      <td>0.021400</td>\n",
       "      <td>0.024950</td>\n",
       "      <td>0.027900</td>\n",
       "      <td>0.030400</td>\n",
       "    </tr>\n",
       "    <tr>\n",
       "      <th>50%</th>\n",
       "      <td>0.0</td>\n",
       "      <td>0.005100</td>\n",
       "      <td>0.001200</td>\n",
       "      <td>0.021000</td>\n",
       "      <td>NaN</td>\n",
       "      <td>0.021800</td>\n",
       "      <td>0.023900</td>\n",
       "      <td>0.027400</td>\n",
       "      <td>0.029700</td>\n",
       "      <td>0.035100</td>\n",
       "      <td>0.038900</td>\n",
       "      <td>0.042200</td>\n",
       "      <td>0.045700</td>\n",
       "      <td>0.046600</td>\n",
       "    </tr>\n",
       "    <tr>\n",
       "      <th>75%</th>\n",
       "      <td>0.0</td>\n",
       "      <td>0.018000</td>\n",
       "      <td>0.020700</td>\n",
       "      <td>0.049300</td>\n",
       "      <td>NaN</td>\n",
       "      <td>0.050700</td>\n",
       "      <td>0.050500</td>\n",
       "      <td>0.052400</td>\n",
       "      <td>0.054200</td>\n",
       "      <td>0.056500</td>\n",
       "      <td>0.058500</td>\n",
       "      <td>0.059000</td>\n",
       "      <td>0.057600</td>\n",
       "      <td>0.063900</td>\n",
       "    </tr>\n",
       "    <tr>\n",
       "      <th>max</th>\n",
       "      <td>0.0</td>\n",
       "      <td>0.052700</td>\n",
       "      <td>0.024800</td>\n",
       "      <td>0.082600</td>\n",
       "      <td>NaN</td>\n",
       "      <td>0.084900</td>\n",
       "      <td>0.086400</td>\n",
       "      <td>0.090500</td>\n",
       "      <td>0.091100</td>\n",
       "      <td>0.091000</td>\n",
       "      <td>0.091200</td>\n",
       "      <td>0.090900</td>\n",
       "      <td>0.083000</td>\n",
       "      <td>0.091800</td>\n",
       "    </tr>\n",
       "  </tbody>\n",
       "</table>\n",
       "</div>"
      ],
      "text/plain": [
       "tau       0            1           2            3    4            6    \\\n",
       "count  8008.0  5108.000000  803.000000  8004.000000  0.0  8007.000000   \n",
       "mean      0.0     0.011893    0.009332     0.026178  NaN     0.027428   \n",
       "std       0.0     0.014544    0.010175     0.023005  NaN     0.023387   \n",
       "min       0.0     0.000000    0.000000     0.000000  NaN     0.000200   \n",
       "25%       0.0     0.000600    0.000600     0.001600  NaN     0.002600   \n",
       "50%       0.0     0.005100    0.001200     0.021000  NaN     0.021800   \n",
       "75%       0.0     0.018000    0.020700     0.049300  NaN     0.050700   \n",
       "max       0.0     0.052700    0.024800     0.082600  NaN     0.084900   \n",
       "\n",
       "tau            12           24           36           60           84   \\\n",
       "count  8007.000000  8007.000000  8007.000000  8007.000000  8007.000000   \n",
       "mean      0.028642     0.031560     0.033691     0.037591     0.040643   \n",
       "std       0.023428     0.023723     0.023281     0.022239     0.021388   \n",
       "min       0.000400     0.000900     0.001000     0.001900     0.003600   \n",
       "25%       0.004300     0.008100     0.011500     0.017100     0.021400   \n",
       "50%       0.023900     0.027400     0.029700     0.035100     0.038900   \n",
       "75%       0.050500     0.052400     0.054200     0.056500     0.058500   \n",
       "max       0.086400     0.090500     0.091100     0.091000     0.091200   \n",
       "\n",
       "tau            120          240          360  \n",
       "count  8007.000000  7068.000000  7013.000000  \n",
       "mean      0.043008     0.043998     0.048258  \n",
       "std       0.020370     0.017212     0.019750  \n",
       "min       0.005200     0.008700     0.009900  \n",
       "25%       0.024950     0.027900     0.030400  \n",
       "50%       0.042200     0.045700     0.046600  \n",
       "75%       0.059000     0.057600     0.063900  \n",
       "max       0.090900     0.083000     0.091800  "
      ]
     },
     "execution_count": 110,
     "metadata": {},
     "output_type": "execute_result"
    }
   ],
   "source": [
    "YCS: Final[pd.DataFrame] = (\n",
    "    pd.read_csv(\n",
    "        \"data/treasury-gov_daily-treasury-par-yield-curve-rates.csv\",\n",
    "        index_col=\"Date\",\n",
    "        parse_dates=True,\n",
    "    )\n",
    "    .sort_index()\n",
    "    .rename_axis(index=\"date\", columns=\"tau\")\n",
    "    .rename(\n",
    "        columns=lambda n_mo: (\n",
    "            int(n_mo.split()[0]) if n_mo.split()[1] == \"Mo\"\n",
    "            else (\n",
    "                int(n_mo.split()[0])*12 if n_mo.split()[1] == \"Yr\"\n",
    "                else int(\"ERR\")\n",
    "            )            \n",
    "        )\n",
    "    )\n",
    "    / 100\n",
    ")\n",
    "YCS.loc[:, 0] = 0\n",
    "YCS = YCS.sort_index(axis=\"columns\")\n",
    "\n",
    "YCS.describe()"
   ]
  },
  {
   "cell_type": "code",
   "execution_count": 97,
   "id": "cf890a9c-5423-4482-b8d2-f0ca01a179ed",
   "metadata": {
    "tags": []
   },
   "outputs": [
    {
     "data": {
      "image/png": "[encoded data removed]",
      "text/plain": [
       "<Figure size 600x400 with 1 Axes>"
      ]
     },
     "metadata": {},
     "output_type": "display_data"
    },
    {
     "data": {
      "text/plain": [
       "<Axes: title={'center': 'Example Ground-Truth Yield Curve (t = 2005-01-03)'}>"
      ]
     },
     "execution_count": 97,
     "metadata": {},
     "output_type": "execute_result"
    }
   ],
   "source": [
    "t = \"2005-01-03\"\n",
    "fsc.plot(\n",
    "    YCS.loc[t, :].interpolate(),\n",
    "    ypct=True,\n",
    "    title=f\"Example Ground-Truth Yield Curve (t = {t})\",\n",
    "    figsize=(6,4),\n",
    ")"
   ]
  },
  {
   "cell_type": "markdown",
   "id": "f1ae7efe-850a-478d-a7a4-61ff4d7f7752",
   "metadata": {
    "tags": []
   },
   "source": [
    "# MODEL\n",
    "\n",
    "Modified Nelson-Siegel:\n",
    "\n",
    "$$ y^\\tau_t := \\beta^1_t + \\beta^2_t\\left(\\frac{1 - e^{-\\lambda\\tau}}{\\lambda\\tau}\\right) + \\beta^3_t\\left(\\frac{1 - e^{-\\lambda\\tau}}{\\lambda\\tau} - e^{-\\lambda\\tau}\\right) ,$$\n",
    "\n",
    "with $\\lambda := 0.0609$ set somewhat arbitrarily so that $1.793/\\lambda := 30,$ where $1.793$ is some \"point of maximum loading on the curvature factor\", otherwise known as the \"medium-term factor\", and $30$ months is apparently what people consider a medium-term Treasury Note. No idea what's going on here, and the authors give no further explanation or evidence for this.\n",
    "\n",
    "Therefore, we can simplify this to\n",
    "$$ y^\\tau_t := \\beta^1_t + \\beta^2_t\\left(\\frac{1 - e^{-0.0609\\tau}}{0.0609\\tau}\\right) + \\beta^3_t\\left(\\frac{1 - e^{-0.0609\\tau}}{0.0609\\tau} - e^{-0.0609\\tau}\\right) $$\n",
    "$$ = \\beta^1_t + \\beta^2_t\\left(\\frac{1 - 0.9409^\\tau}{0.0609\\tau}\\right) + \\beta^3_t\\left(\\frac{1 - 0.9409^\\tau}{0.0609\\tau} - 0.9409^\\tau\\right) .$$\n",
    "\n",
    "Let us define $x^{2,\\tau}_t$ to be the factor on $\\beta^2_t$ and $x^{3,\\tau}_t$ similarly for $\\beta^3_t$.\n",
    "\n",
    "I am going to tweak this a bit by actually redefining $x2 := -x2$ and $x3 := -x3$. This makes the $\\beta$'s signs more intuitive, as it will on average have positive loading on the level and slope (representing a climb over maturities) and negative on the curvature (representing a flattening out over maturities)."
   ]
  },
  {
   "cell_type": "code",
   "execution_count": 198,
   "id": "c9092c9f-7f4c-4e3f-98ff-4ba8dc40153a",
   "metadata": {
    "tags": []
   },
   "outputs": [
    {
     "data": {
      "image/png": "[encoded data removed]",
      "text/plain": [
       "<Figure size 600x400 with 1 Axes>"
      ]
     },
     "metadata": {},
     "output_type": "display_data"
    },
    {
     "data": {
      "text/plain": [
       "<Axes: title={'center': 'Example Modeled Yield Curve'}>"
      ]
     },
     "execution_count": 198,
     "metadata": {},
     "output_type": "execute_result"
    }
   ],
   "source": [
    "L: Final[float] = 0.0609\n",
    "TAUS: Final[Sequence[int]] = YCS.columns\n",
    "\n",
    "\n",
    "def _get_x1(\n",
    "    tau: int = 0,\n",
    "    l: float = L,\n",
    ") -> float:\n",
    "    _ = tau, l\n",
    "    return 1\n",
    "\n",
    "def _get_x2(\n",
    "    tau: int = 0,\n",
    "    l: float = L,\n",
    ") -> float:\n",
    "    \"\"\"Get the loading on slope coefficient at this maturity.\"\"\"\n",
    "    wtf = math.exp(- l*tau)\n",
    "    numerator =  1 - wtf\n",
    "    denominator = l * tau\n",
    "    x2 = numerator / denominator\n",
    "    return -x2\n",
    "\n",
    "def _get_x3(\n",
    "    tau: int = 0,\n",
    "    l: float = L,\n",
    ") -> float:\n",
    "    \"\"\"Get the loading on curvature coefficient at this maturity.\"\"\"\n",
    "    wtf = math.exp(- l*tau)\n",
    "    numerator =  1 - wtf\n",
    "    denominator = l * tau\n",
    "    x2 = numerator / denominator\n",
    "    x3 = x2 - wtf\n",
    "    return -x3\n",
    "\n",
    "\n",
    "def _get_y(\n",
    "    tau: int = 0,\n",
    "    beta: pd.Series = pd.Series({\"x1\": 0.10, \"x2\": 0.10, \"x3\": -0.05}, name=\"betas\").rename_axis(index=\"x\"),\n",
    ") -> float:\n",
    "    \"\"\"Get modeled yield at this maturity, given level, slope, and curvature coefficients.\"\"\"\n",
    "    return 0 if tau == 0 else (\n",
    "        beta[\"x1\"]*_get_x1(tau=tau)\n",
    "        + beta[\"x2\"]*_get_x2(tau=tau)\n",
    "        + beta[\"x3\"]*_get_x3(tau=tau)\n",
    "    )\n",
    "\n",
    "def get_y(\n",
    "    beta: pd.Series = pd.Series({\"x1\": 0.10, \"x2\": 0.10, \"x3\": -0.05}, name=\"betas\").rename_axis(index=\"x\"),\n",
    ") -> pd.Series:\n",
    "    return pd.Series(\n",
    "        {\n",
    "            tau: _get_y(\n",
    "                tau=tau,\n",
    "                beta=beta,\n",
    "            )\n",
    "            for tau in TAUS\n",
    "        }\n",
    "    )\n",
    "\n",
    "\n",
    "fsc.plot(\n",
    "    get_y(),\n",
    "    ypct=True,\n",
    "    title=\"Example Modeled Yield Curve\",\n",
    "    figsize=(6,4)\n",
    ")"
   ]
  },
  {
   "cell_type": "code",
   "execution_count": 224,
   "id": "5984a7f5-46e1-4c56-a2aa-80ae31779c98",
   "metadata": {
    "tags": []
   },
   "outputs": [],
   "source": [
    "def get_dta(\n",
    "    t: pd.Timestamp | str = t,\n",
    ") -> pd.DataFrame:\n",
    "    \"\"\"Construct y, X for a given date, ready for regression.\"\"\"\n",
    "    y = YCS.loc[t, 1:]\n",
    "    X = pd.DataFrame(\n",
    "        {\n",
    "            tau: pd.Series(\n",
    "                {\n",
    "                    \"x1\": _get_x1(tau=tau),\n",
    "                    \"x2\": _get_x2(tau=tau),\n",
    "                    \"x3\": _get_x3(tau=tau),\n",
    "                },\n",
    "                name=tau\n",
    "            )\n",
    "            for tau in TAUS[1:]\n",
    "        }\n",
    "    ).rename_axis(index=\"tau\").T\n",
    "    y = y.dropna()\n",
    "    X = X.reindex(index=y.index)\n",
    "    return y, X\n",
    "\n",
    "\n",
    "def _get_f(\n",
    "    t: pd.Timestamp | str = t,\n",
    ") -> pd.Series | None:\n",
    "    y, X = get_dta(t=t)\n",
    "    if len(y):\n",
    "        m = sm_lm.OLS(y, X, missing=\"drop\")\n",
    "        f = m.fit()\n",
    "        return f\n",
    "    else:\n",
    "        return None\n",
    "\n",
    "\n",
    "def get_beta(\n",
    "    t: pd.Timestamp | str = t,\n",
    ") -> pd.Series | None:\n",
    "    f = _get_f(t=t)\n",
    "    if f is not None:\n",
    "        beta = f.params.rename_axis(index=\"x\").rename(t)\n",
    "        return beta\n",
    "    else:\n",
    "        return None\n",
    "\n",
    "def get_betas() -> pd.DataFrame:\n",
    "    betas = {\n",
    "        t: get_beta(t=t)\n",
    "        for t in YCS.index\n",
    "    }\n",
    "    return pd.DataFrame(\n",
    "        {\n",
    "            t: beta for (t, beta) in betas.items()\n",
    "            if beta is not None\n",
    "        }\n",
    "    ).T\n",
    "\n",
    "\n",
    "def est(\n",
    "    t: pd.Timestamp | str = t,\n",
    ") -> pd.DataFrame:\n",
    "    ground_truth = YCS.loc[t, :].interpolate()\n",
    "    f = _get_f(t=t)\n",
    "    fitted = f.fittedvalues.reindex(index=ground_truth.index).interpolate()\n",
    "    return pd.DataFrame(\n",
    "        {\n",
    "            \"ground_truth\": ground_truth,\n",
    "            \"fitted\": fitted,\n",
    "        }\n",
    "    )"
   ]
  },
  {
   "cell_type": "code",
   "execution_count": 220,
   "id": "c74e21b6-d048-48b6-848f-3dbf828a2616",
   "metadata": {
    "tags": []
   },
   "outputs": [
    {
     "data": {
      "image/png": "[encoded data removed]",
      "text/plain": [
       "<Figure size 600x400 with 1 Axes>"
      ]
     },
     "metadata": {},
     "output_type": "display_data"
    },
    {
     "data": {
      "text/plain": [
       "<Axes: title={'center': '2005-01-03'}, xlabel='tau'>"
      ]
     },
     "execution_count": 220,
     "metadata": {},
     "output_type": "execute_result"
    }
   ],
   "source": [
    "fsc.plot(\n",
    "    est(),\n",
    "    ypct=True,\n",
    "    figsize=(6,4),\n",
    "    title=t,\n",
    ")"
   ]
  },
  {
   "cell_type": "code",
   "execution_count": null,
   "id": "060696ee-5a9c-4d37-bf1a-2cd611b0296a",
   "metadata": {
    "tags": []
   },
   "outputs": [],
   "source": [
    "betas = get_betas()"
   ]
  },
  {
   "cell_type": "code",
   "execution_count": null,
   "id": "35a39126-f972-4d52-88ae-f4cafacb1d62",
   "metadata": {
    "tags": []
   },
   "outputs": [],
   "source": [
    "betas"
   ]
  },
  {
   "cell_type": "code",
   "execution_count": null,
   "id": "fb083c70-5f40-491a-a667-2df92d326b49",
   "metadata": {},
   "outputs": [],
   "source": []
  }
 ],
 "metadata": {
  "kernelspec": {
   "display_name": "Python 3 (ipykernel)",
   "language": "python",
   "name": "python3"
  },
  "language_info": {
   "codemirror_mode": {
    "name": "ipython",
    "version": 3
   },
   "file_extension": ".py",
   "mimetype": "text/x-python",
   "name": "python",
   "nbconvert_exporter": "python",
   "pygments_lexer": "ipython3",
   "version": "3.10.11"
  }
 },
 "nbformat": 4,
 "nbformat_minor": 5
}
