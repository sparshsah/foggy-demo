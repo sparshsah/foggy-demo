{
 "cells": [
  {
   "cell_type": "markdown",
   "metadata": {},
   "source": [
    "AUTHOR: SPARSHSAH"
   ]
  },
  {
   "cell_type": "markdown",
   "metadata": {},
   "source": [
    "<title><h1>BOND RETURN VS YIELD</h1></title>"
   ]
  },
  {
   "cell_type": "markdown",
   "metadata": {},
   "source": [
    "# Definitions\n",
    "\n",
    "* For simplicity, all applicable measures are daily (not annualized).\n",
    "* The current timestep is $t$.\n",
    "* We consider a ZCB (zero-coupon bond) that pays out its face value $V := \\$1$ on its maturity date $T := 261$.\n",
    "* The bond's duration $\\tau := T-t$.\n",
    "* The bond's yield (rsp price, return) on day $t$ is $y_t$ (rsp $Z_t$, $r_T$).\n",
    "* The bond's yield shift on day $t$ is $\\Delta_t[y] := y_t - y_{t-1}$.\n",
    "* The bond's estimated yield volatility at day $t$ is $\\hat{\\sigma}^y_t := |\\Delta_t[y]|$.\n",
    "* The bond's estimated return volatility at day $t$ is $\\hat{\\sigma}^r_t := |r_t|$."
   ]
  },
  {
   "cell_type": "markdown",
   "metadata": {},
   "source": [
    "# Logarithmic setting\n",
    "\n",
    "We have\n",
    "$$ Z_t = \\exp[-y_t(T-t)] .$$\n",
    "\n",
    "We define\n",
    "$$ r_t := \\ln[Z_t/Z_{t-1}] = \\ln[Z_t] - \\ln[Z_{t-1}] .$$\n",
    "\n",
    "Notice that\n",
    "$$ \\ln[Z_t] := \\ln[\\exp[-y_t(T-t)]] = -y_t(T-t) .$$\n",
    "Therefore,\n",
    "$$ r_t = -y_t(T-t) - -y_{t-1}(T-(t-1)) = -y_t(T-t) + y_{t-1}(T-t+1) $$\n",
    "$$ = - y_t(T-t) + y_{t-1}(T-t) + y_{t-1} $$\n",
    "$$ = -(y_t - y_{t-1})\\tau + y_{t-1} = -\\Delta_t[y]\\tau + y_{t-1} .$$\n",
    "\n",
    "Assume that the duration is very long (maturity date is very far away) $\\tau \\gg 0$, and that\n",
    "the yield did not literally stay flat $\\Delta_t[y] \\neq 0$.\n",
    "Then, we can approximate\n",
    "$$ \\boxed{ r_t \\approx -\\Delta_t[y]\\tau } .$$\n",
    "Notice that we can interpret the duration $\\tau$ as\n",
    "the bond return's sensitivity to yield shifts.\n",
    "\n",
    "So, assume that $\\tau > 0$ (the bond has not matured yet) and\n",
    "suppose we are given the bond's estimated return volatility,\n",
    "$$ s := \\hat{\\sigma}^r_t = |r_t| \\approx |-\\Delta_t[y]\\tau| = |\\Delta_t[y]\\tau| = |\\Delta_t[y]|\\tau .$$\n",
    "We can recover the bond's estimated yield volatility as\n",
    "$$ s / \\tau .$$"
   ]
  }
 ],
 "metadata": {
  "kernelspec": {
   "display_name": "Python 3",
   "language": "python",
   "name": "python3"
  },
  "language_info": {
   "codemirror_mode": {
    "name": "ipython",
    "version": 3
   },
   "file_extension": ".py",
   "mimetype": "text/x-python",
   "name": "python",
   "nbconvert_exporter": "python",
   "pygments_lexer": "ipython3",
   "version": "3.8.5"
  }
 },
 "nbformat": 4,
 "nbformat_minor": 4
}
