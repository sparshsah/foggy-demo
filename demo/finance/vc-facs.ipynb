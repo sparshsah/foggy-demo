{
 "cells": [
  {
   "cell_type": "markdown",
   "id": "df04d090-826e-4fad-a4f0-2bb90c366ce8",
   "metadata": {},
   "source": [
    "FACTOR INVESTING FOR VENTURE CAPITALISTS\n",
    "\n",
    "`y_n` means \"became a unicorn\".\n",
    "\n",
    "Author: [@sparshsah](https://github.com/sparshsah)"
   ]
  },
  {
   "cell_type": "code",
   "execution_count": 1,
   "id": "2d5b1d02-0bb1-4dbf-bc73-3c218d4d4061",
   "metadata": {
    "tags": []
   },
   "outputs": [],
   "source": [
    "from collections.abc import Collection, Sequence\n",
    "from typing import Final\n",
    "\n",
    "import matplotlib.pyplot as plt\n",
    "import numpy as np\n",
    "import pandas as pd\n",
    "import sklearn.decomposition\n",
    "import sklearn.linear_model\n",
    "import sklearn.metrics\n",
    "\n",
    "# https://github.com/sparshsah/foggy-statslib/blob/main/foggy_statslib/core.py\n",
    "import foggy_statslib.core as fsc"
   ]
  },
  {
   "cell_type": "markdown",
   "id": "060a7a53-ab71-4add-a4e4-c2bad0a0885b",
   "metadata": {},
   "source": [
    "# SAMPLE PCA"
   ]
  },
  {
   "cell_type": "code",
   "execution_count": 2,
   "id": "e7f8fd05-21b5-48dc-b3bc-4e64e7764a84",
   "metadata": {
    "tags": []
   },
   "outputs": [],
   "source": [
    "def _standardize(\n",
    "    X: pd.DataFrame,\n",
    ") -> pd.DataFrame:\n",
    "    X = (X - X.mean()) / X.std()\n",
    "    assert np.allclose(X.mean(), 0)\n",
    "    assert np.allclose(X.std(), 1)\n",
    "    return X\n",
    "\n",
    "\n",
    "def _get_pc_mults(\n",
    "    X: pd.DataFrame,\n",
    "    var_frac: float | None =  0.80,\n",
    ") -> pd.DataFrame:\n",
    "    \"\"\"Get principal-component multipliers.\"\"\"\n",
    "    fitter = sklearn.decomposition.PCA(\n",
    "        n_components=var_frac,\n",
    "    )\n",
    "    fitted = fitter.fit(X)\n",
    "    mults = pd.DataFrame(\n",
    "        fitted.components_,\n",
    "        index=[\n",
    "            f\"pc{i}\"\n",
    "            for i in range(\n",
    "                1,\n",
    "                fitted.components_.shape[0] + 1,\n",
    "            )\n",
    "        ],\n",
    "        columns=X.columns,\n",
    "    )\n",
    "    return mults\n",
    "\n",
    "\n",
    "def _calc_pc(\n",
    "    X: pd.DataFrame,\n",
    "    mult: pd.Series,\n",
    ") -> pd.Series:\n",
    "    if not X.columns.equals(\n",
    "        mult.index\n",
    "    ):\n",
    "        raise ValueError(\n",
    "            \"Misaligned index\"\n",
    "            + f\": {list(X.columns)}\"\n",
    "            + f\", {list(mult.index)}!\"\n",
    "        )\n",
    "    X_multed = X * mult\n",
    "    pc = X_multed.sum(axis=\"columns\")\n",
    "    assert X.index.equals(\n",
    "        pc.index\n",
    "    )\n",
    "    return pc\n",
    "\n",
    "\n",
    "def calc_pcs(\n",
    "    X: pd.DataFrame,\n",
    "    mults: pd.DataFrame,\n",
    ") -> pd.DataFrame:\n",
    "    \"\"\"Get principal components.\"\"\"\n",
    "    pcs = pd.DataFrame(\n",
    "        {\n",
    "            i: _calc_pc(\n",
    "                X=X,\n",
    "                mult=mult,\n",
    "            )\n",
    "            for (i, mult)\n",
    "            in mults.iterrows()\n",
    "        }\n",
    "    )\n",
    "    assert X.index.equals(\n",
    "        pcs.index\n",
    "    )\n",
    "    return pcs\n",
    "\n",
    "\n",
    "def get_rankstdized(\n",
    "    X: pd.DataFrame,\n",
    "    cohort: pd.Series,\n",
    "    pc_mults: pd.DataFrame,\n",
    ") -> pd.DataFrame:\n",
    "    X = calc_pcs(\n",
    "        X=X,\n",
    "        mults=pc_mults,\n",
    "    )\n",
    "    gb = X.groupby(cohort)\n",
    "    # rank\n",
    "    X = gb.rank().astype(int)\n",
    "    gb = X.groupby(cohort)\n",
    "    # stdize\n",
    "    # # can't do this, bc shape will be wrong --\n",
    "    # # we need same index as df\n",
    "    # suber, diver = gb.mean(), gb.std()\n",
    "    suber = gb.transform(\"mean\")\n",
    "    diver = gb.transform(\"std\")\n",
    "    X = (\n",
    "        X\n",
    "        .sub(\n",
    "            suber,\n",
    "            level=0,\n",
    "        )\n",
    "        .div(\n",
    "            diver,\n",
    "            level=0,\n",
    "        )\n",
    "    )\n",
    "    gb = X.groupby(cohort)\n",
    "    # TODO(sparshsah): If a cohort has just one member, E.g. A very early month\n",
    "    # for a EMG EQ cross-section where we've gotten data for\n",
    "    # only one of the countries in the cross-section, this check will\n",
    "    # fail because STD will be zero hence the rank-std'zed value will be NaN.\n",
    "    # The solution is to check for and drop those cohorts --\n",
    "    # How do you construct a long-short test portfolio from a single asset?\n",
    "    # You can't. With no variation to exploit, this is a non-informative cohort.\n",
    "    # Note that I initially had the bright idea of filling those NaN's with zero's,\n",
    "    # which is a bad idea. It will give the model spurious evidence that an asset in\n",
    "    # the middle of its cross-section in terms of signal ends up realizing\n",
    "    # exactly the average performance of that cross-section,\n",
    "    # which is evidence that this factor works. So imagine in the extreme\n",
    "    # that we have 100,000 single-asset cohorts. For example, just one stock\n",
    "    # with data for 100,000 days. We fill its signal with zero every day,\n",
    "    # and of course it goes on to realize its own performance every day, which in turn becomes\n",
    "    # the average performance of the cross-section. The model learns that\n",
    "    # there is heaps of evidence in favor of this factor. But in reality,\n",
    "    # you have learned nothing other than the fact that the mean of one value is that value.\n",
    "    assert np.allclose(\n",
    "        gb.mean(),\n",
    "        0,\n",
    "    )\n",
    "    assert np.allclose(\n",
    "        gb.std(),\n",
    "        1,\n",
    "    )\n",
    "    return X"
   ]
  },
  {
   "cell_type": "code",
   "execution_count": 3,
   "id": "4fa25137-b397-4496-a451-2b1bfa4161de",
   "metadata": {
    "tags": []
   },
   "outputs": [
    {
     "data": {
      "image/png": "[encoded data removed]",
      "text/plain": [
       "<Figure size 1000x1000 with 4 Axes>"
      ]
     },
     "metadata": {},
     "output_type": "display_data"
    }
   ],
   "source": [
    "X_train = pd.DataFrame(\n",
    "    {\n",
    "        \"x1\": [-4  , -3  , -2  , -1  , 0, +1  , +2  , +3  , +4  ],\n",
    "        \"x2\": [-3.5, -3.5, -1.5, -1.5, 0, +1.5, +1.5, +3.5, +3.5],\n",
    "    }\n",
    ")\n",
    "\n",
    "X_train = _standardize(\n",
    "    X=X_train,\n",
    ")\n",
    "\n",
    "pc_mults = _get_pc_mults(\n",
    "    X=X_train,\n",
    "    var_frac=None,\n",
    ")\n",
    "pcs_train = calc_pcs(\n",
    "    X=X_train,\n",
    "    mults=pc_mults,\n",
    ")\n",
    "\n",
    "\n",
    "_, axs = plt.subplots(\n",
    "    nrows=2,\n",
    "    ncols=2,\n",
    ")\n",
    "####\n",
    "fsc.plot(\n",
    "    X_train,\n",
    "    kind=\"scatter\",\n",
    "    axvline_locs=[0],\n",
    "    title=f\"\"\"X (corr = {X_train.corr().loc[\"x1\", \"x2\"] :.2f})\"\"\",\n",
    "    ax=axs[0, 0],\n",
    ")\n",
    "fsc.plot(\n",
    "    X_train[[\"x2\", \"x1\"]],\n",
    "    kind=\"scatter\",\n",
    "    axvline_locs=[0],\n",
    "    title=f\"\"\"X flipped\"\"\",\n",
    "    ax=axs[0, 1],\n",
    ")\n",
    "##\n",
    "fsc.plot(\n",
    "    pcs_train,\n",
    "    kind=\"scatter\",\n",
    "    axvline_locs=[0],\n",
    "    title=f\"\"\"PCs (corr = {pcs_train.corr().loc[\"pc1\", \"pc2\"] :.2f})\"\"\",\n",
    "    ax=axs[1, 0],\n",
    ")\n",
    "fsc.plot(\n",
    "    pcs_train[[\"pc2\", \"pc1\"]],\n",
    "    kind=\"scatter\",\n",
    "    axvline_locs=[0],\n",
    "    title=f\"\"\"PCs flipped\"\"\",\n",
    "    ax=axs[1, 1],\n",
    "    figsize=(10, 10),\n",
    ")\n",
    "####\n",
    "plt.show()"
   ]
  },
  {
   "cell_type": "code",
   "execution_count": 4,
   "id": "386c5dfe-efc9-4704-9511-382e1622dcc0",
   "metadata": {
    "tags": []
   },
   "outputs": [],
   "source": [
    "del axs, pcs_train, pc_mults, X_train"
   ]
  },
  {
   "cell_type": "markdown",
   "id": "ba145a9a-c154-4241-b518-254e0842ec1d",
   "metadata": {},
   "source": [
    "# DATA"
   ]
  },
  {
   "cell_type": "code",
   "execution_count": 5,
   "id": "2a35b074-c8b7-49c4-ac9d-fe46b5895ef5",
   "metadata": {
    "tags": []
   },
   "outputs": [],
   "source": [
    "N_QUARTERS: Final[int] = 4\n",
    "\n",
    "N_TICKERS: Final[int] = 500\n",
    "N_ASSETCLASSES: Final[int] = 4\n",
    "N_COUNTRIES: Final[int] = 5\n",
    "N_SECTORS: Final[int] = 5\n",
    "# 5 tickers per sector\n",
    "N_TICKERS_PER_SECTOR: Final[int] = int(\n",
    "    N_TICKERS\n",
    "    / N_ASSETCLASSES\n",
    "    / N_COUNTRIES\n",
    "    / N_SECTORS\n",
    ")\n",
    "assert N_TICKERS_PER_SECTOR == 5, N_TICKERS_PER_SECTOR\n",
    "\n",
    "# # debug\n",
    "# N_QUARTERS: Final[int] = 2\n",
    "# N_TICKERS: Final[int] = 16\n",
    "# N_ASSETCLASSES: Final[int] = 2\n",
    "# N_COUNTRIES: Final[int] = 2\n",
    "# N_SECTORS: Final[int] = 2\n",
    "# # 2 tickers per sector\n",
    "# assert N_TICKERS_PER_SECTOR == 2, N_TICKERS_PER_SECTOR"
   ]
  },
  {
   "cell_type": "code",
   "execution_count": 6,
   "id": "f0b56d7d-060a-4c58-b63b-b8c3c245b966",
   "metadata": {
    "tags": []
   },
   "outputs": [
    {
     "data": {
      "text/plain": [
       "MultiIndex([('q1',   'ticker1'),\n",
       "            ('q1',   'ticker2'),\n",
       "            ('q1',   'ticker3'),\n",
       "            ('q1',   'ticker4'),\n",
       "            ('q1',   'ticker5'),\n",
       "            ('q1',   'ticker6'),\n",
       "            ('q1',   'ticker7'),\n",
       "            ('q1',   'ticker8'),\n",
       "            ('q1',   'ticker9'),\n",
       "            ('q1',  'ticker10'),\n",
       "            ...\n",
       "            ('q4', 'ticker491'),\n",
       "            ('q4', 'ticker492'),\n",
       "            ('q4', 'ticker493'),\n",
       "            ('q4', 'ticker494'),\n",
       "            ('q4', 'ticker495'),\n",
       "            ('q4', 'ticker496'),\n",
       "            ('q4', 'ticker497'),\n",
       "            ('q4', 'ticker498'),\n",
       "            ('q4', 'ticker499'),\n",
       "            ('q4', 'ticker500')],\n",
       "           names=['q', 'ticker'], length=2000)"
      ]
     },
     "execution_count": 6,
     "metadata": {},
     "output_type": "execute_result"
    }
   ],
   "source": [
    "# index\n",
    "ix__q = (\n",
    "    sum(\n",
    "        (\n",
    "            [f\"q{q}\"] * N_TICKERS\n",
    "            for q in range(1, N_QUARTERS+1)\n",
    "        ),\n",
    "        start=[],\n",
    "    )\n",
    ")\n",
    "ix__ticker = (\n",
    "    [\n",
    "        f\"ticker{t}\"\n",
    "        for t in range(1, N_TICKERS+1)\n",
    "    ]\n",
    "    * N_QUARTERS\n",
    ")\n",
    "\n",
    "ix = pd.MultiIndex.from_frame(\n",
    "    pd.DataFrame(\n",
    "        {\n",
    "            \"q\": ix__q,\n",
    "            \"ticker\": ix__ticker,\n",
    "        }\n",
    "    )\n",
    ")\n",
    "del ix__ticker, ix__q\n",
    "\n",
    "\n",
    "ix"
   ]
  },
  {
   "cell_type": "markdown",
   "id": "790796eb-2941-4fe7-b89a-51734e38bc1f",
   "metadata": {},
   "source": [
    "## X"
   ]
  },
  {
   "cell_type": "code",
   "execution_count": 7,
   "id": "fab55316-30d3-4d5c-bd3d-23c0a2f90119",
   "metadata": {
    "tags": []
   },
   "outputs": [
    {
     "data": {
      "text/plain": [
       "q   ticker   \n",
       "q1  ticker1      q1_ac1_ccy1_sector1\n",
       "    ticker2      q1_ac1_ccy1_sector1\n",
       "    ticker3      q1_ac1_ccy1_sector1\n",
       "    ticker4      q1_ac1_ccy1_sector1\n",
       "    ticker5      q1_ac1_ccy1_sector1\n",
       "                        ...         \n",
       "q4  ticker496    q4_ac4_ccy5_sector5\n",
       "    ticker497    q4_ac4_ccy5_sector5\n",
       "    ticker498    q4_ac4_ccy5_sector5\n",
       "    ticker499    q4_ac4_ccy5_sector5\n",
       "    ticker500    q4_ac4_ccy5_sector5\n",
       "Name: cohort, Length: 2000, dtype: object"
      ]
     },
     "execution_count": 7,
     "metadata": {},
     "output_type": "execute_result"
    }
   ],
   "source": [
    "# qualitative features\n",
    "XNAMES_QUAL: Final[Sequence[str]] = [\n",
    "    \"ac\",\n",
    "    \"ccy\",\n",
    "    \"sector\",\n",
    "]\n",
    "\n",
    "x__ac = (\n",
    "    sum(\n",
    "        (\n",
    "            [f\"_ac{a}\"] * int(N_TICKERS/N_ASSETCLASSES)\n",
    "            for a in range(1, N_ASSETCLASSES+1)\n",
    "        ),\n",
    "        start=[],\n",
    "    )\n",
    "    * N_QUARTERS\n",
    ")\n",
    "x__ccy = (\n",
    "    sum(\n",
    "        (\n",
    "        \n",
    "            [f\"_ccy{s}\"] * int(N_TICKERS/N_ASSETCLASSES/N_COUNTRIES)\n",
    "            for s in range(1, N_COUNTRIES+1)\n",
    "        ),\n",
    "        start=[],\n",
    "    )\n",
    "    * N_ASSETCLASSES\n",
    "    * N_QUARTERS\n",
    ")\n",
    "x__sector = (\n",
    "    sum(\n",
    "        (\n",
    "        \n",
    "            [f\"_sector{s}\"] * int(N_TICKERS/N_ASSETCLASSES/N_COUNTRIES/N_SECTORS)\n",
    "            for s in range(1, N_SECTORS+1)\n",
    "        ),\n",
    "        start=[],\n",
    "    )\n",
    "    * N_COUNTRIES\n",
    "    * N_ASSETCLASSES\n",
    "    * N_QUARTERS\n",
    ")\n",
    "\n",
    "_dta_qual = pd.DataFrame(\n",
    "    {\n",
    "        \"q\": ix.map(lambda q_ticker: q_ticker[0]),\n",
    "        \"ac\": x__ac,\n",
    "        \"ccy\": x__ccy,\n",
    "        \"sector\": x__sector,\n",
    "    },\n",
    "    index=ix,\n",
    ")\n",
    "del x__sector, x__ccy, x__ac\n",
    "cohort = _dta_qual.sum(axis=\"columns\").rename(\"cohort\")\n",
    "\n",
    "\n",
    "cohort"
   ]
  },
  {
   "cell_type": "code",
   "execution_count": 8,
   "id": "d293749b-b7e5-4ff9-b98d-02290695fbcf",
   "metadata": {
    "tags": []
   },
   "outputs": [
    {
     "data": {
      "text/html": [
       "<div>\n",
       "<style scoped>\n",
       "    .dataframe tbody tr th:only-of-type {\n",
       "        vertical-align: middle;\n",
       "    }\n",
       "\n",
       "    .dataframe tbody tr th {\n",
       "        vertical-align: top;\n",
       "    }\n",
       "\n",
       "    .dataframe thead th {\n",
       "        text-align: right;\n",
       "    }\n",
       "</style>\n",
       "<table border=\"1\" class=\"dataframe\">\n",
       "  <thead>\n",
       "    <tr style=\"text-align: right;\">\n",
       "      <th></th>\n",
       "      <th>v</th>\n",
       "      <th>m</th>\n",
       "      <th>c</th>\n",
       "      <th>d</th>\n",
       "    </tr>\n",
       "  </thead>\n",
       "  <tbody>\n",
       "    <tr>\n",
       "      <th>pc1</th>\n",
       "      <td>0.647373</td>\n",
       "      <td>-0.626404</td>\n",
       "      <td>0.101779</td>\n",
       "      <td>-0.422098</td>\n",
       "    </tr>\n",
       "    <tr>\n",
       "      <th>pc2</th>\n",
       "      <td>-0.198760</td>\n",
       "      <td>0.243501</td>\n",
       "      <td>0.826567</td>\n",
       "      <td>-0.466893</td>\n",
       "    </tr>\n",
       "  </tbody>\n",
       "</table>\n",
       "</div>"
      ],
      "text/plain": [
       "            v         m         c         d\n",
       "pc1  0.647373 -0.626404  0.101779 -0.422098\n",
       "pc2 -0.198760  0.243501  0.826567 -0.466893"
      ]
     },
     "execution_count": 8,
     "metadata": {},
     "output_type": "execute_result"
    }
   ],
   "source": [
    "# quantitative features\n",
    "XNAMES_QUANT: Final[Sequence[str]] = [\n",
    "    \"v\",\n",
    "    \"m\",\n",
    "    \"c\",\n",
    "    \"d\",\n",
    "]\n",
    "\n",
    "_dta_quant = pd.DataFrame(\n",
    "    {\n",
    "        \"v\": [-8, -2,  0, +2, +8],\n",
    "        \"m\": [+1,  0,  0,  0, -1],\n",
    "        \"c\": [+1, -1, +1, -1, +1],\n",
    "        \"d\": [-2, +1, +1, -2, -4],\n",
    "    }\n",
    ")\n",
    "assert len(_dta_quant) == N_TICKERS_PER_SECTOR, len(dta_quant)\n",
    "_dta_quant = pd.concat(\n",
    "    [_dta_quant] * int(N_TICKERS / len(_dta_quant)) * N_QUARTERS,\n",
    "    ignore_index=True,\n",
    ").set_index(ix)\n",
    "\n",
    "_dta_quant_train = _dta_quant.drop(index=\"q4\")\n",
    "_dta_quant_train = _standardize(\n",
    "    X=_dta_quant_train\n",
    ")\n",
    "_dta_quant_test = _dta_quant.loc[[\"q4\"], :]\n",
    "_dta_quant_test = _standardize(\n",
    "    X=_dta_quant_test\n",
    ")\n",
    "\n",
    "# dim-reduction\n",
    "pc_mults_trained = _get_pc_mults(\n",
    "    X=_dta_quant_train,\n",
    ")\n",
    "\n",
    "\n",
    "pc_mults_trained"
   ]
  },
  {
   "cell_type": "code",
   "execution_count": 9,
   "id": "b15f4dfe-62fd-4d79-a426-2d09e0114302",
   "metadata": {
    "tags": []
   },
   "outputs": [
    {
     "data": {
      "text/html": [
       "<div>\n",
       "<style scoped>\n",
       "    .dataframe tbody tr th:only-of-type {\n",
       "        vertical-align: middle;\n",
       "    }\n",
       "\n",
       "    .dataframe tbody tr th {\n",
       "        vertical-align: top;\n",
       "    }\n",
       "\n",
       "    .dataframe thead th {\n",
       "        text-align: right;\n",
       "    }\n",
       "</style>\n",
       "<table border=\"1\" class=\"dataframe\">\n",
       "  <thead>\n",
       "    <tr style=\"text-align: right;\">\n",
       "      <th></th>\n",
       "      <th></th>\n",
       "      <th>pc1</th>\n",
       "      <th>pc2</th>\n",
       "    </tr>\n",
       "    <tr>\n",
       "      <th>q</th>\n",
       "      <th>ticker</th>\n",
       "      <th></th>\n",
       "      <th></th>\n",
       "    </tr>\n",
       "  </thead>\n",
       "  <tbody>\n",
       "    <tr>\n",
       "      <th rowspan=\"5\" valign=\"top\">q1</th>\n",
       "      <th>ticker1</th>\n",
       "      <td>-1.264911</td>\n",
       "      <td>1.264911</td>\n",
       "    </tr>\n",
       "    <tr>\n",
       "      <th>ticker2</th>\n",
       "      <td>-0.632456</td>\n",
       "      <td>-1.264911</td>\n",
       "    </tr>\n",
       "    <tr>\n",
       "      <th>ticker3</th>\n",
       "      <td>0.000000</td>\n",
       "      <td>0.000000</td>\n",
       "    </tr>\n",
       "    <tr>\n",
       "      <th>ticker4</th>\n",
       "      <td>0.632456</td>\n",
       "      <td>-0.632456</td>\n",
       "    </tr>\n",
       "    <tr>\n",
       "      <th>ticker5</th>\n",
       "      <td>1.264911</td>\n",
       "      <td>0.632456</td>\n",
       "    </tr>\n",
       "    <tr>\n",
       "      <th>...</th>\n",
       "      <th>...</th>\n",
       "      <td>...</td>\n",
       "      <td>...</td>\n",
       "    </tr>\n",
       "    <tr>\n",
       "      <th rowspan=\"5\" valign=\"top\">q3</th>\n",
       "      <th>ticker496</th>\n",
       "      <td>-1.264911</td>\n",
       "      <td>1.264911</td>\n",
       "    </tr>\n",
       "    <tr>\n",
       "      <th>ticker497</th>\n",
       "      <td>-0.632456</td>\n",
       "      <td>-1.264911</td>\n",
       "    </tr>\n",
       "    <tr>\n",
       "      <th>ticker498</th>\n",
       "      <td>0.000000</td>\n",
       "      <td>0.000000</td>\n",
       "    </tr>\n",
       "    <tr>\n",
       "      <th>ticker499</th>\n",
       "      <td>0.632456</td>\n",
       "      <td>-0.632456</td>\n",
       "    </tr>\n",
       "    <tr>\n",
       "      <th>ticker500</th>\n",
       "      <td>1.264911</td>\n",
       "      <td>0.632456</td>\n",
       "    </tr>\n",
       "  </tbody>\n",
       "</table>\n",
       "<p>1500 rows × 2 columns</p>\n",
       "</div>"
      ],
      "text/plain": [
       "                   pc1       pc2\n",
       "q  ticker                       \n",
       "q1 ticker1   -1.264911  1.264911\n",
       "   ticker2   -0.632456 -1.264911\n",
       "   ticker3    0.000000  0.000000\n",
       "   ticker4    0.632456 -0.632456\n",
       "   ticker5    1.264911  0.632456\n",
       "...                ...       ...\n",
       "q3 ticker496 -1.264911  1.264911\n",
       "   ticker497 -0.632456 -1.264911\n",
       "   ticker498  0.000000  0.000000\n",
       "   ticker499  0.632456 -0.632456\n",
       "   ticker500  1.264911  0.632456\n",
       "\n",
       "[1500 rows x 2 columns]"
      ]
     },
     "execution_count": 9,
     "metadata": {},
     "output_type": "execute_result"
    }
   ],
   "source": [
    "dta_quant_train = get_rankstdized(\n",
    "    X=_dta_quant_train,\n",
    "    cohort=cohort,\n",
    "    pc_mults=pc_mults_trained,\n",
    ")\n",
    "\n",
    "\n",
    "dta_quant_train"
   ]
  },
  {
   "cell_type": "code",
   "execution_count": 10,
   "id": "d387deac-4484-4f7c-a86f-a9763d7feb9f",
   "metadata": {
    "tags": []
   },
   "outputs": [
    {
     "data": {
      "text/html": [
       "<div>\n",
       "<style scoped>\n",
       "    .dataframe tbody tr th:only-of-type {\n",
       "        vertical-align: middle;\n",
       "    }\n",
       "\n",
       "    .dataframe tbody tr th {\n",
       "        vertical-align: top;\n",
       "    }\n",
       "\n",
       "    .dataframe thead th {\n",
       "        text-align: right;\n",
       "    }\n",
       "</style>\n",
       "<table border=\"1\" class=\"dataframe\">\n",
       "  <thead>\n",
       "    <tr style=\"text-align: right;\">\n",
       "      <th></th>\n",
       "      <th></th>\n",
       "      <th>pc1</th>\n",
       "      <th>pc2</th>\n",
       "    </tr>\n",
       "    <tr>\n",
       "      <th>q</th>\n",
       "      <th>ticker</th>\n",
       "      <th></th>\n",
       "      <th></th>\n",
       "    </tr>\n",
       "  </thead>\n",
       "  <tbody>\n",
       "    <tr>\n",
       "      <th rowspan=\"11\" valign=\"top\">q4</th>\n",
       "      <th>ticker1</th>\n",
       "      <td>-1.264911</td>\n",
       "      <td>1.264911</td>\n",
       "    </tr>\n",
       "    <tr>\n",
       "      <th>ticker2</th>\n",
       "      <td>-0.632456</td>\n",
       "      <td>-1.264911</td>\n",
       "    </tr>\n",
       "    <tr>\n",
       "      <th>ticker3</th>\n",
       "      <td>0.000000</td>\n",
       "      <td>0.000000</td>\n",
       "    </tr>\n",
       "    <tr>\n",
       "      <th>ticker4</th>\n",
       "      <td>0.632456</td>\n",
       "      <td>-0.632456</td>\n",
       "    </tr>\n",
       "    <tr>\n",
       "      <th>ticker5</th>\n",
       "      <td>1.264911</td>\n",
       "      <td>0.632456</td>\n",
       "    </tr>\n",
       "    <tr>\n",
       "      <th>...</th>\n",
       "      <td>...</td>\n",
       "      <td>...</td>\n",
       "    </tr>\n",
       "    <tr>\n",
       "      <th>ticker496</th>\n",
       "      <td>-1.264911</td>\n",
       "      <td>1.264911</td>\n",
       "    </tr>\n",
       "    <tr>\n",
       "      <th>ticker497</th>\n",
       "      <td>-0.632456</td>\n",
       "      <td>-1.264911</td>\n",
       "    </tr>\n",
       "    <tr>\n",
       "      <th>ticker498</th>\n",
       "      <td>0.000000</td>\n",
       "      <td>0.000000</td>\n",
       "    </tr>\n",
       "    <tr>\n",
       "      <th>ticker499</th>\n",
       "      <td>0.632456</td>\n",
       "      <td>-0.632456</td>\n",
       "    </tr>\n",
       "    <tr>\n",
       "      <th>ticker500</th>\n",
       "      <td>1.264911</td>\n",
       "      <td>0.632456</td>\n",
       "    </tr>\n",
       "  </tbody>\n",
       "</table>\n",
       "<p>500 rows × 2 columns</p>\n",
       "</div>"
      ],
      "text/plain": [
       "                   pc1       pc2\n",
       "q  ticker                       \n",
       "q4 ticker1   -1.264911  1.264911\n",
       "   ticker2   -0.632456 -1.264911\n",
       "   ticker3    0.000000  0.000000\n",
       "   ticker4    0.632456 -0.632456\n",
       "   ticker5    1.264911  0.632456\n",
       "...                ...       ...\n",
       "   ticker496 -1.264911  1.264911\n",
       "   ticker497 -0.632456 -1.264911\n",
       "   ticker498  0.000000  0.000000\n",
       "   ticker499  0.632456 -0.632456\n",
       "   ticker500  1.264911  0.632456\n",
       "\n",
       "[500 rows x 2 columns]"
      ]
     },
     "execution_count": 10,
     "metadata": {},
     "output_type": "execute_result"
    }
   ],
   "source": [
    "dta_quant_test = get_rankstdized(\n",
    "    X=_dta_quant_test,\n",
    "    cohort=cohort,\n",
    "    pc_mults=pc_mults_trained,\n",
    ")\n",
    "\n",
    "\n",
    "dta_quant_test"
   ]
  },
  {
   "cell_type": "markdown",
   "id": "a8725395-0d55-4e6c-a129-9a101c75ce3e",
   "metadata": {},
   "source": [
    "## y"
   ]
  },
  {
   "cell_type": "code",
   "execution_count": 11,
   "id": "319f5afb-4916-4a91-80a0-55d3b09c2bd3",
   "metadata": {
    "tags": []
   },
   "outputs": [
    {
     "data": {
      "text/plain": [
       "q   ticker   \n",
       "q1  ticker1      1\n",
       "    ticker2      0\n",
       "    ticker3      1\n",
       "    ticker4      0\n",
       "    ticker5      0\n",
       "                ..\n",
       "q3  ticker496    1\n",
       "    ticker497    0\n",
       "    ticker498    1\n",
       "    ticker499    0\n",
       "    ticker500    0\n",
       "Length: 1500, dtype: int64"
      ]
     },
     "execution_count": 11,
     "metadata": {},
     "output_type": "execute_result"
    }
   ],
   "source": [
    "_y_train = np.sign(\n",
    "    _dta_quant_train\n",
    "    .sum(axis=\"columns\")\n",
    ")\n",
    "# flip sign w.p. 0.10\n",
    "is_flip = (\n",
    "    np.random\n",
    "    .default_rng(seed=42)\n",
    "    .choice(\n",
    "        a=[1   , -1  ],\n",
    "        p=[0.90, 0.10],\n",
    "        size=len(_y_train)\n",
    "    )\n",
    ")\n",
    "y_train = _y_train * is_flip\n",
    "del is_flip\n",
    "y_train = (np.sign(y_train) > 0).astype(int)\n",
    "\n",
    "\n",
    "y_train"
   ]
  },
  {
   "cell_type": "code",
   "execution_count": 12,
   "id": "f7b71253-a6dc-4ff8-8bfe-53c1b2a0adfe",
   "metadata": {
    "tags": []
   },
   "outputs": [
    {
     "data": {
      "text/plain": [
       "0.428"
      ]
     },
     "execution_count": 12,
     "metadata": {},
     "output_type": "execute_result"
    }
   ],
   "source": [
    "y_train.mean()"
   ]
  },
  {
   "cell_type": "code",
   "execution_count": 13,
   "id": "651eb203-7ae0-48eb-8b45-8b52adee5a5a",
   "metadata": {
    "tags": []
   },
   "outputs": [
    {
     "data": {
      "text/plain": [
       "q   ticker   \n",
       "q4  ticker1      1\n",
       "    ticker2      0\n",
       "    ticker3      1\n",
       "    ticker4      0\n",
       "    ticker5      0\n",
       "                ..\n",
       "    ticker496    1\n",
       "    ticker497    0\n",
       "    ticker498    1\n",
       "    ticker499    0\n",
       "    ticker500    0\n",
       "Length: 500, dtype: int64"
      ]
     },
     "execution_count": 13,
     "metadata": {},
     "output_type": "execute_result"
    }
   ],
   "source": [
    "_y_test = np.sign(\n",
    "    _dta_quant_test\n",
    "    .sum(axis=\"columns\")\n",
    ")\n",
    "# flip sign w.p. 0.10\n",
    "is_flip = (\n",
    "    np.random\n",
    "    .default_rng(seed=42)\n",
    "    .choice(\n",
    "        a=[1   , -1  ],\n",
    "        p=[0.90, 0.10],\n",
    "        size=len(_y_test)\n",
    "    )\n",
    ")\n",
    "y_test = _y_test * is_flip\n",
    "del is_flip\n",
    "y_test = (np.sign(y_test) > 0).astype(int)\n",
    "\n",
    "\n",
    "y_test"
   ]
  },
  {
   "cell_type": "code",
   "execution_count": 14,
   "id": "53589f18-6dae-4a8f-b3f2-cc55ff4d8683",
   "metadata": {
    "tags": []
   },
   "outputs": [
    {
     "data": {
      "text/plain": [
       "0.422"
      ]
     },
     "execution_count": 14,
     "metadata": {},
     "output_type": "execute_result"
    }
   ],
   "source": [
    "y_test.mean()"
   ]
  },
  {
   "cell_type": "markdown",
   "id": "f32c408d-a4cf-436a-a230-4a1f02f446a2",
   "metadata": {},
   "source": [
    "# MODEL"
   ]
  },
  {
   "cell_type": "code",
   "execution_count": 15,
   "id": "c95ea08f-cb31-45ce-99c0-0dea06ae9fc0",
   "metadata": {
    "tags": []
   },
   "outputs": [],
   "source": [
    "fitter = sklearn.linear_model.LogisticRegression()"
   ]
  },
  {
   "cell_type": "code",
   "execution_count": 16,
   "id": "7711bf64-5dec-4587-b98d-d32066afec9c",
   "metadata": {
    "tags": []
   },
   "outputs": [
    {
     "data": {
      "text/plain": [
       "array([[-1.66389414,  1.7267521 ]])"
      ]
     },
     "execution_count": 16,
     "metadata": {},
     "output_type": "execute_result"
    }
   ],
   "source": [
    "fitted = fitter.fit(\n",
    "    X=dta_quant_train,\n",
    "    y=y_train,\n",
    ")\n",
    "\n",
    "\n",
    "fitted.coef_"
   ]
  },
  {
   "cell_type": "code",
   "execution_count": 17,
   "id": "c1a99210-680c-4925-ae10-95ef303752ac",
   "metadata": {
    "tags": []
   },
   "outputs": [
    {
     "data": {
      "text/plain": [
       "q   ticker   \n",
       "q1  ticker1      0.987138\n",
       "    ticker2      0.253466\n",
       "    ticker3      0.512907\n",
       "    ticker4      0.109799\n",
       "    ticker5      0.276689\n",
       "                   ...   \n",
       "q3  ticker496    0.987138\n",
       "    ticker497    0.253466\n",
       "    ticker498    0.512907\n",
       "    ticker499    0.109799\n",
       "    ticker500    0.276689\n",
       "Length: 1500, dtype: float64"
      ]
     },
     "execution_count": 17,
     "metadata": {},
     "output_type": "execute_result"
    }
   ],
   "source": [
    "y_train_pred = pd.Series(\n",
    "    fitted.predict_proba(\n",
    "        X=dta_quant_train,\n",
    "    )\n",
    "    [:, 1],\n",
    "    index=dta_quant_train.index,\n",
    ")\n",
    "\n",
    "\n",
    "y_train_pred"
   ]
  },
  {
   "cell_type": "code",
   "execution_count": 18,
   "id": "eb18a0da-e454-42d0-8db0-8dca1f592543",
   "metadata": {
    "tags": []
   },
   "outputs": [
    {
     "data": {
      "text/plain": [
       "0.679132350041216"
      ]
     },
     "execution_count": 18,
     "metadata": {},
     "output_type": "execute_result"
    }
   ],
   "source": [
    "y_train_pred.corr(\n",
    "    y_train\n",
    ")"
   ]
  },
  {
   "cell_type": "code",
   "execution_count": 19,
   "id": "876d98cc-73fd-4c91-8890-4c00c4b897cc",
   "metadata": {
    "tags": []
   },
   "outputs": [
    {
     "data": {
      "text/plain": [
       "0.8973333333333333"
      ]
     },
     "execution_count": 19,
     "metadata": {},
     "output_type": "execute_result"
    }
   ],
   "source": [
    "fitted.score(\n",
    "    X=dta_quant_train,\n",
    "    y=y_train,\n",
    ")"
   ]
  },
  {
   "cell_type": "code",
   "execution_count": 20,
   "id": "3576d711-1f2c-4983-b969-57181262c2ea",
   "metadata": {
    "tags": []
   },
   "outputs": [
    {
     "data": {
      "text/plain": [
       "q   ticker   \n",
       "q4  ticker1      0.987138\n",
       "    ticker2      0.253466\n",
       "    ticker3      0.512907\n",
       "    ticker4      0.109799\n",
       "    ticker5      0.276689\n",
       "                   ...   \n",
       "    ticker496    0.987138\n",
       "    ticker497    0.253466\n",
       "    ticker498    0.512907\n",
       "    ticker499    0.109799\n",
       "    ticker500    0.276689\n",
       "Length: 500, dtype: float64"
      ]
     },
     "execution_count": 20,
     "metadata": {},
     "output_type": "execute_result"
    }
   ],
   "source": [
    "y_test_pred = pd.Series(\n",
    "    fitted.predict_proba(\n",
    "        X=dta_quant_test,\n",
    "    )\n",
    "    [:, 1],\n",
    "    index=dta_quant_test.index,\n",
    ")\n",
    "\n",
    "\n",
    "y_test_pred"
   ]
  },
  {
   "cell_type": "code",
   "execution_count": 21,
   "id": "2f1f2ade-73f7-4929-8bd5-3914f82a8392",
   "metadata": {
    "tags": []
   },
   "outputs": [
    {
     "data": {
      "text/plain": [
       "0.7028401979870775"
      ]
     },
     "execution_count": 21,
     "metadata": {},
     "output_type": "execute_result"
    }
   ],
   "source": [
    "y_test_pred.corr(\n",
    "    y_test\n",
    ")"
   ]
  },
  {
   "cell_type": "code",
   "execution_count": 22,
   "id": "63e95e3b-50bf-40b0-a97c-f1afb9669a7b",
   "metadata": {
    "tags": []
   },
   "outputs": [
    {
     "data": {
      "text/plain": [
       "0.91"
      ]
     },
     "execution_count": 22,
     "metadata": {},
     "output_type": "execute_result"
    }
   ],
   "source": [
    "fitted.score(\n",
    "    X=dta_quant_test,\n",
    "    y=y_test,\n",
    ")"
   ]
  },
  {
   "cell_type": "markdown",
   "id": "0ae8c557-d690-4071-b52f-bd122e3abdac",
   "metadata": {},
   "source": [
    "# SCORE"
   ]
  },
  {
   "cell_type": "code",
   "execution_count": 23,
   "id": "98ab4b16-4488-4950-be5e-c8f0db07890d",
   "metadata": {
    "tags": []
   },
   "outputs": [
    {
     "data": {
      "image/png": "[encoded data removed]",
      "text/plain": [
       "<Figure size 800x400 with 2 Axes>"
      ]
     },
     "metadata": {},
     "output_type": "display_data"
    }
   ],
   "source": [
    "fig, axs = plt.subplots(ncols=2, sharex=True, sharey=True)\n",
    "\n",
    "ax = axs[0]\n",
    "sklearn.metrics.RocCurveDisplay.from_predictions(\n",
    "    y_true=y_train,\n",
    "    y_pred=y_train_pred,\n",
    "    ax=ax,\n",
    ")\n",
    "ax.plot([0, 1], [0, 1], \"k--\", label=\"chance level (AUC = 0.5)\")\n",
    "ax.set_xlabel(\"FPR\")\n",
    "ax.set_ylabel(\"TPR\")\n",
    "ax.set_title(\"Train\")\n",
    "ax.legend()\n",
    "\n",
    "ax = axs[1]\n",
    "sklearn.metrics.RocCurveDisplay.from_predictions(\n",
    "    y_true=y_test,\n",
    "    y_pred=y_test_pred,\n",
    "    ax=ax,\n",
    ")\n",
    "ax.plot([0, 1], [0, 1], \"k--\", label=\"chance level (AUC = 0.5)\")\n",
    "ax.set_xlabel(\"FPR\")\n",
    "ax.set_ylabel(\"TPR\")\n",
    "ax.set_title(\"Test\")\n",
    "ax.legend()\n",
    "\n",
    "plt.suptitle(\"ROC's\")\n",
    "fig.set_size_inches(8, 4)\n",
    "plt.show()"
   ]
  },
  {
   "cell_type": "code",
   "execution_count": null,
   "id": "32aa3bbc-2058-400b-a4ed-cccd8d3bb2ea",
   "metadata": {},
   "outputs": [],
   "source": []
  }
 ],
 "metadata": {
  "kernelspec": {
   "display_name": "Python 3 (ipykernel)",
   "language": "python",
   "name": "python3"
  },
  "language_info": {
   "codemirror_mode": {
    "name": "ipython",
    "version": 3
   },
   "file_extension": ".py",
   "mimetype": "text/x-python",
   "name": "python",
   "nbconvert_exporter": "python",
   "pygments_lexer": "ipython3",
   "version": "3.10.11"
  }
 },
 "nbformat": 4,
 "nbformat_minor": 5
}
