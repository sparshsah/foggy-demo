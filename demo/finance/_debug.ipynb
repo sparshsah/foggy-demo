{
 "cells": [
  {
   "cell_type": "code",
   "execution_count": 1,
   "metadata": {},
   "outputs": [],
   "source": [
    "from importlib import reload\n",
    "import pandas as pd\n",
    "import numpy as np\n",
    "import scipy.stats as sps\n",
    "# https://github.com/sparshsah/foggy-statslib/blob/main/foggy_statslib/core.py\n",
    "import foggy_statslib.core as fsc\n",
    "# https://github.com/sparshsah/foggy-statslib/blob/main/foggy_statslib/fin.py\n",
    "import foggy_statslib.fin as fsf"
   ]
  },
  {
   "cell_type": "code",
   "execution_count": 2,
   "metadata": {},
   "outputs": [],
   "source": [
    "TICKERS = [\"QSPNX\", \"QMNNX\", \"VMNFX\", \"SPY\"]\n",
    "\n",
    "def _get_pnl(ticker=\"QSPNX\"):\n",
    "    px = pd.read_csv(f\"data/yahoo-finance_{ticker}_px.csv\", index_col=0, parse_dates=True)[\"Adj Close\"]\n",
    "    pnl = fsf._get_r_from_px(px=px, seed_value=None)\n",
    "    pnl.name = ticker\n",
    "    return pnl\n",
    "\n",
    "def get_pnl():\n",
    "    pnl = {ticker: _get_pnl(ticker=ticker) for ticker in TICKERS}\n",
    "    pnl = pd.DataFrame(pnl, columns=TICKERS)\n",
    "    # ignore the stuff prior to the last-to-show-up active fund or after the first-to-drop-out active fund\n",
    "    start_date = max(_pnl.first_valid_index() for ticker, _pnl in pnl.iteritems() if ticker != \"SPY\")\n",
    "    end_date = min(_pnl.last_valid_index() for ticker, _pnl in pnl.iteritems() if ticker != \"SPY\")\n",
    "    pnl = pnl.loc[start_date:end_date, :]\n",
    "    return pnl\n",
    "\n",
    "pnl = get_pnl()"
   ]
  },
  {
   "cell_type": "code",
   "execution_count": 3,
   "metadata": {},
   "outputs": [
    {
     "name": "stderr",
     "output_type": "stream",
     "text": [
      "/Users/sparshsah/Documents/biz/foggyBASIS/sys/foggy-statslib/foggy_statslib/fin.py:90: RuntimeWarning: invalid value encountered in log\n",
      "  r = np.log(mult)\n",
      "/Users/sparshsah/Documents/biz/foggyBASIS/sys/foggy-statslib/foggy_statslib/fin.py:90: RuntimeWarning: divide by zero encountered in log\n",
      "  r = np.log(mult)\n"
     ]
    }
   ],
   "source": [
    "r = fsf._get_fcast_hedged_xr(pnl[\"QSPNX\"], pnl[\"QMNNX\"])"
   ]
  }
 ],
 "metadata": {
  "kernelspec": {
   "display_name": "Python 3",
   "language": "python",
   "name": "python3"
  },
  "language_info": {
   "codemirror_mode": {
    "name": "ipython",
    "version": 3
   },
   "file_extension": ".py",
   "mimetype": "text/x-python",
   "name": "python",
   "nbconvert_exporter": "python",
   "pygments_lexer": "ipython3",
   "version": "3.8.5"
  }
 },
 "nbformat": 4,
 "nbformat_minor": 4
}
