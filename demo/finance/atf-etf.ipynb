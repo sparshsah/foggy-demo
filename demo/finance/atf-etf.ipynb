{
 "cells": [
  {
   "cell_type": "code",
   "execution_count": 5,
   "id": "1026df0c-fbf7-4913-b30c-4acdbc4b441e",
   "metadata": {},
   "outputs": [],
   "source": [
    "from __future__ import annotations\n",
    "\n",
    "from typing import Final\n",
    "\n",
    "import numpy as np\n",
    "import pandas as pd"
   ]
  },
  {
   "cell_type": "markdown",
   "id": "6dea201c-360c-4f69-a17e-142b3bb202fc",
   "metadata": {},
   "source": [
    "# Passive excess returns"
   ]
  },
  {
   "cell_type": "code",
   "execution_count": 34,
   "id": "3764224b-892a-4628-a444-674625c2ebea",
   "metadata": {},
   "outputs": [],
   "source": [
    "# STATS\n",
    "\n",
    "# correlations\n",
    "R_CORR: Final[pd.DataFrame] = pd.DataFrame(\n",
    "    {\n",
    "        \"cash\": {\n",
    "            \"cash\": 1.00,\n",
    "            \"dm\": 0.00,\n",
    "            \"em\": 0.00,\n",
    "            \"distressed\": 0.00,\n",
    "        },\n",
    "        \"dm\": {\n",
    "            \"cash\": 0.00,\n",
    "            \"dm\": 1.00,\n",
    "            \"em\": 0.80,\n",
    "            \"distressed\": 0.50,\n",
    "        },\n",
    "        \"em\": {\n",
    "            \"cash\": 0.00,\n",
    "            \"dm\": 0.80,\n",
    "            \"em\": 1.00,\n",
    "            \"distressed\": 0.50,\n",
    "        },\n",
    "        \"distressed\": {\n",
    "            \"cash\": 0.00,\n",
    "            \"dm\": 0.50,\n",
    "            \"em\": 0.50,\n",
    "            \"distressed\": 1.00,\n",
    "        },\n",
    "    }\n",
    ")\n",
    "\n",
    "# volatilities\n",
    "R_VOL: Final[pd.Series] = pd.Series(\n",
    "    {\n",
    "        \"cash\": 0.00,\n",
    "        \"dm\": 0.15,\n",
    "        \"em\": 0.30,\n",
    "        \"distressed\": 0.60,\n",
    "    }\n",
    ")\n",
    "\n",
    "# sharpes\n",
    "R_SHARPE: Final[pd.Series] = pd.Series(\n",
    "    {\n",
    "        # really NaN (0/0), but this makes the calcs work\n",
    "        \"cash\": 0.00,\n",
    "        # neglect BAB\n",
    "        \"dm\": 0.50,\n",
    "        \"em\": 0.50,\n",
    "        \"distressed\": 0.50,\n",
    "    }\n",
    ")\n",
    "\n",
    "# expected returns\n",
    "R_ER: Final[pd.Series] = R_VOL * R_SHARPE"
   ]
  },
  {
   "cell_type": "code",
   "execution_count": 35,
   "id": "d7b98d14-f13a-4715-9e31-a3bd947867e6",
   "metadata": {},
   "outputs": [],
   "source": [
    "# UTILS\n",
    "\n",
    "def _get_r_predint(\n",
    "    r_vol: float = 0.10,\n",
    "    r_sharpe: float = 1.00,\n",
    "    crit: float = 1.96,\n",
    ") -> pd.Series:\n",
    "    \"\"\"Get 95% return-prediction interval, based on return stats.\"\"\"\n",
    "    r_er = r_vol * r_sharpe\n",
    "    radius = r_vol * crit\n",
    "    return pd.Series(\n",
    "        {\n",
    "            \"lower\": r_er - radius,\n",
    "            \"upper\": r_er + radius,\n",
    "        }\n",
    "    )"
   ]
  },
  {
   "cell_type": "markdown",
   "id": "216314e0-aeed-48dd-92ee-ce63b91506bc",
   "metadata": {},
   "source": [
    "# Portfolio"
   ]
  },
  {
   "cell_type": "code",
   "execution_count": 36,
   "id": "1137ac5a-5c98-4c25-8159-66d8e4e4b0e8",
   "metadata": {},
   "outputs": [],
   "source": [
    "# STATS\n",
    "\n",
    "# initial positions on NAV, from most to least liquid\n",
    "PFLIO_W: Final[pd.Series] = pd.Series(\n",
    "    {\n",
    "        \"cash\": 0.10,\n",
    "        \"dm\": 0.30,\n",
    "        \"em\": 0.30,\n",
    "        \"distressed\": 0.30,\n",
    "    }\n",
    ")"
   ]
  },
  {
   "cell_type": "code",
   "execution_count": 37,
   "id": "6aa25bef-f217-4369-882b-4bd3560da2a2",
   "metadata": {},
   "outputs": [],
   "source": [
    "# UTILS\n",
    "\n",
    "def _check_pflio_w(\n",
    "    pflio_w: pd.Series = PFLIO_W,\n",
    ") -> pd.Series:\n",
    "    \"\"\"We include cash, so this should tie out.\"\"\"\n",
    "    nlev = pflio_w.sum()\n",
    "    is_bad = not np.isclose(nlev, 1.00)\n",
    "    if is_bad:\n",
    "        raise ValueError(pflio_w)\n",
    "    return pflio_w\n",
    "\n",
    "def __get_pflio_vol(\n",
    "    r_corr: pd.DataFrame = R_CORR,\n",
    "    r_vol: pd.Series = R_VOL,\n",
    "    pflio_w: pd.Series = PFLIO_W,\n",
    ") -> float:\n",
    "    pflio_vw = r_vol * pflio_w\n",
    "    pflio_var = pflio_vw @ r_corr @ pflio_vw\n",
    "    return pflio_var**0.5\n",
    "\n",
    "def __get_pflio_er(\n",
    "    r_er: pd.Series = R_ER,\n",
    "    pflio_w: pd.Series = PFLIO_W,\n",
    ") -> float:\n",
    "    return r_er @ pflio_w\n",
    "\n",
    "def __get_pflio_sharpe(\n",
    "    r_corr: pd.DataFrame = R_CORR,\n",
    "    r_vol: pd.Series = R_VOL,\n",
    "    r_er: pd.Series = R_ER,\n",
    "    pflio_w: pd.Series = PFLIO_W,\n",
    ") -> float:\n",
    "    pflio_vol = __get_pflio_vol(\n",
    "        r_corr=r_corr,\n",
    "        r_vol=r_vol,\n",
    "        pflio_w=pflio_w,\n",
    "    )\n",
    "    pflio_er = __get_pflio_er(\n",
    "        r_er=r_er,\n",
    "        pflio_w=pflio_w,\n",
    "    )\n",
    "    return pflio_er / pflio_vol\n",
    "\n",
    "def _get_pflio_stats(\n",
    "    r_corr: pd.DataFrame = R_CORR,\n",
    "    r_vol: pd.Series = R_VOL,\n",
    "    r_er: pd.Series = R_ER,\n",
    "    pflio_w: pd.Series = PFLIO_W,\n",
    ") -> pd.Series:\n",
    "    return pd.Series(\n",
    "        {\n",
    "            \"vol\": __get_pflio_vol(\n",
    "                r_corr=r_corr,\n",
    "                r_vol=r_vol,\n",
    "                pflio_w=pflio_w,\n",
    "            ),\n",
    "            \"sharpe\": __get_pflio_sharpe(\n",
    "                r_corr=r_corr,\n",
    "                r_vol=r_vol,\n",
    "                r_er=r_er,\n",
    "                pflio_w=pflio_w,\n",
    "            ),\n",
    "        }\n",
    "    )\n",
    "\n",
    "def _get_pflio_predint(\n",
    "    r_corr: pd.DataFrame = R_CORR,\n",
    "    r_vol: pd.Series = R_VOL,\n",
    "    r_er: pd.Series = R_ER,\n",
    "    pflio_w: pd.Series = PFLIO_W,\n",
    ") -> pd.Series:\n",
    "    pflio_stats = _get_pflio_stats(\n",
    "        r_corr=r_corr,\n",
    "        r_vol=r_vol,\n",
    "        r_er=r_er,\n",
    "        pflio_w=pflio_w,\n",
    "    )\n",
    "    return _get_r_predint(\n",
    "        r_vol=pflio_stats[\"vol\"],\n",
    "        r_sharpe=pflio_stats[\"sharpe\"],\n",
    "    )"
   ]
  },
  {
   "cell_type": "code",
   "execution_count": 1,
   "id": "9a062ed2-2b85-49e1-9dd0-ba25fb0b9c42",
   "metadata": {},
   "source": [
    "_check_pflio_w()"
   ]
  },
  {
   "cell_type": "code",
   "execution_count": 38,
   "id": "9a062ed2-2b85-49e1-9dd0-ba25fb0b9c58",
   "metadata": {},
   "outputs": [
    {
     "data": {
      "text/plain": [
       "vol       0.270749\n",
       "sharpe    0.581720\n",
       "dtype: float64"
      ]
     },
     "execution_count": 38,
     "metadata": {},
     "output_type": "execute_result"
    }
   ],
   "source": [
    "_get_pflio_stats()"
   ]
  },
  {
   "cell_type": "code",
   "execution_count": 39,
   "id": "05c7ce38-6527-4c87-b983-75c026446e4f",
   "metadata": {},
   "outputs": [
    {
     "data": {
      "text/plain": [
       "lower   -0.373168\n",
       "upper    0.688168\n",
       "dtype: float64"
      ]
     },
     "execution_count": 39,
     "metadata": {},
     "output_type": "execute_result"
    }
   ],
   "source": [
    "_get_pflio_predint()"
   ]
  },
  {
   "cell_type": "markdown",
   "id": "2f06256f-c33b-4904-bc83-6aa442fc60c3",
   "metadata": {},
   "source": [
    "# Subscription-Redemption-Transfer scenarios"
   ]
  },
  {
   "cell_type": "code",
   "execution_count": 69,
   "id": "9301013e-1077-4a6b-ba5a-b3987fac284f",
   "metadata": {},
   "outputs": [],
   "source": [
    "def run(\n",
    "    title: str = \"PROD\",\n",
    "    pflio_w_init: pd.Series = PFLIO_W,\n",
    "    # note: can simulate drawing on line of credit by redeeming more cash than on-hand\n",
    "    pflio_srt: pd.Series = pd.Series(0, index=PFLIO_W.index),\n",
    ") -> None:\n",
    "    pflio_glev_init = pflio_w_init.abs().sum()\n",
    "    pflio_nlev_init = pflio_w_init.sum()\n",
    "    pflio_srt_amt = pflio_srt.sum()\n",
    "    pflio_nav_final = 1 + pflio_srt_amt\n",
    "    pflio_w_final = (pflio_w_init + pflio_srt) / pflio_nav_final\n",
    "    pflio_w_final = _check_pflio_w(pflio_w=pflio_w_final)\n",
    "    pflio_predint_final = _get_pflio_predint(pflio_w=pflio_w_final)\n",
    "    print(f\"Scenario {title}:\")\n",
    "    print(f\"Portfolio is initially levered to {pflio_glev_init :.2f}x gross and {pflio_nlev_init :.2f}x net.\")\n",
    "    print(f\"SRT totals {pflio_srt_amt *100 :.0f}% of NAV.\")\n",
    "    print(f\"\"\"Without rebalancing, post-SRT forecast return over the next quarter is [{pflio_predint_final[\"lower\"]/4 *100:.1f}, {pflio_predint_final[\"upper\"]/4 *100:.1f}]%.\"\"\")"
   ]
  },
  {
   "cell_type": "code",
   "execution_count": 70,
   "id": "9b05b3c1-9c59-47b1-87c3-ac0b49ca342a",
   "metadata": {},
   "outputs": [
    {
     "name": "stdout",
     "output_type": "stream",
     "text": [
      "Scenario PROD:\n",
      "Portfolio is initially levered to 1.00x gross and 1.00x net.\n",
      "Redemption totals 0% of NAV.\n",
      "Without rebalancing, post-redemption forecast return over the next quarter is [-9.3, 17.2]%.\n"
     ]
    }
   ],
   "source": [
    "run()"
   ]
  },
  {
   "cell_type": "code",
   "execution_count": null,
   "id": "927c194a-5fd2-4b87-aa8d-311ba5f15544",
   "metadata": {},
   "outputs": [],
   "source": []
  }
 ],
 "metadata": {
  "kernelspec": {
   "display_name": "Python 3 (ipykernel)",
   "language": "python",
   "name": "python3"
  },
  "language_info": {
   "codemirror_mode": {
    "name": "ipython",
    "version": 3
   },
   "file_extension": ".py",
   "mimetype": "text/x-python",
   "name": "python",
   "nbconvert_exporter": "python",
   "pygments_lexer": "ipython3",
   "version": "3.10.4"
  }
 },
 "nbformat": 4,
 "nbformat_minor": 5
}
