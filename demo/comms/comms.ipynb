{
 "cells": [
  {
   "cell_type": "markdown",
   "id": "c901133c-e54c-4654-a42d-e64c66264420",
   "metadata": {
    "tags": []
   },
   "source": [
    "# COMMS\n",
    "\n",
    "RADIO, CELLPHONES, and GPS (Work in Progress! I'm not an expert, I just want to learn more.)\n",
    "\n",
    "author: [@sparshsah](https://github.com/sparshsah)\n",
    "\n",
    "Some nice introductory videos:\n",
    "* High-level overview: Linus Tech Tips's TechQuickie [\"AM and FM Radio As Fast As Possible\"](https://youtu.be/w3M4cqAMWQs)\n",
    "* Bit more industry-focused: International Telecommunication Union's Information and Communication Technologies Discovery [\"How radio works\"](https://youtu.be/db5iyApKbsU)\n",
    "* Deep dive into modulation: PhysicsHigh's [\"modulation explained, with demonstrations of FM and AM\"](https://youtu.be/XnoHXyb7dkY)\n",
    "* Cellphones and 5G: Lesics Engineering's [\"How does your mobile phone work?\"](https://youtu.be/1JZG9x_VOwA)"
   ]
  },
  {
   "cell_type": "markdown",
   "id": "3c8ce9d8-1e48-46ba-9542-459bd4296bb8",
   "metadata": {
    "tags": []
   },
   "source": [
    "# Radio\n",
    "\n",
    "## Tuners\n",
    "\n",
    "Take for granted that we can generate a photon of a given frequency $f$. We can transmit this photon to be a radio wave. By transmitting a simultaneous burst of many such photons at once, we increase the amplitude of this radio wave.\n",
    "\n",
    "Locally, we reserve a narrow frequency band for ourselves. But nearby operators are simultaneously transmitting on their own frequencies. The result is a cacophony of overlapping frequencies.\n",
    "\n",
    "In order to \"tune in\" to the specific frequency we're interested in (and \"ignore\" or _attenuate_ all the others), we need a tuner. For this purpose, a tuner acts as a bandpass filter. A simple kind of tuner is an LC circuit, which is \"activated\" only by photons at the circuit's resonant frequency. It is to light waves what a tuning fork is to sound waves. It picks out just the photons of our desired frequency.\n",
    "\n",
    "You can apparently construct a rudimentary LC circuit by just coiling copper wire into even coils! I must try this.\n",
    "\n",
    "## Modulation\n",
    "\n",
    "Now we've agreed we can transmit and receive on a given frequency. We might thereby exchange messages in Morse Code -- A short burst is a dot, a long burst is a dash, etc. But we can efficiently exchange much richer messages via modulation.\n",
    "\n",
    "There are several kinds of modulation:\n",
    "* Amplitude modulation (AM). Here, you fix the frequency precisely, and encode information by varying the number of photons (amplitude of the wave) you send.\n",
    "* Frequency modulation (FM). Here, you do fix the frequency inside a narrow band. But you are free to vary the frequency within that band. So, instead of increasing or decreasing the wave amplitude as in AM, you can increase or decrease the frequency by a tiny amount. FM tuners are \"dormant\" when receiving frequencies that (a) equal precisely or (b) differ greatly from the tuned frequency. But, they are sensitive to frequencies very close---but not exactly equal---to the tuned frequency.\n",
    "* Phase modulation.\n",
    "* Digital modulation."
   ]
  },
  {
   "cell_type": "code",
   "execution_count": null,
   "id": "ce6b93b8-49f9-4c66-a386-3b211f4719b3",
   "metadata": {
    "tags": []
   },
   "outputs": [],
   "source": [
    "fdma\n",
    "tdma/cdma\n",
    "wcdma\n",
    "ofdma/mu-mimo\n",
    "mmwave/e-mimo\n",
    "\n",
    "gps"
   ]
  },
  {
   "cell_type": "code",
   "execution_count": null,
   "id": "5681d182-70f0-4805-8350-8b90a1d65d72",
   "metadata": {},
   "outputs": [],
   "source": []
  }
 ],
 "metadata": {
  "kernelspec": {
   "display_name": "Python 3 (ipykernel)",
   "language": "python",
   "name": "python3"
  },
  "language_info": {
   "codemirror_mode": {
    "name": "ipython",
    "version": 3
   },
   "file_extension": ".py",
   "mimetype": "text/x-python",
   "name": "python",
   "nbconvert_exporter": "python",
   "pygments_lexer": "ipython3",
   "version": "3.11.4"
  }
 },
 "nbformat": 4,
 "nbformat_minor": 5
}
