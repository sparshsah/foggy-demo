{
 "cells": [
  {
   "cell_type": "markdown",
   "id": "c901133c-e54c-4654-a42d-e64c66264420",
   "metadata": {
    "tags": []
   },
   "source": [
    "# COMMS\n",
    "\n",
    "RADIO, CELLPHONES, and GPS (Work in Progress! I'm not an expert, I just want to learn more.)\n",
    "\n",
    "author: [@sparshsah](https://github.com/sparshsah)\n",
    "\n",
    "Some nice introductory videos:\n",
    "* High-level overview: Linus Tech Tips's TechQuickie [\"AM and FM Radio As Fast As Possible\"](https://youtu.be/w3M4cqAMWQs)\n",
    "* Bit more industry-focused: International Telecommunication Union's Information and Communication Technologies Discovery [\"How radio works\"](https://youtu.be/db5iyApKbsU)\n",
    "* Deep dive into modulation: PhysicsHigh's [\"modulation explained, with demonstrations of FM and AM\"](https://youtu.be/XnoHXyb7dkY)\n",
    "* Cellphones and 5G: Lesics Engineering's [\"How does your mobile phone work?\"](https://youtu.be/1JZG9x_VOwA)"
   ]
  },
  {
   "cell_type": "markdown",
   "id": "3c8ce9d8-1e48-46ba-9542-459bd4296bb8",
   "metadata": {
    "tags": []
   },
   "source": [
    "# Radio"
   ]
  },
  {
   "cell_type": "markdown",
   "id": "c13f2a9c-5176-4578-b7ed-a06118d470aa",
   "metadata": {},
   "source": [
    "## Tuners\n",
    "\n",
    "Take for granted that we can generate a photon of a given frequency $f$. We can transmit this photon to be a radio wave. By transmitting a simultaneous burst of many such photons at once, we increase the amplitude of this radio wave.\n",
    "\n",
    "Locally, we reserve a narrow frequency band for ourselves. But nearby operators are simultaneously transmitting on their own frequencies. The result is a cacophony of overlapping frequencies.\n",
    "\n",
    "In order to \"tune in\" to the specific frequency we're interested in (and \"ignore\" or _attenuate_ all the others), we need a tuner. For this purpose, a tuner acts as a bandpass filter. A simple kind of tuner is an LC circuit, which is \"activated\" only by photons at the circuit's resonant frequency. It is to light waves what a tuning fork is to sound waves. It picks out just the photons of our desired frequency.\n",
    "\n",
    "You can apparently construct a rudimentary LC circuit by just coiling copper wire into even coils! I must try this."
   ]
  },
  {
   "cell_type": "markdown",
   "id": "827e60e7-d092-4a91-b4f9-ecf2bfb2da64",
   "metadata": {
    "tags": []
   },
   "source": [
    "## Modulation\n",
    "\n",
    "Now we've agreed we can transmit and receive on a given frequency. We might thereby exchange messages in Morse Code -- A short burst is a dot, a long burst is a dash, etc. But we can efficiently exchange much richer messages via more creative modulation.\n",
    "\n",
    "There are several kinds of modulation:\n",
    "* Analog modulation:\n",
    "  * AM (Amplitude Modulation). Here, you fix the frequency precisely, and encode information by varying the number of photons (amplitude of the wave) you send.\n",
    "  * Angle modulation:\n",
    "    * FM (Frequency Modulation). Here, you do fix the frequency inside a narrow band. But you are free to vary the frequency within that band. So, instead of increasing or decreasing the wave amplitude as in AM, you can increase or decrease the frequency by a tiny amount. FM tuners are \"dormant\" when receiving frequencies that (a) equal precisely or (b) differ greatly from the tuned frequency. But, they are sensitive to frequencies very close---but not exactly equal---to the tuned frequency.\n",
    "    * PM (Phase Modulation).\n",
    "* Digital modulation: https://en.wikipedia.org/wiki/Modulation#Digital_modulation_methods"
   ]
  },
  {
   "cell_type": "markdown",
   "id": "52fabaaa-ef52-4905-8984-01085596c5d6",
   "metadata": {},
   "source": [
    "# Cellphones"
   ]
  },
  {
   "cell_type": "markdown",
   "id": "74952339-0cd7-4970-b77e-edeb30b8c54f",
   "metadata": {},
   "source": [
    "The different generations of cellular networking represent improvements in either (a) the kind of waves transmitted or (b) the algorithm used to pack "
   ]
  },
  {
   "cell_type": "code",
   "execution_count": null,
   "id": "70f9d762-240c-4bc2-b1b3-baf3c5e227fa",
   "metadata": {},
   "outputs": [],
   "source": []
  },
  {
   "cell_type": "code",
   "execution_count": null,
   "id": "891f9c5e-a6a4-458e-802c-7cbec8d31e1b",
   "metadata": {},
   "outputs": [],
   "source": []
  },
  {
   "cell_type": "code",
   "execution_count": null,
   "id": "504560d0-50dc-4228-a890-ac1b84f39383",
   "metadata": {},
   "outputs": [],
   "source": []
  },
  {
   "cell_type": "code",
   "execution_count": null,
   "id": "7c98c5f7-81f5-402e-8395-52ac9508752e",
   "metadata": {},
   "outputs": [],
   "source": []
  },
  {
   "cell_type": "code",
   "execution_count": 1,
   "id": "ce6b93b8-49f9-4c66-a386-3b211f4719b3",
   "metadata": {
    "tags": []
   },
   "outputs": [
    {
     "ename": "NameError",
     "evalue": "name 'fdma' is not defined",
     "output_type": "error",
     "traceback": [
      "\u001b[0;31m---------------------------------------------------------------------------\u001b[0m",
      "\u001b[0;31mNameError\u001b[0m                                 Traceback (most recent call last)",
      "Cell \u001b[0;32mIn[1], line 1\u001b[0m\n\u001b[0;32m----> 1\u001b[0m fdma\n\u001b[1;32m      2\u001b[0m tdma\u001b[38;5;241m/\u001b[39mcdma\n\u001b[1;32m      3\u001b[0m wcdma\n",
      "\u001b[0;31mNameError\u001b[0m: name 'fdma' is not defined"
     ]
    }
   ],
   "source": [
    "fdma\n",
    "tdma/cdma\n",
    "wcdma\n",
    "ofdma/mu-mimo\n",
    "mmwave/e-mimo\n",
    "\n",
    "gps"
   ]
  },
  {
   "cell_type": "code",
   "execution_count": null,
   "id": "5681d182-70f0-4805-8350-8b90a1d65d72",
   "metadata": {},
   "outputs": [],
   "source": []
  }
 ],
 "metadata": {
  "kernelspec": {
   "display_name": "Python 3 (ipykernel)",
   "language": "python",
   "name": "python3"
  },
  "language_info": {
   "codemirror_mode": {
    "name": "ipython",
    "version": 3
   },
   "file_extension": ".py",
   "mimetype": "text/x-python",
   "name": "python",
   "nbconvert_exporter": "python",
   "pygments_lexer": "ipython3",
   "version": "3.11.4"
  }
 },
 "nbformat": 4,
 "nbformat_minor": 5
}
