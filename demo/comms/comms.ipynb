{
 "cells": [
  {
   "cell_type": "markdown",
   "id": "c901133c-e54c-4654-a42d-e64c66264420",
   "metadata": {
    "tags": []
   },
   "source": [
    "# COMMS\n",
    "\n",
    "RADIO, CELLPHONES, and GPS (Work in Progress! I'm not an expert, I just want to learn more.)\n",
    "\n",
    "author: [@sparshsah](https://github.com/sparshsah)\n",
    "\n",
    "Some nice introductory videos:\n",
    "* High-level overview: Linus Tech Tips's TechQuickie [\"AM and FM Radio As Fast As Possible\"](https://youtu.be/w3M4cqAMWQs)\n",
    "* Bit more industry-focused: International Telecommunication Union's Information and Communication Technologies Discovery [\"How radio works\"](https://youtu.be/db5iyApKbsU)\n",
    "* Deep dive into modulation: PhysicsHigh's [\"modulation explained, with demonstrations of FM and AM\"](https://youtu.be/XnoHXyb7dkY)\n",
    "* Cellphones and 5G: Lesics Engineering's [\"How does your mobile phone work?\"](https://youtu.be/1JZG9x_VOwA)"
   ]
  },
  {
   "cell_type": "markdown",
   "id": "3c8ce9d8-1e48-46ba-9542-459bd4296bb8",
   "metadata": {
    "tags": []
   },
   "source": [
    "# Radio"
   ]
  },
  {
   "cell_type": "markdown",
   "id": "c13f2a9c-5176-4578-b7ed-a06118d470aa",
   "metadata": {},
   "source": [
    "## Tuners\n",
    "\n",
    "Take for granted that we can generate a photon of a given frequency $f$. We can transmit this photon to be a radio wave. By transmitting a simultaneous burst of many such photons at once, we increase the amplitude of this radio wave.\n",
    "\n",
    "Locally, we reserve a narrow frequency band for ourselves. But nearby operators are simultaneously transmitting on their own frequencies. The result is a cacophony of overlapping frequencies.\n",
    "\n",
    "In order to \"tune in\" to the specific frequency we're interested in (and \"ignore\" or _attenuate_ all the others), we need a tuner. For this purpose, a tuner acts as a bandpass filter. A simple kind of tuner is an LC circuit, which is \"activated\" only by photons at the circuit's resonant frequency. It is to light waves what a tuning fork is to sound waves. It picks out just the photons of our desired frequency.\n",
    "\n",
    "You can apparently construct a rudimentary LC circuit by just coiling copper wire into even coils! I must try this."
   ]
  },
  {
   "cell_type": "markdown",
   "id": "827e60e7-d092-4a91-b4f9-ecf2bfb2da64",
   "metadata": {
    "tags": []
   },
   "source": [
    "## Modulation\n",
    "\n",
    "Now we've agreed we can transmit and receive on a given frequency. We might thereby exchange messages in Morse Code -- A short burst is a dot, a long burst is a dash, a long pause is a space. But we can efficiently exchange much richer messages via more creative modulation.\n",
    "\n",
    "Sound tones in particular have two basic characteristics: Pitch and Loudness (corresponding to frequency and amplitude of the soundwaves -- but I will not use those latter terms, since it would become confusing whether I'm referring to the radio waves we're sending or the sound waves they're meant to encode). A statement or song has a characteristic waveform whose pitch and loudness vary continuously over time. You can't really transmit this waveform directly, because society has agreed that a single radio station gets to reserve only a very narrow frequency band (a \"channel\") for itself. But, the waveform can be sampled as a series of discretized tones (where each tone has constant pitch and loudness lasting for a short period). AM/FM radio stations efficiently encode and transmit the latter via modulation.\n",
    "\n",
    "### Kinds of modulation\n",
    "\n",
    "There are several kinds of modulation, including:\n",
    "* Analog modulation:\n",
    "  * AM (Amplitude Modulation). Here, you fix the frequency precisely, and encode information by varying the number of photons (amplitude of the wave) you send.\n",
    "  * Angle modulation:\n",
    "    * FM (Frequency Modulation). Here, you still fix the frequency inside a narrow band, but you are free to vary the frequency within that band. So, instead of increasing or decreasing the wave amplitude as in AM, you can increase or decrease the frequency by a tiny amount. FM tuners are \"dormant\" when receiving frequencies that (a) greatly differ from or (b) precisely equal the tuned frequency. They are sensitive only to frequencies inside a tight band around but excluding the tuned frequency.\n",
    "    * PM (Phase Modulation).\n",
    "* Digital modulation: https://en.wikipedia.org/wiki/Modulation#Digital_modulation_methods\n",
    "\n",
    "### How can modulation encode pitch and loudness?\n",
    "\n",
    "I was able to find someone describe precisely how in the case of FM the modulation encodes pitch and loudness. Quora won't let me link to the answer directly, but it's Christian Gingras's answer [here](https://www.quora.com/How-does-an-FM-signal-encode-both-pitch-and-volume-information-into-a-wave-at-a-single-frequency-How-do-seemingly-simple-electronic-components-decode-them-back-into-the-corresponding-pitch-and-volume-for-the-output).\n",
    "\n",
    "* Assume we are broadcasting on FM 100MHz. Our \"carrier wave\" is transmitted at exactly 100MHz (it oscillates exactly 100,000,000 cycles per second) with some fixed (but irrelevant) amplitude.\n",
    "* For simplicity, let's say we downsample music very coarsely into discrete tones (as you might downsample a visual image into a coarser grid of pixels): A song is a stream of tones, where each tone has constant pitch and loudness lasting exactly one second. This song will get translated into an \"input signal\".\n",
    "* Say the first tone of the song is high-pitched (15kHz, or 15,000 Hertz) but soft. We can encode the softness by deviating only a little bit from the base 100MHz carrier wave. For instance, we might deviate between 99.9Mhz and 100.1Mhz. We can encode the high pitch by doing this deviation 15,000 times for exactly one second. So:\n",
    "  * We start off the transmission by sending a 99.9Mhz pulse lasting exactly `1/30_000`th of a second.\n",
    "  * We follow that up with a 100.1MHz pulse also lasting exactly `1/30_000`th of a second.\n",
    "  * Together, this pair of pulses lasts `1/15_000`th of a second.\n",
    "  * We proceed to do this 14,999 more times.\n",
    "  * The receiver detects that the frequency toggled 15,000 times between 99.9MHz and 100.1MHz.\n",
    "  * It tells the speaker to play a high-pitched (15kHz) tone softly (for exactly one second, during which time the receiver will pick up and decode the next tone).\n",
    "* Now say the second tone of the song is still high-pitched (15kHz), but loud. We will therefore still toggle 15,000 times over the course of a second, but we will toggle between 99.5MHz and 100.5MHz, so now the speaker plays the same pitch louder."
   ]
  },
  {
   "cell_type": "markdown",
   "id": "9c27bdb9-46b1-4b76-a32d-18a9e5bde9b5",
   "metadata": {},
   "source": [
    "## Interference-Resistant Radio\n",
    "\n",
    "Unfortunately, given the above protocols, an adversary (whether a conspiratorial Mother Nature with her errant photons, or a more wordly military foe who has discovered what channel you are transmitting on) can:\n",
    "* Interfere -- Accidentally transmit stray messages across your channel, confusing or annoying your listener\n",
    "* \"Jam\" -- Broadcast white noise across your channel, drowning out your messages\n",
    "* \"Spoof\" -- Intentionally send coherent but malicious messages across your channel, sabotaging your listener\n",
    "\n",
    "### Brute Force\n",
    "\n",
    "A brute-force jam-resistant radio method is to simply transmit on every known frequency. To do this literally would require transmitting on an uncountably infinite number of frequencies (frequency is not quantized), but let's say you just choose frequencies at intervals of 1Hz across some limited band so that it's at least somewhat tractable. It is very expensive for you to power all those simultaneous transmissions, but your hope is that it is in fact _too_ expensive for your adversary -- They cannot afford to jam every frequency. So, your listener just chooses, say, five frequencies at random, and waits until four out of the five messages agree before acting.\n",
    "\n",
    "### Spread Spectrum\n",
    "\n",
    "https://en.wikipedia.org/wiki/Spread_spectrum"
   ]
  },
  {
   "cell_type": "markdown",
   "id": "52fabaaa-ef52-4905-8984-01085596c5d6",
   "metadata": {},
   "source": [
    "# Cellphones"
   ]
  },
  {
   "cell_type": "markdown",
   "id": "74952339-0cd7-4970-b77e-edeb30b8c54f",
   "metadata": {},
   "source": [
    "## Generations\n",
    "\n",
    "The different generations of cellular networking represent decreased latency or increased throughput due to changes in either (a) the kind of waves transmitted or (b) the algorithm used to pack several lines into a narrow band of spectrum without smearing them.\n",
    "\n",
    "* 0G, as implemented by e.g.\n",
    "  * Ham or CB (Citizens' Band) radio using PTT (push-to-talk)\n",
    "* 1G, as implemented by e.g.\n",
    "  * The NMT specification (Nordic Mobile Telephony) using FDMA\n",
    "  * The Bell/Morotola AMPS specification (Advanced Mobile Phone System) also using FDMA\n",
    "* 1.5G, as implemented by e.g.\n",
    "  * PDC (Personal Digital Cellular) using TDMA\n",
    "  * D-AMPS (Digital Advanced Mobile Phone System, successor to AMPS) also using TDMA\n",
    "* 2G, as implemented by e.g.\n",
    "  * GSM (Global System for Mobile Communications) using TDMA\n",
    "  * cdmaOne using CDMA\n",
    "* 2.5G as implemented by e.g.\n",
    "  * GRPS (General Packet Radio Service, improvement to GSM) still using TDMA but a bit more efficiently\n",
    "* 2.75G as implemented by e.g.\n",
    "  * EDGE (Enhanced Data Rates for GSM Evolution, successor to GPRS) \n",
    "* 3G, as implemented by e.g.\n",
    "  * UMTS (Universal Mobile Telecommunications System, successor to GSM) using WCDMA\n",
    "  * CDMA2000 (successor to cdmaOne) still using plain-vanilla CDMA\n",
    "* 3.5G, as implemented by e.g.\n",
    "  * HSPA (High-Speed Packet Access, improvement to UMTS) still using WCDMA but adding MIMO\n",
    "  * EV-DO (Evolution/Data-Optimized, improvement to CDMA2000) still using CDMA but mixing in some TDMA\n",
    "* 3.95G, as implemented by e.g.\n",
    "  * LTE (Long-Term Evolution, successor to UMTS) using OFDMA\n",
    "* 4G, as implemented by e.g.\n",
    "  * WiMAX2 (Worldwide Interoperability for Microwave Access Release 2) using OFDMA and MU-MIMO\n",
    "* 5G, as implemented by e.g.\n",
    "  * NR (New Radio) using mmWave (Millimeter Waves), OFDMA, and eMIMO"
   ]
  },
  {
   "cell_type": "markdown",
   "id": "1dab3167-ae3e-480c-824e-4c08da1cd634",
   "metadata": {},
   "source": [
    "## Multiple-Access Algorithms\n",
    "\n",
    "* FDMA (Frequency-Division Multiple Access): You reserve a frequency for yourself.\n",
    "  * OFDMA (Orthogonal Frequency-Division Multiple Access): ?\n",
    "* TDMA (Time-Division Multiple Access): You can share a frequency, but you can only transmit in bursts during specific timeslots.\n",
    "* CDMA (Code-Division Multiple Access): Gold codes.\n",
    "  * WCDMA (Wideband Code-Division Multiple Access): A variant of CDMA that utilizes a broader range of spectrum.\n",
    "* MIMO (Multiple-Input/Multiple-Output)\n",
    "  * MU-MIMO (Multi-User Multiple-Input/Multiple-Output)\n",
    "  * eMIMO (Enhanced MIMO)"
   ]
  },
  {
   "cell_type": "markdown",
   "id": "76ca1677-9148-4187-a804-c2353458a22b",
   "metadata": {},
   "source": [
    "# GPS"
   ]
  },
  {
   "cell_type": "code",
   "execution_count": null,
   "id": "47062dd4-be82-4386-89e0-7d4bc4a003f9",
   "metadata": {},
   "outputs": [],
   "source": []
  }
 ],
 "metadata": {
  "kernelspec": {
   "display_name": "Python 3 (ipykernel)",
   "language": "python",
   "name": "python3"
  },
  "language_info": {
   "codemirror_mode": {
    "name": "ipython",
    "version": 3
   },
   "file_extension": ".py",
   "mimetype": "text/x-python",
   "name": "python",
   "nbconvert_exporter": "python",
   "pygments_lexer": "ipython3",
   "version": "3.11.4"
  }
 },
 "nbformat": 4,
 "nbformat_minor": 5
}
