{
 "cells": [
  {
   "cell_type": "markdown",
   "id": "c901133c-e54c-4654-a42d-e64c66264420",
   "metadata": {
    "tags": []
   },
   "source": [
    "# COMMS\n",
    "\n",
    "RADIO, CELLPHONES, and GPS (Work in Progress! I'm not an expert, I just want to learn more.)\n",
    "\n",
    "author: [@sparshsah](https://github.com/sparshsah)\n",
    "\n",
    "Some nice introductory videos:\n",
    "* High-level overview: Linus Tech Tips's TechQuickie [\"AM and FM Radio As Fast As Possible\"](https://youtu.be/w3M4cqAMWQs)\n",
    "* Bit more industry-focused: International Telecommunication Union's Information and Communication Technologies Discovery [\"How radio works\"](https://youtu.be/db5iyApKbsU)\n",
    "* Deep dive into modulation: PhysicsHigh's [\"modulation explained, with demonstrations of FM and AM\"](https://youtu.be/XnoHXyb7dkY)\n",
    "* Cellphones and 5G: Lesics Engineering's [\"How does your mobile phone work?\"](https://youtu.be/1JZG9x_VOwA)"
   ]
  },
  {
   "cell_type": "markdown",
   "id": "3c8ce9d8-1e48-46ba-9542-459bd4296bb8",
   "metadata": {
    "tags": []
   },
   "source": [
    "# Radio"
   ]
  },
  {
   "cell_type": "markdown",
   "id": "c13f2a9c-5176-4578-b7ed-a06118d470aa",
   "metadata": {},
   "source": [
    "## Tuners\n",
    "\n",
    "Take for granted that we can generate a photon of a given frequency $f$. We can transmit this photon to be a radio wave. By transmitting a simultaneous burst of many such photons at once, we increase the amplitude of this radio wave.\n",
    "\n",
    "Locally, we reserve a narrow frequency band for ourselves. But nearby operators are simultaneously transmitting on their own frequencies. The result is a cacophony of overlapping frequencies.\n",
    "\n",
    "In order to \"tune in\" to the specific frequency we're interested in (and \"ignore\" or _attenuate_ all the others), we need a tuner. For this purpose, a tuner acts as a bandpass filter. A simple kind of tuner is an LC circuit, which is \"activated\" only by photons at the circuit's resonant frequency. It is to light waves what a tuning fork is to sound waves. It picks out just the photons of our desired frequency.\n",
    "\n",
    "You can apparently construct a rudimentary LC circuit by just coiling copper wire into even coils! I must try this."
   ]
  },
  {
   "cell_type": "markdown",
   "id": "827e60e7-d092-4a91-b4f9-ecf2bfb2da64",
   "metadata": {
    "tags": []
   },
   "source": [
    "## Modulation\n",
    "\n",
    "Now we've agreed we can transmit and receive on a given frequency. We might thereby exchange messages in Morse Code -- A short burst is a dot, a long burst is a dash, etc. But we can efficiently exchange much richer messages via more creative modulation.\n",
    "\n",
    "There are several kinds of modulation:\n",
    "* Analog modulation:\n",
    "  * AM (Amplitude Modulation). Here, you fix the frequency precisely, and encode information by varying the number of photons (amplitude of the wave) you send.\n",
    "  * Angle modulation:\n",
    "    * FM (Frequency Modulation). Here, you do fix the frequency inside a narrow band. But you are free to vary the frequency within that band. So, instead of increasing or decreasing the wave amplitude as in AM, you can increase or decrease the frequency by a tiny amount. FM tuners are \"dormant\" when receiving frequencies that (a) equal precisely or (b) differ greatly from the tuned frequency. But, they are sensitive to frequencies very close---but not exactly equal---to the tuned frequency.\n",
    "    * PM (Phase Modulation).\n",
    "* Digital modulation: https://en.wikipedia.org/wiki/Modulation#Digital_modulation_methods"
   ]
  },
  {
   "cell_type": "markdown",
   "id": "52fabaaa-ef52-4905-8984-01085596c5d6",
   "metadata": {},
   "source": [
    "# Cellphones"
   ]
  },
  {
   "cell_type": "markdown",
   "id": "74952339-0cd7-4970-b77e-edeb30b8c54f",
   "metadata": {},
   "source": [
    "## Generations\n",
    "\n",
    "The different generations of cellular networking represent improvements in either (a) the kind of waves transmitted or (b) the algorithm used to pack several lines into a narrow band of spectrum without smearing them.\n",
    "\n",
    "* 1G: FDMA (Frequency-Division Multiple Access)\n",
    "* 2G: TDMA (Time-Division Multiple Access) and CDMA (Code-Division Multiple Access)\n",
    "* 3G: WCDMA (Wideband Code-Division Multiple Access)\n",
    "* 4G: OFDMA (Orthogonal Frequency-Division Multiple Access) and MU-MIMO (Multi-User Multiple-Input/Multiple-Output)\n",
    "* 5G: mmWave (Millimeter Waves) and eMIMO (Enhanced MIMO)"
   ]
  },
  {
   "cell_type": "markdown",
   "id": "1dab3167-ae3e-480c-824e-4c08da1cd634",
   "metadata": {},
   "source": [
    "## Multiple-Access Algorithms\n",
    "\n",
    "* FDMA: You reserve a frequency for yourself.\n",
    "* TDMA: You can share a frequency, but you can only transmit in bursts during specific timeslots.\n",
    "* CDMA: Gold codes."
   ]
  },
  {
   "cell_type": "markdown",
   "id": "76ca1677-9148-4187-a804-c2353458a22b",
   "metadata": {},
   "source": [
    "# GPS"
   ]
  },
  {
   "cell_type": "code",
   "execution_count": null,
   "id": "47062dd4-be82-4386-89e0-7d4bc4a003f9",
   "metadata": {},
   "outputs": [],
   "source": []
  }
 ],
 "metadata": {
  "kernelspec": {
   "display_name": "Python 3 (ipykernel)",
   "language": "python",
   "name": "python3"
  },
  "language_info": {
   "codemirror_mode": {
    "name": "ipython",
    "version": 3
   },
   "file_extension": ".py",
   "mimetype": "text/x-python",
   "name": "python",
   "nbconvert_exporter": "python",
   "pygments_lexer": "ipython3",
   "version": "3.11.4"
  }
 },
 "nbformat": 4,
 "nbformat_minor": 5
}
