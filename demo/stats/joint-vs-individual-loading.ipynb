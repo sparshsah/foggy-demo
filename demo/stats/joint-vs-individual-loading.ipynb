{
 "metadata": {
  "language_info": {
   "codemirror_mode": {
    "name": "ipython",
    "version": 3
   },
   "file_extension": ".py",
   "mimetype": "text/x-python",
   "name": "python",
   "nbconvert_exporter": "python",
   "pygments_lexer": "ipython3",
   "version": "3.8.5-final"
  },
  "orig_nbformat": 2,
  "kernelspec": {
   "name": "python3",
   "display_name": "Python 3",
   "language": "python"
  }
 },
 "nbformat": 4,
 "nbformat_minor": 2,
 "cells": [
  {
   "source": [
    "# Joint vs Individual Linear Regression Loadings\n",
    "\n",
    "First, let's establish some notation. Define $\\texttt{linreg}$ such that e.g. $\\texttt{linreg}(y,\\, \\{1, x_1, x_2\\})$ means the vector of MLE coefficients from a linear regression of $y$ on a constant (AKA \"intercept\"), $x_1$, and $x_2$. This vector has the same dimension as the regressors, e.g. in this case $(\\beta_0,\\, \\beta_1,\\, \\beta_2)$ has dimension 3."
   ],
   "cell_type": "markdown",
   "metadata": {}
  },
  {
   "cell_type": "code",
   "execution_count": 1,
   "metadata": {},
   "outputs": [],
   "source": [
    "import numpy as np\n",
    "import pandas as pd\n",
    "import statsmodels.api as sm\n",
    "\n",
    "def gen_data(mean=(0, 0), std=(1, 1), corr=0, n=10_000_000, seed=42):\n",
    "    mean = pd.Series({\"x1\": mean[0], \"x2\": mean[1], \"white_noise\": 0})\n",
    "\n",
    "    std = pd.Series({\"x1\": std[0], \"x2\": std[1], \"white_noise\": 1})\n",
    "    # diagonal matrix with std's on the diagonal\n",
    "    std_ = pd.DataFrame(np.diag(std), index=std.index, columns=std.index)\n",
    "\n",
    "    corr = pd.DataFrame({\n",
    "        \"x1\": {\"x1\": 1, \"x2\": corr, \"white_noise\": 0},\n",
    "        \"x2\": {\"x1\": corr, \"x2\": 1, \"white_noise\": 0},\n",
    "        \"white_noise\": {\"x1\": 0, \"x2\": 0, \"white_noise\": 1}\n",
    "    })\n",
    "\n",
    "    cov = std_ @ corr @ std_\n",
    "\n",
    "    np.random.seed(seed=seed)\n",
    "    df = pd.DataFrame(np.random.multivariate_normal(mean=mean, cov=cov, size=n), columns=mean.index)\n",
    "    df.loc[:, \"x1+x2\"] = df[\"x1\"] + df[\"x2\"]\n",
    "    df.loc[:, \"y\"] = df[\"x1+x2\"] + df[\"white_noise\"]\n",
    "    return df[[\"y\", \"x1\", \"x2\", \"x1+x2\", \"white_noise\"]]\n",
    "\n",
    "\n",
    "def linreg(y, x, decimals=2):\n",
    "    x = sm.add_constant(x)\n",
    "    return np.round(sm.OLS(endog=y, exog=x, hasconst=True).fit().params, decimals=decimals)"
   ]
  },
  {
   "cell_type": "code",
   "execution_count": 2,
   "metadata": {},
   "outputs": [
    {
     "output_type": "execute_result",
     "data": {
      "text/plain": [
       "const    0.0\n",
       "x2       1.0\n",
       "dtype: float64"
      ]
     },
     "metadata": {},
     "execution_count": 2
    }
   ],
   "source": [
    "df = gen_data()\n",
    "linreg(y=df[\"y\"], x=df[\"x2\"])"
   ]
  },
  {
   "source": [
    "## Experiment 0"
   ],
   "cell_type": "markdown",
   "metadata": {}
  },
  {
   "source": [
    "## Experiment 1"
   ],
   "cell_type": "markdown",
   "metadata": {}
  },
  {
   "source": [
    "## Experiment 2"
   ],
   "cell_type": "markdown",
   "metadata": {}
  },
  {
   "source": [
    "## Experiment 3"
   ],
   "cell_type": "markdown",
   "metadata": {}
  }
 ]
}