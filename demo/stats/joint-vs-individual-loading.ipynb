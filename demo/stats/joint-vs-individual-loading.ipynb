{
 "metadata": {
  "language_info": {
   "codemirror_mode": {
    "name": "ipython",
    "version": 3
   },
   "file_extension": ".py",
   "mimetype": "text/x-python",
   "name": "python",
   "nbconvert_exporter": "python",
   "pygments_lexer": "ipython3",
   "version": "3.8.5-final"
  },
  "orig_nbformat": 2,
  "kernelspec": {
   "name": "python3",
   "display_name": "Python 3",
   "language": "python"
  }
 },
 "nbformat": 4,
 "nbformat_minor": 2,
 "cells": [
  {
   "source": [
    "# Joint vs Individual Linear Regression Loadings"
   ],
   "cell_type": "markdown",
   "metadata": {}
  },
  {
   "source": [
    "First, let's establish some notation. Define $\\texttt{linreg}$ such that e.g. $\\texttt{linreg}(y,\\, \\{1, x_1, x_2\\})$ means the vector of MLE coefficients from a linear regression of $y$ on a constant (AKA \"intercept\"), $x_1$, and $x_2$. This vector has the same dimension as the regressors, e.g. in this case $(\\beta_0,\\, \\beta_1,\\, \\beta_2)$ has dimension 3. Note that some authors label $\\beta_0$ as $\\alpha$.\n",
    "\n",
    "\n",
    "\\# TODO: prove that $\\texttt{linreg}(y, \\{1, x_1})"
   ],
   "cell_type": "markdown",
   "metadata": {}
  },
  {
   "cell_type": "code",
   "execution_count": 3,
   "metadata": {},
   "outputs": [],
   "source": [
    "import scipy.stats as stats\n",
    "import pandas as pd\n",
    "import numpy as np\n",
    "import statsmodels.api as sm"
   ]
  },
  {
   "source": [
    "## construct data"
   ],
   "cell_type": "markdown",
   "metadata": {}
  },
  {
   "cell_type": "code",
   "execution_count": 44,
   "metadata": {},
   "outputs": [
    {
     "output_type": "execute_result",
     "data": {
      "text/plain": [
       "                 x1      x2      x3  white_noise\n",
       "x1           9.8596 -4.9298  4.2704          0.0\n",
       "x2          -4.9298  9.8596  0.0000          0.0\n",
       "x3           4.2704  0.0000  7.3984          0.0\n",
       "white_noise  0.0000  0.0000  0.0000          1.0"
      ],
      "text/html": "<div>\n<style scoped>\n    .dataframe tbody tr th:only-of-type {\n        vertical-align: middle;\n    }\n\n    .dataframe tbody tr th {\n        vertical-align: top;\n    }\n\n    .dataframe thead th {\n        text-align: right;\n    }\n</style>\n<table border=\"1\" class=\"dataframe\">\n  <thead>\n    <tr style=\"text-align: right;\">\n      <th></th>\n      <th>x1</th>\n      <th>x2</th>\n      <th>x3</th>\n      <th>white_noise</th>\n    </tr>\n  </thead>\n  <tbody>\n    <tr>\n      <th>x1</th>\n      <td>9.8596</td>\n      <td>-4.9298</td>\n      <td>4.2704</td>\n      <td>0.0</td>\n    </tr>\n    <tr>\n      <th>x2</th>\n      <td>-4.9298</td>\n      <td>9.8596</td>\n      <td>0.0000</td>\n      <td>0.0</td>\n    </tr>\n    <tr>\n      <th>x3</th>\n      <td>4.2704</td>\n      <td>0.0000</td>\n      <td>7.3984</td>\n      <td>0.0</td>\n    </tr>\n    <tr>\n      <th>white_noise</th>\n      <td>0.0000</td>\n      <td>0.0000</td>\n      <td>0.0000</td>\n      <td>1.0</td>\n    </tr>\n  </tbody>\n</table>\n</div>"
     },
     "metadata": {},
     "execution_count": 44
    }
   ],
   "source": [
    "n = 64\n",
    "\n",
    "mean = pd.Series({\"x1\": 3.14, \"x2\": 3.14, \"x3\": 2.72, \"white_noise\": 0})\n",
    "\n",
    "std = pd.Series({\"x1\": 3.14, \"x2\": 3.14, \"x3\": 2.72, \"white_noise\": 1})\n",
    "# diagonal matrix with std's on the diagonal\n",
    "std_ = pd.DataFrame(np.diag(std), index=std.index, columns=std.index)\n",
    "\n",
    "corr = pd.DataFrame({\n",
    "    \"x1\": {\"x1\": 1, \"x2\": -0.5, \"x3\": 0.5, \"white_noise\": 0},\n",
    "    \"x2\": {\"x1\": -0.5, \"x2\": 1, \"x3\": 0, \"white_noise\": 0},\n",
    "    \"x3\": {\"x1\": 0.5, \"x2\": 0, \"x3\": 1, \"white_noise\": 0},\n",
    "    \"white_noise\": {\"x1\": 0, \"x2\": 0, \"x3\": 0, \"white_noise\": 1}\n",
    "})\n",
    "\n",
    "cov = std_ @ corr @ std_\n",
    "cov"
   ]
  },
  {
   "cell_type": "code",
   "execution_count": 46,
   "metadata": {},
   "outputs": [
    {
     "output_type": "execute_result",
     "data": {
      "text/plain": [
       "          x1        x2        x3  white_noise     x1+x2\n",
       "0   3.689891  0.211331 -0.316387     1.049992  3.901222\n",
       "1   0.905872  3.390582  1.330246    -1.477451  4.296453\n",
       "2   6.677553  1.623315  2.229324     1.062024  8.300867\n",
       "3  -0.120413  5.179490  3.393259     0.848405  5.059077\n",
       "4   2.939849  2.102987  3.184186    -0.733020  5.042836\n",
       "..       ...       ...       ...          ...       ...\n",
       "59  0.127113  7.963481  2.895155     1.613224  8.090594\n",
       "60 -2.215368  3.700655  1.423058    -0.391185  1.485287\n",
       "61  4.624515  1.176619  1.609477    -1.797265  5.801134\n",
       "62 -0.971553  4.970889  3.775684     1.953737  3.999336\n",
       "63  4.499954 -0.933087  2.664483    -0.170168  3.566867\n",
       "\n",
       "[64 rows x 5 columns]"
      ],
      "text/html": "<div>\n<style scoped>\n    .dataframe tbody tr th:only-of-type {\n        vertical-align: middle;\n    }\n\n    .dataframe tbody tr th {\n        vertical-align: top;\n    }\n\n    .dataframe thead th {\n        text-align: right;\n    }\n</style>\n<table border=\"1\" class=\"dataframe\">\n  <thead>\n    <tr style=\"text-align: right;\">\n      <th></th>\n      <th>x1</th>\n      <th>x2</th>\n      <th>x3</th>\n      <th>white_noise</th>\n      <th>x1+x2</th>\n    </tr>\n  </thead>\n  <tbody>\n    <tr>\n      <th>0</th>\n      <td>3.689891</td>\n      <td>0.211331</td>\n      <td>-0.316387</td>\n      <td>1.049992</td>\n      <td>3.901222</td>\n    </tr>\n    <tr>\n      <th>1</th>\n      <td>0.905872</td>\n      <td>3.390582</td>\n      <td>1.330246</td>\n      <td>-1.477451</td>\n      <td>4.296453</td>\n    </tr>\n    <tr>\n      <th>2</th>\n      <td>6.677553</td>\n      <td>1.623315</td>\n      <td>2.229324</td>\n      <td>1.062024</td>\n      <td>8.300867</td>\n    </tr>\n    <tr>\n      <th>3</th>\n      <td>-0.120413</td>\n      <td>5.179490</td>\n      <td>3.393259</td>\n      <td>0.848405</td>\n      <td>5.059077</td>\n    </tr>\n    <tr>\n      <th>4</th>\n      <td>2.939849</td>\n      <td>2.102987</td>\n      <td>3.184186</td>\n      <td>-0.733020</td>\n      <td>5.042836</td>\n    </tr>\n    <tr>\n      <th>...</th>\n      <td>...</td>\n      <td>...</td>\n      <td>...</td>\n      <td>...</td>\n      <td>...</td>\n    </tr>\n    <tr>\n      <th>59</th>\n      <td>0.127113</td>\n      <td>7.963481</td>\n      <td>2.895155</td>\n      <td>1.613224</td>\n      <td>8.090594</td>\n    </tr>\n    <tr>\n      <th>60</th>\n      <td>-2.215368</td>\n      <td>3.700655</td>\n      <td>1.423058</td>\n      <td>-0.391185</td>\n      <td>1.485287</td>\n    </tr>\n    <tr>\n      <th>61</th>\n      <td>4.624515</td>\n      <td>1.176619</td>\n      <td>1.609477</td>\n      <td>-1.797265</td>\n      <td>5.801134</td>\n    </tr>\n    <tr>\n      <th>62</th>\n      <td>-0.971553</td>\n      <td>4.970889</td>\n      <td>3.775684</td>\n      <td>1.953737</td>\n      <td>3.999336</td>\n    </tr>\n    <tr>\n      <th>63</th>\n      <td>4.499954</td>\n      <td>-0.933087</td>\n      <td>2.664483</td>\n      <td>-0.170168</td>\n      <td>3.566867</td>\n    </tr>\n  </tbody>\n</table>\n<p>64 rows × 5 columns</p>\n</div>"
     },
     "metadata": {},
     "execution_count": 46
    }
   ],
   "source": [
    "x = pd.DataFrame(stats.multivariate_normal.rvs(mean=mean, cov=cov, size=n), columns=mean.index)\n",
    "x.loc[:, \"x1+x2\"] = x[\"x1\"] + x[\"x2\"]\n",
    "x"
   ]
  },
  {
   "cell_type": "code",
   "execution_count": null,
   "metadata": {},
   "outputs": [],
   "source": []
  }
 ]
}