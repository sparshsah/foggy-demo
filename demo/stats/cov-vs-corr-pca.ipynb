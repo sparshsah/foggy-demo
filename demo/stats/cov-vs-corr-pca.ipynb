{
 "cells": [
  {
   "cell_type": "code",
   "execution_count": 10,
   "metadata": {},
   "outputs": [],
   "source": [
    "from typing import Tuple\n",
    "import pandas as pd\n",
    "import scipy.stats as stats\n",
    "import numpy as np\n",
    "import matplotlib.pyplot as plt"
   ]
  },
  {
   "cell_type": "markdown",
   "metadata": {},
   "source": [
    "# are the principal components of the covariance matrix the same as those of the correlation?\n",
    "\n",
    "No! Why? Because non-uniform scaling is not angle-preserving.\n",
    "\n",
    "Imagine that we have some clean, standardized data.\n",
    "We calculate its covariance matrix and call it $\\Omega$.\n",
    "We then multiply each variable by the corresponding scalar specified in $\\delta$\n",
    "(think of this as converting from kg to lbs, or km to mi, or L to gal).\n",
    "We calculate the new data's covariance matrix and call it $\\Sigma$.\n",
    "The data used to be \"shaped\" like a blob in $N$-space,\n",
    "and we have deformed that blob;\n",
    "In so doing, we have fundamentally changed its \"explanation\".\n",
    "This is a pretty strong statement:\n",
    "It's not just that the PC's are the same but their order has changed;\n",
    "It's not just that the old PC's are still orthogonal to each other but are no longer the most \"efficient\" encoding;\n",
    "It's not even just that you can get the new PC's from the old by applying $\\Delta^{-1}$ to rectify the deformation.\n",
    "The transformed old PC's are no longer guaranteed to be PC's or even orthogonal to each other,\n",
    "\n",
    "raw data to transformed: X -> XDelta\n",
    "cov: (XD)'XD = D'X'XD = DX'XD = DOD\n",
    "\n",
    "\n",
    "You can see that the new eigenvectors won't be the same:\n",
    "We know that $\\Sigma = \\Delta \\Omega \\Delta$,\n",
    "so consider $v$ where $v$ is an eigenvector of $\\Omega$, i.e.\n",
    "$\\Omega v = a v$ where $a$ is some scalar.\n",
    "Now let's consider $\\Sigma v = \\Delta \\Omega \\Delta v$.\n",
    "Immediately, we run into an issue:\n",
    "We want to apply $\\Omega$ to $v$, but\n",
    "instead we're applying it to $\\Delta v$.\n",
    "Alright, let's remedy the issue:\n",
    "We'll let ourselves relax a bit, and concede that $v$\n",
    "might not be an eigenvector of $\\Sigma$, but\n",
    "surely $u := \\Delta^{-1} v$ will be!\n",
    "Let's try it out: We have,\n",
    "\n",
    "$$ \\Sigma u = \\Delta \\Omega \\Delta (\\Delta^{-1} v) $$\n",
    "$$ = \\Delta \\Omega v $$\n",
    "$$ = \\Delta a v $$\n",
    "$$ = a \\Delta v ...$$\n",
    "Dammit! We wanted something like $\\Sigma u = b u = b \\Delta^{-1} v$,\n",
    "but instead of $\\Delta^{-1}$, god laughed in our face and gave us the inverse.\n",
    "\n",
    "So it's not trivial to go from one to the other.\n",
    "Below, we'll build some visual intution as to why."
   ]
  },
  {
   "cell_type": "markdown",
   "metadata": {},
   "source": [
    "# setting"
   ]
  },
  {
   "cell_type": "markdown",
   "metadata": {},
   "source": [
    "## correlation"
   ]
  },
  {
   "cell_type": "code",
   "execution_count": 36,
   "metadata": {},
   "outputs": [
    {
     "data": {
      "text/html": [
       "<div>\n",
       "<style scoped>\n",
       "    .dataframe tbody tr th:only-of-type {\n",
       "        vertical-align: middle;\n",
       "    }\n",
       "\n",
       "    .dataframe tbody tr th {\n",
       "        vertical-align: top;\n",
       "    }\n",
       "\n",
       "    .dataframe thead th {\n",
       "        text-align: right;\n",
       "    }\n",
       "</style>\n",
       "<table border=\"1\" class=\"dataframe\">\n",
       "  <thead>\n",
       "    <tr style=\"text-align: right;\">\n",
       "      <th></th>\n",
       "      <th>X0</th>\n",
       "      <th>X1</th>\n",
       "    </tr>\n",
       "  </thead>\n",
       "  <tbody>\n",
       "    <tr>\n",
       "      <th>X0</th>\n",
       "      <td>1.0</td>\n",
       "      <td>0.1</td>\n",
       "    </tr>\n",
       "    <tr>\n",
       "      <th>X1</th>\n",
       "      <td>0.1</td>\n",
       "      <td>1.0</td>\n",
       "    </tr>\n",
       "  </tbody>\n",
       "</table>\n",
       "</div>"
      ],
      "text/plain": [
       "     X0   X1\n",
       "X0  1.0  0.1\n",
       "X1  0.1  1.0"
      ]
     },
     "execution_count": 36,
     "metadata": {},
     "output_type": "execute_result"
    }
   ],
   "source": [
    "# correlation\n",
    "omega = 0.1\n",
    "Omega = pd.DataFrame({\n",
    "    \"X0\": {\"X0\": 1    , \"X1\": omega},\n",
    "    \"X1\": {\"X0\": omega, \"X1\": 1    }\n",
    "})\n",
    "Omega"
   ]
  },
  {
   "cell_type": "markdown",
   "metadata": {},
   "source": [
    "## standard deviation"
   ]
  },
  {
   "cell_type": "code",
   "execution_count": 68,
   "metadata": {},
   "outputs": [
    {
     "data": {
      "text/html": [
       "<div>\n",
       "<style scoped>\n",
       "    .dataframe tbody tr th:only-of-type {\n",
       "        vertical-align: middle;\n",
       "    }\n",
       "\n",
       "    .dataframe tbody tr th {\n",
       "        vertical-align: top;\n",
       "    }\n",
       "\n",
       "    .dataframe thead th {\n",
       "        text-align: right;\n",
       "    }\n",
       "</style>\n",
       "<table border=\"1\" class=\"dataframe\">\n",
       "  <thead>\n",
       "    <tr style=\"text-align: right;\">\n",
       "      <th></th>\n",
       "      <th>X0</th>\n",
       "      <th>X1</th>\n",
       "    </tr>\n",
       "  </thead>\n",
       "  <tbody>\n",
       "    <tr>\n",
       "      <th>X0</th>\n",
       "      <td>1</td>\n",
       "      <td>0</td>\n",
       "    </tr>\n",
       "    <tr>\n",
       "      <th>X1</th>\n",
       "      <td>0</td>\n",
       "      <td>2</td>\n",
       "    </tr>\n",
       "  </tbody>\n",
       "</table>\n",
       "</div>"
      ],
      "text/plain": [
       "    X0  X1\n",
       "X0   1   0\n",
       "X1   0   2"
      ]
     },
     "execution_count": 68,
     "metadata": {},
     "output_type": "execute_result"
    }
   ],
   "source": [
    "delta = pd.Series({\"X0\": 1, \"X1\": 2})\n",
    "# diagonal square matrix with standard deviations along diagonal\n",
    "Delta = pd.DataFrame(\n",
    "    np.diag(delta),\n",
    "index=delta.index, columns=delta.index)\n",
    "Delta"
   ]
  },
  {
   "cell_type": "markdown",
   "metadata": {},
   "source": [
    "## covariance"
   ]
  },
  {
   "cell_type": "code",
   "execution_count": 38,
   "metadata": {},
   "outputs": [
    {
     "data": {
      "text/html": [
       "<div>\n",
       "<style scoped>\n",
       "    .dataframe tbody tr th:only-of-type {\n",
       "        vertical-align: middle;\n",
       "    }\n",
       "\n",
       "    .dataframe tbody tr th {\n",
       "        vertical-align: top;\n",
       "    }\n",
       "\n",
       "    .dataframe thead th {\n",
       "        text-align: right;\n",
       "    }\n",
       "</style>\n",
       "<table border=\"1\" class=\"dataframe\">\n",
       "  <thead>\n",
       "    <tr style=\"text-align: right;\">\n",
       "      <th></th>\n",
       "      <th>X0</th>\n",
       "      <th>X1</th>\n",
       "    </tr>\n",
       "  </thead>\n",
       "  <tbody>\n",
       "    <tr>\n",
       "      <th>X0</th>\n",
       "      <td>1.0</td>\n",
       "      <td>0.2</td>\n",
       "    </tr>\n",
       "    <tr>\n",
       "      <th>X1</th>\n",
       "      <td>0.2</td>\n",
       "      <td>4.0</td>\n",
       "    </tr>\n",
       "  </tbody>\n",
       "</table>\n",
       "</div>"
      ],
      "text/plain": [
       "     X0   X1\n",
       "X0  1.0  0.2\n",
       "X1  0.2  4.0"
      ]
     },
     "execution_count": 38,
     "metadata": {},
     "output_type": "execute_result"
    }
   ],
   "source": [
    "Sigma = Delta @ Omega @ Delta\n",
    "Sigma"
   ]
  },
  {
   "cell_type": "markdown",
   "metadata": {},
   "source": [
    "# eigendecompositions"
   ]
  },
  {
   "cell_type": "code",
   "execution_count": 69,
   "metadata": {},
   "outputs": [],
   "source": [
    "def _eig(mat: pd.DataFrame) -> Tuple[pd.Series, pd.DataFrame]:\n",
    "    \"\"\"\n",
    "    Eigendecompose `mat`, returning eigenvalues `W` and corresponding eigenvectors `V`,\n",
    "    such that the eigenvector associated with eigenvalue `W[n]` is `V[:, n]`.\n",
    "    \"\"\"\n",
    "    W, V = np.linalg.eig(mat)\n",
    "    W = pd.Series(W)\n",
    "    V = pd.DataFrame(V, index=mat.index)\n",
    "    # sort in order of explained variance, then reorder v to match\n",
    "    W = W.sort_values(ascending=False)\n",
    "    V = V.reindex(columns=W.index)\n",
    "    # the order it came out of `np.eig` is not meaningful, drop it\n",
    "    W = W.reset_index(drop=True)\n",
    "    V = V.T.reset_index(drop=True).T  # stupid hack, there is no `pd.DataFrame.reset_columns()`\n",
    "    # make the column names more suggestive\n",
    "    W = W.rename(index=lambda n: f\"E{n}\")\n",
    "    V = V.rename(columns=lambda n: f\"E{n}\")\n",
    "    # i hate vectors with negative heads, so if i find one, negate the entire vector\n",
    "    sign_of_V_heads = np.sign(V.loc[\"X0\", :])\n",
    "    V = V.mul(sign_of_V_heads, axis=\"columns\")\n",
    "    return W, V\n",
    "\n",
    "def eig(mat: pd.DataFrame) -> Tuple[pd.Series, pd.DataFrame]:\n",
    "    \"\"\"Like `eig()` but with side effects :).\"\"\"\n",
    "    W, V = _eig(mat=mat)\n",
    "    print(W)\n",
    "    print()\n",
    "    print(V)\n",
    "    return W, V"
   ]
  },
  {
   "cell_type": "markdown",
   "metadata": {},
   "source": [
    "## correlation"
   ]
  },
  {
   "cell_type": "code",
   "execution_count": 70,
   "metadata": {},
   "outputs": [
    {
     "name": "stdout",
     "output_type": "stream",
     "text": [
      "E0    1.1\n",
      "E1    0.9\n",
      "dtype: float64\n",
      "\n",
      "          E0        E1\n",
      "X0  0.707107  0.707107\n",
      "X1  0.707107 -0.707107\n"
     ]
    }
   ],
   "source": [
    "W_Omega, V_Omega = eig(mat=Omega)"
   ]
  },
  {
   "cell_type": "markdown",
   "metadata": {},
   "source": [
    "## covariance"
   ]
  },
  {
   "cell_type": "code",
   "execution_count": 71,
   "metadata": {},
   "outputs": [
    {
     "name": "stdout",
     "output_type": "stream",
     "text": [
      "E0    4.013275\n",
      "E1    0.986725\n",
      "dtype: float64\n",
      "\n",
      "          E0        E1\n",
      "X0  0.066227  0.997805\n",
      "X1  0.997805 -0.066227\n"
     ]
    }
   ],
   "source": [
    "W_Sigma, V_Sigma = eig(mat=Sigma)"
   ]
  },
  {
   "cell_type": "markdown",
   "metadata": {},
   "source": [
    "## entrywise ratio of cov PC's to corr PC's, and vice versa"
   ]
  },
  {
   "cell_type": "code",
   "execution_count": 72,
   "metadata": {},
   "outputs": [
    {
     "data": {
      "text/html": [
       "<div>\n",
       "<style scoped>\n",
       "    .dataframe tbody tr th:only-of-type {\n",
       "        vertical-align: middle;\n",
       "    }\n",
       "\n",
       "    .dataframe tbody tr th {\n",
       "        vertical-align: top;\n",
       "    }\n",
       "\n",
       "    .dataframe thead th {\n",
       "        text-align: right;\n",
       "    }\n",
       "</style>\n",
       "<table border=\"1\" class=\"dataframe\">\n",
       "  <thead>\n",
       "    <tr style=\"text-align: right;\">\n",
       "      <th></th>\n",
       "      <th>E0</th>\n",
       "      <th>E1</th>\n",
       "    </tr>\n",
       "  </thead>\n",
       "  <tbody>\n",
       "    <tr>\n",
       "      <th>X0</th>\n",
       "      <td>0.093659</td>\n",
       "      <td>1.411109</td>\n",
       "    </tr>\n",
       "    <tr>\n",
       "      <th>X1</th>\n",
       "      <td>1.411109</td>\n",
       "      <td>0.093659</td>\n",
       "    </tr>\n",
       "  </tbody>\n",
       "</table>\n",
       "</div>"
      ],
      "text/plain": [
       "          E0        E1\n",
       "X0  0.093659  1.411109\n",
       "X1  1.411109  0.093659"
      ]
     },
     "execution_count": 72,
     "metadata": {},
     "output_type": "execute_result"
    }
   ],
   "source": [
    "V_Sigma / V_Omega"
   ]
  },
  {
   "cell_type": "code",
   "execution_count": 73,
   "metadata": {},
   "outputs": [
    {
     "data": {
      "text/html": [
       "<div>\n",
       "<style scoped>\n",
       "    .dataframe tbody tr th:only-of-type {\n",
       "        vertical-align: middle;\n",
       "    }\n",
       "\n",
       "    .dataframe tbody tr th {\n",
       "        vertical-align: top;\n",
       "    }\n",
       "\n",
       "    .dataframe thead th {\n",
       "        text-align: right;\n",
       "    }\n",
       "</style>\n",
       "<table border=\"1\" class=\"dataframe\">\n",
       "  <thead>\n",
       "    <tr style=\"text-align: right;\">\n",
       "      <th></th>\n",
       "      <th>E0</th>\n",
       "      <th>E1</th>\n",
       "    </tr>\n",
       "  </thead>\n",
       "  <tbody>\n",
       "    <tr>\n",
       "      <th>X0</th>\n",
       "      <td>10.676975</td>\n",
       "      <td>0.708663</td>\n",
       "    </tr>\n",
       "    <tr>\n",
       "      <th>X1</th>\n",
       "      <td>0.708663</td>\n",
       "      <td>10.676975</td>\n",
       "    </tr>\n",
       "  </tbody>\n",
       "</table>\n",
       "</div>"
      ],
      "text/plain": [
       "           E0         E1\n",
       "X0  10.676975   0.708663\n",
       "X1   0.708663  10.676975"
      ]
     },
     "execution_count": 73,
     "metadata": {},
     "output_type": "execute_result"
    }
   ],
   "source": [
    "V_Omega / V_Sigma"
   ]
  },
  {
   "cell_type": "markdown",
   "metadata": {},
   "source": [
    "# visualization"
   ]
  },
  {
   "cell_type": "code",
   "execution_count": null,
   "metadata": {},
   "outputs": [],
   "source": []
  }
 ],
 "metadata": {
  "kernelspec": {
   "display_name": "Python 3",
   "language": "python",
   "name": "python3"
  },
  "language_info": {
   "codemirror_mode": {
    "name": "ipython",
    "version": 3
   },
   "file_extension": ".py",
   "mimetype": "text/x-python",
   "name": "python",
   "nbconvert_exporter": "python",
   "pygments_lexer": "ipython3",
   "version": "3.8.5"
  }
 },
 "nbformat": 4,
 "nbformat_minor": 4
}
