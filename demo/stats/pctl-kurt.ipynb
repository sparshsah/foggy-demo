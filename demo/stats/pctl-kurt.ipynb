{
 "cells": [
  {
   "cell_type": "markdown",
   "metadata": {},
   "source": [
    "# A Quick-and-Dirty Attempt to Maximize \"Percentile Kurtosis\"\n",
    "\n",
    "## Motivation\n",
    "\n",
    "Suppose someone tells you the event $X=x$ is a \"$+4\\sigma$ event\" i.e. that\n",
    "its $z$-score $z(X=x) = +4$. That sounds statistically extreme!\n",
    "$X=x$ seems like a very rare event. In other words, its percentile\n",
    "$\\Pr[X \\leq x]$ is probably very high.\n",
    "Indeed, if $X$ is Normal, $X=x$ would be essentially impossible.\n",
    "\n",
    "\n",
    "I want to try to construct a \"pathological\" example: A distribution\n",
    "with finite mean $\\mu$ and standard deviation $\\sigma$\n",
    "where an event as extreme as $X = x := \\mu + 4\\sigma$ (i.e. a $+4\\sigma$ event)\n",
    "is actually _very_ likely. This is hard, but I'll settle for\n",
    "making it _pretty_ likely.\n",
    "\n",
    "\n",
    "In other words, I want to construct a distribution that is highly \"percentile-kurtotic\":\n",
    "A distribution where $1 - \\Pr[X \\leq \\mu + 4\\sigma]$ is maximal.\n",
    "\n",
    "\n",
    "## Definitions\n",
    "\n",
    "### $z$-score\n",
    "\n",
    "We define $z$-score\n",
    "$$z(X=x) := \\frac{x - \\mu(X)}{\\sigma(X)},$$\n",
    "with\n",
    "$$\\sigma^2(X) := \\int_{x=-\\infty}^{x=\\infty} (x - \\mu(X))^2 \\Pr[X=x] dx,$$\n",
    "where $X$ is a random variable and we abuse notation a bit to let $\\Pr[X=x]$\n",
    "represent its probability density function.\n",
    "(We're going to continue to be a bit hand-wavey with this,\n",
    "assuming some mild conditions e.g. PDF is continuous.)\n",
    "\n",
    "\n",
    "### percentile\n",
    "\n",
    "We define percentile (AKA cumulative distribution function) the usual way, as\n",
    "$$Pr[X \\leq x] := \\int_{t=-\\infty}^{t=x} \\Pr[X=t] dt.$$\n",
    "\n",
    "\n",
    "### \"percentile kurtosis\"\n",
    "\n",
    "Finally, as I alluded above, I'm going to define the \"percentile kurtosis\"\n",
    "(a made-up term) $k$ of a random variable as\n",
    "$$k(X) := 1 - \\Pr[X \\leq \\mu + 4\\sigma],$$\n",
    "the complement-percentile of a $+4\\sigma$ event.\n",
    "Maximizing $k$ is equivalent to minimizing the percentile.\n",
    "\n",
    "\n",
    "## Background\n",
    "\n",
    "Using the definitions above, let's answer a couple quick questions.\n",
    "\n",
    "\n",
    "### Can $k$ be literally 0, i.e. $\\Pr[X \\leq \\mu + 4\\sigma] = 1$?\n",
    "\n",
    "Yes. Consider the Standard Uniform from 0 to 1.\n",
    "$$\\mu + 4\\sigma = 0.5 + 4\\sqrt{1/12} \\approx 1.65 > 1,$$\n",
    "so that a $4\\sigma$ event is not just \"essentially\" impossible,\n",
    "but \"literally\" impossible: It's literally outside the support\n",
    "of the distribution.\n",
    "\n",
    "This is not a very helpful example for our question, because\n",
    "we want to _maximize_ $k$. But it's just background.\n",
    "\n",
    "\n",
    "### Can $k$ be essentially but not literally 0?\n",
    "\n",
    "Yes, we already mentioned the example of the Standard Normal.\n",
    "\n",
    "\n",
    "### Can $k$ be some small but nontrivial positive value?\n",
    "\n",
    "Yes, the Standard $\\chi^2$ distribution has $\\mu = 1$ and $\\sigma = \\sqrt{2}$.\n",
    "In this case, $k = 1 - \\Pr[X \\leq \\mu + 4\\sigma]$ turns out to be about $0.01$.\n",
    "\n",
    "\n",
    "### Can $k$ be literally 1, i.e. $\\Pr[X \\leq \\mu + 4\\sigma] = 0$?\n",
    "\n",
    "No. This sounds silly but it's still worth convincing ourselves that\n",
    "it's truly impossible.\n",
    "\n",
    "\n",
    "Assume for simplicity that $\\mu = 0$ (this is WLOG, because if $\\mu \\neq 0$,\n",
    "we can just shift the entire distribution by $-\\mu$).\n",
    "\n",
    "\n",
    "Suppose to the contrary that it is possible, i.e. there is some\n",
    "random variable $X$ s.t. $\\Pr[X \\leq +4\\sigma] = 0$.\n",
    "Then,\n",
    "$$\\Pr[X = x] = 0 \\qquad\\;\\forall\\; x \\in (-\\infty,\\, +4\\sigma].$$\n",
    "Hence, we can collapse the expression for variance to\n",
    "$$\\sigma^2(X) = \\int_{x=+4\\sigma}^{x=+\\infty} x^2 \\Pr[X=x] dx.$$\n",
    "So we can think of the variance as a weighted average of\n",
    "squared values between $+4\\sigma$ and $+\\infty$.\n",
    "\n",
    "\n",
    "Standard deviation is of course nonnegative, so also\n",
    "$+4\\sigma \\geq 0$. So the smallest squared value\n",
    "in the weighted average is $(+4\\sigma)^2 = 16\\sigma^2$.\n",
    "Necessarily, then, the final weighted average must be\n",
    "at least $16\\sigma^2$. (Actually, it must be just a smidge more than $16\\sigma^2$,\n",
    "because we put zero density at exactly $X = +4\\sigma$,\n",
    "hence the smallest-possible squared value is $(+4\\sigma + \\varepsilon)^2$,\n",
    "and if we accounted for this smidge, we'd run into a contradiction\n",
    "immediately. However, I find it more illuminating at this step to draw\n",
    "the weaker conclusion, which is still true,\n",
    "but lets us run further before hitting a contradiction.)\n",
    "\n",
    "\n",
    "Hence we get\n",
    "$$\\sigma^2 \\geq 16\\sigma^2 \\implies \\sigma = 0.$$\n",
    "\n",
    "\n",
    "So supposing that $k$ can be $1$ for some distribution,\n",
    "that distribution must have zero variance.\n",
    "\n",
    "\n",
    "Well, according to a convention, the Dirac delta is the\n",
    "unique probability density function with zero variance\n",
    "(take this for granted, or if you insist on arguing, email me).\n",
    "It characterizes the density of a point mass.\n",
    "\n",
    "\n",
    "So let's try it out. Supposing $X$ is a Dirac-delta-distributed\n",
    "random variable (AKA a constant), we have\n",
    "$$\\Pr[X \\leq +4\\sigma] = \\Pr[X \\leq 0] = 1.$$\n",
    "\n",
    "\n",
    "Sadly, this failed. We had assumed the exact opposite:\n",
    "that $\\Pr[X \\leq 0] = 0$.\n",
    "Hence by contradition, we have Q.E.D.\n",
    "\n",
    "\n",
    "### What about the evil Cauchy (AKA Standard $t$) distribution?\n",
    "\n",
    "Obviously, one of the immediate problems with the Cauchy\n",
    "(that indeed disqualifies it from consideration)\n",
    "is that its variance (or even its mean) is not finite.\n",
    "\n",
    "\n",
    "But it can be instructive to think about it.\n",
    "If we \"define\" $\\sigma(X) := \\infty$ (acceptable)\n",
    "and $\\mu(X) := 0$ (please don't haunt my dreams Prof Blitzstein)\n",
    "for a Cauchy random variable,\n",
    "then $\\mu(X) + 4\\sigma(X) = +\\infty$, which is the upper bound of support\n",
    "for the Cauchy, hence $k(X) = 0$, just like for the Standard Uniform.\n",
    "\n",
    "\n",
    "The problem here is that the fat tails of the Cauchy\n",
    "are _so_ fat, that they make its standard deviation infinite.\n",
    "At that point, it becomes impossible to push any probability mass\n",
    "at all beyond $\\mu+4\\sigma$, because there's no more number line\n",
    "remaining after that.\n",
    "\n",
    "\n",
    "## Exploring the solution\n",
    "\n",
    "Obviously, the best would be to solve for the maximal $k$ analytically in closed form. Letting WLOG $\\mu = 0$, we want to solve\n",
    "$$\\max_{f \\in F} \\int_{x=\\ell}^{x=+\\infty} f(x)dx,$$\n",
    "where $F$ is the set of well-formed PDF's and\n",
    "$$\\ell := 4\\sqrt{\\int_{t=-\\infty}^{t=+\\infty} t^2 f(t)dt}.$$\n",
    "This doesn't look impossible but it certainly looks very boring and I haven't got any good ideas about how to begin.\n",
    "\n",
    "\n",
    "The worst would be Monte Carlo, which I've genuinely gotten as a suggestion here. Monte Carlo can be good for pinning down \"averages\" but is not necessarily always as good for pinning down \"extremes\".\n",
    "\n",
    "\n",
    "I will compromise by selecting some high \"resolution\" $N$ and simply systematically generating and analyzing all the possible discrete PMF's available at this resolution. This program is in essence combinatorial (factorial) so $N$ will be limited by how long I'm willing to let my notebook run.\n",
    "\n",
    "\n",
    "### Upper bound\n",
    "\n",
    "Note that Chebyshev's Inequality gives us a weak upper bound $k \\leq \\frac{1}{4^2} = \\frac{1}{16} = 0.0625$. Caveats are of course\n",
    "(a) This is not necessarily a strict i.e. attainable upper bound, and\n",
    "(b) Even if the bound is attainable, this tells us nothing about the distribution that attains it."
   ]
  },
  {
   "cell_type": "code",
   "execution_count": 1,
   "metadata": {},
   "outputs": [],
   "source": [
    "from typing import Tuple, Iterable, Generator\n",
    "import pandas as pd\n",
    "from functools import reduce\n",
    "import matplotlib.pyplot as plt\n",
    "import seaborn as sns; sns.set()\n",
    "\n",
    "PMF: type = pd.Series  # int index, float data\n",
    "\n",
    "ZSCORE: float = +4.00  # for pctl-kurt\n",
    "N: int = 15  # resolution (higher is better) of our PMF's.. 15 takes a day to run smh\n",
    "\n",
    "\n",
    "def gen_perms(len_: int=N, sum_: int=N) -> Generator[Tuple[int], None, None]:\n",
    "    \"\"\"\n",
    "    Generate permutations of Naturals $\\{0, 1, 2, ...\\}$ with length `len_` and sum `sum_`.\n",
    "    Each permutation is a tuple of the form `(n_0, n_1, n_2, ..., n_{len_-1})`.\n",
    "    \n",
    "    This is the \"stars and bars\" problem: How many ways can we sort\n",
    "    `sum_` indistinguishable balls into `len_` labelled urns?\n",
    "    \n",
    "    This is pretty general code, but we're going to keep it simple by fixing some large `N`,\n",
    "    and then analyzing `gen_perms(len_=N, sum_=N)`. In this usage, `N` represents our\n",
    "    \"resolution\": Ultimately, we'll normalize (elementwise) each permutation by `N` itself and\n",
    "    thereby yield a well-formed PMF. It's convenient to let `sum_ := len_` because\n",
    "    then we can perfectly encode a Uniform PMF as an $N$-tuple of 1's.\n",
    "    \n",
    "    You might notice that as `N` increases, so does the support of our PMF:\n",
    "    That's OK. The key is that larger `N` gives us more flexibility to create\n",
    "    finer and finer \"shapes\" for the PMF. It doesn't matter that in the process\n",
    "    of creating these shapes, we stretch out the support, because you can always\n",
    "    just imagine analyzing instead the PMF of the random variable $X/N$ i.e. our\n",
    "    random variable $X$ divided by our fixed resolution $N$, thereby shrinking the support\n",
    "    back down to the interval $[0, 1]$. Results will be equivalent for our purposes.\n",
    "    \n",
    "    Recursive generator inspired by https://stackoverflow.com/a/7748851.\n",
    "    We could have saved a bit of time by implementing a dynamic-programming\n",
    "    solution, but that would require a ton of space to store all the\n",
    "    permutations in memory. In this case, the space is the limiting resource,\n",
    "    because there are many many permutations we want to iterate over,\n",
    "    but generating any single permutation is actually reasonably fast\n",
    "    relative to the analysis we subsequently run on it.\n",
    "    \"\"\"\n",
    "    if len_ < 1:\n",
    "        raise ValueError(len_)\n",
    "    if sum_ < 0:\n",
    "        raise ValueError(sum_)\n",
    "    \n",
    "    # base case\n",
    "    if len_ == 1:\n",
    "        # only choice is singleton tuple with `sum_` as its only element\n",
    "        yield (sum_,)\n",
    "    # recursive case\n",
    "    else:\n",
    "        # iterate over choices for head (first) element i.e. $n_0$\n",
    "        # `reversed` because i want mass to start at LHS and flow rightward,\n",
    "        # e.g. first-choice PMF puts 100% weight on `0` not `len_-1`\n",
    "        for head in range(sum_, -1, -1):\n",
    "            \"\"\"\n",
    "            Now having fixed the head, recursively generate choices for\n",
    "            the tail (remaining) elements i.e. $n_1, ..., n_{len_-1}$.\n",
    "            Tail must be `len_ - 1` elements long, and sum to `sum_ - head`.\n",
    "            \"\"\"\n",
    "            for tail in gen_perms(len_=len_-1, sum_=sum_-head):\n",
    "                # concatenate tuples\n",
    "                yield (head,) + tail\n",
    "\n",
    "\n",
    "def get_pmf_from_perm(perm: Tuple[int]) -> PMF:\n",
    "    \"\"\"\n",
    "    Normalize a tuple of ints by its sum, creating a PMF.\n",
    "    \n",
    "    input\n",
    "    -----\n",
    "    perm: Tuple[int], a permutation of Naturals\n",
    "        e.g. `(3, 1, 0, 1)`.\n",
    "    \n",
    "    output\n",
    "    -----\n",
    "    PMF, a well-formed PMF\n",
    "        e.g. `pd.Series({0: 0.6, 1: 0.2, 2: 0.0, 3: 0.2})`.\n",
    "    \"\"\"\n",
    "    return pd.Series(perm) / sum(perm)\n",
    "\n",
    "\n",
    "def calc_mean(pmf: PMF) -> float:\n",
    "    # pmf-weighted average\n",
    "    return sum(pmf.index * pmf)\n",
    "\n",
    "\n",
    "def calc_std(pmf: PMF) -> float:\n",
    "    squared_centered_values = (pmf.index - calc_mean(pmf=pmf))**2\n",
    "    # again, just a pmf-weighted average\n",
    "    return sum(squared_centered_values * pmf)**0.5\n",
    "\n",
    "\n",
    "def calc_pctl(pmf: PMF, x: float=0) -> float:\n",
    "    return pmf.loc[:x].sum()\n",
    "\n",
    "\n",
    "def calc_pctl_kurt(pmf: PMF, zscore: float=ZSCORE) -> float:\n",
    "    mu = calc_mean(pmf=pmf)\n",
    "    sigma = calc_std(pmf=pmf)\n",
    "    pctl = calc_pctl(pmf=pmf, x=mu + zscore*sigma)\n",
    "    return 1 - pctl\n",
    "\n",
    "\n",
    "def get_pmf_and_pctl_kurt_from_perm(perm: Tuple[int]) -> Tuple[PMF, float]:\n",
    "    # turn permutation into a probability mass function\n",
    "    pmf = get_pmf_from_perm(perm=perm)\n",
    "    # calculate its percentile kurtosis\n",
    "    pctl_kurt = calc_pctl_kurt(pmf=pmf)\n",
    "    assert not pd.isnull(pctl_kurt), \\\n",
    "        (pmf, pctl_kurt)\n",
    "    return pmf, pctl_kurt\n",
    "\n",
    "\n",
    "def plot_pmf(pmf: PMF) -> None:\n",
    "    pmf.plot(kind=\"bar\", width=1.00, edgecolor=sns.color_palette()[0])\n",
    "    plt.xlim(left=pmf.index.min()-0.5, right=pmf.index.max()+0.5)\n",
    "    plt.ylim(bottom=0)\n",
    "    plt.xticks(ticks=pmf.index)\n",
    "    plt.title(f\"PMF (pctl-kurt: {calc_pctl_kurt(pmf=pmf):.2f})\")\n",
    "    plt.show()\n",
    "\n",
    "\n",
    "def main() -> Tuple[float, PMF]:\n",
    "    # \"do-while\" structure\n",
    "    perms = gen_perms()\n",
    "    # PMF and value associated w/ maximal pctl-kurt seen so far (\"do\" part)\n",
    "    argmax_pctl_kurt, max_pctl_kurt = get_pmf_and_pctl_kurt_from_perm(perm=next(perms))\n",
    "    # iterate through the remaining permutations (\"while\" part)\n",
    "    for perm in gen_perms():\n",
    "        pmf, pctl_kurt = get_pmf_and_pctl_kurt_from_perm(perm=perm)\n",
    "        if pctl_kurt > max_pctl_kurt:\n",
    "            max_pctl_kurt = pctl_kurt\n",
    "            argmax_pctl_kurt = pmf\n",
    "    plot_pmf(pmf=argmax_pctl_kurt)\n",
    "    return argmax_pctl_kurt, max_pctl_kurt\n",
    "\n",
    "\n",
    "if __name__ == \"__main__\":\n",
    "    # TODO(sparshsah): this takes forever. probably need to rent compute cycles for this.\n",
    "    # argmax_pctl_kurt, max_pctl_kurt = main()\n",
    "    pass"
   ]
  },
  {
   "cell_type": "markdown",
   "metadata": {},
   "source": [
    "## Appendix: Another Way That Will Not Work\n",
    "\n",
    "One of my dumber friends suggested that I simply take a zero-mean base PMF like\n",
    "`pd.Series({-9: 0.10, +1: 0.90})`\n",
    "which gives a hefty $90\\%$ chance of being positive,\n",
    "and scaling its width by some constant $c$, the argument being that\n",
    "its maximum would increase with $c$ whereas its $\\sigma$ would increase\n",
    "with $\\sqrt{c}$ and hence eventually its maximum value would \"overtake\"\n",
    "its $+4\\sigma$ threshold. At that point, there would necessarily be a $90\\%$\n",
    "chance of a $+4\\sigma$ event. Obviously this is wrong because\n",
    "scaling a PMF by $c$ also scales its $\\sigma$ by $c$:\n",
    "$\\sigma$ scales with $\\sqrt{c}$ when you _add together_ i.i.d. variables,\n",
    "not just scale up a single one.\n",
    "\n",
    "\n",
    "Not satisfied with one silly mistake for the night, before going to bed,\n",
    "he conceded that that wouldn't work, but suggested that I should simply\n",
    "then take instead the PMF of some sum of i.i.d. random variables\n",
    "drawn from his base PMF. Then, the $\\sigma$ would indeed scale with\n",
    "$\\sqrt{c}$. I am also dumb which is why we're friends, so I actually thought\n",
    "he'd solved it. I cracked a bottle of champagne and promised to buy him a beer\n",
    "when Covid ended.\n",
    "\n",
    "\n",
    "Then I tried it. It does not work. Adding together those i.i.d. random variables\n",
    "(as opposed to simply scaling up any individual one)\n",
    "compresses their standard deviation\n",
    "precisely because probability mass flows inward\n",
    "_away from the tails_ (toward zero, the mean)\n",
    "as the \"sampling distribution\" of their sample mean\n",
    "(which fixing $c$ is just a deterministically scaled-down version of their sum)\n",
    "converges to a Normal according to the Central Limit Theorem."
   ]
  },
  {
   "cell_type": "code",
   "execution_count": 2,
   "metadata": {},
   "outputs": [
    {
     "name": "stdout",
     "output_type": "stream",
     "text": [
      "Adding 1 i.i.d. r.v.'s from the base PMF:\n"
     ]
    },
    {
     "data": {
      "image/png": "[encoded data removed]",
      "text/plain": [
       "<Figure size 432x288 with 1 Axes>"
      ]
     },
     "metadata": {},
     "output_type": "display_data"
    },
    {
     "name": "stdout",
     "output_type": "stream",
     "text": [
      "Adding 2 i.i.d. r.v.'s from the base PMF:\n"
     ]
    },
    {
     "data": {
      "image/png": "[encoded data removed]",
      "text/plain": [
       "<Figure size 432x288 with 1 Axes>"
      ]
     },
     "metadata": {},
     "output_type": "display_data"
    },
    {
     "name": "stdout",
     "output_type": "stream",
     "text": [
      "Adding 3 i.i.d. r.v.'s from the base PMF:\n"
     ]
    },
    {
     "data": {
      "image/png": "[encoded data removed]",
      "text/plain": [
       "<Figure size 432x288 with 1 Axes>"
      ]
     },
     "metadata": {},
     "output_type": "display_data"
    },
    {
     "name": "stdout",
     "output_type": "stream",
     "text": [
      "Adding 4 i.i.d. r.v.'s from the base PMF:\n"
     ]
    },
    {
     "data": {
      "image/png": "[encoded data removed]",
      "text/plain": [
       "<Figure size 432x288 with 1 Axes>"
      ]
     },
     "metadata": {},
     "output_type": "display_data"
    },
    {
     "name": "stdout",
     "output_type": "stream",
     "text": [
      "Adding 5 i.i.d. r.v.'s from the base PMF:\n"
     ]
    },
    {
     "data": {
      "image/png": "[encoded data removed]",
      "text/plain": [
       "<Figure size 432x288 with 1 Axes>"
      ]
     },
     "metadata": {},
     "output_type": "display_data"
    },
    {
     "name": "stdout",
     "output_type": "stream",
     "text": [
      "Adding 6 i.i.d. r.v.'s from the base PMF:\n"
     ]
    },
    {
     "data": {
      "image/png": "[encoded data removed]",
      "text/plain": [
       "<Figure size 432x288 with 1 Axes>"
      ]
     },
     "metadata": {},
     "output_type": "display_data"
    },
    {
     "name": "stdout",
     "output_type": "stream",
     "text": [
      "Adding 7 i.i.d. r.v.'s from the base PMF:\n"
     ]
    },
    {
     "data": {
      "image/png": "[encoded data removed]",
      "text/plain": [
       "<Figure size 432x288 with 1 Axes>"
      ]
     },
     "metadata": {},
     "output_type": "display_data"
    },
    {
     "name": "stdout",
     "output_type": "stream",
     "text": [
      "Adding 8 i.i.d. r.v.'s from the base PMF:\n"
     ]
    },
    {
     "data": {
      "image/png": "[encoded data removed]",
      "text/plain": [
       "<Figure size 432x288 with 1 Axes>"
      ]
     },
     "metadata": {},
     "output_type": "display_data"
    },
    {
     "name": "stdout",
     "output_type": "stream",
     "text": [
      "Adding 32 i.i.d. r.v.'s from the base PMF:\n"
     ]
    },
    {
     "data": {
      "image/png": "[encoded data removed]",
      "text/plain": [
       "<Figure size 432x288 with 1 Axes>"
      ]
     },
     "metadata": {},
     "output_type": "display_data"
    },
    {
     "name": "stdout",
     "output_type": "stream",
     "text": [
      "Zoom in a bit to see that the PMF still has a long left tail, but it's begun to converge to Normal as CLT kicks in:\n"
     ]
    },
    {
     "data": {
      "image/png": "[encoded data removed]",
      "text/plain": [
       "<Figure size 432x288 with 1 Axes>"
      ]
     },
     "metadata": {},
     "output_type": "display_data"
    }
   ],
   "source": [
    "def _get_pmf_of_indep_sum(pmf_a: PMF, pmf_b: PMF) -> PMF:\n",
    "    \"\"\"Get the PMF of the sum of two independent random variables.\"\"\"\n",
    "    pmf = pd.Series(dtype=float)\n",
    "    for a, p_a in pmf_a.iteritems():\n",
    "        for b, p_b in pmf_b.iteritems():\n",
    "            pmf.loc[a + b] = pmf.get(key=a+b, default=0) + p_a*p_b\n",
    "    return pmf\n",
    "\n",
    "\n",
    "def get_pmf_of_indep_sum(pmfs: Iterable[PMF]) -> PMF:\n",
    "    \"\"\"Get the PMF of the sum of `len(pmfs)` independent random variables.\"\"\"\n",
    "    return reduce(_get_pmf_of_indep_sum, pmfs)\n",
    "\n",
    "\n",
    "base_pmf = pd.Series({-9: 0.10, +1: 0.90})\n",
    "\n",
    "pmf = pd.Series({0: 1.00})\n",
    "for c in range(1, 8+1):\n",
    "    print(f\"Adding {c} i.i.d. r.v.'s from the base PMF:\")\n",
    "    pmf = _get_pmf_of_indep_sum(pmf_a=pmf, pmf_b=base_pmf)\n",
    "    plot_pmf(pmf=pmf)\n",
    "\n",
    "c = 32\n",
    "print(f\"Adding {c} i.i.d. r.v.'s from the base PMF:\")\n",
    "pmf = get_pmf_of_indep_sum(pmfs=[base_pmf]*c)\n",
    "plot_pmf(pmf=pmf)\n",
    "\n",
    "print(\"Zoom in a bit to see that the PMF still has a long left tail, \" \\\n",
    "      \"but it's begun to converge to Normal as CLT kicks in:\")\n",
    "pmf.plot(kind=\"area\")\n",
    "plt.show()"
   ]
  }
 ],
 "metadata": {
  "kernelspec": {
   "display_name": "Python 3",
   "language": "python",
   "name": "python3"
  },
  "language_info": {
   "codemirror_mode": {
    "name": "ipython",
    "version": 3
   },
   "file_extension": ".py",
   "mimetype": "text/x-python",
   "name": "python",
   "nbconvert_exporter": "python",
   "pygments_lexer": "ipython3",
   "version": "3.8.5"
  }
 },
 "nbformat": 4,
 "nbformat_minor": 4
}
