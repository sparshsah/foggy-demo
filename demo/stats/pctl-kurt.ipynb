{
 "cells": [
  {
   "cell_type": "markdown",
   "metadata": {},
   "source": [
    "# A Quick-and-Dirty Attempt to Maximize \"Percentile Kurtosis\""
   ]
  },
  {
   "cell_type": "code",
   "execution_count": 1,
   "metadata": {},
   "outputs": [],
   "source": [
    "from typing import Tuple, Iterable, Generator, Optional\n",
    "import pandas as pd\n",
    "import numpy as np\n",
    "from functools import reduce\n",
    "import matplotlib.pyplot as plt\n",
    "import seaborn as sns; sns.set()"
   ]
  },
  {
   "cell_type": "markdown",
   "metadata": {},
   "source": [
    "\n",
    "## Motivation\n",
    "\n",
    "Suppose someone tells you the event $X=x$ is a \"$+4\\sigma$ event\" i.e. that\n",
    "its $z$-score $z(X=x) = +4$. That sounds statistically extreme!\n",
    "In other words, $\\Pr[X > x]$ is probably very low.\n",
    "Indeed, if $X$ is Normal, $X > x$ would be essentially impossible.\n",
    "\n",
    "\n",
    "I want to try to construct a \"pathological\" example: A distribution\n",
    "with finite mean $\\mu$ and standard deviation $\\sigma$\n",
    "where an event more extreme than $X = x := \\mu + 4\\sigma$\n",
    "(i.e. more than a $+4\\sigma$ event)\n",
    "is actually _very_ likely. This is hard, but I'll settle for\n",
    "making it _pretty_ likely.\n",
    "\n",
    "\n",
    "That is, I want to construct a distribution that is highly \"percentile-kurtotic\":\n",
    "A distribution where $\\Pr[X > \\mu + 4\\sigma]$ is maximal.\n",
    "\n",
    "\n",
    "## Definitions\n",
    "\n",
    "### $z$-score\n",
    "\n",
    "We define $z$-score\n",
    "$$z(X=x) := \\frac{x - \\mu(X)}{\\sigma(X)},$$\n",
    "\n",
    "with\n",
    "$$\\sigma^2(X) := \\int_{x=-\\infty}^{x=\\infty} (x - \\mu(X))^2 \\Pr[X=x] dx,$$\n",
    "\n",
    "where $X$ is a random variable and we abuse notation a bit to let $\\Pr[X=x]$\n",
    "represent its probability density function.\n",
    "(We're going to continue to be a bit hand-wavey with this,\n",
    "assuming some mild conditions e.g. PDF is continuous.)\n",
    "\n",
    "\n",
    "### percentile\n",
    "\n",
    "We define percentile (AKA cumulative distribution function) the usual way, as\n",
    "$$Pr[X \\leq x] := \\int_{t=-\\infty}^{t=x} \\Pr[X=t] dt.$$\n",
    "\n",
    "\n",
    "### \"percentile kurtosis\"\n",
    "\n",
    "Finally, as I alluded above, I'm going to define the \"percentile kurtosis\"\n",
    "(a made-up term) $k$ of a random variable as\n",
    "$$k(X) := 1 - \\Pr[X \\leq \\mu(X) + 4\\sigma(X)],$$\n",
    "\n",
    "the complement-percentile of a $+4\\sigma$ event.\n",
    "Maximizing $k$ is equivalent to minimizing the percentile.\n",
    "\n",
    "\n",
    "Notice that $k$ is location- and scale-invariant:\n",
    "$$k(a + bX) = k(X) \\qquad\\;\\forall\\; a,\\, b \\in \\mathbb{R}^2.$$\n",
    "\n",
    "\n",
    "## Background\n",
    "\n",
    "Using the definitions above, let's answer a couple quick questions.\n",
    "\n",
    "\n",
    "### Can $k$ be literally 0, i.e. $\\Pr[X \\leq \\mu + 4\\sigma] = 1$?\n",
    "\n",
    "Yes. Consider the Standard Uniform from 0 to 1.\n",
    "$$\\mu + 4\\sigma = 0.5 + 4\\sqrt{1/12} \\approx 1.65 > 1,$$\n",
    "\n",
    "so that a $4\\sigma$ event is not just \"essentially\" impossible,\n",
    "but \"literally\" impossible: It's literally outside the support\n",
    "of the distribution.\n",
    "\n",
    "This is not a very helpful example for our question, because\n",
    "we want to _maximize_ $k$. But it's just background.\n",
    "\n",
    "\n",
    "### Can $k$ be essentially but not literally 0?\n",
    "\n",
    "Yes, we already mentioned the example of the Standard Normal.\n",
    "\n",
    "\n",
    "### Can $k$ be some small but nontrivial positive value?\n",
    "\n",
    "Yes, the Standard $\\chi^2$ distribution has $\\mu = 1$ and $\\sigma = \\sqrt{2}$.\n",
    "In this case, $k = 1 - \\Pr[X \\leq \\mu + 4\\sigma]$ turns out to be about $0.01$.\n",
    "\n",
    "\n",
    "### Can $k$ be literally 1, i.e. $\\Pr[X \\leq \\mu + 4\\sigma] = 0$?\n",
    "\n",
    "No. This sounds silly but it's still worth convincing ourselves that\n",
    "it's truly impossible.\n",
    "\n",
    "\n",
    "Assume for simplicity that $\\mu = 0$ (this is WLOG, because if $\\mu \\neq 0$,\n",
    "we can just shift the entire distribution by $-\\mu$).\n",
    "\n",
    "\n",
    "Suppose to the contrary that it is possible, i.e. there is some\n",
    "random variable $X$ s.t. $\\Pr[X \\leq +4\\sigma] = 0$.\n",
    "Then,\n",
    "$$\\Pr[X = x] = 0 \\qquad\\;\\forall\\; x \\in (-\\infty,\\, +4\\sigma].$$\n",
    "\n",
    "Hence, we can collapse the expression for variance to\n",
    "$$\\sigma^2(X) = \\int_{x=+4\\sigma}^{x=+\\infty} x^2 \\Pr[X=x] dx.$$\n",
    "\n",
    "So we can think of the variance as a weighted average of\n",
    "squared values between $+4\\sigma$ and $+\\infty$.\n",
    "\n",
    "\n",
    "Standard deviation is of course nonnegative, so also\n",
    "$+4\\sigma \\geq 0$. So the smallest squared value\n",
    "in the weighted average is $(+4\\sigma)^2 = 16\\sigma^2$.\n",
    "Necessarily, then, the final weighted average must be\n",
    "at least $16\\sigma^2$. (Actually, it must be just a smidge more than $16\\sigma^2$,\n",
    "because we put zero density at exactly $X = +4\\sigma$,\n",
    "hence the smallest-possible squared value is $(+4\\sigma + \\varepsilon)^2$,\n",
    "and if we accounted for this smidge, we'd run into a contradiction\n",
    "immediately. However, I find it more illuminating at this step to draw\n",
    "the weaker conclusion, which is still true,\n",
    "but lets us run further before hitting a contradiction.)\n",
    "\n",
    "\n",
    "Hence we get\n",
    "$$\\sigma^2 \\geq 16\\sigma^2 \\implies \\sigma = 0.$$\n",
    "\n",
    "\n",
    "So supposing that $k$ can be $1$ for some distribution,\n",
    "that distribution must have zero variance.\n",
    "\n",
    "\n",
    "Well, according to a convention, the Dirac delta is the\n",
    "unique probability density function with zero variance\n",
    "(take this for granted, or if you insist on arguing, email me).\n",
    "It characterizes the density of a point mass.\n",
    "\n",
    "\n",
    "So let's try it out. Supposing $X$ is a Dirac-delta-distributed\n",
    "random variable (AKA a constant), we have\n",
    "$$\\Pr[X \\leq +4\\sigma] = \\Pr[X \\leq 0] = 1.$$\n",
    "\n",
    "\n",
    "Sadly, this failed. We had assumed the exact opposite:\n",
    "that $\\Pr[X \\leq 0] = 0$.\n",
    "Hence by contradition, we have Q.E.D.\n",
    "\n",
    "\n",
    "### What about the evil Cauchy (AKA Standard $t$) distribution?\n",
    "\n",
    "The immediate concern with the Cauchy\n",
    "(that indeed disqualifies it from consideration)\n",
    "is that its variance (or even its mean) is not finite.\n",
    "\n",
    "\n",
    "But it can be instructive to think about it.\n",
    "If we \"define\" $\\sigma(X) := \\infty$ (acceptable)\n",
    "and $\\mu(X) := 0$ (please don't haunt my dreams Prof Blitzstein)\n",
    "for a Cauchy random variable,\n",
    "then $\\mu(X) + 4\\sigma(X) = +\\infty$, which is the upper bound of support\n",
    "for the Cauchy, hence $k(X) = 0$, just like for the Standard Uniform.\n",
    "\n",
    "\n",
    "The issue here is that the fat tails of the Cauchy\n",
    "are _so_ fat, that they make its standard deviation infinite.\n",
    "At that point, it becomes impossible to push any probability mass\n",
    "at all beyond $\\mu+4\\sigma$, because there's no more number line\n",
    "remaining after that.\n",
    "\n",
    "\n",
    "## Chebyshev-Cantelli upper bound\n",
    "\n",
    "Obviously, the best would be to solve for the maximal $k$ analytically in closed form. Letting WLOG $\\mu = 0$, we want to solve\n",
    "$$\\max_{f \\in F} \\int_{x=\\ell}^{x=+\\infty} f(x)dx,$$\n",
    "\n",
    "where $F$ is the set of well-formed PDF's and\n",
    "$$\\ell := +4\\sqrt{\\int_{t=-\\infty}^{t=+\\infty} t^2 f(t)dt}.$$\n",
    "\n",
    "This doesn't look impossible but it certainly looks very boring and I haven't got any good ideas about how to begin.\n",
    "\n",
    "\n",
    "However, Chebyshev's Inequality gives us a weak (indeed, unattainable) upper bound $k(X) \\leq \\frac{1}{4^2} = \\frac{1}{16} = 0.0625$.\n",
    "\n",
    "Pf: By Adam's Law. WLOG assume $\\mu = 0$. Take $z_0 := 4$ as in our definition of $k(X)$. I suppress $(X)$ in e.g. $\\sigma(X)$ for clarity.\n",
    "$$\\begin{aligned}\n",
    "    \\sigma^2        &=    E[X^2] \\\\\n",
    "                    &=    E[X^2 \\mid |X| > z_0\\sigma] \\cdot \\Pr[|X| > z_0\\sigma] \\quad + \\quad E[X^2 \\mid |X| \\leq z_0\\sigma] \\cdot \\Pr[|X| \\leq z_0\\sigma] \\\\\n",
    "                    &\\geq E[X^2 \\mid |X| > z_0\\sigma] \\cdot \\Pr[|X| > z_0\\sigma] \\\\\n",
    "                    &>    (z_0\\sigma)^2 \\cdot \\Pr[|X| > z_0\\sigma] \\\\\n",
    "    \\frac{1}{z_0^2} &>    \\Pr[|X| > z_0\\sigma] \\\\\n",
    "    \\frac{1}{4^2}   &>    \\Pr[|X| > 4\\sigma] \\\\\n",
    "    \\frac{1}{16}    &>    \\Pr[|X| > 4\\sigma], \\\\\n",
    "\\end{aligned}$$\n",
    "Q.E.D.\n",
    "\n",
    "\n",
    "Further, the \"one-sided\" Chebyshev-Cantelli Inequality gives us the even tighter upper bound $k \\leq B := \\frac{1}{1 + z_0^2} = \\frac{1}{1+4^2} = \\frac{1}{17} \\approx 0.0588$, which I'm guessing we can similarly show is unattainable.\n",
    "\n",
    "\n",
    "## Solution (for general $z_0 > 0$)\n",
    "\n",
    "So fixing $z_0 > 0$, the best we can do is get arbitrarily close to the Chebyshev-Cantelli upper bound $B$. And in fact we can get there with the following zero-mean \"Generalized Trinoulli\" PMF, taking arbitrarily small $\\varepsilon > 0$:\n",
    "$$X = \\begin{cases}\n",
    "    -\\frac{1}{z_0} &\\qquad \\text{w.p.} \\quad (1 - B) (1 - \\varepsilon) \\\\\n",
    "    0              &\\qquad \\text{w.p.} \\quad \\varepsilon \\\\\n",
    "    z_0            &\\qquad \\text{w.p.} \\quad B (1 - \\varepsilon). \\\\\n",
    "\\end{cases}$$\n",
    "\n",
    "\n",
    "The mean $\\mu$ of this distribution is\n",
    "$$\n",
    "- \\frac{1}{z_0}\\left(\\frac{z_0^2}{1+z_0^2}\\right)(1-\\varepsilon)\n",
    "+ z_0\\left(\\frac{1}{1+z_0^2}\\right)(1-\\varepsilon)\n",
    "$$\n",
    "$$= -\\frac{z_0}{1+z_0^2}(1-\\varepsilon) + \\frac{z_0}{1+z_0^2}(1-\\varepsilon)$$\n",
    "$$= \\left( -\\frac{z_0}{1+z_0^2} + \\frac{z_0}{1+z_0^2} \\right) (1-\\varepsilon)$$\n",
    "$$=0.$$\n",
    "\n",
    "\n",
    "Its variance $\\sigma^2$ is\n",
    "$$\n",
    "\\frac{1}{z_0^2}\\left(\\frac{z_0^2}{1+z_0^2}\\right)(1-\\varepsilon)\n",
    "+ z_0^2\\left(\\frac{1}{1+z_0^2}\\right)(1-\\varepsilon)\n",
    "$$\n",
    "$$= \\frac{1}{1+z_0^2}(1-\\varepsilon) + \\frac{z_0^2}{1+z_0^2}(1-\\varepsilon)$$\n",
    "$$= \\left( \\frac{1}{1+z_0^2} + \\frac{z_0^2}{1+z_0^2} \\right) (1-\\varepsilon)$$\n",
    "$$=(1-\\varepsilon).$$\n",
    "\n",
    "Hence its standard deviation $\\sigma < 1$.\n",
    "\n",
    "\n",
    "Therefore, its maximum value $z_0$ is larger than $\\mu + z_0\\sigma = 0 + z_0\\sigma = z_0\\sigma$. It achieves its maximum with probability $B - \\varepsilon$, hence by making $\\varepsilon$ arbitrarily small we can get arbitrarily close to $B$. For our original problem specification, simply set $z_0 := +4$."
   ]
  },
  {
   "cell_type": "code",
   "execution_count": 2,
   "metadata": {},
   "outputs": [
    {
     "data": {
      "image/png": "[encoded data removed]",
      "text/plain": [
       "<Figure size 432x288 with 1 Axes>"
      ]
     },
     "metadata": {},
     "output_type": "display_data"
    },
    {
     "name": "stdout",
     "output_type": "stream",
     "text": [
      "We are -10.000000% away!\n",
      "\n"
     ]
    },
    {
     "data": {
      "image/png": "[encoded data removed]",
      "text/plain": [
       "<Figure size 432x288 with 1 Axes>"
      ]
     },
     "metadata": {},
     "output_type": "display_data"
    },
    {
     "name": "stdout",
     "output_type": "stream",
     "text": [
      "We are -5.000000% away!\n",
      "\n"
     ]
    },
    {
     "data": {
      "image/png": "[encoded data removed]",
      "text/plain": [
       "<Figure size 432x288 with 1 Axes>"
      ]
     },
     "metadata": {},
     "output_type": "display_data"
    },
    {
     "name": "stdout",
     "output_type": "stream",
     "text": [
      "We are -1.000000% away!\n",
      "\n"
     ]
    },
    {
     "data": {
      "image/png": "[encoded data removed]",
      "text/plain": [
       "<Figure size 432x288 with 1 Axes>"
      ]
     },
     "metadata": {},
     "output_type": "display_data"
    },
    {
     "name": "stdout",
     "output_type": "stream",
     "text": [
      "We are -0.000001% away!\n",
      "\n"
     ]
    }
   ],
   "source": [
    "PMF: type = pd.Series  # numeric index, float data\n",
    "\n",
    "EPSILON: float = 1e-8\n",
    "ZSCORE: float = +4.00  # for pctl-kurt\n",
    "CHEBYSHEV_CANTELLI_UBOUND: float = 1 / (1 + ZSCORE**2)\n",
    "\n",
    "\n",
    "def check_pmf(pmf: PMF) -> bool:\n",
    "    if not (pmf >= 0).all():\n",
    "        raise ValueError(f\"{pmf} not nonnegative!\")\n",
    "    if not np.isclose(pmf.sum(), 1):\n",
    "        raise ValueError(f\"{pmf} doesn't sum to unity!\")\n",
    "    return True\n",
    "\n",
    "\n",
    "def calc_mean(pmf: PMF) -> float:\n",
    "    # pmf-weighted average\n",
    "    return sum(pmf.index * pmf)\n",
    "\n",
    "\n",
    "def calc_std(pmf: PMF) -> float:\n",
    "    squared_centered_values = (pmf.index - calc_mean(pmf=pmf))**2\n",
    "    # again, just a pmf-weighted average\n",
    "    return sum(squared_centered_values * pmf)**0.5\n",
    "\n",
    "\n",
    "def calc_pctl(pmf: PMF, x: float=0) -> float:\n",
    "    return pmf.loc[:x].sum()\n",
    "\n",
    "\n",
    "def calc_pctl_kurt(pmf: PMF, zscore: float=ZSCORE) -> float:\n",
    "    mu = calc_mean(pmf=pmf)\n",
    "    sigma = calc_std(pmf=pmf)\n",
    "    pctl = calc_pctl(pmf=pmf, x=mu + zscore*sigma)\n",
    "    return 1 - pctl\n",
    "\n",
    "\n",
    "def plot_pmf(\n",
    "        pmf: PMF, width: float=1.00,\n",
    "        xlim_left: Optional[float]=None, xlim_right: Optional[float]=None\n",
    "    ) -> float:\n",
    "    check_pmf(pmf=pmf)\n",
    "    pctl_kurt = calc_pctl_kurt(pmf=pmf)\n",
    "    plt.bar(x=pmf.index, height=pmf.values, width=width)\n",
    "    plt.axhline(y=0, zorder=0, color=\"gray\")\n",
    "    plt.axvline(x=0, zorder=0, color=\"gray\")\n",
    "    plt.xticks(ticks=pmf.index)\n",
    "    plt.xlim(left=pmf.index.min()-0.5 if xlim_left is None else xlim_left,\n",
    "             right=pmf.index.max()+0.5 if xlim_right is None else xlim_right),\n",
    "    plt.ylim(bottom=0)\n",
    "    plt.title(f\"PMF (pctl-kurt: {pctl_kurt:.5f})\")\n",
    "    plt.show()\n",
    "    return pctl_kurt\n",
    "\n",
    "\n",
    "def solve(epsilon: float=EPSILON, legibility_scalar: float=10) -> float:\n",
    "    \"\"\"\n",
    "    Get (arbitrarily close) to the Chebyshev-Cantelli upper bound,\n",
    "    with a zero-mean \"Generalized Trinoulli\" PMF.\n",
    "    \"\"\"\n",
    "    pmf = pd.Series({\n",
    "        -1 / ZSCORE : (1 - CHEBYSHEV_CANTELLI_UBOUND) * (1 - epsilon),\n",
    "        0           : epsilon,\n",
    "        ZSCORE      : CHEBYSHEV_CANTELLI_UBOUND * (1 - epsilon),\n",
    "    })\n",
    "    pmf.index *= legibility_scalar\n",
    "    pctl_kurt = plot_pmf(pmf=pmf)\n",
    "    print(f\"We are {pctl_kurt / CHEBYSHEV_CANTELLI_UBOUND - 1:.6%} away!\\n\")\n",
    "    return pctl_kurt\n",
    "\n",
    "\n",
    "if __name__ == \"__main__\":\n",
    "    for epsilon in (1e-1, 5e-2, 1e-2, 1e-8):\n",
    "        solve(epsilon=epsilon)"
   ]
  },
  {
   "cell_type": "markdown",
   "metadata": {},
   "source": [
    "## Appendix: Some ways that will not work"
   ]
  },
  {
   "cell_type": "markdown",
   "metadata": {},
   "source": [
    "### A war on two fronts: Fighting Chebyshev-Cantelli _and_ the CLT\n",
    "\n",
    "One of my dumber friends suggested that I simply take a zero-mean base PMF like\n",
    "`pd.Series({-9: 0.10, +1: 0.90})`\n",
    "which gives a hefty $90\\%$ chance of being positive,\n",
    "and scaling its width by some constant $c$, the argument being that\n",
    "its maximum would increase with $c$ whereas its $\\sigma$ would increase\n",
    "with $\\sqrt{c}$ and hence eventually its maximum value would \"overtake\"\n",
    "its $+4\\sigma$ threshold. At that point, there would necessarily be a $90\\%$\n",
    "chance of a $+4\\sigma$ event. Obviously this is wrong because\n",
    "scaling a PMF by $c$ also scales its $\\sigma$ by $c$:\n",
    "$\\sigma$ scales with $\\sqrt{c}$ when you _add together_ i.i.d. variables,\n",
    "not just scale up a single one.\n",
    "\n",
    "\n",
    "Not satisfied with one silly mistake for the night, before going to bed,\n",
    "he conceded that that wouldn't work, but suggested that I should simply\n",
    "then take instead the PMF of the sum of $c$ i.i.d. random variables\n",
    "drawn from his base PMF. Then, the $\\sigma$ would indeed scale with\n",
    "$\\sqrt{c}$. I am also dumb which is why we're friends, so I actually thought\n",
    "he'd solved it. I cracked a bottle of champagne and promised to buy him a beer\n",
    "when Covid ended.\n",
    "\n",
    "\n",
    "Then I tried it. It does not work. Adding together those i.i.d. random variables\n",
    "(as opposed to simply scaling up any individual one)\n",
    "compresses their standard deviation\n",
    "precisely because probability mass flows inward\n",
    "_away from the tails_ (toward zero, the mean)\n",
    "as the \"sampling distribution\" of their sample mean\n",
    "(which fixing $c$ is just a deterministically scaled-down version of their sum)\n",
    "converges to a Normal according to the Central Limit Theorem."
   ]
  },
  {
   "cell_type": "code",
   "execution_count": 3,
   "metadata": {},
   "outputs": [
    {
     "name": "stdout",
     "output_type": "stream",
     "text": [
      "Adding 1 i.i.d. r.v.'s from the base PMF:\n"
     ]
    },
    {
     "data": {
      "image/png": "[encoded data removed]",
      "text/plain": [
       "<Figure size 432x288 with 1 Axes>"
      ]
     },
     "metadata": {},
     "output_type": "display_data"
    },
    {
     "name": "stdout",
     "output_type": "stream",
     "text": [
      "Adding 2 i.i.d. r.v.'s from the base PMF:\n"
     ]
    },
    {
     "data": {
      "image/png": "[encoded data removed]",
      "text/plain": [
       "<Figure size 432x288 with 1 Axes>"
      ]
     },
     "metadata": {},
     "output_type": "display_data"
    },
    {
     "name": "stdout",
     "output_type": "stream",
     "text": [
      "Adding 3 i.i.d. r.v.'s from the base PMF:\n"
     ]
    },
    {
     "data": {
      "image/png": "[encoded data removed]",
      "text/plain": [
       "<Figure size 432x288 with 1 Axes>"
      ]
     },
     "metadata": {},
     "output_type": "display_data"
    },
    {
     "name": "stdout",
     "output_type": "stream",
     "text": [
      "Adding 4 i.i.d. r.v.'s from the base PMF:\n"
     ]
    },
    {
     "data": {
      "image/png": "[encoded data removed]",
      "text/plain": [
       "<Figure size 432x288 with 1 Axes>"
      ]
     },
     "metadata": {},
     "output_type": "display_data"
    },
    {
     "name": "stdout",
     "output_type": "stream",
     "text": [
      "Adding 5 i.i.d. r.v.'s from the base PMF:\n"
     ]
    },
    {
     "data": {
      "image/png": "[encoded data removed]",
      "text/plain": [
       "<Figure size 432x288 with 1 Axes>"
      ]
     },
     "metadata": {},
     "output_type": "display_data"
    },
    {
     "name": "stdout",
     "output_type": "stream",
     "text": [
      "Adding 6 i.i.d. r.v.'s from the base PMF:\n"
     ]
    },
    {
     "data": {
      "image/png": "[encoded data removed]",
      "text/plain": [
       "<Figure size 432x288 with 1 Axes>"
      ]
     },
     "metadata": {},
     "output_type": "display_data"
    },
    {
     "name": "stdout",
     "output_type": "stream",
     "text": [
      "Adding 7 i.i.d. r.v.'s from the base PMF:\n"
     ]
    },
    {
     "data": {
      "image/png": "[encoded data removed]",
      "text/plain": [
       "<Figure size 432x288 with 1 Axes>"
      ]
     },
     "metadata": {},
     "output_type": "display_data"
    },
    {
     "name": "stdout",
     "output_type": "stream",
     "text": [
      "Adding 8 i.i.d. r.v.'s from the base PMF:\n"
     ]
    },
    {
     "data": {
      "image/png": "[encoded data removed]",
      "text/plain": [
       "<Figure size 432x288 with 1 Axes>"
      ]
     },
     "metadata": {},
     "output_type": "display_data"
    },
    {
     "name": "stdout",
     "output_type": "stream",
     "text": [
      "Adding 32 i.i.d. r.v.'s from the base PMF:\n"
     ]
    },
    {
     "data": {
      "image/png": "[encoded data removed]",
      "text/plain": [
       "<Figure size 432x288 with 1 Axes>"
      ]
     },
     "metadata": {},
     "output_type": "display_data"
    },
    {
     "name": "stdout",
     "output_type": "stream",
     "text": [
      "Zoom in to see that the PMF still has a long left tail,\n",
      "but it's begun to converge to Normal as CLT kicks in:\n"
     ]
    },
    {
     "data": {
      "image/png": "[encoded data removed]",
      "text/plain": [
       "<Figure size 432x288 with 1 Axes>"
      ]
     },
     "metadata": {},
     "output_type": "display_data"
    }
   ],
   "source": [
    "def _get_pmf_of_indep_sum(pmf_a: PMF, pmf_b: PMF) -> PMF:\n",
    "    \"\"\"Get the PMF of the sum of two independent random variables.\"\"\"\n",
    "    pmf = pd.Series(dtype=float)\n",
    "    for a, p_a in pmf_a.iteritems():\n",
    "        for b, p_b in pmf_b.iteritems():\n",
    "            pmf.loc[a + b] = pmf.get(key=a+b, default=0) + p_a*p_b\n",
    "    return pmf\n",
    "\n",
    "\n",
    "def get_pmf_of_indep_sum(pmfs: Iterable[PMF]) -> PMF:\n",
    "    \"\"\"Get the PMF of the sum of `len(pmfs)` independent random variables.\"\"\"\n",
    "    return reduce(_get_pmf_of_indep_sum, pmfs)\n",
    "\n",
    "\n",
    "def try_sums() -> None:\n",
    "    base_pmf = pd.Series({-9: 0.10, +1: 0.90})\n",
    "\n",
    "    pmf = pd.Series({0: 1.00})\n",
    "    for c in range(1, 8+1):\n",
    "        print(f\"Adding {c} i.i.d. r.v.'s from the base PMF:\")\n",
    "        pmf = _get_pmf_of_indep_sum(pmf_a=pmf, pmf_b=base_pmf)\n",
    "        plot_pmf(pmf=pmf)\n",
    "\n",
    "    c = 32\n",
    "    print(f\"Adding {c} i.i.d. r.v.'s from the base PMF:\")\n",
    "    pmf = get_pmf_of_indep_sum(pmfs=[base_pmf]*c)\n",
    "    plot_pmf(pmf=pmf, width=2)\n",
    "\n",
    "    print(\"Zoom in to see that the PMF still has a long left tail,\\n\" \\\n",
    "          \"but it's begun to converge to Normal as CLT kicks in:\")\n",
    "    plot_pmf(pmf=pmf, width=2, xlim_left=-50, xlim_right=+50)\n",
    "\n",
    "\n",
    "if __name__ == \"__main__\":\n",
    "    try_sums()"
   ]
  },
  {
   "cell_type": "markdown",
   "metadata": {},
   "source": [
    "### Brute force\n",
    "\n",
    "#### Stars and bars\n",
    "\n",
    "My initial compromise was to select some high \"resolution\" $N$ and simply systematically generate for analysis all the possible discrete PMF's available at this resolution (since we normalize by $N$ before analyzing, we can limit our search to \"PMF\"s that sum to $N$).\n",
    "\n",
    "\n",
    "In general, the number of permutations to search over is precisely the number of stars-and-bars [solutions](https://cp-algorithms.com/combinatorics/stars_and_bars.html) with $N$ balls and $N$ possibly-empty urns. This program's time complexity is therefore $O\\left(\\binom{2N - 1}{N}\\right)$. Even $N = 15$ took more than a day; at that rate $N = 16$ would have taken almost a week.\n",
    "\n",
    "\n",
    "#### Spectral analysis\n",
    "\n",
    "A good suggestion I had gotten here was a sort of \"spectral analysis\", choosing a normalized basis of $N_P$ parent PDF's and then systematically generating child PDF's as weighted averages of the parents, searching over grid of $N_C$ coefficients between $0$ and $1$ for each parent.\n",
    "\n",
    "\n",
    "The combinatorics here do not blow up nearly as fast: The number of permutations to search over is the number of stars-and-bars solutions with $N_C$ and $N_P$ possibly-empty urns. This program's time complexity is therefore $O\\left(\\binom{N_C + N_P - 1}{N_C}\\right) = O\\left({N_C}^{N_P}\\right)$. Suppose we choose $N_P = 8$ parent PDF's and $N_C = 21$ coefficients (I'm thinking of counting up from $0$ to $1$ in increments of $0.05$): We could hit \"Run\" before going to bed and the results would be ready in time for breakfast.\n",
    "\n",
    "\n",
    "However, I had already solved the problem by the time I got the suggestion, so I didn't bother implementing it. It does however raise the interesting question of what the $N_P = 8$ parent basis functions would have looked like."
   ]
  },
  {
   "cell_type": "code",
   "execution_count": 4,
   "metadata": {},
   "outputs": [],
   "source": [
    "N: int = 15  # resolution (higher is better) of our PMF's\n",
    "\n",
    "\n",
    "def gen_perms(len_: int=N, sum_: int=N) -> Generator[Tuple[int], None, None]:\n",
    "    \"\"\"\n",
    "    Generate permutations of Naturals $\\{0, 1, 2, ...\\}$\n",
    "    with length `len_` and sum `sum_`.\n",
    "    Each permutation is a tuple of the form\n",
    "    `(n_0, n_1, n_2, ..., n_{len_-1})`.\n",
    "    \n",
    "    This is the \"stars and bars\" problem:\n",
    "    How many ways can we sort\n",
    "    `sum_` indistinguishable balls into\n",
    "    `len_` labelled urns, possibly leaving some urns empty?\n",
    "    \n",
    "    This is pretty general code, but we're going to keep it simple by\n",
    "    fixing some large `N`,\n",
    "    and then analyzing `gen_perms(len_=N, sum_=N)`. In this usage,\n",
    "    `N` represents our\n",
    "    \"resolution\": Ultimately, we'll normalize (elementwise)\n",
    "    each permutation by `N` itself and\n",
    "    thereby yield a well-formed PMF. It's convenient to let\n",
    "    `sum_ := len_` because\n",
    "    then we can perfectly encode a Uniform PMF as an $N$-tuple of 1's.\n",
    "    \n",
    "    You might notice that as `N` increases, so does the support of our PMF:\n",
    "    That's OK. The key is that larger `N` gives us more flexibility to create\n",
    "    finer and finer \"shapes\" for the PMF. It doesn't matter that in the process\n",
    "    of creating these shapes, we stretch out the support, because you can\n",
    "    always just imagine analyzing instead the PMF of the random variable $X/N$\n",
    "    i.e. our random variable $X$ divided by our fixed resolution $N$,\n",
    "    thereby shrinking the support\n",
    "    back down to the interval $[0, 1]$. Results will be equivalent\n",
    "    for our purposes.\n",
    "    \n",
    "    Recursive generator inspired by https://stackoverflow.com/a/7748851.\n",
    "    We could have saved a bit of time by implementing a dynamic-programming\n",
    "    solution, but that would require a ton of space to store all the\n",
    "    permutations in memory. In this case, the space is the limiting resource,\n",
    "    because there are many many permutations we want to iterate over,\n",
    "    but generating any single permutation is actually reasonably fast\n",
    "    relative to the analysis we subsequently run on it.\n",
    "    \"\"\"\n",
    "    if len_ < 1:\n",
    "        raise ValueError(len_)\n",
    "    if sum_ < 0:\n",
    "        raise ValueError(sum_)\n",
    "    \n",
    "    # base case\n",
    "    if len_ == 1:\n",
    "        # only choice is singleton tuple with `sum_` as its only element\n",
    "        yield (sum_,)\n",
    "    # recursive case\n",
    "    else:\n",
    "        # iterate over choices for head (first) element i.e. $n_0$\n",
    "        # `reversed` because i want mass to start at LHS and flow rightward,\n",
    "        # e.g. first-choice PMF puts 100% weight on `0` not `len_-1`\n",
    "        for head in range(sum_, -1, -1):\n",
    "            \"\"\"\n",
    "            Now having fixed the head, recursively generate choices for\n",
    "            the tail (remaining) elements i.e. $n_1, ..., n_{len_-1}$.\n",
    "            Tail must be `len_ - 1` elements long, and sum to `sum_ - head`.\n",
    "            \"\"\"\n",
    "            for tail in gen_perms(len_=len_-1, sum_=sum_-head):\n",
    "                # concatenate tuples\n",
    "                yield (head,) + tail\n",
    "\n",
    "\n",
    "def get_pmf_from_perm(perm: Tuple[int]) -> PMF:\n",
    "    \"\"\"\n",
    "    Normalize a tuple of ints by its sum, creating a PMF.\n",
    "    \n",
    "    input\n",
    "    -----\n",
    "    perm: Tuple[int], a permutation of Naturals\n",
    "        e.g. `(3, 1, 0, 1)`.\n",
    "    \n",
    "    output\n",
    "    -----\n",
    "    PMF, a well-formed PMF\n",
    "        e.g. `pd.Series({0: 0.6, 1: 0.2, 2: 0.0, 3: 0.2})`.\n",
    "    \"\"\"\n",
    "    return pd.Series(perm) / sum(perm)\n",
    "\n",
    "\n",
    "def get_pmf_and_pctl_kurt_from_perm(perm: Tuple[int]) -> Tuple[PMF, float]:\n",
    "    # turn permutation into a probability mass function\n",
    "    pmf = get_pmf_from_perm(perm=perm)\n",
    "    # calculate its percentile kurtosis\n",
    "    pctl_kurt = calc_pctl_kurt(pmf=pmf)\n",
    "    assert not pd.isnull(pctl_kurt), \\\n",
    "        (pmf, pctl_kurt)\n",
    "    return pmf, pctl_kurt\n",
    "\n",
    "\n",
    "def try_perms() -> Tuple[float, PMF]:\n",
    "    \"\"\"\n",
    "    Loop over permutations, selecting the winner based on\n",
    "    highest percentile kurtosis.\n",
    "    \"\"\"\n",
    "    # \"do-while\" structure\n",
    "    perms = gen_perms()\n",
    "    # PMF and value associated w/ maximal pctl-kurt seen so far (\"do\" part)\n",
    "    argmax_pctl_kurt, max_pctl_kurt = \\\n",
    "        get_pmf_and_pctl_kurt_from_perm(perm=next(perms))\n",
    "    # iterate through the remaining permutations (\"while\" part)\n",
    "    for perm in gen_perms():\n",
    "        pmf, pctl_kurt = get_pmf_and_pctl_kurt_from_perm(perm=perm)\n",
    "        if pctl_kurt > max_pctl_kurt:\n",
    "            max_pctl_kurt = pctl_kurt\n",
    "            argmax_pctl_kurt = pmf\n",
    "    plot_pmf(pmf=argmax_pctl_kurt)\n",
    "    return argmax_pctl_kurt, max_pctl_kurt\n",
    "\n",
    "\n",
    "if __name__ == \"__main__\":\n",
    "    # try_perms()  # takes forever\n",
    "    pass"
   ]
  },
  {
   "cell_type": "markdown",
   "metadata": {},
   "source": [
    "### Playing the lottery\n",
    "\n",
    "The worst would be Monte Carlo, which I've genuinely gotten as a suggestion here. Monte Carlo can be good for pinning down \"averages\" but is not necessarily always as good for pinning down \"extremes\". I'm not even going to dignify this suggestion with an implementation."
   ]
  }
 ],
 "metadata": {
  "kernelspec": {
   "display_name": "Python 3",
   "language": "python",
   "name": "python3"
  },
  "language_info": {
   "codemirror_mode": {
    "name": "ipython",
    "version": 3
   },
   "file_extension": ".py",
   "mimetype": "text/x-python",
   "name": "python",
   "nbconvert_exporter": "python",
   "pygments_lexer": "ipython3",
   "version": "3.8.5"
  }
 },
 "nbformat": 4,
 "nbformat_minor": 4
}
