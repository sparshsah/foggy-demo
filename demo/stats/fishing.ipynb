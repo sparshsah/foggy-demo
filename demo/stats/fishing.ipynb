{
 "cells": [
  {
   "cell_type": "markdown",
   "id": "47068105-2fb6-483c-b964-355b335f115e",
   "metadata": {},
   "source": [
    "_FISHING_\n",
    "\n",
    "[@sparshsah](https://github.com/sparshsah)\n",
    "\n",
    "CONTEXT:\n",
    "\n",
    "We have a population afflicted with some medical condition.\n",
    "We want to investigate whether a drug $D$ improves survivorship.\n",
    "We want to run the investigation at the $\\alpha = 0.05$ significance level,\n",
    "i.e. if the drug does not improve survival probability,\n",
    "we want only a 5\\% chance of a false positive.\n",
    "\n",
    "We _know_ that without the drug, survival probability is exactly $0.30$, i.e.\n",
    "letting $D_s$ be a boolean indicator of whether patient $s$ is administered the drug\n",
    "and $y_s$ be a boolean indicator of whether patient $s$ survives,\n",
    "\n",
    "$$\n",
    "    \\Pr[y_s = 1 \\mid D_s = 0] = 0.30\n",
    ".$$\n",
    "\n",
    "Although experimental design is a perfectly reasonable thing to scrutinize in real life,\n",
    "that is not the point here, so in the following,\n",
    "assume that all experimental-design considerations are airtight:\n",
    "* Each investigation is double-blind,\n",
    "* The participants are truly randomly selected,\n",
    "* The control group administered a placebo achieved exactly\n",
    "    $\\hat{\\Pr}[y_s = 1 \\mid D_s = 0] = 0.30$,\n",
    "* The Normal approximation to the Binomial is good enough (so we can use $1.645$ as the critical value of the z-score as our test statistic),\n",
    "* Etc.\n",
    "\n",
    "We will examine several investigators' proposed experiments, and determine which ones are valid, i.e. which ones respect the $\\alpha = 0.05$ probability of a false positive under the null hypothesis that the drug has no treatment effect, i.e.\n",
    "\n",
    "$$\n",
    "    H_0:\n",
    "    \\Pr[y_s = 1 \\mid D_s = 1] = \\Pr[y_s = 1 \\mid D_s = 0] = 0.30\n",
    ".$$"
   ]
  },
  {
   "cell_type": "code",
   "execution_count": 1,
   "id": "144ce07d-9931-4fa8-b176-e115ecc5fe13",
   "metadata": {
    "tags": []
   },
   "outputs": [],
   "source": [
    "from typing import Final\n",
    "\n",
    "import numpy as np\n",
    "from scipy import stats"
   ]
  },
  {
   "cell_type": "code",
   "execution_count": null,
   "id": "28ef1ba9-4a0d-433d-b98e-c3e50d10b646",
   "metadata": {},
   "outputs": [],
   "source": []
  }
 ],
 "metadata": {
  "kernelspec": {
   "display_name": "Python 3 (ipykernel)",
   "language": "python",
   "name": "python3"
  },
  "language_info": {
   "codemirror_mode": {
    "name": "ipython",
    "version": 3
   },
   "file_extension": ".py",
   "mimetype": "text/x-python",
   "name": "python",
   "nbconvert_exporter": "python",
   "pygments_lexer": "ipython3",
   "version": "3.10.12"
  }
 },
 "nbformat": 4,
 "nbformat_minor": 5
}
