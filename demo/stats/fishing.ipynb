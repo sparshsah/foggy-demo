{
 "cells": [
  {
   "cell_type": "markdown",
   "id": "47068105-2fb6-483c-b964-355b335f115e",
   "metadata": {},
   "source": [
    "FISHING\n",
    "\n",
    "[@sparshsah](https://github.com/sparshsah)\n",
    "\n",
    "Any errors my own.\n",
    "\n",
    "# Context\n",
    "\n",
    "We have a population afflicted with some medical condition.\n",
    "We want to investigate whether a drug $D$ improves survivorship.\n",
    "We want to run the investigation at the $\\alpha = 0.05$ significance level,\n",
    "i.e. if the drug does not improve survival probability,\n",
    "we want only a 5\\% chance of a false positive.\n",
    "\n",
    "We _know_ that without the drug, survival probability is exactly $0.30$, i.e.\n",
    "letting $D_s$ be a boolean indicator of whether patient $s$ is administered the drug\n",
    "and $y_s$ be a boolean indicator of whether patient $s$ survives,\n",
    "\n",
    "$$\n",
    "    \\Pr[y_s = 1 \\mid D_s = 0] = 0.30\n",
    ".$$\n",
    "\n",
    "Although experimental design is a perfectly reasonable thing to scrutinize in real life,\n",
    "that is not the point here, so in the following,\n",
    "assume that all experimental-design considerations are airtight:\n",
    "* Each investigation is double-blind,\n",
    "* The participants are truly randomly selected,\n",
    "* The control group administered a placebo achieved exactly\n",
    "    $\\hat{\\Pr}[y_s = 1 \\mid D_s = 0] = 0.30$,\n",
    "* The Normal approximation to the Binomial is good enough (so we can use $1.65$ as the critical value of the z-score as our test statistic),\n",
    "* Etc.\n",
    "\n",
    "We will examine several investigators' proposed methods, and determine which ones are invalid, i.e. which ones do not respect the $\\alpha = 0.05$ probability of a false positive under the null hypothesis that the drug has no treatment effect:\n",
    "\n",
    "$$\n",
    "    H_0:\n",
    "    \\Pr[y_s = 1 \\mid D_s = 1] = \\Pr[y_s = 1 \\mid D_s = 0] = 0.30\n",
    ".$$\n",
    "\n",
    "To determine invalidity (or lack of evidence thereof), we will assume that the null is true and\n",
    "simulate each investigator's investigation 10,000 times,\n",
    "then hypothesis-test whether his or her proposed method yielded a $p$-value way different than the desired 5\\%. So each investigator will run inner t-tests to determine whether the drug works, and then we will, independent of that, run our own meta-t-tests to determine whether his or her method was invalid. In(feren)ception!\n",
    "\n",
    "Note: I'm going to say \"t-test\" a lot below,\n",
    "even though really, because we're assuming convergence of\n",
    "the sampling distribution of the sample proportion to the Normal\n",
    "and therefore using a z-score as our test-statistic, it's like a asymptotic \"large-sample Wald test\".\n",
    "But \"large-sample Wald test\" sounds unfamiliar while \"t-test\" is taught in high-school stats classes."
   ]
  },
  {
   "cell_type": "code",
   "execution_count": 209,
   "id": "144ce07d-9931-4fa8-b176-e115ecc5fe13",
   "metadata": {
    "tags": []
   },
   "outputs": [],
   "source": [
    "# very proud of how minimal this dependency is...\n",
    "from typing import Final\n",
    "import numpy as np"
   ]
  },
  {
   "cell_type": "code",
   "execution_count": 52,
   "id": "eb413fa5-e854-4c61-a666-e99c66ddcb5c",
   "metadata": {
    "tags": []
   },
   "outputs": [],
   "source": [
    "def get_bernoulli_stderr(\n",
    "    p: float = 0.50,\n",
    "    n: float = 100,\n",
    ") -> float:\n",
    "    \"\"\"Stderr of sample proportion of successes observed among `n` Bernoulli draws,\n",
    "    assuming that each draw has i.i.d. ground-truth probability of success = `p`.\n",
    "\n",
    "    Remember:\n",
    "        * Bernoulli variance is `pq`.\n",
    "        * When you add `n` independent random variables, their variances add up.\n",
    "        * When you scale a random variable by `c`, its variance scales by `c^2`.\n",
    "    So, when calculating the sample mean:\n",
    "        * You add `n` Bernoulli indicators, so the variance of the sum is npq.\n",
    "        * You then divide by `n` to get the fraction of successes, so the variance\n",
    "             of that guy becomes npq/n = pq/n.\n",
    "        * And the standard error (standard deviation of the sampling distribution\n",
    "             of the sample mean) is of course just the square root of the variance.\n",
    "    \"\"\"\n",
    "    return np.sqrt(p * (1-p) / n)\n",
    "\n",
    "\n",
    "def _get_rng(name: str = \"alice\") -> np.random._generator.Generator:\n",
    "    seed = sum(ord(letter) for letter in name)\n",
    "    return np.random.default_rng(seed=seed)"
   ]
  },
  {
   "cell_type": "markdown",
   "id": "869449a1-8c17-4290-9459-c1a302423979",
   "metadata": {},
   "source": [
    "## Investigation setup"
   ]
  },
  {
   "cell_type": "code",
   "execution_count": 75,
   "id": "4be46cdc-24d2-47b5-abf5-01c43d134c70",
   "metadata": {
    "tags": []
   },
   "outputs": [],
   "source": [
    "DESIRED_PROB_FALSE_POSITIVE: Final[float] = 0.05\n",
    "# one-tailed 5% level\n",
    "CHOSEN_CRITICAL_Z_SCORE: Final[float] = 1.65\n",
    "\n",
    "GROUND_TRUTH_SURVIVAL_PROB_GIVEN_NO_DRUG: Final[float] = 0.30\n",
    "\n",
    "NUM_PATIENTS: Final[int] = 1_000\n",
    "\n",
    "\n",
    "def do_trials_conclude_drug_works(\n",
    "    y: np.ndarray[np.ndarray[bool]],\n",
    "    chosen_critical_z_score: float = CHOSEN_CRITICAL_Z_SCORE,\n",
    "    ground_truth_survival_prob_given_no_drug: float = GROUND_TRUTH_SURVIVAL_PROB_GIVEN_NO_DRUG,\n",
    ") -> np.ndarray[bool]:\n",
    "    \"\"\"Decide whether this investigator's trials yielded a positive result,\n",
    "    i.e. concluded that the drug improves survivorship.\n",
    "\n",
    "    Args:\n",
    "        y: np.ndarray[np.ndarray[bool]], a boolean matrix of dimension\n",
    "            `nsims X n_patients`, with entry [n,s] indicating whether,\n",
    "            during simulation number `n`, patient number `s` survived\n",
    "            after taking the drug.\n",
    "        chosen_critical_z_score: float = 1.65, the critical value\n",
    "            that the investigator will compare his or her observed test statistic against.\n",
    "            In practice, this means that, after a given simulation,\n",
    "            the investigator will perform a t-test (or really,\n",
    "            because he or she is using z-score as the test statistic,\n",
    "            an asymptotic large-sample Wald test)\n",
    "            by comparing the observed survivorship against the\n",
    "            control survivorship of 0.30,\n",
    "            and decide whether the t-stat is larger than 1.65.\n",
    "            If it is, he or she will conclude that there is statistically-significant\n",
    "            evidence against the hypothesis that the drug had no effect,\n",
    "            and thus conclude that it worked.\n",
    "        ground_truth_survival_prob_given_no_drug: float = 0.30,\n",
    "            We need something to compare the observed survivorship against.\n",
    "            If the survivorship amongst people who weren't given the drug\n",
    "            is 0%, and the survivorship amongst our participants is 5%,\n",
    "            that's at least better than nothing.\n",
    "            But if the survivorship amongst people who weren't given the drug\n",
    "            is 80%, and the survivorship amongst our patients is 75% or even 81%,\n",
    "            depending on the sample size, that isn't really anything to write home about.\n",
    "\n",
    "    Returns:\n",
    "        np.ndarray[bool], a boolean vector of length `nsims`\n",
    "        indicating whether, during simulation number `n`,\n",
    "        the investigator concluded that the drug worked.\n",
    "    \"\"\"\n",
    "    observed_survival_prob_given_drug = y.mean(axis=1)\n",
    "    nsims = y.shape[0]\n",
    "    n_patients = y.shape[1]\n",
    "    stderr = get_bernoulli_stderr(\n",
    "        p=ground_truth_survival_prob_given_no_drug,\n",
    "        n=n_patients,\n",
    "    )\n",
    "    z = (observed_survival_prob_given_drug - ground_truth_survival_prob_given_no_drug) / stderr\n",
    "    flag = z > chosen_critical_z_score\n",
    "    assert flag.shape == (nsims,), (flag.shape, y.shape)\n",
    "    return flag"
   ]
  },
  {
   "cell_type": "markdown",
   "id": "469a9279-edcb-4269-8e8a-b9761e2ed059",
   "metadata": {},
   "source": [
    "## Simulation setup"
   ]
  },
  {
   "cell_type": "code",
   "execution_count": 192,
   "id": "68390c78-56c7-4e1c-a794-575743e54e74",
   "metadata": {
    "tags": []
   },
   "outputs": [],
   "source": [
    "_NSIMS: Final[int] = 10_000\n",
    "# Different than \"chosen critical z-score\" above!\n",
    "# Here, we want a two-sided test, because we'd like to catch\n",
    "# an alpha that is _either_ lower or higher than the desired alpha.\n",
    "# It's set really low because I want to be _really_, _really_\n",
    "# sure that a proposed method is invalid.\n",
    "# _DESIRED_PROB_FALSE_POSITIVE: Final[float] = 0.0001\n",
    "# We never actually use `_DESIRED_PROB_FALSE_POSITIVE`,\n",
    "# it's just the basis for this critical value:\n",
    "# https://www.criticalvaluecalculator.com/\n",
    "_CRITICAL_Z_SCORE: Final[float] = 3.89\n",
    "\n",
    "\n",
    "def is_evidence_against_validity_significant(\n",
    "    observed_indicator_false_positive: np.ndarray[bool],\n",
    "    desired_prob_false_positive: float = DESIRED_PROB_FALSE_POSITIVE,\n",
    ") -> None:\n",
    "    \"\"\"Determine whether we have statistically-significant evidence\n",
    "    to reject the hypothesis that this investigator's proposed method\n",
    "    respects the alpha = `DESIRED_PROB_FALSE_POSITIVE` significance level.\n",
    "\n",
    "    Args:\n",
    "        observed_indicator_false_positive: np.ndarray[bool], a boolean vector\n",
    "            of length `nsims` indicating whether, in simulation number `n`,\n",
    "            the investigator's method yielded a positive result\n",
    "            allowing them to conclude that the drug works.\n",
    "            Of course, we've deliberately set this up assuming that\n",
    "            the drug does NOT work, so each `True` in this array is a false positive.\n",
    "        desired_prob_false_positive: float = 5%,\n",
    "            In order to determine whether this investigator's proposed method\n",
    "            is valid, we're going to determine whether the observed frequency\n",
    "            of false positives was \"close enough\" to the desired alpha=5% significance level.\n",
    "            Now we could of course just eyeball it to determine whether it's close enough --\n",
    "            But can we really determine whether an observed false-positive frequency\n",
    "            of 5.3% is plausibly \"close enough\" to 5%? Or is it too far away?\n",
    "            Well, let's do another meta-t-test to determine whether it's too far away\n",
    "            to be plausible that it's close enough!\n",
    "\n",
    "    Returns:\n",
    "        Nothing. I just print the results. I know, I know. Sue me.\n",
    "    \"\"\"\n",
    "    observed_prob_false_positive = observed_indicator_false_positive.mean()\n",
    "    nsims = len(observed_indicator_false_positive)\n",
    "    stderr = get_bernoulli_stderr(\n",
    "        p=desired_prob_false_positive,\n",
    "        n=nsims,\n",
    "    )\n",
    "    z = (observed_prob_false_positive - desired_prob_false_positive) / stderr\n",
    "    flag = abs(z) > _CRITICAL_Z_SCORE\n",
    "    assert type(flag) == np.bool_, flag\n",
    "    msg = (\n",
    "        \"In this investigative method,\"\n",
    "        + f\"\\nWe observed a {observed_prob_false_positive :.4f} probability of false positives,\"\n",
    "        + f\"\\nAgainst an expectation of {desired_prob_false_positive :.2f}.\"\n",
    "        + f\"\\nGiven that we ran {nsims :,} simulations,\"\n",
    "        + f\"\\nThe Bernoulli standard error is {stderr :.4f},\"\n",
    "        + f\"\\nYielding a z-score of {z :.2f} \"\n",
    "        + f\"\\nAgainst a critical value of {_CRITICAL_Z_SCORE :.2f}.\"\n",
    "        + f\"\"\"\\nTherefore, we {\"DO\" if flag else \"DON'T\"} have statistically-significant evidence\"\"\"\n",
    "        + f\"\\nAgainst the validity of this investigative method at\"\n",
    "        + f\"\\nthe alpha = {_DESIRED_PROB_FALSE_POSITIVE :.2f} level.\"\n",
    "    )\n",
    "    print(msg)\n",
    "    return"
   ]
  },
  {
   "cell_type": "markdown",
   "id": "5d713af4-7e93-40c0-9bf8-cb5ab9207154",
   "metadata": {},
   "source": [
    "# Proposed investigative methods"
   ]
  },
  {
   "cell_type": "markdown",
   "id": "2948d800-0086-43d5-8af7-8fbe5d7c3492",
   "metadata": {},
   "source": [
    "## The Alices\n",
    "\n",
    "Each of Allie and Alicia independently proposes administering the drug to 1,000 patients and then t-testing for significance."
   ]
  },
  {
   "cell_type": "code",
   "execution_count": 193,
   "id": "097589db-be90-4a04-bc44-54712a2db472",
   "metadata": {
    "tags": []
   },
   "outputs": [],
   "source": [
    "rng = _get_rng(name=\"alice\")"
   ]
  },
  {
   "cell_type": "code",
   "execution_count": 194,
   "id": "5348db61-e301-4acc-8aec-669c986013f7",
   "metadata": {
    "tags": []
   },
   "outputs": [
    {
     "name": "stdout",
     "output_type": "stream",
     "text": [
      "In this investigative method,\n",
      "We observed a 0.0524 probability of false positives,\n",
      "Against an expectation of 0.05.\n",
      "Given that we ran 10,000 simulations,\n",
      "The Bernoulli standard error is 0.0022,\n",
      "Yielding a z-score of 1.10 \n",
      "Against a critical value of 3.89.\n",
      "Therefore, we DON'T have statistically-significant evidence\n",
      "Against the validity of this investigative method at\n",
      "the alpha = 0.05 level.\n"
     ]
    }
   ],
   "source": [
    "y_allie = rng.choice(\n",
    "    [0, 1],\n",
    "    p=[1-GROUND_TRUTH_SURVIVAL_PROB_GIVEN_NO_DRUG, GROUND_TRUTH_SURVIVAL_PROB_GIVEN_NO_DRUG],\n",
    "    size=[_NSIMS, NUM_PATIENTS],\n",
    ")\n",
    "observed_indicator_false_positive = do_trials_conclude_drug_works(y=y_allie)\n",
    "is_evidence_against_validity_significant(\n",
    "    observed_indicator_false_positive=observed_indicator_false_positive\n",
    ")"
   ]
  },
  {
   "cell_type": "code",
   "execution_count": 195,
   "id": "1a5378d9-2e7c-41b1-95ee-53b55af1196e",
   "metadata": {
    "tags": []
   },
   "outputs": [
    {
     "name": "stdout",
     "output_type": "stream",
     "text": [
      "In this investigative method,\n",
      "We observed a 0.0551 probability of false positives,\n",
      "Against an expectation of 0.05.\n",
      "Given that we ran 10,000 simulations,\n",
      "The Bernoulli standard error is 0.0022,\n",
      "Yielding a z-score of 2.34 \n",
      "Against a critical value of 3.89.\n",
      "Therefore, we DON'T have statistically-significant evidence\n",
      "Against the validity of this investigative method at\n",
      "the alpha = 0.05 level.\n"
     ]
    }
   ],
   "source": [
    "y_alicia = rng.choice(\n",
    "    [0, 1],\n",
    "    p=[1-GROUND_TRUTH_SURVIVAL_PROB_GIVEN_NO_DRUG, GROUND_TRUTH_SURVIVAL_PROB_GIVEN_NO_DRUG],\n",
    "    size=[_NSIMS, NUM_PATIENTS],\n",
    ")\n",
    "observed_indicator_false_positive = do_trials_conclude_drug_works(y=y_alicia)\n",
    "is_evidence_against_validity_significant(\n",
    "    observed_indicator_false_positive=observed_indicator_false_positive\n",
    ")"
   ]
  },
  {
   "cell_type": "markdown",
   "id": "e750a669-278e-436e-be3d-562c93b38856",
   "metadata": {},
   "source": [
    "Good. This is the archetype of a valid experiment."
   ]
  },
  {
   "cell_type": "markdown",
   "id": "fa1aae0d-9ee2-4325-8c89-47c241f37894",
   "metadata": {},
   "source": [
    "## The Bobs\n",
    "\n",
    "The Bobs (Bobby and Robert), observe that Allie's results were null.\n",
    "However, they discover that the observed survival probabilities differed among men and women.\n",
    "Gender can obviously a medically-important factor in treatment effectiveness.\n",
    "So, they split Allie's data up along that dimension to analyze separately."
   ]
  },
  {
   "cell_type": "code",
   "execution_count": 197,
   "id": "17d1fe46-3fbe-438f-a1ee-4535c5a6b0ed",
   "metadata": {
    "tags": []
   },
   "outputs": [],
   "source": [
    "# filter to just the simulations where there was a null result for the general populace\n",
    "observed_indicator_false_positive_allie = do_trials_conclude_drug_works(y=y_allie)\n",
    "is_null_result = ~observed_indicator_false_positive_allie\n",
    "y_allie_where_null = y_allie[is_null_result, :]\n",
    "# free\n",
    "del observed_indicator_false_positive_allie, is_null_result"
   ]
  },
  {
   "cell_type": "code",
   "execution_count": 198,
   "id": "b4f12fad-1875-40ca-bd81-bc06c7d2668d",
   "metadata": {
    "tags": []
   },
   "outputs": [],
   "source": [
    "# we conditioned on null results -- so check that we did this correctly,\n",
    "# i.e. that we have ZERO false positives\n",
    "observed_indicator_false_positive = do_trials_conclude_drug_works(y=y_allie_where_null)\n",
    "assert not observed_indicator_false_positive.any(), observed_indicator_false_positive.mean()"
   ]
  },
  {
   "cell_type": "code",
   "execution_count": 199,
   "id": "a48839d0-b861-4be6-bc19-cf6d139e8b49",
   "metadata": {
    "tags": []
   },
   "outputs": [],
   "source": [
    "# Note the gender of each participant, evenly split between men and women.\n",
    "# We'll just re-use this across the trials, it's not a random outcome anyway,\n",
    "# it's just an irrelevant predictor.\n",
    "rng = _get_rng(name=\"bob\")\n",
    "g = rng.choice([False, True], size=NUM_PATIENTS)\n",
    "y_allie_where_null_among_men = y_allie_where_null[:, ~g]\n",
    "y_allie_where_null_among_women = y_allie_where_null[:, g]\n",
    "# free\n",
    "del g"
   ]
  },
  {
   "cell_type": "code",
   "execution_count": 200,
   "id": "b9e2de72-55b3-420e-b5a3-767d3fff8c8e",
   "metadata": {
    "tags": []
   },
   "outputs": [],
   "source": [
    "# we conditioned on null results -- so check that we did this correctly,\n",
    "# i.e. that we have ZERO false positives\n",
    "y_allie_where_null_among_men_and_women = np.concatenate(\n",
    "    [y_allie_where_null_among_men, y_allie_where_null_among_women],\n",
    "    axis=1,\n",
    ")\n",
    "assert y_allie_where_null_among_men_and_women.shape == y_allie_where_null.shape\n",
    "observed_indicator_false_positive = do_trials_conclude_drug_works(\n",
    "    y=y_allie_where_null_among_men_and_women\n",
    ")\n",
    "assert not observed_indicator_false_positive.any(), observed_indicator_false_positive.mean()\n",
    "# free\n",
    "del y_allie_where_null_among_men_and_women"
   ]
  },
  {
   "cell_type": "markdown",
   "id": "fd345c53-4391-4d31-a8a3-8c29805d8aa5",
   "metadata": {},
   "source": [
    "### Bobby\n",
    "\n",
    "Bobby wants to know whether the drug can at least help one or the other gender."
   ]
  },
  {
   "cell_type": "code",
   "execution_count": 201,
   "id": "1914c5b7-2af9-4a1f-9f93-91d32aacb6f9",
   "metadata": {
    "tags": []
   },
   "outputs": [
    {
     "name": "stdout",
     "output_type": "stream",
     "text": [
      "In this investigative method,\n",
      "We observed a 0.0700 probability of false positives,\n",
      "Against an expectation of 0.05.\n",
      "Given that we ran 9,476 simulations,\n",
      "The Bernoulli standard error is 0.0022,\n",
      "Yielding a z-score of 8.92 \n",
      "Against a critical value of 3.89.\n",
      "Therefore, we DO have statistically-significant evidence\n",
      "Against the validity of this investigative method at\n",
      "the alpha = 0.05 level.\n"
     ]
    }
   ],
   "source": [
    "observed_indicator_false_positive_men = do_trials_conclude_drug_works(\n",
    "    y=y_allie_where_null_among_men\n",
    ")\n",
    "observed_indicator_false_positive_women = do_trials_conclude_drug_works(\n",
    "    y=y_allie_where_null_among_women\n",
    ")\n",
    "observed_indicator_false_positive = (\n",
    "    observed_indicator_false_positive_men\n",
    "    | observed_indicator_false_positive_women\n",
    ")\n",
    "is_evidence_against_validity_significant(\n",
    "    observed_indicator_false_positive=observed_indicator_false_positive\n",
    ")\n",
    "# free\n",
    "del observed_indicator_false_positive_men, observed_indicator_false_positive_women"
   ]
  },
  {
   "cell_type": "markdown",
   "id": "00058df8-da32-4a4d-92da-df2b91828588",
   "metadata": {},
   "source": [
    "Bobby's method is invalid.\n",
    "He suffers from multiple-comparisons issue.\n",
    "This is a classic fishing expedition."
   ]
  },
  {
   "cell_type": "markdown",
   "id": "a8e96028-1fe7-4e78-a627-cd3edfb43055",
   "metadata": {},
   "source": [
    "### Robert\n",
    "\n",
    "Robert is more mature than Bobby and knows not to make his\n",
    "multiple-comparisons mistake.\n",
    "Robert instead wants to know specifically whether the drug can help women in particular."
   ]
  },
  {
   "cell_type": "code",
   "execution_count": 202,
   "id": "4edb834a-7b8e-4247-8a91-ddc7f3b39c4f",
   "metadata": {
    "tags": []
   },
   "outputs": [
    {
     "name": "stdout",
     "output_type": "stream",
     "text": [
      "In this investigative method,\n",
      "We observed a 0.0339 probability of false positives,\n",
      "Against an expectation of 0.05.\n",
      "Given that we ran 9,476 simulations,\n",
      "The Bernoulli standard error is 0.0022,\n",
      "Yielding a z-score of -7.20 \n",
      "Against a critical value of 3.89.\n",
      "Therefore, we DO have statistically-significant evidence\n",
      "Against the validity of this investigative method at\n",
      "the alpha = 0.05 level.\n"
     ]
    }
   ],
   "source": [
    "observed_indicator_false_positive = do_trials_conclude_drug_works(\n",
    "    y=y_allie_where_null_among_women\n",
    ")\n",
    "is_evidence_against_validity_significant(\n",
    "    observed_indicator_false_positive=observed_indicator_false_positive\n",
    ")"
   ]
  },
  {
   "cell_type": "markdown",
   "id": "c96a5bc8-b600-494a-800d-4b228822f459",
   "metadata": {},
   "source": [
    "Robert's method is also invalid.\n",
    "He makes the opposite mistake from Bobby:\n",
    "His method is too conservative, and results in too few false positives.\n",
    "We know based on the experimental setup that this implies it will have lower power\n",
    "than he's expecting.\n",
    "This makes sense: Given that I already _told_ you that the overall results were null,\n",
    "it becomes slightly less likely that the results will be positive for some specific subset."
   ]
  },
  {
   "cell_type": "code",
   "execution_count": null,
   "id": "d5a1c8fb-7cea-4afc-9213-021fe6880187",
   "metadata": {},
   "outputs": [],
   "source": [
    "del y_allie_where_null_among_men, y_allie_where_null_among_women"
   ]
  },
  {
   "cell_type": "markdown",
   "id": "6b1a8965-5fe0-46cb-ab76-c635acba69aa",
   "metadata": {},
   "source": [
    "## The Charlies\n",
    "\n",
    "The Charlies (Chuck and Charles) strongly believe that the drug works."
   ]
  },
  {
   "cell_type": "code",
   "execution_count": 206,
   "id": "7403500c-468d-4810-86e4-816ccc2c4c48",
   "metadata": {
    "tags": []
   },
   "outputs": [],
   "source": [
    "rng = _get_rng(name=\"charlie\")"
   ]
  },
  {
   "cell_type": "markdown",
   "id": "f977ba18-b84e-4ad8-9a42-a72de5d7571c",
   "metadata": {},
   "source": [
    "### Chuck\n",
    "\n",
    "Chuck strongly believes that the drug works.\n",
    "He decides that if Allie's results come up positive, he'll accept them,\n",
    "but if they comes up null, he'll run his own experiment to see for himself whether it works."
   ]
  },
  {
   "cell_type": "code",
   "execution_count": 207,
   "id": "c59e164d-73d8-4568-b19d-bff6658e234d",
   "metadata": {
    "tags": []
   },
   "outputs": [
    {
     "name": "stdout",
     "output_type": "stream",
     "text": [
      "In this investigative method,\n",
      "We observed a 0.1021 probability of false positives,\n",
      "Against an expectation of 0.05.\n",
      "Given that we ran 10,000 simulations,\n",
      "The Bernoulli standard error is 0.0022,\n",
      "Yielding a z-score of 23.91 \n",
      "Against a critical value of 3.89.\n",
      "Therefore, we DO have statistically-significant evidence\n",
      "Against the validity of this investigative method at\n",
      "the alpha = 0.05 level.\n"
     ]
    }
   ],
   "source": [
    "observed_indicator_false_positive_allie = do_trials_conclude_drug_works(y=y_allie)\n",
    "y_chuck = rng.choice(\n",
    "    [0, 1],\n",
    "    p=[1-GROUND_TRUTH_SURVIVAL_PROB_GIVEN_NO_DRUG, GROUND_TRUTH_SURVIVAL_PROB_GIVEN_NO_DRUG],\n",
    "    # Ok in theory, we want to re-run sims for _only_ the sims where Allie's results were null.\n",
    "    # The logic goes like this:\n",
    "    #     For sim `n`: if Allie's result was positive, stop;\n",
    "    #         Otherwise, re-run the sim and see if it's positive.\n",
    "    # So there's conditional logic here:\n",
    "    #     If Allie's results were positive, accept them,\n",
    "    #     Otherwise, ignore them and run your own sim and take the results of that.\n",
    "    # But, it's much faster to do this by just generating an unconditional fresh sim vector,\n",
    "    # and doing an elementwise-or.\n",
    "    # The results for each `n` will be the same:\n",
    "    #     If Allie's result was positive, the or will be True;\n",
    "    #     If Allie's result was negative but Chuck's result was positive, the or will be True;\n",
    "    #     Finally if Allie's result was negative and then so was Chuck's, the or will be False.\n",
    "    size=[_NSIMS, NUM_PATIENTS],\n",
    ")\n",
    "observed_indicator_false_positive_chuck = do_trials_conclude_drug_works(y=y_chuck)\n",
    "observed_indicator_false_positive = (\n",
    "    observed_indicator_false_positive_allie\n",
    "    | observed_indicator_false_positive_chuck\n",
    ")\n",
    "is_evidence_against_validity_significant(\n",
    "    observed_indicator_false_positive=observed_indicator_false_positive\n",
    ")\n",
    "# free\n",
    "del observed_indicator_false_positive_allie, y_chuck, observed_indicator_false_positive_chuck"
   ]
  },
  {
   "cell_type": "markdown",
   "id": "df619cdb-1431-4b4c-aa05-7f84a735e5d4",
   "metadata": {},
   "source": [
    "This is what I call the Donald-Trump approach:\n",
    "If the polls report that I'm up, then clearly I'm leading;\n",
    "But if the polls report that I'm down, then clearly they're rigged.\n",
    "Under our experimental conditions, this is an invalid approach.\n",
    "(Of course, under different conditions it could be valid:\n",
    "Suppose you know for a fact that you're leading, then this logic is indeed right.)"
   ]
  },
  {
   "cell_type": "markdown",
   "id": "1702e47d-9c1e-41f3-ae00-41390499cba2",
   "metadata": {},
   "source": [
    "### Charles\n",
    "\n",
    "Like the Bobs, Charles observes Allie's null results,\n",
    "but unlike the Bobs, he knows that picking through them is not a valid way to go.\n",
    "However, like Chuck, he, too, strongly believes that the drug works.\n",
    "He tries Allie's experiment a second time, to give the drug what he considers a fair second chance."
   ]
  },
  {
   "cell_type": "code",
   "execution_count": 208,
   "id": "74140eb2-f67a-46ad-8c9b-eef514da92eb",
   "metadata": {
    "tags": []
   },
   "outputs": [
    {
     "name": "stdout",
     "output_type": "stream",
     "text": [
      "In this investigative method,\n",
      "We observed a 0.0528 probability of false positives,\n",
      "Against an expectation of 0.05.\n",
      "Given that we ran 9,476 simulations,\n",
      "The Bernoulli standard error is 0.0022,\n",
      "Yielding a z-score of 1.23 \n",
      "Against a critical value of 3.89.\n",
      "Therefore, we DON'T have statistically-significant evidence\n",
      "Against the validity of this investigative method at\n",
      "the alpha = 0.05 level.\n"
     ]
    }
   ],
   "source": [
    "y_charles = rng.choice(\n",
    "    [0, 1],\n",
    "    p=[1-GROUND_TRUTH_SURVIVAL_PROB_GIVEN_NO_DRUG, GROUND_TRUTH_SURVIVAL_PROB_GIVEN_NO_DRUG],\n",
    "    # Be careful -- we want to re-run sims for _only_ the sims where Allie's results were null,\n",
    "    # which means we have to inspect the current `y` which stores only Allie's null results.\n",
    "    size=[y_allie_where_null.shape[0], NUM_PATIENTS],\n",
    ")\n",
    "observed_indicator_false_positive = do_trials_conclude_drug_works(y=y_charles)\n",
    "is_evidence_against_validity_significant(\n",
    "    observed_indicator_false_positive=observed_indicator_false_positive\n",
    ")\n",
    "# free\n",
    "del y_charles"
   ]
  },
  {
   "cell_type": "markdown",
   "id": "f0ed347f-7c85-4298-b56e-59a9e3dd0665",
   "metadata": {},
   "source": [
    "Charles's method cannot be rejected, even though it superficially looks like Chuck's!!\n",
    "Even though he, like Chuck, is giving the drug a \"second chance\",\n",
    "the fact that Alice's experiment was already said and done means that\n",
    "we can condition on her results, and now his own experiment is independent of hers.\n",
    "It would be very awkward indeed if Alice doing an experiment rippled through the\n",
    "spacetime continuum and made that experiment forever invalid for anyone else to do,\n",
    "even people who have never met her or seen her results..."
   ]
  },
  {
   "cell_type": "markdown",
   "id": "554fba38-ccea-4790-a27d-c89509ed4a81",
   "metadata": {},
   "source": [
    "## The Daves\n",
    "\n",
    "The Daves (Davie and David) live by the matra \"more data is better\".\n",
    "Like the Charlies, they like to find or conduct replicating experiments to add more observations.\n",
    "But therein lies the difference between them and the Charlies:\n",
    "Whereas the Charlies conduct and analyze their new experiments separately from the original,\n",
    "the Daves _pool_ the data from the two experiments,\n",
    "so that they don't throw out perfectly-valid observations from the original run."
   ]
  },
  {
   "cell_type": "code",
   "execution_count": 210,
   "id": "e32255ec-ff45-4cdc-9568-3331935145f3",
   "metadata": {
    "tags": []
   },
   "outputs": [],
   "source": [
    "rng = _get_rng(name=\"dave\")"
   ]
  },
  {
   "cell_type": "markdown",
   "id": "469154fe-d3ad-4e4f-a923-94797ab773bb",
   "metadata": {},
   "source": [
    "### Davie\n",
    "\n",
    "Davie does a meta-analysis: He pools the Alices' results. Notice that, given that the Alices had already committed to doing their experiments, it doesn't matter whether Davie stumbles upon their results after they've already come out and then gets the idea of doing a meta-analysis, or instead decides before they have even finished that he wants to run a meta-analysis and then just waits for their results to come out so he can do it. The code is the same. Just in the second case, add a `time.sleep(one_week)` before you run it.\n",
    "\n",
    "In fact, there's nothing special about Davie:\n",
    "* Allie could have stumbled upon Alicia's results after they had already come out, and then done the meta-analysis herself; or,\n",
    "* Allie could gotten advance knowledge that Alicia was going to do her experiment, waited for Alicia's results to come out, and then done the meta-analysis herself."
   ]
  },
  {
   "cell_type": "code",
   "execution_count": 213,
   "id": "bb36b41d-0c36-4a48-b3d1-48b5e4c1e90c",
   "metadata": {
    "tags": []
   },
   "outputs": [
    {
     "name": "stdout",
     "output_type": "stream",
     "text": [
      "In this investigative method,\n",
      "We observed a 0.0561 probability of false positives,\n",
      "Against an expectation of 0.05.\n",
      "Given that we ran 10,000 simulations,\n",
      "The Bernoulli standard error is 0.0022,\n",
      "Yielding a z-score of 2.80 \n",
      "Against a critical value of 3.89.\n",
      "Therefore, we DON'T have statistically-significant evidence\n",
      "Against the validity of this investigative method at\n",
      "the alpha = 0.05 level.\n"
     ]
    }
   ],
   "source": [
    "y_davie = np.concatenate([y_allie, y_alicia], axis=1)\n",
    "assert y_davie.shape == (_NSIMS, NUM_PATIENTS*2), y_davie.shape\n",
    "observed_indicator_false_positive = do_trials_conclude_drug_works(y=y_davie)\n",
    "is_evidence_against_validity_significant(\n",
    "    observed_indicator_false_positive=observed_indicator_false_positive\n",
    ")\n",
    "# free\n",
    "del y_davie"
   ]
  },
  {
   "cell_type": "markdown",
   "id": "009a0dc5-17fd-43a6-8a7b-5c9e64334e54",
   "metadata": {},
   "source": [
    "Alright! We cannot reject Davie's method, a classic meta-analysis. The benefit, of course,\n",
    "is that while he still respects the desired $\\alpha = 0.05$ probability\n",
    "of a false positive under the null,\n",
    "by pooling two existing valid experiments,\n",
    "he doubles his sample size and therefore compresses his standard error.\n",
    "I do not show this, but this does mean that,\n",
    "supposing the _alternative_ hypothesis were true,\n",
    "i.e. the drug _did_ work,\n",
    "he would have more \"power\", i.e. higher probability of a _true positive_."
   ]
  },
  {
   "cell_type": "markdown",
   "id": "cfe5fc00-ffbe-4a3e-84b3-0e1eeca24854",
   "metadata": {},
   "source": [
    "### Aside: Schrodinger's Alice\n",
    "\n",
    "Ok, assume that Allie has already done her experiment. Regardless of her results, she wants to increase her sample size, but lacks the funding to do so. She has no reason to believe that anyone else is planning to replicate her experiment, but resolves that, should anyone else get around to doing so within the next year, she will pounce on the opportunity to pool her data with theirs and conduct a meta-analysis. Unbeknownst to Allie, there actually _is_ another investigator named Alicia out there, but this Alicia isn't sure if she wants to do the experiment, so she will flip a coin to determine whether she does it or just binges Netflix instead."
   ]
  },
  {
   "cell_type": "code",
   "execution_count": 215,
   "id": "3cf7ccd8-617e-4620-b653-2f3a309de507",
   "metadata": {
    "tags": []
   },
   "outputs": [
    {
     "name": "stdout",
     "output_type": "stream",
     "text": [
      "In this investigative method,\n",
      "We observed a 0.0528 probability of false positives,\n",
      "Against an expectation of 0.05.\n",
      "Given that we ran 10,000 simulations,\n",
      "The Bernoulli standard error is 0.0022,\n",
      "Yielding a z-score of 1.28 \n",
      "Against a critical value of 3.89.\n",
      "Therefore, we DON'T have statistically-significant evidence\n",
      "Against the validity of this investigative method at\n",
      "the alpha = 0.05 level.\n"
     ]
    }
   ],
   "source": [
    "# get allie's results\n",
    "observed_indicator_false_positive_allie = do_trials_conclude_drug_works(y=y_allie)\n",
    "\n",
    "# ok now for a moment let's just pretend we do the same thing as Davie and pool everything\n",
    "y_pooled = np.concatenate([y_allie, y_alicia], axis=1)\n",
    "assert y_pooled.shape == (_NSIMS, NUM_PATIENTS*2), y_pooled.shape\n",
    "observed_indicator_false_positive_pooled = do_trials_conclude_drug_works(y=y_pooled)\n",
    "\n",
    "# finally, simulate the coinflip: for the first half of the simulations,\n",
    "# a year passes with no activity from Alicia...\n",
    "observed_indicator_false_positive = observed_indicator_false_positive_allie\n",
    "# ... whereas for the second half,\n",
    "# Alicia does her experiment and Allie gets to pool the data.\n",
    "cut = int(_NSIMS/2)\n",
    "observed_indicator_false_positive[cut:] = observed_indicator_false_positive_pooled[cut:]\n",
    "\n",
    "is_evidence_against_validity_significant(\n",
    "    observed_indicator_false_positive=observed_indicator_false_positive\n",
    ")\n",
    "# free\n",
    "del observed_indicator_false_positive_allie, observed_indicator_false_positive_pooled, cut"
   ]
  },
  {
   "cell_type": "markdown",
   "id": "38d5d237-fa08-42b8-a391-5fce284b622d",
   "metadata": {},
   "source": [
    "Quite frankly I wasn't sure about this one.\n",
    "But it's comforting to see that we can't reject it.\n",
    "I can totally imagine this scenario arising in real life."
   ]
  },
  {
   "cell_type": "markdown",
   "id": "d575c2ad-f73a-474c-b66f-4f81030f71fd",
   "metadata": {},
   "source": [
    "### David\n",
    "\n",
    "Like Davie, David wants to conduct a meta-analysis with a bigger sample size.\n",
    "However, unlike Davie, David isn't aware that Alicia already ran her own experiment\n",
    "independent of Allie.\n",
    "So he says: If Allie's results are positive, there's no need for any further action.\n",
    "But, if her results are inconclusive (null), then he will take it upon himself\n",
    "to be resourceful and do a followup study replicating her experiment.\n",
    "\n",
    "Note: This superficially looks like Chuck's invalid method from above,\n",
    "but the important thing is that David doesn't discard Allie's data even if it comes out null.\n",
    "He retains it, and directly pools hers with his.\n",
    "So, he's in some sense already handicapping himself out the gate\n",
    "by forcing himself to mix in results that he has already observed to be null."
   ]
  },
  {
   "cell_type": "code",
   "execution_count": 216,
   "id": "0368e8cb-2849-4669-9ecf-b648398f9fb0",
   "metadata": {
    "tags": []
   },
   "outputs": [
    {
     "name": "stdout",
     "output_type": "stream",
     "text": [
      "In this investigative method,\n",
      "We observed a 0.0856 probability of false positives,\n",
      "Against an expectation of 0.05.\n",
      "Given that we ran 10,000 simulations,\n",
      "The Bernoulli standard error is 0.0022,\n",
      "Yielding a z-score of 16.33 \n",
      "Against a critical value of 3.89.\n",
      "Therefore, we DO have statistically-significant evidence\n",
      "Against the validity of this investigative method at\n",
      "the alpha = 0.05 level.\n"
     ]
    }
   ],
   "source": [
    "# get allie's results\n",
    "observed_indicator_false_positive_allie = do_trials_conclude_drug_works(y=y_allie)\n",
    "is_null_result = ~observed_indicator_false_positive_allie\n",
    "\n",
    "# ok now for a moment let's just pretend we do the same thing as Davie and pool everything\n",
    "y_pooled = np.concatenate([y_allie, y_alicia], axis=1)\n",
    "assert y_pooled.shape == (_NSIMS, NUM_PATIENTS*2), y_pooled.shape\n",
    "observed_indicator_false_positive_pooled = do_trials_conclude_drug_works(y=y_pooled)\n",
    "\n",
    "# finally simulate the \"wait-and-see\" dynamic:\n",
    "# we know that for about 5% of the sims, Allie's results will be positive...\n",
    "observed_indicator_false_positive = observed_indicator_false_positive_allie\n",
    "# ... but in the other 95% of the sims, we'll take the pooled results instead\n",
    "observed_indicator_false_positive[is_null_result] = (\n",
    "    observed_indicator_false_positive_pooled[is_null_result]\n",
    ")\n",
    "\n",
    "is_evidence_against_validity_significant(\n",
    "    observed_indicator_false_positive=observed_indicator_false_positive\n",
    ")\n",
    "# free\n",
    "del observed_indicator_false_positive_allie, observed_indicator_false_positive_pooled"
   ]
  },
  {
   "cell_type": "markdown",
   "id": "782f8c92-374f-4078-abfe-fd702d76086d",
   "metadata": {},
   "source": [
    "This one kinda freaks me out.\n",
    "I always thought to myself,\n",
    "\"If your results are inconclusive,\n",
    "Get up and collect more data!\".\n",
    "This simulation shows that that advice is wrong."
   ]
  },
  {
   "cell_type": "markdown",
   "id": "7ec6b0d8-59ae-4a52-b0c0-ae8b962d187e",
   "metadata": {},
   "source": [
    "#### Can we save this? Let's try a Bonferroni Correction."
   ]
  },
  {
   "cell_type": "code",
   "execution_count": 217,
   "id": "03a191af-64f3-4a4a-adf7-5e319fc45947",
   "metadata": {
    "tags": []
   },
   "outputs": [
    {
     "name": "stdout",
     "output_type": "stream",
     "text": [
      "In this investigative method,\n",
      "We observed a 0.0649 probability of false positives,\n",
      "Against an expectation of 0.05.\n",
      "Given that we ran 10,000 simulations,\n",
      "The Bernoulli standard error is 0.0022,\n",
      "Yielding a z-score of 6.84 \n",
      "Against a critical value of 3.89.\n",
      "Therefore, we DO have statistically-significant evidence\n",
      "Against the validity of this investigative method at\n",
      "the alpha = 0.05 level.\n"
     ]
    }
   ],
   "source": [
    "# get allie's results\n",
    "observed_indicator_false_positive_allie = do_trials_conclude_drug_works(y=y_allie)\n",
    "is_null_result = ~observed_indicator_false_positive_allie\n",
    "\n",
    "# ok now for a moment let's just pretend we do the same thing as Davie and pool everything...\n",
    "# BUT! apply a Bonferroni Correction. Keep in mind we're one-tailed here.\n",
    "# That is, instead of using a naive alpha = 5% -> z* = 1.65,\n",
    "# use a Bonferroni-corrected \"adjusted\" alpha = 2.5% -> z* = 1.96.\n",
    "y_pooled = np.concatenate([y_allie, y_alicia], axis=1)\n",
    "assert y_pooled.shape == (_NSIMS, NUM_PATIENTS*2), y_pooled.shape\n",
    "observed_indicator_false_positive_pooled = do_trials_conclude_drug_works(\n",
    "    y=y_pooled,\n",
    "    chosen_critical_z_score=1.96,\n",
    ")\n",
    "\n",
    "# finally simulate the \"wait-and-see\" dynamic:\n",
    "# we know that for about 5% of the sims, Allie's results will be positive...\n",
    "observed_indicator_false_positive = observed_indicator_false_positive_allie\n",
    "# ... but in the other 95% of the sims, we'll take the pooled results instead\n",
    "observed_indicator_false_positive[is_null_result] = (\n",
    "    observed_indicator_false_positive_pooled[is_null_result]\n",
    ")\n",
    "\n",
    "is_evidence_against_validity_significant(\n",
    "    observed_indicator_false_positive=observed_indicator_false_positive\n",
    ")\n",
    "# free\n",
    "del observed_indicator_false_positive_allie, observed_indicator_false_positive_pooled"
   ]
  },
  {
   "cell_type": "code",
   "execution_count": null,
   "id": "f6397533-4ce5-4797-885c-8b550922e8c2",
   "metadata": {},
   "outputs": [],
   "source": []
  }
 ],
 "metadata": {
  "kernelspec": {
   "display_name": "Python 3 (ipykernel)",
   "language": "python",
   "name": "python3"
  },
  "language_info": {
   "codemirror_mode": {
    "name": "ipython",
    "version": 3
   },
   "file_extension": ".py",
   "mimetype": "text/x-python",
   "name": "python",
   "nbconvert_exporter": "python",
   "pygments_lexer": "ipython3",
   "version": "3.10.12"
  }
 },
 "nbformat": 4,
 "nbformat_minor": 5
}
