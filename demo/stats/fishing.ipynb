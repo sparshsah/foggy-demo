{
 "cells": [
  {
   "cell_type": "markdown",
   "id": "47068105-2fb6-483c-b964-355b335f115e",
   "metadata": {},
   "source": [
    "_FISHING_\n",
    "\n",
    "[@sparshsah](https://github.com/sparshsah)\n",
    "\n",
    "CONTEXT:\n",
    "\n",
    "We have a population afflicted with some medical condition.\n",
    "We want to investigate whether a drug $D$ improves survivorship.\n",
    "We want to run the investigation at the $\\alpha = 0.05$ significance level,\n",
    "i.e. if the drug does not improve survival probability,\n",
    "we want only a 5\\% chance of a false positive.\n",
    "\n",
    "We _know_ that without the drug, survival probability is exactly $0.30$, i.e.\n",
    "letting $D_s$ be a boolean indicator of whether patient $s$ is administered the drug\n",
    "and $y_s$ be a boolean indicator of whether patient $s$ survives,\n",
    "\n",
    "$$\n",
    "    \\Pr[y_s = 1 \\mid D_s = 0] = 0.30\n",
    ".$$\n",
    "\n",
    "Although experimental design is a perfectly reasonable thing to scrutinize in real life,\n",
    "that is not the point here, so in the following,\n",
    "assume that all experimental-design considerations are airtight:\n",
    "* Each investigation is double-blind,\n",
    "* The participants are truly randomly selected,\n",
    "* The control group administered a placebo achieved exactly\n",
    "    $\\hat{\\Pr}[y_s = 1 \\mid D_s = 0] = 0.30$,\n",
    "* The Normal approximation to the Binomial is good enough (so we can use $1.65$ as the critical value of the z-score as our test statistic),\n",
    "* Etc.\n",
    "\n",
    "We will examine several investigators' proposed methods, and determine which ones are valid, i.e. which ones respect the $\\alpha = 0.05$ probability of a false positive under the null hypothesis that the drug has no treatment effect, i.e.\n",
    "\n",
    "$$\n",
    "    H_0:\n",
    "    \\Pr[y_s = 1 \\mid D_s = 1] = \\Pr[y_s = 1 \\mid D_s = 0] = 0.30\n",
    ".$$\n",
    "\n",
    "To determine validity, we will assume that the null is true and\n",
    "simulate each investigator's investigation 10,000 times,\n",
    "then hypothesis-test whether his or her proposed method was valid.\n",
    "But of course each investigator's investigation will itself involve\n",
    "statistical inference via hypothesis-testing,\n",
    "so in each simulation we're going to be running a separate inner test.\n",
    "In(ference)ception!\n",
    "\n",
    "Note: I'm going to say \"t-test\" a lot below,\n",
    "even though really, because we're assuming convergence of\n",
    "the sampling distribution of the sample proportion to the Normal\n",
    "and therefore using a z-score as our test-statistic, it's like a \"Wald test\".\n",
    "But \"Wald test\" sounds unfamiliar while \"t-test\" is taught in high-school stats classes."
   ]
  },
  {
   "cell_type": "code",
   "execution_count": 31,
   "id": "144ce07d-9931-4fa8-b176-e115ecc5fe13",
   "metadata": {
    "tags": []
   },
   "outputs": [],
   "source": [
    "from typing import Final\n",
    "\n",
    "import numpy as np"
   ]
  },
  {
   "cell_type": "code",
   "execution_count": 36,
   "id": "4be46cdc-24d2-47b5-abf5-01c43d134c70",
   "metadata": {
    "tags": []
   },
   "outputs": [],
   "source": [
    "# investigation setup\n",
    "\n",
    "DESIRED_PROB_FALSE_POSITIVE: Final[float] = 0.05\n",
    "# one-tailed 5% level\n",
    "CHOSEN_CRITICAL_Z_SCORE: Final[float] = 1.65\n",
    "\n",
    "GROUND_TRUTH_SURVIVAL_PROB_GIVEN_NO_DRUG: Final[float] = 0.30\n",
    "\n",
    "NUM_PATIENTS: Final[int] = 1_000\n",
    "\n",
    "def is_false_positive"
   ]
  },
  {
   "cell_type": "code",
   "execution_count": 43,
   "id": "68390c78-56c7-4e1c-a794-575743e54e74",
   "metadata": {
    "tags": []
   },
   "outputs": [],
   "source": [
    "# simulation setup\n",
    "_NSIMS: Final[int] = 10_000\n",
    "# Different than \"chosen critical z-score\" above!\n",
    "# Here, we want a two-sided test, because we'd like to catch\n",
    "# an alpha that is _either_ lower or higher than the desired alpha.\n",
    "# _DESIRED_PROB_FALSE_POSITIVE: Final[float] = 0.05\n",
    "# We never actually use `_DESIRED_PROB_FALSE_POSITIVE`,\n",
    "# it's just the basis for this critical value:\n",
    "_CRITICAL_Z_SCORE: Final[float] = 1.96\n",
    "\n",
    "\n",
    "def is_evidence_against_validity_significant(\n",
    "    observed_indicator_false_positive: np.ndarray[bool],\n",
    "    desired_prob_false_positive: float = DESIRED_PROB_FALSE_POSITIVE,\n",
    ") -> None:\n",
    "    \"\"\"Determine whether we have statistically-significant evidence\n",
    "    to reject the hypothesis that this investigator's proposed method\n",
    "    respects the alpha = `DESIRED_PROB_FALSE_POSITIVE` significance level.\n",
    "\n",
    "    Args:\n",
    "        observed_indicator_false_positive: np.ndarray[bool], a boolean array\n",
    "            of length `nsims` indicating whether, in simulation number `n`,\n",
    "            the investigator's method yielded a positive result\n",
    "            allowing them to conclude that the drug works.\n",
    "            Of course, we've deliberately set this up assuming that\n",
    "            the drug does NOT work, so each `True` in this array is a false positive.\n",
    "        desired_prob_false_positive: float = 5%,\n",
    "            In order to determine whether this investigator's proposed method\n",
    "            is valid, we're going to determine whether the observed frequency\n",
    "            of false positives was \"close enough\" to the desired alpha=5% significance level.\n",
    "            Now we could of course just eyeball it to determine whether it's close enough --\n",
    "            But can we really determine whether an observed false-positive frequency\n",
    "            of 5.3% is plausibly \"close enough\" to 5%? Or is it too far away?\n",
    "            Well, let's do another meta-t-test to determine whether it's too far away\n",
    "            to be plausible that it's close enough!\n",
    "\n",
    "    Returns:\n",
    "        Nothing. I just print the results. I know, I know. Sue me.\n",
    "    \"\"\"\n",
    "    observed_prob_false_positive = observed_indicator_false_positive.mean()\n",
    "    nsims = len(observed_indicator_false_positive)\n",
    "    bernoulli_stderr = (\n",
    "        np.sqrt(desired_prob_false_positive * (1-desired_prob_false_positive))\n",
    "        / np.sqrt(nsims)\n",
    "    )\n",
    "    z = (observed_prob_false_positive - desired_prob_false_positive) / bernoulli_stderr\n",
    "    flag = abs(z) > _CRITICAL_Z_SCORE\n",
    "    msg = (\n",
    "        \"In this investigative method,\"\n",
    "        + f\" We observed a {observed_prob_false_positive :.4f} probability of false positives,\"\n",
    "        + f\" Against an expectation of {desired_prob_false_positive :.4f}.\"\n",
    "        + f\" Given that we ran {nsims :,} simulations,\"\n",
    "        + f\" The Bernoulli standard error is {bernoulli_stderr :.4f},\"\n",
    "        + f\" Yielding a z-score of {z :.2f} \"\n",
    "        + f\" Against a critical value of {_CRITICAL_Z_SCORE :.2f}.\"\n",
    "        + f\"\"\" Therefore, we {\"do\" if flag else \"don't\"} have statistically-significant evidence\"\"\"\n",
    "        + f\" Against the validity of this investigative method at\"\n",
    "        + f\" the alpha = {_DESIRED_PROB_FALSE_POSITIVE :.2f} level.\"\n",
    "    )\n",
    "    print(msg)\n",
    "    return"
   ]
  },
  {
   "cell_type": "markdown",
   "id": "2948d800-0086-43d5-8af7-8fbe5d7c3492",
   "metadata": {},
   "source": [
    "# Alice\n",
    "\n",
    "Alice proposes administering the drug to 1,000 patients and then t-testing for significance."
   ]
  },
  {
   "cell_type": "code",
   "execution_count": 19,
   "id": "e4606e08-2c4a-4fb9-be82-7986ab6fd99e",
   "metadata": {
    "tags": []
   },
   "outputs": [],
   "source": [
    "# gender of each patient\n",
    "rng = np.random.default_rng(seed=42)\n",
    "g = rng.choice(2, size=NUM_PATIENTS)"
   ]
  },
  {
   "cell_type": "code",
   "execution_count": null,
   "id": "5f65246f-e6d9-4e12-84ae-b9be4cd9ace1",
   "metadata": {},
   "outputs": [],
   "source": []
  }
 ],
 "metadata": {
  "kernelspec": {
   "display_name": "Python 3 (ipykernel)",
   "language": "python",
   "name": "python3"
  },
  "language_info": {
   "codemirror_mode": {
    "name": "ipython",
    "version": 3
   },
   "file_extension": ".py",
   "mimetype": "text/x-python",
   "name": "python",
   "nbconvert_exporter": "python",
   "pygments_lexer": "ipython3",
   "version": "3.10.12"
  }
 },
 "nbformat": 4,
 "nbformat_minor": 5
}
