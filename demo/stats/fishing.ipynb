{
 "cells": [
  {
   "cell_type": "markdown",
   "id": "47068105-2fb6-483c-b964-355b335f115e",
   "metadata": {},
   "source": [
    "FISHING\n",
    "\n",
    "[@sparshsah](https://github.com/sparshsah)\n",
    "\n",
    "# Context\n",
    "\n",
    "We have a population afflicted with some medical condition.\n",
    "We want to investigate whether a drug $D$ improves survivorship.\n",
    "We want to run the investigation at the $\\alpha = 0.05$ significance level,\n",
    "i.e. if the drug does not improve survival probability,\n",
    "we want only a 5\\% chance of a false positive.\n",
    "\n",
    "We _know_ that without the drug, survival probability is exactly $0.30$, i.e.\n",
    "letting $D_s$ be a boolean indicator of whether patient $s$ is administered the drug\n",
    "and $y_s$ be a boolean indicator of whether patient $s$ survives,\n",
    "\n",
    "$$\n",
    "    \\Pr[y_s = 1 \\mid D_s = 0] = 0.30\n",
    ".$$\n",
    "\n",
    "Although experimental design is a perfectly reasonable thing to scrutinize in real life,\n",
    "that is not the point here, so in the following,\n",
    "assume that all experimental-design considerations are airtight:\n",
    "* Each investigation is double-blind,\n",
    "* The participants are truly randomly selected,\n",
    "* The control group administered a placebo achieved exactly\n",
    "    $\\hat{\\Pr}[y_s = 1 \\mid D_s = 0] = 0.30$,\n",
    "* The Normal approximation to the Binomial is good enough (so we can use $1.65$ as the critical value of the z-score as our test statistic),\n",
    "* Etc.\n",
    "\n",
    "We will examine several investigators' proposed methods, and determine which ones are valid, i.e. which ones respect the $\\alpha = 0.05$ probability of a false positive under the null hypothesis that the drug has no treatment effect, i.e.\n",
    "\n",
    "$$\n",
    "    H_0:\n",
    "    \\Pr[y_s = 1 \\mid D_s = 1] = \\Pr[y_s = 1 \\mid D_s = 0] = 0.30\n",
    ".$$\n",
    "\n",
    "To determine validity, we will assume that the null is true and\n",
    "simulate each investigator's investigation 10,000 times,\n",
    "then hypothesis-test whether his or her proposed method was valid.\n",
    "But of course each investigator's investigation will itself involve\n",
    "statistical inference via hypothesis-testing,\n",
    "so in each simulation we're going to be running a separate inner test.\n",
    "In(ference)ception!\n",
    "\n",
    "Note: I'm going to say \"t-test\" a lot below,\n",
    "even though really, because we're assuming convergence of\n",
    "the sampling distribution of the sample proportion to the Normal\n",
    "and therefore using a z-score as our test-statistic, it's like a asymptotic \"large-sample Wald test\".\n",
    "But \"large-sample Wald test\" sounds unfamiliar while \"t-test\" is taught in high-school stats classes."
   ]
  },
  {
   "cell_type": "code",
   "execution_count": 31,
   "id": "144ce07d-9931-4fa8-b176-e115ecc5fe13",
   "metadata": {
    "tags": []
   },
   "outputs": [],
   "source": [
    "from typing import Final\n",
    "\n",
    "import numpy as np"
   ]
  },
  {
   "cell_type": "code",
   "execution_count": 52,
   "id": "eb413fa5-e854-4c61-a666-e99c66ddcb5c",
   "metadata": {
    "tags": []
   },
   "outputs": [],
   "source": [
    "def get_bernoulli_stderr(\n",
    "    p: float = 0.50,\n",
    "    n: float = 100,\n",
    ") -> float:\n",
    "    \"\"\"Stderr of sample proportion of successes observed among `n` Bernoulli draws,\n",
    "    assuming that each draw has i.i.d. ground-truth probability of success = `p`.\n",
    "\n",
    "    Remember:\n",
    "        * Bernoulli variance is `pq`.\n",
    "        * When you add `n` independent random variables, their variances add up.\n",
    "        * When you scale a random variable by `c`, its variance scales by `c^2`.\n",
    "    So, when calculating the sample mean:\n",
    "        * You add `n` Bernoulli indicators, so the variance of the sum is npq.\n",
    "        * You then divide by `n` to get the fraction of successes, so the variance\n",
    "             of that guy becomes npq/n = pq/n.\n",
    "        * And the standard error (standard deviation of the sampling distribution\n",
    "             of the sample mean) is of course just the square root of the variance.\n",
    "    \"\"\"\n",
    "    return np.sqrt(p * (1-p) / n)"
   ]
  },
  {
   "cell_type": "markdown",
   "id": "869449a1-8c17-4290-9459-c1a302423979",
   "metadata": {},
   "source": [
    "## Investigation setup"
   ]
  },
  {
   "cell_type": "code",
   "execution_count": 75,
   "id": "4be46cdc-24d2-47b5-abf5-01c43d134c70",
   "metadata": {
    "tags": []
   },
   "outputs": [],
   "source": [
    "DESIRED_PROB_FALSE_POSITIVE: Final[float] = 0.05\n",
    "# one-tailed 5% level\n",
    "CHOSEN_CRITICAL_Z_SCORE: Final[float] = 1.65\n",
    "\n",
    "GROUND_TRUTH_SURVIVAL_PROB_GIVEN_NO_DRUG: Final[float] = 0.30\n",
    "\n",
    "NUM_PATIENTS: Final[int] = 1_000\n",
    "\n",
    "\n",
    "def do_trials_conclude_drug_works(\n",
    "    y: np.ndarray[np.ndarray[bool]],\n",
    "    chosen_critical_z_score: float = CHOSEN_CRITICAL_Z_SCORE,\n",
    "    ground_truth_survival_prob_given_no_drug: float = GROUND_TRUTH_SURVIVAL_PROB_GIVEN_NO_DRUG,\n",
    ") -> np.ndarray[bool]:\n",
    "    \"\"\"Decide whether this investigator's trials yielded a positive result,\n",
    "    i.e. concluded that the drug improves survivorship.\n",
    "\n",
    "    Args:\n",
    "        y: np.ndarray[np.ndarray[bool]], a boolean matrix of dimension\n",
    "            `nsims X n_patients`, with entry [n,s] indicating whether,\n",
    "            during simulation number `n`, patient number `s` survived\n",
    "            after taking the drug.\n",
    "        chosen_critical_z_score: float = 1.65, the critical value\n",
    "            that the investigator will compare his or her observed test statistic against.\n",
    "            In practice, this means that, after a given simulation,\n",
    "            the investigator will perform a t-test (or really,\n",
    "            because he or she is using z-score as the test statistic,\n",
    "            an asymptotic large-sample Wald test)\n",
    "            by comparing the observed survivorship against the\n",
    "            control survivorship of 0.30,\n",
    "            and decide whether the t-stat is larger than 1.65.\n",
    "            If it is, he or she will conclude that there is statistically-significant\n",
    "            evidence against the hypothesis that the drug had no effect,\n",
    "            and thus conclude that it worked.\n",
    "        ground_truth_survival_prob_given_no_drug: float = 0.30,\n",
    "            We need something to compare the observed survivorship against.\n",
    "            If the survivorship amongst people who weren't given the drug\n",
    "            is 0%, and the survivorship amongst our participants is 5%,\n",
    "            that's at least better than nothing.\n",
    "            But if the survivorship amongst people who weren't given the drug\n",
    "            is 80%, and the survivorship amongst our patients is 75% or even 81%,\n",
    "            depending on the sample size, that isn't really anything to write home about.\n",
    "\n",
    "    Returns:\n",
    "        np.ndarray[bool], a boolean vector of length `nsims`\n",
    "        indicating whether, during simulation number `n`,\n",
    "        the investigator concluded that the drug worked.\n",
    "    \"\"\"\n",
    "    observed_survival_prob_given_drug = y.mean(axis=1)\n",
    "    nsims = y.shape[0]\n",
    "    n_patients = y.shape[1]\n",
    "    stderr = get_bernoulli_stderr(\n",
    "        p=ground_truth_survival_prob_given_no_drug,\n",
    "        n=n_patients,\n",
    "    )\n",
    "    z = (observed_survival_prob_given_drug - ground_truth_survival_prob_given_no_drug) / stderr\n",
    "    flag = z > chosen_critical_z_score\n",
    "    assert flag.shape == (nsims,), (flag.shape, y.shape)\n",
    "    return flag"
   ]
  },
  {
   "cell_type": "markdown",
   "id": "469a9279-edcb-4269-8e8a-b9761e2ed059",
   "metadata": {},
   "source": [
    "## Simulation setup"
   ]
  },
  {
   "cell_type": "code",
   "execution_count": 62,
   "id": "e55e5d7b-460c-41d7-9447-b9cb192b3ba6",
   "metadata": {
    "tags": []
   },
   "outputs": [
    {
     "data": {
      "text/plain": [
       "numpy.random._generator.Generator"
      ]
     },
     "execution_count": 62,
     "metadata": {},
     "output_type": "execute_result"
    }
   ],
   "source": [
    "type(np.random.default_rng())"
   ]
  },
  {
   "cell_type": "code",
   "execution_count": 98,
   "id": "68390c78-56c7-4e1c-a794-575743e54e74",
   "metadata": {
    "tags": []
   },
   "outputs": [],
   "source": [
    "_NSIMS: Final[int] = 10_000\n",
    "# Different than \"chosen critical z-score\" above!\n",
    "# Here, we want a two-sided test, because we'd like to catch\n",
    "# an alpha that is _either_ lower or higher than the desired alpha.\n",
    "# _DESIRED_PROB_FALSE_POSITIVE: Final[float] = 0.05\n",
    "# We never actually use `_DESIRED_PROB_FALSE_POSITIVE`,\n",
    "# it's just the basis for this critical value:\n",
    "_CRITICAL_Z_SCORE: Final[float] = 1.96\n",
    "\n",
    "\n",
    "def _get_rng(name: str = \"alice\") -> np.random._generator.Generator:\n",
    "    seed = sum(ord(letter) for letter in name)\n",
    "    return np.random.default_rng(seed=seed)\n",
    "\n",
    "\n",
    "def is_evidence_against_validity_significant(\n",
    "    observed_indicator_false_positive: np.ndarray[bool],\n",
    "    desired_prob_false_positive: float = DESIRED_PROB_FALSE_POSITIVE,\n",
    ") -> None:\n",
    "    \"\"\"Determine whether we have statistically-significant evidence\n",
    "    to reject the hypothesis that this investigator's proposed method\n",
    "    respects the alpha = `DESIRED_PROB_FALSE_POSITIVE` significance level.\n",
    "\n",
    "    Args:\n",
    "        observed_indicator_false_positive: np.ndarray[bool], a boolean vector\n",
    "            of length `nsims` indicating whether, in simulation number `n`,\n",
    "            the investigator's method yielded a positive result\n",
    "            allowing them to conclude that the drug works.\n",
    "            Of course, we've deliberately set this up assuming that\n",
    "            the drug does NOT work, so each `True` in this array is a false positive.\n",
    "        desired_prob_false_positive: float = 5%,\n",
    "            In order to determine whether this investigator's proposed method\n",
    "            is valid, we're going to determine whether the observed frequency\n",
    "            of false positives was \"close enough\" to the desired alpha=5% significance level.\n",
    "            Now we could of course just eyeball it to determine whether it's close enough --\n",
    "            But can we really determine whether an observed false-positive frequency\n",
    "            of 5.3% is plausibly \"close enough\" to 5%? Or is it too far away?\n",
    "            Well, let's do another meta-t-test to determine whether it's too far away\n",
    "            to be plausible that it's close enough!\n",
    "\n",
    "    Returns:\n",
    "        Nothing. I just print the results. I know, I know. Sue me.\n",
    "    \"\"\"\n",
    "    observed_prob_false_positive = observed_indicator_false_positive.mean()\n",
    "    nsims = len(observed_indicator_false_positive)\n",
    "    stderr = get_bernoulli_stderr(\n",
    "        p=desired_prob_false_positive,\n",
    "        n=nsims,\n",
    "    )\n",
    "    z = (observed_prob_false_positive - desired_prob_false_positive) / stderr\n",
    "    flag = abs(z) > _CRITICAL_Z_SCORE\n",
    "    assert type(flag) == np.bool_, flag\n",
    "    msg = (\n",
    "        \"In this investigative method,\"\n",
    "        + f\"\\nWe observed a {observed_prob_false_positive :.4f} probability of false positives,\"\n",
    "        + f\"\\nAgainst an expectation of {desired_prob_false_positive :.2f}.\"\n",
    "        + f\"\\nGiven that we ran {nsims :,} simulations,\"\n",
    "        + f\"\\nThe Bernoulli standard error is {stderr :.4f},\"\n",
    "        + f\"\\nYielding a z-score of {z :.2f} \"\n",
    "        + f\"\\nAgainst a critical value of {_CRITICAL_Z_SCORE :.2f}.\"\n",
    "        + f\"\"\"\\nTherefore, we {\"DO\" if flag else \"DON'T\"} have statistically-significant evidence\"\"\"\n",
    "        + f\"\\nAgainst the validity of this investigative method at\"\n",
    "        + f\"\\nthe alpha = {_DESIRED_PROB_FALSE_POSITIVE :.2f} level.\"\n",
    "    )\n",
    "    print(msg)\n",
    "    return"
   ]
  },
  {
   "cell_type": "markdown",
   "id": "5d713af4-7e93-40c0-9bf8-cb5ab9207154",
   "metadata": {},
   "source": [
    "# Proposed investigative methods"
   ]
  },
  {
   "cell_type": "markdown",
   "id": "2948d800-0086-43d5-8af7-8fbe5d7c3492",
   "metadata": {},
   "source": [
    "## Alice\n",
    "\n",
    "Alice proposes administering the drug to 1,000 patients and then t-testing for significance."
   ]
  },
  {
   "cell_type": "code",
   "execution_count": 161,
   "id": "5348db61-e301-4acc-8aec-669c986013f7",
   "metadata": {
    "tags": []
   },
   "outputs": [
    {
     "name": "stdout",
     "output_type": "stream",
     "text": [
      "In this investigative method,\n",
      "We observed a 0.0524 probability of false positives,\n",
      "Against an expectation of 0.05.\n",
      "Given that we ran 10,000 simulations,\n",
      "The Bernoulli standard error is 0.0022,\n",
      "Yielding a z-score of 1.10 \n",
      "Against a critical value of 1.96.\n",
      "Therefore, we DON'T have statistically-significant evidence\n",
      "Against the validity of this investigative method at\n",
      "the alpha = 0.05 level.\n"
     ]
    }
   ],
   "source": [
    "rng = _get_rng(name=\"alice\")\n",
    "y_alice = rng.choice(\n",
    "    [0, 1],\n",
    "    p=[1-GROUND_TRUTH_SURVIVAL_PROB_GIVEN_NO_DRUG, GROUND_TRUTH_SURVIVAL_PROB_GIVEN_NO_DRUG],\n",
    "    size=[_NSIMS, NUM_PATIENTS],\n",
    ")\n",
    "observed_indicator_false_positive = do_trials_conclude_drug_works(y=y_alice)\n",
    "is_evidence_against_validity_significant(\n",
    "    observed_indicator_false_positive=observed_indicator_false_positive\n",
    ")"
   ]
  },
  {
   "cell_type": "markdown",
   "id": "e750a669-278e-436e-be3d-562c93b38856",
   "metadata": {},
   "source": [
    "Good. This is the archetype of a valid experiment."
   ]
  },
  {
   "cell_type": "markdown",
   "id": "fa1aae0d-9ee2-4325-8c89-47c241f37894",
   "metadata": {},
   "source": [
    "## The Bobs\n",
    "\n",
    "The Bobs, Bobby and Robert, observe that Alice's results were null.\n",
    "However, they discover that the observed survival probabilities differed among men and women.\n",
    "Gender can obviously a medically-important factor in treatment effectiveness.\n",
    "So, they split Alice's data up along that dimension to analyze separately."
   ]
  },
  {
   "cell_type": "code",
   "execution_count": 162,
   "id": "17d1fe46-3fbe-438f-a1ee-4535c5a6b0ed",
   "metadata": {
    "tags": []
   },
   "outputs": [],
   "source": [
    "# filter to just the simulations where there was a null result for the general populace\n",
    "is_null_result = ~observed_indicator_false_positive\n",
    "y_alice_where_null = y_alice[is_null_result, :]\n",
    "# free\n",
    "del is_null_result"
   ]
  },
  {
   "cell_type": "code",
   "execution_count": 163,
   "id": "b4f12fad-1875-40ca-bd81-bc06c7d2668d",
   "metadata": {
    "tags": []
   },
   "outputs": [],
   "source": [
    "# we conditioned on null results -- so check that we did this correctly,\n",
    "# i.e. that we have ZERO false positives\n",
    "observed_indicator_false_positive = do_trials_conclude_drug_works(y=y_alice_where_null)\n",
    "assert not observed_indicator_false_positive.any(), observed_indicator_false_positive.mean()"
   ]
  },
  {
   "cell_type": "code",
   "execution_count": 164,
   "id": "a48839d0-b861-4be6-bc19-cf6d139e8b49",
   "metadata": {
    "tags": []
   },
   "outputs": [],
   "source": [
    "# Note the gender of each participant, evenly split between men and women.\n",
    "# We'll just re-use this across the trials, it's not a random outcome anyway,\n",
    "# it's just an irrelevant predictor.\n",
    "rng = _get_rng(name=\"bob\")\n",
    "g = rng.choice([False, True], size=NUM_PATIENTS)\n",
    "y_alice_where_null_among_men = y_alice_where_null[:, ~g]\n",
    "y_alice_where_null_among_women = y_alice_where_null[:, g]\n",
    "# free\n",
    "del g"
   ]
  },
  {
   "cell_type": "code",
   "execution_count": 165,
   "id": "b9e2de72-55b3-420e-b5a3-767d3fff8c8e",
   "metadata": {
    "tags": []
   },
   "outputs": [],
   "source": [
    "# we conditioned on null results -- so check that we did this correctly,\n",
    "# i.e. that we have ZERO false positives\n",
    "y_alice_where_null_among_men_and_women = np.concatenate(\n",
    "    [y_alice_where_null_among_men, y_alice_where_null_among_women],\n",
    "    axis=1,\n",
    ")\n",
    "assert y_alice_where_null_among_men_and_women.shape == y_alice_where_null.shape\n",
    "observed_indicator_false_positive = do_trials_conclude_drug_works(\n",
    "    y=y_alice_where_null_among_men_and_women\n",
    ")\n",
    "assert not observed_indicator_false_positive.any(), observed_indicator_false_positive.mean()\n",
    "# free\n",
    "del y_alice_where_null_among_men_and_women"
   ]
  },
  {
   "cell_type": "markdown",
   "id": "fd345c53-4391-4d31-a8a3-8c29805d8aa5",
   "metadata": {},
   "source": [
    "### Bobby\n",
    "\n",
    "Bobby wants to know whether the drug can at least help one or the other gender."
   ]
  },
  {
   "cell_type": "code",
   "execution_count": 168,
   "id": "1914c5b7-2af9-4a1f-9f93-91d32aacb6f9",
   "metadata": {
    "tags": []
   },
   "outputs": [
    {
     "name": "stdout",
     "output_type": "stream",
     "text": [
      "In this investigative method,\n",
      "We observed a 0.0700 probability of false positives,\n",
      "Against an expectation of 0.05.\n",
      "Given that we ran 9,476 simulations,\n",
      "The Bernoulli standard error is 0.0022,\n",
      "Yielding a z-score of 8.92 \n",
      "Against a critical value of 1.96.\n",
      "Therefore, we DO have statistically-significant evidence\n",
      "Against the validity of this investigative method at\n",
      "the alpha = 0.05 level.\n"
     ]
    }
   ],
   "source": [
    "observed_indicator_false_positive_men = do_trials_conclude_drug_works(\n",
    "    y=y_alice_where_null_among_men\n",
    ")\n",
    "observed_indicator_false_positive_women = do_trials_conclude_drug_works(\n",
    "    y=y_alice_where_null_among_women\n",
    ")\n",
    "observed_indicator_false_positive = (\n",
    "    observed_indicator_false_positive_men\n",
    "    | observed_indicator_false_positive_women\n",
    ")\n",
    "# free\n",
    "del observed_indicator_false_positive_men, observed_indicator_false_positive_women\n",
    "is_evidence_against_validity_significant(\n",
    "    observed_indicator_false_positive=observed_indicator_false_positive\n",
    ")"
   ]
  },
  {
   "cell_type": "markdown",
   "id": "00058df8-da32-4a4d-92da-df2b91828588",
   "metadata": {},
   "source": [
    "Bobby's method is invalid.\n",
    "He suffers from multiple-comparisons issue.\n",
    "This is a classic fishing expedition."
   ]
  },
  {
   "cell_type": "markdown",
   "id": "a8e96028-1fe7-4e78-a627-cd3edfb43055",
   "metadata": {},
   "source": [
    "### Robert\n",
    "\n",
    "Robert is more mature than Bobby and knows not to make his\n",
    "multiple-comparisons mistake.\n",
    "Robert instead wants to know specifically whether the drug can help women in particular."
   ]
  },
  {
   "cell_type": "code",
   "execution_count": 171,
   "id": "4edb834a-7b8e-4247-8a91-ddc7f3b39c4f",
   "metadata": {
    "tags": []
   },
   "outputs": [
    {
     "name": "stdout",
     "output_type": "stream",
     "text": [
      "In this investigative method,\n",
      "We observed a 0.0339 probability of false positives,\n",
      "Against an expectation of 0.05.\n",
      "Given that we ran 9,476 simulations,\n",
      "The Bernoulli standard error is 0.0022,\n",
      "Yielding a z-score of -7.20 \n",
      "Against a critical value of 1.96.\n",
      "Therefore, we DO have statistically-significant evidence\n",
      "Against the validity of this investigative method at\n",
      "the alpha = 0.05 level.\n"
     ]
    }
   ],
   "source": [
    "observed_indicator_false_positive = do_trials_conclude_drug_works(\n",
    "    y=y_alice_where_null_among_women\n",
    ")\n",
    "is_evidence_against_validity_significant(\n",
    "    observed_indicator_false_positive=observed_indicator_false_positive\n",
    ")"
   ]
  },
  {
   "cell_type": "markdown",
   "id": "c96a5bc8-b600-494a-800d-4b228822f459",
   "metadata": {},
   "source": [
    "Robert's method is also invalid.\n",
    "He makes the opposite mistake from Bobby:\n",
    "His method is too conservative, and results in too few false positives.\n",
    "We know based on the experimental setup that this implies it will have lower power\n",
    "than he's expecting.\n",
    "This makes sense: Given that I already _told_ you that the overall results were null,\n",
    "it becomes slightly less likely that the results will be positive for some specific subset."
   ]
  },
  {
   "cell_type": "code",
   "execution_count": 172,
   "id": "cbf25f49-ce8f-4da3-8919-439a06debdf9",
   "metadata": {
    "tags": []
   },
   "outputs": [],
   "source": [
    "del y_alice_where_null_among_men, y_alice_where_null_among_women"
   ]
  },
  {
   "cell_type": "markdown",
   "id": "6b1a8965-5fe0-46cb-ab76-c635acba69aa",
   "metadata": {},
   "source": [
    "## The Charlies"
   ]
  },
  {
   "cell_type": "code",
   "execution_count": 173,
   "id": "7403500c-468d-4810-86e4-816ccc2c4c48",
   "metadata": {
    "tags": []
   },
   "outputs": [],
   "source": [
    "rng = _get_rng(name=\"charlie\")"
   ]
  },
  {
   "cell_type": "markdown",
   "id": "f977ba18-b84e-4ad8-9a42-a72de5d7571c",
   "metadata": {},
   "source": [
    "### Chuck\n",
    "\n",
    "Chuck strongly believes that the drug works.\n",
    "He decides that if Alice's results come up positive, he'll accept them,\n",
    "but if they comes up null, he'll run his own experiment to see for himself whether it works."
   ]
  },
  {
   "cell_type": "code",
   "execution_count": 178,
   "id": "c59e164d-73d8-4568-b19d-bff6658e234d",
   "metadata": {
    "tags": []
   },
   "outputs": [
    {
     "name": "stdout",
     "output_type": "stream",
     "text": [
      "In this investigative method,\n",
      "We observed a 0.1049 probability of false positives,\n",
      "Against an expectation of 0.05.\n",
      "Given that we ran 10,000 simulations,\n",
      "The Bernoulli standard error is 0.0022,\n",
      "Yielding a z-score of 25.19 \n",
      "Against a critical value of 1.96.\n",
      "Therefore, we DO have statistically-significant evidence\n",
      "Against the validity of this investigative method at\n",
      "the alpha = 0.05 level.\n"
     ]
    }
   ],
   "source": [
    "observed_indicator_false_positive_alice = do_trials_conclude_drug_works(y=y_alice)\n",
    "y_chuck = rng.choice(\n",
    "    [0, 1],\n",
    "    p=[1-GROUND_TRUTH_SURVIVAL_PROB_GIVEN_NO_DRUG, GROUND_TRUTH_SURVIVAL_PROB_GIVEN_NO_DRUG],\n",
    "    # Ok in theory, we want to re-run sims for _only_ the sims where Alice's results were null.\n",
    "    # The logic goes like this:\n",
    "    #     For sim `n`: if Alice's result was positive, stop;\n",
    "    #         Otherwise, re-run the sim and see if it's positive.\n",
    "    # So there's conditional logic here:\n",
    "    #     If Alice's results were positive, accept them,\n",
    "    #     Otherwise, ignore them and run your own sim and take the results of that.\n",
    "    # But, it's much faster to do this by just generating an unconditional fresh sim vector,\n",
    "    # and doing an elementwise-or.\n",
    "    # The results for each `n` will be the same:\n",
    "    #     If Alice's result was positive, the or will be True;\n",
    "    #     If Alice's result was negative but Chuck's result was positive, the or will be True;\n",
    "    #     Finally if Alice's result was negative and then so was Chuck's, the or will be False.\n",
    "    size=[_NSIMS, NUM_PATIENTS],\n",
    ")\n",
    "observed_indicator_false_positive_chuck = do_trials_conclude_drug_works(y=y_chuck)\n",
    "observed_indicator_false_positive = (\n",
    "    observed_indicator_false_positive_alice\n",
    "    | observed_indicator_false_positive_chuck\n",
    ")\n",
    "is_evidence_against_validity_significant(\n",
    "    observed_indicator_false_positive=observed_indicator_false_positive\n",
    ")\n",
    "# free\n",
    "del observed_indicator_false_positive_alice, y_chuck, observed_indicator_false_positive_chuck"
   ]
  },
  {
   "cell_type": "markdown",
   "id": "df619cdb-1431-4b4c-aa05-7f84a735e5d4",
   "metadata": {},
   "source": [
    "This is what I call the Donald-Trump approach:\n",
    "If the polls report that I'm up, then clearly I'm leading;\n",
    "But if the polls report that I'm down, then clearly they're rigged.\n",
    "Under our experimental conditions, this is an invalid approach.\n",
    "(Of course, under different conditions it could be valid:\n",
    "Suppose you know for a fact that you're leading, then this logic is indeed right.)"
   ]
  },
  {
   "cell_type": "markdown",
   "id": "1702e47d-9c1e-41f3-ae00-41390499cba2",
   "metadata": {},
   "source": [
    "### Charles\n",
    "\n",
    "Like the Bobs, Charles observes Alice's null results,\n",
    "but unlike the Bobs, he knows that picking through them is not a valid way to go.\n",
    "However, like Chuck, he, too, strongly believes that the drug works.\n",
    "He tries Alice's experiment a second time, to give the drug what he considers a fair second chance."
   ]
  },
  {
   "cell_type": "code",
   "execution_count": 176,
   "id": "74140eb2-f67a-46ad-8c9b-eef514da92eb",
   "metadata": {
    "tags": []
   },
   "outputs": [
    {
     "name": "stdout",
     "output_type": "stream",
     "text": [
      "In this investigative method,\n",
      "We observed a 0.0527 probability of false positives,\n",
      "Against an expectation of 0.05.\n",
      "Given that we ran 9,476 simulations,\n",
      "The Bernoulli standard error is 0.0022,\n",
      "Yielding a z-score of 1.19 \n",
      "Against a critical value of 1.96.\n",
      "Therefore, we DON'T have statistically-significant evidence\n",
      "Against the validity of this investigative method at\n",
      "the alpha = 0.05 level.\n"
     ]
    }
   ],
   "source": [
    "y_charles = rng.choice(\n",
    "    [0, 1],\n",
    "    p=[1-GROUND_TRUTH_SURVIVAL_PROB_GIVEN_NO_DRUG, GROUND_TRUTH_SURVIVAL_PROB_GIVEN_NO_DRUG],\n",
    "    # Be careful -- we want to re-run sims for _only_ the sims where Alice's results were null,\n",
    "    # which means we have to inspect the current `y` which stores only Alice's null results.\n",
    "    size=[y_alice_where_null.shape[0], NUM_PATIENTS],\n",
    ")\n",
    "observed_indicator_false_positive = do_trials_conclude_drug_works(y=y_charles)\n",
    "is_evidence_against_validity_significant(\n",
    "    observed_indicator_false_positive=observed_indicator_false_positive\n",
    ")\n",
    "# free\n",
    "del y_charles"
   ]
  },
  {
   "cell_type": "markdown",
   "id": "f0ed347f-7c85-4298-b56e-59a9e3dd0665",
   "metadata": {},
   "source": [
    "Charles's method is valid!! Even though he, like Chuck, is giving the drug a \"second chance\",\n",
    "the fact that Alice's experiment was already said and done means that\n",
    "we can condition on her results, and now his own experiment is independent of hers.\n",
    "It would be very awkward indeed if Alice doing an experiment rippled through the\n",
    "spacetime continuum and made that experiment forever invalid for anyone else to do,\n",
    "even people who have never met her or seen her results..."
   ]
  },
  {
   "cell_type": "code",
   "execution_count": null,
   "id": "69f2695d-e701-4334-a810-f8bb12357e01",
   "metadata": {},
   "outputs": [],
   "source": [
    "david, dave, davie, chuck, chucky"
   ]
  }
 ],
 "metadata": {
  "kernelspec": {
   "display_name": "Python 3 (ipykernel)",
   "language": "python",
   "name": "python3"
  },
  "language_info": {
   "codemirror_mode": {
    "name": "ipython",
    "version": 3
   },
   "file_extension": ".py",
   "mimetype": "text/x-python",
   "name": "python",
   "nbconvert_exporter": "python",
   "pygments_lexer": "ipython3",
   "version": "3.10.12"
  }
 },
 "nbformat": 4,
 "nbformat_minor": 5
}
