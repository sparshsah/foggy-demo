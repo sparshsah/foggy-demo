{
 "cells": [
  {
   "cell_type": "markdown",
   "id": "142943dc-8a57-4c54-8f8b-394edb6d9ed3",
   "metadata": {},
   "source": [
    "FISHING: DAVE'S TELESCOPING STUDY\n",
    "\n",
    "_Companion to [\"Fishing\"](https://github.com/sparshsah/foggy-demo/blob/main/demo/stats/fishing.pdf)_\n",
    "\n",
    "[@sparshsah](https://github.com/sparshsah)"
   ]
  },
  {
   "cell_type": "code",
   "execution_count": 6,
   "id": "43ea2544-6348-480f-a718-1b7805914b1e",
   "metadata": {
    "tags": []
   },
   "outputs": [],
   "source": [
    "from typing import Final\n",
    "\n",
    "import numpy as np"
   ]
  },
  {
   "cell_type": "code",
   "execution_count": 75,
   "id": "a3e81c09-cdfc-4b48-811f-9ef1e1869575",
   "metadata": {
    "tags": []
   },
   "outputs": [],
   "source": [
    "# DAVE'S STUDY PARAMETERS\n",
    "# critical statistic (two-sided)\n",
    "CRITICAL_Z_SCORE: Final[float] = 1.96\n",
    "# based on convergence of the sampling distribution of the sample mean\n",
    "# (which is technically Student-T distributed)to the Normal distribution\n",
    "EXPECTED_P_VALUE: Final[float] = 0.05\n",
    "# max number of subjects until Dave's death forces him to give up:\n",
    "#     30 subjects per day, seven days a week, every week of the year, from the day he turns 20 to the day he dies at age 100.\n",
    "MAX_S: Final[int] = 30 * 7 * 52 * (100 - 20)\n",
    "# # global running subject counter (number of participants in the current study)\n",
    "# S: int = 0\n",
    "# malloc\n",
    "Y: np.ndarray[float] = np.full(shape=MAX_S, fill_value=np.nan)\n",
    "\n",
    "# OUR SIMULATION PARAMETERS -- We're going to assume that the null hypothesis of no effect (H0: mu = 0) is true\n",
    "# number of trials we're gonna average over to calculate significance level (i.e. p-value)\n",
    "T: Final[int] = 100_000"
   ]
  },
  {
   "cell_type": "code",
   "execution_count": 93,
   "id": "5085e8ad-f595-4ec3-bb04-1284134e106d",
   "metadata": {
    "tags": []
   },
   "outputs": [],
   "source": [
    "def _reset_study() -> None:\n",
    "    global Y\n",
    "    Y[:] = np.nan\n",
    "    return\n",
    "\n",
    "\n",
    "def _study_one_subject(s: int = 1) -> None:\n",
    "    \"\"\"Observe subject number `s`.\"\"\"\n",
    "    Y[s-1] = rng.normal()\n",
    "    return\n",
    "\n",
    "def _decide_is_significant(s: int = 0) -> None:\n",
    "    \"\"\"Observe all `s` subjects in the study, then decide whether\n",
    "    the study yielded statistically-significant evidence against the null.\n",
    "    \"\"\"\n",
    "    sample_mean = np.mean(Y[:s])\n",
    "    sample_std = np.std(Y[:s], ddof=1)\n",
    "    stderr = sample_std / np.sqrt(s)\n",
    "    z_score = sample_mean / stderr\n",
    "    assert not np.isnan(z_score), f\"Something went wrong! `s` = {s}.\"\n",
    "    is_significant = abs(z_score) >= CRITICAL_Z_SCORE\n",
    "    return is_significant\n",
    "\n",
    "\n",
    "def study_all_subjects_fixed(max_s: int = 1_000) -> bool:\n",
    "    \"\"\"Conduct a study of exactly `max_s` subjects,\n",
    "    then at the end decide whether |z-score| >= CRITICAL_Z_SCORE\n",
    "    for the final study (i.e. based on all subjects).\n",
    "    \"\"\"\n",
    "    # global S\n",
    "    for s in range(1, max_s+1):\n",
    "        _study_one_subject(s=s)\n",
    "        # S = s\n",
    "    is_significant = _decide_is_significant(s=s)\n",
    "    _reset_study()\n",
    "    return is_significant\n",
    "\n",
    "def study_all_subjects_telescoping(max_s: int = MAX_S) -> bool:\n",
    "    \"\"\"Conduct a telescoping series of studies of up to `max_s` subjects,\n",
    "    and after each round decide whether |z-score| >= CRITICAL_Z_SCORE\n",
    "    for the current iteration (i.e. based on subjects observed so far).\n",
    "    \"\"\"\n",
    "    # global S\n",
    "    for s in range(1, max_s+1):\n",
    "        _study_one_subject(s=s)\n",
    "        # S = s\n",
    "        if s < 2:\n",
    "            # we don't have enough data to estimate a defined sample std\n",
    "            continue\n",
    "        if _decide_is_significant(s=s):\n",
    "            # Eureka! Stop the study.\n",
    "            _reset_study()\n",
    "            return True\n",
    "    # :sadface: We ran out of funding and no success.\n",
    "    # Dave's gravestone will read \"Here Lies Dave -- His Life's Work Was Meaningless and Vain\".\n",
    "    _reset_study()\n",
    "    return False"
   ]
  },
  {
   "cell_type": "markdown",
   "id": "954e9aae-475d-43ad-9489-94511df33f4e",
   "metadata": {},
   "source": [
    "# The Fixed Case\n",
    "\n",
    "Good --\n",
    "In our simulations,\n",
    "Based on our critical $z$-score of 1.96,\n",
    "We see a $p$-value of 5\\%, as expected."
   ]
  },
  {
   "cell_type": "code",
   "execution_count": 97,
   "id": "35c8a74f-4e67-4a83-bcd5-e8e6b966b98c",
   "metadata": {
    "tags": []
   },
   "outputs": [
    {
     "name": "stdout",
     "output_type": "stream",
     "text": [
      "CPU times: user 2min 7s, sys: 118 ms, total: 2min 7s\n",
      "Wall time: 2min 7s\n"
     ]
    },
    {
     "data": {
      "text/plain": [
       "'In our simulations, Based on our critical z-score of 1.96, We see a p-value of 5.06%, against an expectation of 5.00%.'"
      ]
     },
     "execution_count": 97,
     "metadata": {},
     "output_type": "execute_result"
    }
   ],
   "source": [
    "%%time\n",
    "\n",
    "rng = np.random.default_rng(seed=42)\n",
    "sims = [study_all_subjects_fixed() for t in range(T)]\n",
    "\n",
    "(\n",
    "    f\"In our simulations,\"\n",
    "    + f\" Based on our critical z-score of {CRITICAL_Z_SCORE :.2f},\"\n",
    "    + f\" We see a p-value of {np.mean(sims) :.2%},\"\n",
    "    + f\" against an expectation of {EXPECTED_P_VALUE :.2%}.\"\n",
    ")"
   ]
  },
  {
   "cell_type": "markdown",
   "id": "866493b6-fcdd-4bbe-95c0-53d370bf3db8",
   "metadata": {},
   "source": [
    "# The Telescoping Case\n",
    "\n",
    "I had to leave the fucking thing running for 30 hours, but"
   ]
  },
  {
   "cell_type": "code",
   "execution_count": 96,
   "id": "0b9cb691-e522-45a0-bf20-ce3881cbd570",
   "metadata": {
    "tags": []
   },
   "outputs": [
    {
     "name": "stdout",
     "output_type": "stream",
     "text": [
      "CPU times: user 49min 19s, sys: 5min, total: 54min 20s\n",
      "Wall time: 54min 27s\n"
     ]
    },
    {
     "data": {
      "text/plain": [
       "'In our simulations, Based on our critical z-score of 1.96, We see a p-value of 94.00%, against an expectation of 5.00%.'"
      ]
     },
     "execution_count": 96,
     "metadata": {},
     "output_type": "execute_result"
    }
   ],
   "source": [
    "%%time\n",
    "\n",
    "rng = np.random.default_rng(seed=42)\n",
    "sims = [study_all_subjects_telescoping() for t in range(50)]\n",
    "\n",
    "(\n",
    "    f\"In our simulations,\"\n",
    "    + f\" Based on our critical z-score of {CRITICAL_Z_SCORE :.2f},\"\n",
    "    + f\" We see a p-value of {np.mean(sims) :.2%},\"\n",
    "    + f\" against an expectation of {EXPECTED_P_VALUE :.2%}.\"\n",
    ")"
   ]
  },
  {
   "cell_type": "code",
   "execution_count": null,
   "id": "bba33f8a-ab65-4a16-b565-b7a3c8de164b",
   "metadata": {},
   "outputs": [],
   "source": []
  }
 ],
 "metadata": {
  "kernelspec": {
   "display_name": "Python 3 (ipykernel)",
   "language": "python",
   "name": "python3"
  },
  "language_info": {
   "codemirror_mode": {
    "name": "ipython",
    "version": 3
   },
   "file_extension": ".py",
   "mimetype": "text/x-python",
   "name": "python",
   "nbconvert_exporter": "python",
   "pygments_lexer": "ipython3",
   "version": "3.10.11"
  }
 },
 "nbformat": 4,
 "nbformat_minor": 5
}
